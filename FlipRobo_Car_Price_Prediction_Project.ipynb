{
 "cells": [
  {
   "cell_type": "markdown",
   "metadata": {},
   "source": [
    "# Data Description:"
   ]
  },
  {
   "cell_type": "markdown",
   "metadata": {},
   "source": [
    "In this project,we have to make carprice valuation model using new machine learning models from new data.Because with the change in market due to covid 19 impact, our client is facing problems\n",
    "with their previous car price valuation machine learning models. "
   ]
  },
  {
   "cell_type": "code",
   "execution_count": 1,
   "metadata": {},
   "outputs": [],
   "source": [
    "#Importing the dataset\n",
    "import numpy as np\n",
    "import pandas as pd\n",
    "import seaborn as sns\n",
    "import matplotlib.pyplot as plt\n",
    "import sklearn\n",
    "from sklearn.ensemble import RandomForestRegressor\n",
    "from sklearn.ensemble import AdaBoostRegressor\n",
    "from sklearn.ensemble import GradientBoostingRegressor\n",
    "from sklearn.tree import DecisionTreeRegressor\n",
    "from sklearn.neighbors import KNeighborsRegressor\n",
    "from sklearn.linear_model import LinearRegression\n",
    "from sklearn.metrics import mean_squared_error\n",
    "from sklearn.metrics import r2_score\n",
    "from sklearn.model_selection import train_test_split\n",
    "from scipy.stats import zscore\n",
    "import warnings\n",
    "warnings.filterwarnings('ignore')"
   ]
  },
  {
   "cell_type": "code",
   "execution_count": 3,
   "metadata": {},
   "outputs": [],
   "source": [
    "#Loading the dataset\n",
    "df=pd.read_excel('Car_prediction_price.xlsx')"
   ]
  },
  {
   "cell_type": "code",
   "execution_count": 4,
   "metadata": {},
   "outputs": [
    {
     "data": {
      "text/html": [
       "<div>\n",
       "<style scoped>\n",
       "    .dataframe tbody tr th:only-of-type {\n",
       "        vertical-align: middle;\n",
       "    }\n",
       "\n",
       "    .dataframe tbody tr th {\n",
       "        vertical-align: top;\n",
       "    }\n",
       "\n",
       "    .dataframe thead th {\n",
       "        text-align: right;\n",
       "    }\n",
       "</style>\n",
       "<table border=\"1\" class=\"dataframe\">\n",
       "  <thead>\n",
       "    <tr style=\"text-align: right;\">\n",
       "      <th></th>\n",
       "      <th>Model(used car)</th>\n",
       "      <th>Km driven</th>\n",
       "      <th>Fuel</th>\n",
       "      <th>year of purchase</th>\n",
       "      <th>Location</th>\n",
       "      <th>Price</th>\n",
       "    </tr>\n",
       "  </thead>\n",
       "  <tbody>\n",
       "    <tr>\n",
       "      <th>0</th>\n",
       "      <td>'BMW 3 Series 320d, 2011, Diesel',</td>\n",
       "      <td>88000</td>\n",
       "      <td>Diesel</td>\n",
       "      <td>2011</td>\n",
       "      <td>'ANDHERI EAST, MUMBAI',</td>\n",
       "      <td>695000</td>\n",
       "    </tr>\n",
       "    <tr>\n",
       "      <th>1</th>\n",
       "      <td>'BMW 3 Series 320d Sedan, 2010, Diesel',</td>\n",
       "      <td>120000</td>\n",
       "      <td>Diesel</td>\n",
       "      <td>2010</td>\n",
       "      <td>'GOREGAON EAST, MUMBAI',</td>\n",
       "      <td>545000</td>\n",
       "    </tr>\n",
       "    <tr>\n",
       "      <th>2</th>\n",
       "      <td>'BMW 3 Series 320d, 2011, Diesel',</td>\n",
       "      <td>88000</td>\n",
       "      <td>Diesel</td>\n",
       "      <td>2011</td>\n",
       "      <td>'THANE WEST, THANE',</td>\n",
       "      <td>695000</td>\n",
       "    </tr>\n",
       "    <tr>\n",
       "      <th>3</th>\n",
       "      <td>'Audi A6 35 TDI, 2007, Diesel',</td>\n",
       "      <td>62000</td>\n",
       "      <td>Diesel</td>\n",
       "      <td>2007</td>\n",
       "      <td>'THANE BELAPUR ROAD, THANE',</td>\n",
       "      <td>549000</td>\n",
       "    </tr>\n",
       "    <tr>\n",
       "      <th>4</th>\n",
       "      <td>'BMW 530d Diesel',</td>\n",
       "      <td>96000</td>\n",
       "      <td>Diesel</td>\n",
       "      <td>2008</td>\n",
       "      <td>'ANDHERI EAST, MUMBAI',</td>\n",
       "      <td>620000</td>\n",
       "    </tr>\n",
       "  </tbody>\n",
       "</table>\n",
       "</div>"
      ],
      "text/plain": [
       "                                   Model(used car)         Km driven     Fuel  \\\n",
       "0               'BMW 3 Series 320d, 2011, Diesel',             88000   Diesel   \n",
       "1         'BMW 3 Series 320d Sedan, 2010, Diesel',            120000   Diesel   \n",
       "2               'BMW 3 Series 320d, 2011, Diesel',             88000   Diesel   \n",
       "3                  'Audi A6 35 TDI, 2007, Diesel',             62000   Diesel   \n",
       "4                               'BMW 530d Diesel',             96000   Diesel   \n",
       "\n",
       "      year of purchase                            Location              Price  \n",
       "0                 2011             'ANDHERI EAST, MUMBAI',             695000  \n",
       "1                 2010            'GOREGAON EAST, MUMBAI',             545000  \n",
       "2                 2011                'THANE WEST, THANE',             695000  \n",
       "3                 2007        'THANE BELAPUR ROAD, THANE',             549000  \n",
       "4                 2008             'ANDHERI EAST, MUMBAI',             620000  "
      ]
     },
     "execution_count": 4,
     "metadata": {},
     "output_type": "execute_result"
    }
   ],
   "source": [
    "df.head()   #Checking first 5 rows"
   ]
  },
  {
   "cell_type": "code",
   "execution_count": 10,
   "metadata": {},
   "outputs": [
    {
     "data": {
      "text/plain": [
       "Index(['                                 Model(used car)', '       Km driven',\n",
       "       '    Fuel', '   year of purchase',\n",
       "       '                           Location', '            Price'],\n",
       "      dtype='object')"
      ]
     },
     "execution_count": 10,
     "metadata": {},
     "output_type": "execute_result"
    }
   ],
   "source": [
    "df.columns   #Name of the columns in the dataset"
   ]
  },
  {
   "cell_type": "code",
   "execution_count": 5,
   "metadata": {},
   "outputs": [
    {
     "name": "stdout",
     "output_type": "stream",
     "text": [
      "<class 'pandas.core.frame.DataFrame'>\n",
      "RangeIndex: 37 entries, 0 to 36\n",
      "Data columns (total 6 columns):\n",
      " #   Column                                            Non-Null Count  Dtype \n",
      "---  ------                                            --------------  ----- \n",
      " 0                                    Model(used car)  37 non-null     object\n",
      " 1          Km driven                                  37 non-null     int64 \n",
      " 2       Fuel                                          28 non-null     object\n",
      " 3      year of purchase                               37 non-null     int64 \n",
      " 4                              Location               37 non-null     object\n",
      " 5               Price                                 37 non-null     int64 \n",
      "dtypes: int64(3), object(3)\n",
      "memory usage: 1.9+ KB\n"
     ]
    }
   ],
   "source": [
    "#Checking the info() method to get an a general idea about our data\n",
    "df.info()"
   ]
  },
  {
   "cell_type": "code",
   "execution_count": 7,
   "metadata": {},
   "outputs": [
    {
     "data": {
      "text/plain": [
       "                                 Model(used car)    0\n",
       "       Km driven                                    0\n",
       "    Fuel                                            9\n",
       "   year of purchase                                 0\n",
       "                           Location                 0\n",
       "            Price                                   0\n",
       "dtype: int64"
      ]
     },
     "execution_count": 7,
     "metadata": {},
     "output_type": "execute_result"
    }
   ],
   "source": [
    "#Lets check the null values if any\n",
    "df.isnull().sum()"
   ]
  },
  {
   "cell_type": "markdown",
   "metadata": {},
   "source": [
    "There are 9 null values present in the column 'Fuel'"
   ]
  },
  {
   "cell_type": "code",
   "execution_count": 8,
   "metadata": {},
   "outputs": [
    {
     "data": {
      "text/plain": [
       "(37, 6)"
      ]
     },
     "execution_count": 8,
     "metadata": {},
     "output_type": "execute_result"
    }
   ],
   "source": [
    "#Shape of the dataset\n",
    "df.shape"
   ]
  },
  {
   "cell_type": "markdown",
   "metadata": {},
   "source": [
    "rows-37\n",
    "\n",
    "columns-6"
   ]
  },
  {
   "cell_type": "code",
   "execution_count": 11,
   "metadata": {},
   "outputs": [
    {
     "data": {
      "text/plain": [
       "Diesel    19\n",
       "Petrol     9\n",
       "Name:     Fuel, dtype: int64"
      ]
     },
     "execution_count": 11,
     "metadata": {},
     "output_type": "execute_result"
    }
   ],
   "source": [
    "#Analysing data of the column 'Fuel'\n",
    "df['    Fuel'].value_counts()"
   ]
  },
  {
   "cell_type": "code",
   "execution_count": 15,
   "metadata": {},
   "outputs": [],
   "source": [
    "#Removing the null values from the column 'Fuel'\n",
    "#replace the values with mode\n",
    "\n",
    "from sklearn.impute import SimpleImputer\n",
    "imp=SimpleImputer(strategy=\"most_frequent\")\n",
    "df['    Fuel']=imp.fit_transform(df['    Fuel'].values.reshape(-1,1))"
   ]
  },
  {
   "cell_type": "code",
   "execution_count": 16,
   "metadata": {},
   "outputs": [
    {
     "data": {
      "text/plain": [
       "                                 Model(used car)    0\n",
       "       Km driven                                    0\n",
       "    Fuel                                            0\n",
       "   year of purchase                                 0\n",
       "                           Location                 0\n",
       "            Price                                   0\n",
       "dtype: int64"
      ]
     },
     "execution_count": 16,
     "metadata": {},
     "output_type": "execute_result"
    }
   ],
   "source": [
    "#Lets check the null values again if they are removed or not\n",
    "df.isnull().sum()"
   ]
  },
  {
   "cell_type": "markdown",
   "metadata": {},
   "source": [
    "Now there are no null values present."
   ]
  },
  {
   "cell_type": "markdown",
   "metadata": {},
   "source": [
    "Now,we will encode the columns so that we can convert the object olumns into numeric.\n",
    "\n",
    "We will go with Label Encoding"
   ]
  },
  {
   "cell_type": "code",
   "execution_count": 17,
   "metadata": {},
   "outputs": [],
   "source": [
    "#Label Encoder\n",
    "from sklearn.preprocessing import LabelEncoder\n",
    "\n",
    "le = LabelEncoder()\n",
    "df['                                 Model(used car)'] = le.fit_transform(df['                                 Model(used car)'])\n",
    "df['    Fuel'] = le.fit_transform(df['    Fuel'])\n",
    "df['                           Location'] = le.fit_transform(df['                           Location'])"
   ]
  },
  {
   "cell_type": "code",
   "execution_count": 18,
   "metadata": {},
   "outputs": [
    {
     "data": {
      "text/html": [
       "<div>\n",
       "<style scoped>\n",
       "    .dataframe tbody tr th:only-of-type {\n",
       "        vertical-align: middle;\n",
       "    }\n",
       "\n",
       "    .dataframe tbody tr th {\n",
       "        vertical-align: top;\n",
       "    }\n",
       "\n",
       "    .dataframe thead th {\n",
       "        text-align: right;\n",
       "    }\n",
       "</style>\n",
       "<table border=\"1\" class=\"dataframe\">\n",
       "  <thead>\n",
       "    <tr style=\"text-align: right;\">\n",
       "      <th></th>\n",
       "      <th>Model(used car)</th>\n",
       "      <th>Km driven</th>\n",
       "      <th>Fuel</th>\n",
       "      <th>year of purchase</th>\n",
       "      <th>Location</th>\n",
       "      <th>Price</th>\n",
       "    </tr>\n",
       "  </thead>\n",
       "  <tbody>\n",
       "    <tr>\n",
       "      <th>0</th>\n",
       "      <td>33</td>\n",
       "      <td>88000</td>\n",
       "      <td>0</td>\n",
       "      <td>2011</td>\n",
       "      <td>23</td>\n",
       "      <td>695000</td>\n",
       "    </tr>\n",
       "    <tr>\n",
       "      <th>1</th>\n",
       "      <td>9</td>\n",
       "      <td>120000</td>\n",
       "      <td>0</td>\n",
       "      <td>2010</td>\n",
       "      <td>7</td>\n",
       "      <td>545000</td>\n",
       "    </tr>\n",
       "    <tr>\n",
       "      <th>2</th>\n",
       "      <td>10</td>\n",
       "      <td>88000</td>\n",
       "      <td>0</td>\n",
       "      <td>2011</td>\n",
       "      <td>19</td>\n",
       "      <td>695000</td>\n",
       "    </tr>\n",
       "    <tr>\n",
       "      <th>3</th>\n",
       "      <td>8</td>\n",
       "      <td>62000</td>\n",
       "      <td>0</td>\n",
       "      <td>2007</td>\n",
       "      <td>18</td>\n",
       "      <td>549000</td>\n",
       "    </tr>\n",
       "    <tr>\n",
       "      <th>4</th>\n",
       "      <td>11</td>\n",
       "      <td>96000</td>\n",
       "      <td>0</td>\n",
       "      <td>2008</td>\n",
       "      <td>2</td>\n",
       "      <td>620000</td>\n",
       "    </tr>\n",
       "  </tbody>\n",
       "</table>\n",
       "</div>"
      ],
      "text/plain": [
       "                                    Model(used car)         Km driven  \\\n",
       "0                                                33             88000   \n",
       "1                                                 9            120000   \n",
       "2                                                10             88000   \n",
       "3                                                 8             62000   \n",
       "4                                                11             96000   \n",
       "\n",
       "       Fuel     year of purchase                             Location  \\\n",
       "0         0                 2011                                   23   \n",
       "1         0                 2010                                    7   \n",
       "2         0                 2011                                   19   \n",
       "3         0                 2007                                   18   \n",
       "4         0                 2008                                    2   \n",
       "\n",
       "               Price  \n",
       "0             695000  \n",
       "1             545000  \n",
       "2             695000  \n",
       "3             549000  \n",
       "4             620000  "
      ]
     },
     "execution_count": 18,
     "metadata": {},
     "output_type": "execute_result"
    }
   ],
   "source": [
    "#Now lets check the first five rows of the dataset\n",
    "df.head()"
   ]
  },
  {
   "cell_type": "markdown",
   "metadata": {},
   "source": [
    "Now my data is ready for Machine Learning."
   ]
  },
  {
   "cell_type": "code",
   "execution_count": 20,
   "metadata": {},
   "outputs": [
    {
     "data": {
      "text/html": [
       "<div>\n",
       "<style scoped>\n",
       "    .dataframe tbody tr th:only-of-type {\n",
       "        vertical-align: middle;\n",
       "    }\n",
       "\n",
       "    .dataframe tbody tr th {\n",
       "        vertical-align: top;\n",
       "    }\n",
       "\n",
       "    .dataframe thead th {\n",
       "        text-align: right;\n",
       "    }\n",
       "</style>\n",
       "<table border=\"1\" class=\"dataframe\">\n",
       "  <thead>\n",
       "    <tr style=\"text-align: right;\">\n",
       "      <th></th>\n",
       "      <th>Model(used car)</th>\n",
       "      <th>Km driven</th>\n",
       "      <th>Fuel</th>\n",
       "      <th>year of purchase</th>\n",
       "      <th>Location</th>\n",
       "      <th>Price</th>\n",
       "    </tr>\n",
       "  </thead>\n",
       "  <tbody>\n",
       "    <tr>\n",
       "      <th>Model(used car)</th>\n",
       "      <td>1.000000</td>\n",
       "      <td>-0.016963</td>\n",
       "      <td>-0.288842</td>\n",
       "      <td>0.040026</td>\n",
       "      <td>0.490608</td>\n",
       "      <td>-0.013057</td>\n",
       "    </tr>\n",
       "    <tr>\n",
       "      <th>Km driven</th>\n",
       "      <td>-0.016963</td>\n",
       "      <td>1.000000</td>\n",
       "      <td>-0.051322</td>\n",
       "      <td>-0.643592</td>\n",
       "      <td>0.133977</td>\n",
       "      <td>-0.307969</td>\n",
       "    </tr>\n",
       "    <tr>\n",
       "      <th>Fuel</th>\n",
       "      <td>-0.288842</td>\n",
       "      <td>-0.051322</td>\n",
       "      <td>1.000000</td>\n",
       "      <td>0.309357</td>\n",
       "      <td>-0.495556</td>\n",
       "      <td>-0.251713</td>\n",
       "    </tr>\n",
       "    <tr>\n",
       "      <th>year of purchase</th>\n",
       "      <td>0.040026</td>\n",
       "      <td>-0.643592</td>\n",
       "      <td>0.309357</td>\n",
       "      <td>1.000000</td>\n",
       "      <td>-0.193101</td>\n",
       "      <td>0.059986</td>\n",
       "    </tr>\n",
       "    <tr>\n",
       "      <th>Location</th>\n",
       "      <td>0.490608</td>\n",
       "      <td>0.133977</td>\n",
       "      <td>-0.495556</td>\n",
       "      <td>-0.193101</td>\n",
       "      <td>1.000000</td>\n",
       "      <td>0.007689</td>\n",
       "    </tr>\n",
       "    <tr>\n",
       "      <th>Price</th>\n",
       "      <td>-0.013057</td>\n",
       "      <td>-0.307969</td>\n",
       "      <td>-0.251713</td>\n",
       "      <td>0.059986</td>\n",
       "      <td>0.007689</td>\n",
       "      <td>1.000000</td>\n",
       "    </tr>\n",
       "  </tbody>\n",
       "</table>\n",
       "</div>"
      ],
      "text/plain": [
       "                                                                                   Model(used car)  \\\n",
       "                                 Model(used car)                                          1.000000   \n",
       "       Km driven                                                                         -0.016963   \n",
       "    Fuel                                                                                 -0.288842   \n",
       "   year of purchase                                                                       0.040026   \n",
       "                           Location                                                       0.490608   \n",
       "            Price                                                                        -0.013057   \n",
       "\n",
       "                                                         Km driven      Fuel  \\\n",
       "                                 Model(used car)         -0.016963 -0.288842   \n",
       "       Km driven                                          1.000000 -0.051322   \n",
       "    Fuel                                                 -0.051322  1.000000   \n",
       "   year of purchase                                      -0.643592  0.309357   \n",
       "                           Location                       0.133977 -0.495556   \n",
       "            Price                                        -0.307969 -0.251713   \n",
       "\n",
       "                                                     year of purchase  \\\n",
       "                                 Model(used car)             0.040026   \n",
       "       Km driven                                            -0.643592   \n",
       "    Fuel                                                     0.309357   \n",
       "   year of purchase                                          1.000000   \n",
       "                           Location                         -0.193101   \n",
       "            Price                                            0.059986   \n",
       "\n",
       "                                                                             Location  \\\n",
       "                                 Model(used car)                             0.490608   \n",
       "       Km driven                                                             0.133977   \n",
       "    Fuel                                                                    -0.495556   \n",
       "   year of purchase                                                         -0.193101   \n",
       "                           Location                                          1.000000   \n",
       "            Price                                                            0.007689   \n",
       "\n",
       "                                                              Price  \n",
       "                                 Model(used car)          -0.013057  \n",
       "       Km driven                                          -0.307969  \n",
       "    Fuel                                                  -0.251713  \n",
       "   year of purchase                                        0.059986  \n",
       "                           Location                        0.007689  \n",
       "            Price                                          1.000000  "
      ]
     },
     "execution_count": 20,
     "metadata": {},
     "output_type": "execute_result"
    }
   ],
   "source": [
    "#Checking for correlation\n",
    "df.corr()"
   ]
  },
  {
   "cell_type": "code",
   "execution_count": 21,
   "metadata": {},
   "outputs": [
    {
     "data": {
      "text/plain": [
       "<matplotlib.axes._subplots.AxesSubplot at 0xabeb86e430>"
      ]
     },
     "execution_count": 21,
     "metadata": {},
     "output_type": "execute_result"
    },
    {
     "data": {
      "image/png": "[encoded data removed]",
      "text/plain": [
       "<Figure size 1008x1008 with 2 Axes>"
      ]
     },
     "metadata": {
      "needs_background": "light"
     },
     "output_type": "display_data"
    }
   ],
   "source": [
    "#Visualizing the correlation\n",
    "plt.figure(figsize=(14,14))  \n",
    "sns.heatmap(df.corr(), annot=True, fmt='.0%')"
   ]
  },
  {
   "cell_type": "markdown",
   "metadata": {},
   "source": [
    "From the correlation matrix,we can see that less columns are positively correlated with the target variable 'Price'.We can see that the independent variables are highly correlated with each other,for example,'Model(used car)' is highly correlated with 'Location'."
   ]
  },
  {
   "cell_type": "code",
   "execution_count": 22,
   "metadata": {},
   "outputs": [
    {
     "data": {
      "text/plain": [
       "array([[<matplotlib.axes._subplots.AxesSubplot object at 0x000000ABEB7D32E0>,\n",
       "        <matplotlib.axes._subplots.AxesSubplot object at 0x000000ABEB7FC790>,\n",
       "        <matplotlib.axes._subplots.AxesSubplot object at 0x000000ABEBDC6BE0>,\n",
       "        <matplotlib.axes._subplots.AxesSubplot object at 0x000000ABEBDF50D0>],\n",
       "       [<matplotlib.axes._subplots.AxesSubplot object at 0x000000ABEBE2E4C0>,\n",
       "        <matplotlib.axes._subplots.AxesSubplot object at 0x000000ABEBE5C880>,\n",
       "        <matplotlib.axes._subplots.AxesSubplot object at 0x000000ABEBE89DC0>,\n",
       "        <matplotlib.axes._subplots.AxesSubplot object at 0x000000ABEBE89E20>],\n",
       "       [<matplotlib.axes._subplots.AxesSubplot object at 0x000000ABEBEE1790>,\n",
       "        <matplotlib.axes._subplots.AxesSubplot object at 0x000000ABEBF0EBE0>,\n",
       "        <matplotlib.axes._subplots.AxesSubplot object at 0x000000ABEBF48070>,\n",
       "        <matplotlib.axes._subplots.AxesSubplot object at 0x000000ABEBF744C0>],\n",
       "       [<matplotlib.axes._subplots.AxesSubplot object at 0x000000ABEBFA2910>,\n",
       "        <matplotlib.axes._subplots.AxesSubplot object at 0x000000ABEBFCED90>,\n",
       "        <matplotlib.axes._subplots.AxesSubplot object at 0x000000ABEC008250>,\n",
       "        <matplotlib.axes._subplots.AxesSubplot object at 0x000000ABEC0356A0>]],\n",
       "      dtype=object)"
      ]
     },
     "execution_count": 22,
     "metadata": {},
     "output_type": "execute_result"
    },
    {
     "data": {
      "image/png": "[encoded data removed]",
      "text/plain": [
       "<Figure size 1440x1440 with 16 Axes>"
      ]
     },
     "metadata": {
      "needs_background": "light"
     },
     "output_type": "display_data"
    }
   ],
   "source": [
    "#Plotting histogram\n",
    "#A histogram shows the frequency on the vertical axis and the horizontal axis in another dimension. \n",
    "# In this graph, we can also check whether the graph is right skewed, left skewed or the graph is normally distributed graph\n",
    "df.hist(figsize=(20,20),grid=True,layout=(4,4),bins=30)"
   ]
  },
  {
   "cell_type": "markdown",
   "metadata": {},
   "source": [
    "Data is almost normally distributed."
   ]
  },
  {
   "cell_type": "code",
   "execution_count": 23,
   "metadata": {},
   "outputs": [
    {
     "data": {
      "text/plain": [
       "                                 Model(used car)    0.040904\n",
       "       Km driven                                    0.083194\n",
       "    Fuel                                            1.248066\n",
       "   year of purchase                                 0.794666\n",
       "                           Location                 0.081519\n",
       "            Price                                   2.609456\n",
       "dtype: float64"
      ]
     },
     "execution_count": 23,
     "metadata": {},
     "output_type": "execute_result"
    }
   ],
   "source": [
    "#Checking skewness in my data\n",
    "df.skew()"
   ]
  },
  {
   "cell_type": "markdown",
   "metadata": {},
   "source": [
    "We will not go for skewness removal for object type columns"
   ]
  },
  {
   "cell_type": "code",
   "execution_count": 24,
   "metadata": {},
   "outputs": [
    {
     "data": {
      "text/plain": [
       "                                 Model(used car)       AxesSubplot(0.125,0.71587;0.133621x0.16413)\n",
       "       Km driven                                    AxesSubplot(0.285345,0.71587;0.133621x0.16413)\n",
       "    Fuel                                             AxesSubplot(0.44569,0.71587;0.133621x0.16413)\n",
       "   year of purchase                                 AxesSubplot(0.606034,0.71587;0.133621x0.16413)\n",
       "                           Location                 AxesSubplot(0.766379,0.71587;0.133621x0.16413)\n",
       "            Price                                     AxesSubplot(0.125,0.518913;0.133621x0.16413)\n",
       "dtype: object"
      ]
     },
     "execution_count": 24,
     "metadata": {},
     "output_type": "execute_result"
    },
    {
     "data": {
      "image/png": "[encoded data removed]",
      "text/plain": [
       "<Figure size 1080x720 with 20 Axes>"
      ]
     },
     "metadata": {
      "needs_background": "light"
     },
     "output_type": "display_data"
    }
   ],
   "source": [
    "#Checking outliers using boxplots\n",
    "df.plot(kind='box',subplots=True,layout=(4,5),figsize=(15,10))"
   ]
  },
  {
   "cell_type": "markdown",
   "metadata": {},
   "source": [
    "From the boxplots,it is clearly seen that no such outliers are present,so I will not go for outlier removal."
   ]
  },
  {
   "cell_type": "code",
   "execution_count": 25,
   "metadata": {},
   "outputs": [],
   "source": [
    "#Splitting the independent and target variable in x and y\n",
    "x=df.drop('            Price',axis=1)\n",
    "y=df['            Price']"
   ]
  },
  {
   "cell_type": "code",
   "execution_count": 26,
   "metadata": {},
   "outputs": [],
   "source": [
    "#Using StandardScaler to scale the data \n",
    "from sklearn.preprocessing import StandardScaler\n",
    "scale=StandardScaler()\n",
    "x=scale.fit_transform(x)"
   ]
  },
  {
   "cell_type": "code",
   "execution_count": 27,
   "metadata": {},
   "outputs": [
    {
     "name": "stdout",
     "output_type": "stream",
     "text": [
      "r2 score correspond to random state 40 is -0.2577393178577596\n",
      "r2 score correspond to random state 40 is 0.12146506691214565\n",
      "r2 score correspond to random state 40 is 0.8672728161376037\n",
      "r2 score correspond to random state 40 is 0.2300177089790023\n",
      "r2 score correspond to random state 40 is -0.15605586588121723\n",
      "r2 score correspond to random state 41 is 0.9375288874588996\n",
      "r2 score correspond to random state 41 is 0.0013612284247461748\n",
      "r2 score correspond to random state 41 is 0.44090619411534315\n",
      "r2 score correspond to random state 41 is -0.06108916956640664\n",
      "r2 score correspond to random state 41 is 0.7435662457070504\n",
      "r2 score correspond to random state 42 is -5.561062395229272\n",
      "r2 score correspond to random state 42 is -1.0408987565889496\n",
      "r2 score correspond to random state 42 is -5.364319133832308\n",
      "r2 score correspond to random state 42 is -2.2274264199995386\n",
      "r2 score correspond to random state 42 is -7.244325108365315\n",
      "r2 score correspond to random state 43 is -0.13030104522153052\n",
      "r2 score correspond to random state 43 is 0.05261265122305914\n",
      "r2 score correspond to random state 43 is -0.05837491048521115\n",
      "r2 score correspond to random state 43 is 0.13311763708770008\n",
      "r2 score correspond to random state 43 is -0.5245814726979896\n",
      "r2 score correspond to random state 44 is 0.1293792423848773\n",
      "r2 score correspond to random state 44 is 0.004223209697778785\n",
      "r2 score correspond to random state 44 is 0.4828585215915898\n",
      "r2 score correspond to random state 44 is -0.030802907316243466\n",
      "r2 score correspond to random state 44 is 0.4978443516041178\n",
      "r2 score correspond to random state 45 is -0.27537660446292067\n",
      "r2 score correspond to random state 45 is -0.9254151194114428\n",
      "r2 score correspond to random state 45 is -0.10720722454009701\n",
      "r2 score correspond to random state 45 is -0.5659710419682777\n",
      "r2 score correspond to random state 45 is -0.10789758813181827\n",
      "r2 score correspond to random state 46 is -116.75799640988745\n",
      "r2 score correspond to random state 46 is -26.15492487854198\n",
      "r2 score correspond to random state 46 is -70.94075520063754\n",
      "r2 score correspond to random state 46 is -60.61011903051456\n",
      "r2 score correspond to random state 46 is -109.91518785329407\n",
      "r2 score correspond to random state 47 is -2.8254407067282634\n",
      "r2 score correspond to random state 47 is -0.21626559532237266\n",
      "r2 score correspond to random state 47 is -1.8906736259988088\n",
      "r2 score correspond to random state 47 is -0.895820357298502\n",
      "r2 score correspond to random state 47 is -3.299100209428828\n",
      "r2 score correspond to random state 48 is -64.55534521298195\n",
      "r2 score correspond to random state 48 is -45.33444096056959\n",
      "r2 score correspond to random state 48 is -31.522373261334103\n",
      "r2 score correspond to random state 48 is -46.06853303070351\n",
      "r2 score correspond to random state 48 is -62.85926168953074\n",
      "r2 score correspond to random state 49 is -0.9328132374562432\n",
      "r2 score correspond to random state 49 is 0.03905165960301504\n",
      "r2 score correspond to random state 49 is 0.29811367264091715\n",
      "r2 score correspond to random state 49 is 0.11749176834059694\n",
      "r2 score correspond to random state 49 is -0.1141693116641802\n",
      "r2 score correspond to random state 50 is -1.4028946818345918\n",
      "r2 score correspond to random state 50 is -0.0811529044191106\n",
      "r2 score correspond to random state 50 is -0.9733228544793555\n",
      "r2 score correspond to random state 50 is -0.053687131501699126\n",
      "r2 score correspond to random state 50 is -1.203306064384169\n",
      "r2 score correspond to random state 51 is 0.21595725270345134\n",
      "r2 score correspond to random state 51 is -0.2437736051190631\n",
      "r2 score correspond to random state 51 is -0.19895172842608466\n",
      "r2 score correspond to random state 51 is 0.09476675768753595\n",
      "r2 score correspond to random state 51 is 0.322623744751387\n",
      "r2 score correspond to random state 52 is -3.5150885046128613\n",
      "r2 score correspond to random state 52 is -0.7226137885097053\n",
      "r2 score correspond to random state 52 is -2.6619656654644515\n",
      "r2 score correspond to random state 52 is -0.4813358534606258\n",
      "r2 score correspond to random state 52 is -3.0090160137004442\n",
      "r2 score correspond to random state 53 is -0.9799993770083444\n",
      "r2 score correspond to random state 53 is -0.41384380498520623\n",
      "r2 score correspond to random state 53 is -0.9647038326367912\n",
      "r2 score correspond to random state 53 is -0.3463838406063231\n",
      "r2 score correspond to random state 53 is -0.5467486980325604\n",
      "r2 score correspond to random state 54 is -1.1429374509846504\n",
      "r2 score correspond to random state 54 is 0.17099083625874834\n",
      "r2 score correspond to random state 54 is 0.7020116254260043\n",
      "r2 score correspond to random state 54 is 0.14194443808867951\n",
      "r2 score correspond to random state 54 is 0.2933746991713614\n",
      "r2 score correspond to random state 55 is -2.1083722840015033\n",
      "r2 score correspond to random state 55 is -0.07929606045912063\n",
      "r2 score correspond to random state 55 is 0.9237360377995998\n",
      "r2 score correspond to random state 55 is -0.49431026462970795\n",
      "r2 score correspond to random state 55 is -2.009027980870617\n",
      "r2 score correspond to random state 56 is -0.7666903145434181\n",
      "r2 score correspond to random state 56 is -0.2627283427789282\n",
      "r2 score correspond to random state 56 is -0.668581602726984\n",
      "r2 score correspond to random state 56 is -0.24083276628999073\n",
      "r2 score correspond to random state 56 is -0.6315555607156205\n",
      "r2 score correspond to random state 57 is -98.57475872800008\n",
      "r2 score correspond to random state 57 is -28.217389381617473\n",
      "r2 score correspond to random state 57 is -79.44104532666564\n",
      "r2 score correspond to random state 57 is -194.1408951612648\n",
      "r2 score correspond to random state 57 is -88.22327572235487\n",
      "r2 score correspond to random state 58 is 0.9656438377907054\n",
      "r2 score correspond to random state 58 is -0.25705121883721804\n",
      "r2 score correspond to random state 58 is 0.4394610729846452\n",
      "r2 score correspond to random state 58 is -0.16324236203315112\n",
      "r2 score correspond to random state 58 is 0.8403920379848796\n",
      "r2 score correspond to random state 59 is -0.7755340634199617\n",
      "r2 score correspond to random state 59 is -0.2908333658518638\n",
      "r2 score correspond to random state 59 is -0.7100535825842134\n",
      "r2 score correspond to random state 59 is -0.18498589872462623\n",
      "r2 score correspond to random state 59 is -0.6753023939427583\n",
      "r2 score correspond to random state 60 is 0.9351281346834932\n",
      "r2 score correspond to random state 60 is -0.38438715176453364\n",
      "r2 score correspond to random state 60 is 0.9787986716414042\n",
      "r2 score correspond to random state 60 is 0.1359191488571836\n",
      "r2 score correspond to random state 60 is 0.7967111567074227\n",
      "r2 score correspond to random state 61 is -0.9860770665175589\n",
      "r2 score correspond to random state 61 is -1.8375063498362958\n",
      "r2 score correspond to random state 61 is 0.04678985578546524\n",
      "r2 score correspond to random state 61 is -1.4117269989505656\n",
      "r2 score correspond to random state 61 is -0.8056840500314624\n",
      "r2 score correspond to random state 62 is -0.24206773363918876\n",
      "r2 score correspond to random state 62 is -0.15481481046313816\n",
      "r2 score correspond to random state 62 is -0.11674767023178223\n",
      "r2 score correspond to random state 62 is 0.07056051247707895\n",
      "r2 score correspond to random state 62 is 0.6525462734683463\n",
      "r2 score correspond to random state 63 is -2.3430784662730537\n",
      "r2 score correspond to random state 63 is 0.29725989403640773\n",
      "r2 score correspond to random state 63 is 0.9274919874193597\n",
      "r2 score correspond to random state 63 is 0.2101432992911385\n",
      "r2 score correspond to random state 63 is -1.347365464844407\n",
      "r2 score correspond to random state 64 is 0.40487404669509897\n",
      "r2 score correspond to random state 64 is -0.11547268543337985\n",
      "r2 score correspond to random state 64 is 0.4434900299603911\n",
      "r2 score correspond to random state 64 is -0.11656106067831828\n",
      "r2 score correspond to random state 64 is 0.5388486033648467\n",
      "r2 score correspond to random state 65 is -0.25031586888921065\n",
      "r2 score correspond to random state 65 is -0.0878079624246706\n",
      "r2 score correspond to random state 65 is -0.06624099405271688\n",
      "r2 score correspond to random state 65 is 0.05906754142569581\n",
      "r2 score correspond to random state 65 is -0.07096323883602618\n",
      "r2 score correspond to random state 66 is 0.4205161148322124\n",
      "r2 score correspond to random state 66 is 0.2072923562851039\n",
      "r2 score correspond to random state 66 is 0.41468226992286394\n",
      "r2 score correspond to random state 66 is 0.025630388569428675\n",
      "r2 score correspond to random state 66 is 0.4439609933058879\n",
      "r2 score correspond to random state 67 is -29.67667585969983\n",
      "r2 score correspond to random state 67 is -33.88470447431466\n",
      "r2 score correspond to random state 67 is -17.485058437034105\n",
      "r2 score correspond to random state 67 is -8.697976927313098\n",
      "r2 score correspond to random state 67 is -8.849549135490998\n",
      "r2 score correspond to random state 68 is -1.6870331185346887\n",
      "r2 score correspond to random state 68 is -1.1158807307127274\n",
      "r2 score correspond to random state 68 is -0.01114269257451439\n",
      "r2 score correspond to random state 68 is -1.6092702994149928\n",
      "r2 score correspond to random state 68 is -0.3286755801867993\n",
      "r2 score correspond to random state 69 is -1.1689581840210375\n",
      "r2 score correspond to random state 69 is 0.03657704243311488\n",
      "r2 score correspond to random state 69 is -0.6792695961504376\n",
      "r2 score correspond to random state 69 is -0.007967359741009483\n",
      "r2 score correspond to random state 69 is -0.5564012713507165\n",
      "r2 score correspond to random state 70 is 0.17832022221934662\n",
      "r2 score correspond to random state 70 is -0.020315117345922395\n",
      "r2 score correspond to random state 70 is 0.5750848825849559\n",
      "r2 score correspond to random state 70 is 0.015383140591015088\n",
      "r2 score correspond to random state 70 is 0.5121011523088921\n",
      "r2 score correspond to random state 71 is 0.6433760795732291\n",
      "r2 score correspond to random state 71 is -0.027150516562433058\n",
      "r2 score correspond to random state 71 is 0.6105591134610955\n",
      "r2 score correspond to random state 71 is -0.03590388101686259\n",
      "r2 score correspond to random state 71 is 0.7117064818965062\n",
      "r2 score correspond to random state 72 is 0.7207537258422061\n",
      "r2 score correspond to random state 72 is -0.36717457126955133\n",
      "r2 score correspond to random state 72 is 0.8736616942448888\n",
      "r2 score correspond to random state 72 is 0.04529305120223748\n",
      "r2 score correspond to random state 72 is 0.8733726644900857\n",
      "r2 score correspond to random state 73 is 0.9450017160084851\n",
      "r2 score correspond to random state 73 is 0.0148250326516004\n",
      "r2 score correspond to random state 73 is -0.05456472542935109\n",
      "r2 score correspond to random state 73 is 0.1278687592745511\n",
      "r2 score correspond to random state 73 is 0.7889171263738172\n",
      "r2 score correspond to random state 74 is -29.38252054586045\n",
      "r2 score correspond to random state 74 is -33.63891544276596\n",
      "r2 score correspond to random state 74 is -15.946237222056226\n",
      "r2 score correspond to random state 74 is -29.42336694505706\n",
      "r2 score correspond to random state 74 is -12.219784248363759\n",
      "r2 score correspond to random state 75 is -0.145802536563028\n",
      "r2 score correspond to random state 75 is 0.08842812203098305\n",
      "r2 score correspond to random state 75 is 0.5718767637961332\n",
      "r2 score correspond to random state 75 is 0.07184262409526998\n",
      "r2 score correspond to random state 75 is 0.4640823069124441\n",
      "r2 score correspond to random state 76 is -79.84466171105849\n",
      "r2 score correspond to random state 76 is -25.867904234693174\n",
      "r2 score correspond to random state 76 is -52.92370493788928\n",
      "r2 score correspond to random state 76 is -29.676820866155744\n",
      "r2 score correspond to random state 76 is -78.0484932209896\n",
      "r2 score correspond to random state 77 is 0.2476440078688238\n",
      "r2 score correspond to random state 77 is -0.15101750983301443\n",
      "r2 score correspond to random state 77 is 0.43990541872910893\n",
      "r2 score correspond to random state 77 is -0.022223647128891244\n",
      "r2 score correspond to random state 77 is 0.7847383236536078\n",
      "r2 score correspond to random state 78 is -0.8890750586168685\n",
      "r2 score correspond to random state 78 is -0.634524610119104\n",
      "r2 score correspond to random state 78 is -0.21916777012776967\n",
      "r2 score correspond to random state 78 is -0.8392461412458776\n",
      "r2 score correspond to random state 78 is -0.8392621949107313\n",
      "r2 score correspond to random state 79 is 0.5512620182720929\n",
      "r2 score correspond to random state 79 is -0.11908504561828948\n",
      "r2 score correspond to random state 79 is 0.5608424066361279\n",
      "r2 score correspond to random state 79 is -0.14910151408805516\n",
      "r2 score correspond to random state 79 is 0.5156368751976248\n",
      "r2 score correspond to random state 80 is -1.0891460907992556\n",
      "r2 score correspond to random state 80 is -0.06655043127200533\n",
      "r2 score correspond to random state 80 is -0.15301351224768212\n",
      "r2 score correspond to random state 80 is -0.05770703302562574\n",
      "r2 score correspond to random state 80 is -0.40905183894216735\n",
      "r2 score correspond to random state 81 is -2.0181141957761577\n",
      "r2 score correspond to random state 81 is 0.003040994403409547\n",
      "r2 score correspond to random state 81 is -0.9690290247769104\n",
      "r2 score correspond to random state 81 is -0.10389006012492508\n",
      "r2 score correspond to random state 81 is -1.3132693950384797\n",
      "r2 score correspond to random state 82 is -2.14651898510244\n",
      "r2 score correspond to random state 82 is -0.02847129874670573\n",
      "r2 score correspond to random state 82 is 0.1727216773156306\n",
      "r2 score correspond to random state 82 is 0.06015343045793353\n",
      "r2 score correspond to random state 82 is -1.3447625082732868\n",
      "r2 score correspond to random state 83 is -1.4431022132616103\n",
      "r2 score correspond to random state 83 is 0.04495996584831341\n",
      "r2 score correspond to random state 83 is 0.8744083281452378\n",
      "r2 score correspond to random state 83 is 0.10310993608244134\n",
      "r2 score correspond to random state 83 is -1.3797715961200576\n",
      "r2 score correspond to random state 84 is 0.24106705675848294\n",
      "r2 score correspond to random state 84 is -0.19508047123486483\n",
      "r2 score correspond to random state 84 is -0.24765605224593656\n",
      "r2 score correspond to random state 84 is 0.08816937443998385\n",
      "r2 score correspond to random state 84 is 0.28308526025893554\n",
      "r2 score correspond to random state 85 is -0.8657070648700358\n",
      "r2 score correspond to random state 85 is -0.3417505348641712\n",
      "r2 score correspond to random state 85 is 0.3873015106608373\n",
      "r2 score correspond to random state 85 is -0.03686882767566546\n",
      "r2 score correspond to random state 85 is -0.7987826063495411\n",
      "r2 score correspond to random state 86 is -0.8713430440188343\n",
      "r2 score correspond to random state 86 is -25.348126871072008\n",
      "r2 score correspond to random state 86 is -0.3049382127689555\n",
      "r2 score correspond to random state 86 is -11.354636102188865\n",
      "r2 score correspond to random state 86 is -0.5380646372060061\n",
      "r2 score correspond to random state 87 is -0.44006767662346147\n",
      "r2 score correspond to random state 87 is -0.02345468206870538\n",
      "r2 score correspond to random state 87 is 0.20719921668305274\n",
      "r2 score correspond to random state 87 is -0.07266077192139941\n",
      "r2 score correspond to random state 87 is -0.2817027114462134\n",
      "r2 score correspond to random state 88 is -0.5283642362586722\n",
      "r2 score correspond to random state 88 is -0.17815145239178598\n",
      "r2 score correspond to random state 88 is -0.6363761741452101\n",
      "r2 score correspond to random state 88 is -0.17146405918640006\n",
      "r2 score correspond to random state 88 is -0.562329432407539\n",
      "r2 score correspond to random state 89 is -81.90134166699453\n",
      "r2 score correspond to random state 89 is -75.10340668523762\n",
      "r2 score correspond to random state 89 is -83.74977559052957\n",
      "r2 score correspond to random state 89 is -47.308304906426244\n",
      "r2 score correspond to random state 89 is -37.359458335983255\n",
      "\n",
      "\n",
      "\n",
      "\n",
      "max r2 score correspond to random state 60 is 0.9787986716414042 and model is AdaBoostRegressor()\n"
     ]
    }
   ],
   "source": [
    "#Model Building(Finding the best random state)\n",
    "\n",
    "model=[DecisionTreeRegressor(),KNeighborsRegressor(),AdaBoostRegressor(),LinearRegression(),GradientBoostingRegressor()]\n",
    "max_r2_score=0\n",
    "for r_state in range(40,90):\n",
    "    train_x,test_x,train_y,test_y=train_test_split(x,y,random_state=r_state,test_size=0.33)\n",
    "    for i in model:\n",
    "        i.fit(train_x,train_y)\n",
    "        pre=i.predict(test_x)\n",
    "        r2_sc=r2_score(test_y,pre)\n",
    "        print('r2 score correspond to random state',r_state,'is',r2_sc)\n",
    "        if r2_sc>max_r2_score:\n",
    "            max_r2_score=r2_sc\n",
    "            final_state=r_state\n",
    "            final_model=i\n",
    "print()\n",
    "print()\n",
    "print()\n",
    "print()\n",
    "print('max r2 score correspond to random state',final_state,'is',max_r2_score,'and model is',final_model)"
   ]
  },
  {
   "cell_type": "markdown",
   "metadata": {},
   "source": [
    "Above I am using for loop which helps me to provide the r2 score at each random state and for the best state where r2 score is maximum has come as output value.\n",
    "\n",
    "The best model is AdaBoostRegressor and the r2 score is 98% to random state 60."
   ]
  },
  {
   "cell_type": "code",
   "execution_count": 28,
   "metadata": {},
   "outputs": [],
   "source": [
    "train_x,test_x,train_y,test_y=train_test_split(x,y,random_state=60,test_size=0.33)"
   ]
  },
  {
   "cell_type": "code",
   "execution_count": 32,
   "metadata": {},
   "outputs": [
    {
     "data": {
      "text/plain": [
       "AdaBoostRegressor()"
      ]
     },
     "execution_count": 32,
     "metadata": {},
     "output_type": "execute_result"
    }
   ],
   "source": [
    "from sklearn.ensemble import AdaBoostRegressor\n",
    "ab=AdaBoostRegressor()\n",
    "ab.fit(train_x,train_y)"
   ]
  },
  {
   "cell_type": "code",
   "execution_count": 33,
   "metadata": {},
   "outputs": [],
   "source": [
    "y_pred=ab.predict(test_x)"
   ]
  },
  {
   "cell_type": "code",
   "execution_count": 34,
   "metadata": {},
   "outputs": [
    {
     "data": {
      "text/plain": [
       "0.9892751335707345"
      ]
     },
     "execution_count": 34,
     "metadata": {},
     "output_type": "execute_result"
    }
   ],
   "source": [
    "ab.score(train_x,train_y)"
   ]
  },
  {
   "cell_type": "code",
   "execution_count": 35,
   "metadata": {},
   "outputs": [
    {
     "data": {
      "text/plain": [
       "0.9729153057594997"
      ]
     },
     "execution_count": 35,
     "metadata": {},
     "output_type": "execute_result"
    }
   ],
   "source": [
    "ab.score(test_x,test_y)"
   ]
  },
  {
   "cell_type": "code",
   "execution_count": 36,
   "metadata": {},
   "outputs": [
    {
     "data": {
      "image/png": "[encoded data removed]",
      "text/plain": [
       "<Figure size 432x288 with 1 Axes>"
      ]
     },
     "metadata": {
      "needs_background": "light"
     },
     "output_type": "display_data"
    }
   ],
   "source": [
    "#Distribution plot\n",
    "sns.distplot(test_y-y_pred)\n",
    "plt.show()"
   ]
  },
  {
   "cell_type": "code",
   "execution_count": 37,
   "metadata": {},
   "outputs": [
    {
     "data": {
      "image/png": "[encoded data removed]",
      "text/plain": [
       "<Figure size 432x288 with 1 Axes>"
      ]
     },
     "metadata": {
      "needs_background": "light"
     },
     "output_type": "display_data"
    }
   ],
   "source": [
    "#Scatter-plot\n",
    "plt.scatter(test_y, y_pred, alpha = 0.5)\n",
    "plt.xlabel(\"test_y\")\n",
    "plt.ylabel(\"y_pred\")\n",
    "plt.show()"
   ]
  },
  {
   "cell_type": "code",
   "execution_count": 38,
   "metadata": {},
   "outputs": [
    {
     "name": "stdout",
     "output_type": "stream",
     "text": [
      "Mean Absolute Error: 95321.63992673994\n",
      "Mean Squared Error: 15556351773.986591\n",
      "Root Mean Absolute Error: 308.7420281185248\n"
     ]
    }
   ],
   "source": [
    "from sklearn.metrics import mean_absolute_error\n",
    "print('Mean Absolute Error:',mean_absolute_error(test_y,y_pred))\n",
    "print('Mean Squared Error:',mean_squared_error(test_y,y_pred))\n",
    "print('Root Mean Absolute Error:',np.sqrt(mean_absolute_error(test_y,y_pred)))"
   ]
  },
  {
   "cell_type": "code",
   "execution_count": 39,
   "metadata": {},
   "outputs": [],
   "source": [
    "#Hyperparameter tuning using RandomizedSearchCV\n",
    "from sklearn.model_selection import RandomizedSearchCV"
   ]
  },
  {
   "cell_type": "code",
   "execution_count": 50,
   "metadata": {},
   "outputs": [],
   "source": [
    "#List of parameters to pass\n",
    "n_estimators = [10,50,100]\n",
    "loss=['linear','square','exponential']\n",
    "#max_features = ['auto', 'sqrt']\n",
    "#max_depth = [2, 3, 5]\n",
    "#min_samples_split = [2, 4, 6]\n",
    "#min_samples_leaf = [1, 2, 4, 6]\n",
    "learning_rate=[0.1]"
   ]
  },
  {
   "cell_type": "code",
   "execution_count": 51,
   "metadata": {},
   "outputs": [],
   "source": [
    "#Creating random grid\n",
    "\n",
    "random_grid = {'n_estimators': n_estimators,\n",
    "               'loss':loss,\n",
    "               'learning_rate':learning_rate}"
   ]
  },
  {
   "cell_type": "code",
   "execution_count": 52,
   "metadata": {},
   "outputs": [],
   "source": [
    "# Random search of parameters, using 5 fold cross validation, \n",
    "# search across 100 different combinations\n",
    "ab_random = RandomizedSearchCV(estimator = ab, param_distributions = random_grid,scoring='neg_mean_squared_error', n_iter = 10, cv = 5, verbose=2, random_state=60, n_jobs = 1)"
   ]
  },
  {
   "cell_type": "code",
   "execution_count": 53,
   "metadata": {},
   "outputs": [
    {
     "name": "stdout",
     "output_type": "stream",
     "text": [
      "Fitting 5 folds for each of 9 candidates, totalling 45 fits\n",
      "[CV] END ....learning_rate=0.1, loss=linear, n_estimators=10; total time=   0.1s\n",
      "[CV] END ....learning_rate=0.1, loss=linear, n_estimators=10; total time=   0.1s\n",
      "[CV] END ....learning_rate=0.1, loss=linear, n_estimators=10; total time=   0.0s\n",
      "[CV] END ....learning_rate=0.1, loss=linear, n_estimators=10; total time=   0.1s\n",
      "[CV] END ....learning_rate=0.1, loss=linear, n_estimators=10; total time=   0.0s\n",
      "[CV] END ....learning_rate=0.1, loss=linear, n_estimators=50; total time=   0.5s\n",
      "[CV] END ....learning_rate=0.1, loss=linear, n_estimators=50; total time=   0.5s\n",
      "[CV] END ....learning_rate=0.1, loss=linear, n_estimators=50; total time=   0.5s\n",
      "[CV] END ....learning_rate=0.1, loss=linear, n_estimators=50; total time=   0.5s\n",
      "[CV] END ....learning_rate=0.1, loss=linear, n_estimators=50; total time=   0.5s\n",
      "[CV] END ...learning_rate=0.1, loss=linear, n_estimators=100; total time=   1.1s\n",
      "[CV] END ...learning_rate=0.1, loss=linear, n_estimators=100; total time=   1.1s\n",
      "[CV] END ...learning_rate=0.1, loss=linear, n_estimators=100; total time=   1.0s\n",
      "[CV] END ...learning_rate=0.1, loss=linear, n_estimators=100; total time=   1.0s\n",
      "[CV] END ...learning_rate=0.1, loss=linear, n_estimators=100; total time=   1.0s\n",
      "[CV] END ....learning_rate=0.1, loss=square, n_estimators=10; total time=   0.0s\n",
      "[CV] END ....learning_rate=0.1, loss=square, n_estimators=10; total time=   0.0s\n",
      "[CV] END ....learning_rate=0.1, loss=square, n_estimators=10; total time=   0.0s\n",
      "[CV] END ....learning_rate=0.1, loss=square, n_estimators=10; total time=   0.0s\n",
      "[CV] END ....learning_rate=0.1, loss=square, n_estimators=10; total time=   0.0s\n",
      "[CV] END ....learning_rate=0.1, loss=square, n_estimators=50; total time=   0.5s\n",
      "[CV] END ....learning_rate=0.1, loss=square, n_estimators=50; total time=   0.5s\n",
      "[CV] END ....learning_rate=0.1, loss=square, n_estimators=50; total time=   0.5s\n",
      "[CV] END ....learning_rate=0.1, loss=square, n_estimators=50; total time=   0.5s\n",
      "[CV] END ....learning_rate=0.1, loss=square, n_estimators=50; total time=   0.5s\n",
      "[CV] END ...learning_rate=0.1, loss=square, n_estimators=100; total time=   1.1s\n",
      "[CV] END ...learning_rate=0.1, loss=square, n_estimators=100; total time=   1.0s\n",
      "[CV] END ...learning_rate=0.1, loss=square, n_estimators=100; total time=   1.0s\n",
      "[CV] END ...learning_rate=0.1, loss=square, n_estimators=100; total time=   1.0s\n",
      "[CV] END ...learning_rate=0.1, loss=square, n_estimators=100; total time=   1.0s\n",
      "[CV] END learning_rate=0.1, loss=exponential, n_estimators=10; total time=   0.0s\n",
      "[CV] END learning_rate=0.1, loss=exponential, n_estimators=10; total time=   0.1s\n",
      "[CV] END learning_rate=0.1, loss=exponential, n_estimators=10; total time=   0.0s\n",
      "[CV] END learning_rate=0.1, loss=exponential, n_estimators=10; total time=   0.0s\n",
      "[CV] END learning_rate=0.1, loss=exponential, n_estimators=10; total time=   0.0s\n",
      "[CV] END learning_rate=0.1, loss=exponential, n_estimators=50; total time=   0.5s\n",
      "[CV] END learning_rate=0.1, loss=exponential, n_estimators=50; total time=   0.5s\n",
      "[CV] END learning_rate=0.1, loss=exponential, n_estimators=50; total time=   0.5s\n",
      "[CV] END learning_rate=0.1, loss=exponential, n_estimators=50; total time=   0.5s\n",
      "[CV] END learning_rate=0.1, loss=exponential, n_estimators=50; total time=   0.5s\n",
      "[CV] END learning_rate=0.1, loss=exponential, n_estimators=100; total time=   1.0s\n",
      "[CV] END learning_rate=0.1, loss=exponential, n_estimators=100; total time=   1.1s\n",
      "[CV] END learning_rate=0.1, loss=exponential, n_estimators=100; total time=   1.0s\n",
      "[CV] END learning_rate=0.1, loss=exponential, n_estimators=100; total time=   1.0s\n",
      "[CV] END learning_rate=0.1, loss=exponential, n_estimators=100; total time=   1.0s\n"
     ]
    },
    {
     "data": {
      "text/plain": [
       "RandomizedSearchCV(cv=5, estimator=AdaBoostRegressor(), n_jobs=1,\n",
       "                   param_distributions={'learning_rate': [0.1],\n",
       "                                        'loss': ['linear', 'square',\n",
       "                                                 'exponential'],\n",
       "                                        'n_estimators': [10, 50, 100]},\n",
       "                   random_state=60, scoring='neg_mean_squared_error',\n",
       "                   verbose=2)"
      ]
     },
     "execution_count": 53,
     "metadata": {},
     "output_type": "execute_result"
    }
   ],
   "source": [
    "ab_random.fit(train_x,train_y)"
   ]
  },
  {
   "cell_type": "code",
   "execution_count": 54,
   "metadata": {},
   "outputs": [
    {
     "data": {
      "text/plain": [
       "{'n_estimators': 50, 'loss': 'exponential', 'learning_rate': 0.1}"
      ]
     },
     "execution_count": 54,
     "metadata": {},
     "output_type": "execute_result"
    }
   ],
   "source": [
    "ab_random.best_params_"
   ]
  },
  {
   "cell_type": "code",
   "execution_count": 55,
   "metadata": {},
   "outputs": [
    {
     "name": "stdout",
     "output_type": "stream",
     "text": [
      "R2 score: 98.91148020928856\n"
     ]
    }
   ],
   "source": [
    "ab=AdaBoostRegressor(n_estimators=50,loss='exponential',learning_rate=0.1)\n",
    "ab.fit(train_x,train_y)\n",
    "ab.score(train_x,train_y)\n",
    "pred=ab.predict(test_x)\n",
    "abr=r2_score(test_y,pred)\n",
    "print('R2 score:',abr*100)"
   ]
  },
  {
   "cell_type": "markdown",
   "metadata": {},
   "source": [
    "The accuracy obtained using AdaBoostRegressor is 99%."
   ]
  },
  {
   "cell_type": "code",
   "execution_count": null,
   "metadata": {},
   "outputs": [],
   "source": []
  }
 ],
 "metadata": {
  "kernelspec": {
   "display_name": "Python 3",
   "language": "python",
   "name": "python3"
  },
  "language_info": {
   "codemirror_mode": {
    "name": "ipython",
    "version": 3
   },
   "file_extension": ".py",
   "mimetype": "text/x-python",
   "name": "python",
   "nbconvert_exporter": "python",
   "pygments_lexer": "ipython3",
   "version": "3.8.3"
  }
 },
 "nbformat": 4,
 "nbformat_minor": 4
}
