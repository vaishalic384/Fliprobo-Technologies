{
 "cells": [
  {
   "cell_type": "code",
   "execution_count": 1,
   "metadata": {},
   "outputs": [],
   "source": [
    "import selenium\n",
    "import pandas as pd\n",
    "from selenium import webdriver\n",
    "import warnings\n",
    "warnings.filterwarnings('ignore')\n",
    "import time\n",
    "from selenium.common.exceptions import NoSuchElementException"
   ]
  },
  {
   "cell_type": "code",
   "execution_count": 2,
   "metadata": {},
   "outputs": [],
   "source": [
    "driver=webdriver.Chrome(r\"C:\\Users\\ChesthaS\\Downloads\\chromedriver_win32 (1)\\chromedriver.exe\")"
   ]
  },
  {
   "cell_type": "code",
   "execution_count": 3,
   "metadata": {},
   "outputs": [],
   "source": [
    "url = \"https://www.travolook.in/Result/availability?q=55386e40-6f87-4d81-a1f5-95c01b9a5a1f\"                                                                                                                                                                                                                                                                                                                                                                                                                                                                                                                                                                                                                                                                                                                                                                                                                                                                                                                                                                                                                                                                                                                                                                                                                                                                                                                                                                                                                                                                                                                                                                                                                                                                                                                                                                                                                                                                                                                                                                                                                                                                                                                                                                                                                                                                                                                                                                                                                                                                                                                                                                                                                                                                                                                                                                                                                                                                                                                                                                                                                                                                                                                                                                                                                                                                                                                                                                                                                                                                                                                                                                                                                                                                                                                                                                                                                                                                                                                                                                                                                                                                                                                                                                                                                                                                                                                                                                                                                                                                                                                                                                                                                                                                                                                                                                                                                                                                                                                                                                                                                                                                                                                                                                                                                                                                                                                                                                                                                                                                                                                                                                                                                                                                                                                                                                                                                                                                                                                                                                                                                                                                                                                                                                                                                                                                                                                                                                                                                                                                                                                                                                                                                                                                                                                                                                                                                                                                                                                                                                                                                                                                                                                                                                                                                                                                                                                                                                                                                                                                                                                                                                                                                                                                                                                                                                                                                                                                                                                                                                                                                                                                                                                                                                                                                                                                                                                                                                                                                                                                                                                                                                                                                                                                                                                                                                                                                                                                                                                                                                                                                                                                                                                                                                                                                                                                                                                                                                                                                                                                                                                                                                                                                                                                                                                                                                                                                                                                                                                                                                                                                                                                                                                                                                                                                                                                                                                                                                                                                                                                                                                                                                                                                                                                                                                                                                                                                                                                                                                                                                                                                                                                                                                                                                                                                                                                                                                                                                                                                                                                                                                                                                                                                                                                                                                                                                                                                                                                                                                                                                                                                                                                                                                                                                                                                                                                                                                                                                                                                                                                                                                                                                                                                                                                                                                                                                                                                                                                                                                                                                                                                                                                                                                                                                                                                                                                                                                                                                                                                                                                                                                                                                                                                                                                                                                                                                                                                                                                                                                                                                                                                                                                                                                                                                                                                                                                                                                                                                                                                                                                                                                                                                                                                                                                                                                                                                                                                                                                                                                                                                                                                                                                                                                                                                                                                                                                                                                                                                                                                                                                                                                                                                                                                                                                                                                                                                                                                                                                                                                                                                                                                                                                                                                                                                                                                                                                                                                                                                                                                                                                                                                                                                                                                                                                                                                                                                                                                                                                                                                                                                                                                                                                                                                                                                                                                                                                                                                                                                                                                                                                                                                                                                                                                                                                                                                                                                                                                                                                                                                                                                                                                                                                                                                                                                                                                                                                                                                                                                                                                                                                                                                                                                                                                                                                                                                                                                                                                                                                                                                                                                                                                                                                                                                                                                                                                                                                                                                                                                                                                                                                                                                                                                                                                                                                                                                                                                                                                                                                                                                                                                                                                                                                                                                                                                                                                                                                                                                                                                                                                                                                                                                                                                                                                                                                                                                                                                                                                                                                                                                                                                                                                                                                                                                                                                                                                                                                                                                                                                                                                                                                                                                                                                                                                                                                                                                                                                                                                                                                                                                                                                                                                                                                                                                                                                                                                                                                                                                                                                                                                                                                                                                                                                                                                                                                                                                                                                                                                                                                                                                                                                                                                                                                                                                                                                                                                                                                                                                                                                                                                                                                                                                                                                                                                                                                                                                                                                                                                                                                                                                                                                                                                                                                                                                                                                                                                                                                                                                                                                                                                                                                                                                                                                                                                                                                                                                                                                                                                                                                                                                                                                                                                                                                                                                                                                                                                                                                                                                                                                                                                                                                                                                                                                                                                                                                                                                                                                                                                                                                                                                                                                                                                                                                                                                                                                                                                                                                                                                                                                                                                                                                                                                                                                                                                                                                                                                                                                                                                                                                                                                                                                                                                                                                                                                                                                                                                                                                                                                                                                                                                                                                                                                                                                                                                                                                                                                                                                                                                                                                                                                                                                                                                                                                                                                                                                                                                                                                                                                                                                                                                                                                                                                                                                                                                                                                                                                                                                                                                                                                                                                                                                                                                                                                                                                                                                                                                                                                                                                                                                                                                                                                                                                                                                                                                                                                                                                                                                                                                                                                                                                                                                                                                                                                                                                                                                                                                                                                                                                                                                                                                                                                                                                                                                                                                                                                                                                                                                                                                                                                                                                                                                                                                                                                                                                                                                                                                                                                                                                                                                                                                                                                                                                                                                                                                                                                                                                                                                                                                                                                                                                                                                                                                                                                                                                                                                                                                                                                                                                                                                                                                                                                                                                                                                                                                                                                                                                                                                                                                                                                                                                                                                                                                                                                                                                                                                                                                                                                                                                                                                                                                                                                                                                                                                                                                                                                                                                                                                                                                                                                                                                                                                                                                                                                                                                                                                                                                                                                                                                                                                                                                                                                                                                                                                                                                                                                                                                                                                                                                                                                                                                                                                                                                                                                                                                                                                                                                                                                                                                                                                                                                                                                                                                                                                                                                                                                                                                                                                                                                                                                                                                                                                                                                                                                                                                                                                                                                                                                                                                                                                                                                                                                                                                                                                                                                                                                                                                                                                                                                                                                                                                                                                                                                                                                                                                                                                                                                                                                                                                                                                                                                                                                                                                                                                                                                                                                                                                                                                                                                                                                                                                                                                                                                                                                                                                                                                                                                                                                                                                                                                                                                                                                                                                                                                                                                                                                                                                                                                                                                                                                                                                                                                                                                                                                                                                                                                                                                                                                                                                                                                                                                                                                                                                                                                                                                                                                                                                                                                                                                                                                                                                                                                                                                                                                                                                                                                                                                                                                                                                                                                                                                                                                                                                                                                                                                                                                                                                                                                                                                                                                                                                                                                                                                                                                                                                                                                                                                                                                                                                                                                                                                                                                                                                                                                                                                                                                                                                                                                                                                                                                                                                                                                                                                                                                                                                                                                                                                                                                                                                                                                                                                                                                                                                                                                                                                                                                                                                                                                                                                                                                                                                                                                                                                                                                                                                                                                                                                                                                                                                                                                                                                                                                                                                                                                                                                                                                                                                                                                                                                                                                                                                                                                                                                                                                                                                                                                                                                                                                                                                                                                                                                                                                                                                                                                                                                                                                                                                                                                                                                                                                                                                                                                                                                                                                                                                                                                                                                                                                                                                                                                                                                                                                                                                                                                                                                                                                                                                                                                                                                                                                                                                                                                                                                                                                                                                                                                                                                                                                                                                                                                                                                                                                                                                                                                                                                                                                                                                                                                                                                                                                                                                                                                                                                                                                                                                                                                                                                                                                                                                                                                                                                                                                                                                                                                                                                                                                                                                                                                                                                                                                                                                                                                                                                                                                                                                                                                                                                                                                                                                                                                                                                                                                                                                                                                                                                                                                                                                                                                                                                                                                                                                                                                                                                                                                                                                                                                                                                                                                                                                                                                                                                                                                                                                                                                                                                                                                                                                                                                                                                                                                                                                                                                                                                                                                                                                                                                                                                                                                                                                                                                                                                                                                                                                                                                                                                                                                                                                                                                                                                                                                                                                                                                                                                                                                                                                                                                                                                                                                                                                                                                                                                                                                                                                                                                                                                                                                                                                                                                                                                                                                                                                                                                                                                                                                                                                                                                                                                                                                                                                                                                                                                                                                                                                                                                                                                                                                                                                                                                                                                                                                                                                                                                                                                                                                                                                                                                                                                                                                                                                                                                                                                                                                                                                                                                                                                                                                                                                                                                                                                                                                                                                                                                                                                                                                                                                                                                                                                                                                                                                                                                                                                                                                                                                                                                                                                                                                                                                                                                                                                                                                                                                                                                                                                                                                                                                                                                                                                                                                                                                                                                                                                                                                                                                                                                                                                                                                                                                                                                                                                                                                                                                                                                                                                                                                                                                                                                                                                                                                                                                                                                                                                                                                                                                                                                                                                                                                                                                                                                                                                                                                                                                                                                                                                                                                                                                                                                                                                                                                                                                                                                                                                                                                                                                                                                                                                                                                                                                                                                                                                                                                                                                                                                                                                                                                                                                                                                                                                                                                                                                                                                                                                                                                                                                                                                                                                                                                                                                                                                                                                                                                                                                                                                                                                                                                                                                                                                                                                                                                                                                                                                                                                                                                                                                                                                                                                                                                                                                                                                                                                                                                                                                                                                                                                                                                                                                                                                                                                                                                                                                                                                                                                                                                                                                                                                                                                                                                                                                                                                                                                                                                                                                                                                                                                                                                                                                                                                                                                                                                                                                                                                                                                                                                                                                                                                                                                                                                                                                                                                                                                                                                                                                                                                                                                                                                                                                                                                                                                                                                                                                                                                                                                                                                                                                                                                                                                                                                                                                                                                                                                                                                                                                                                                                                                                                                                                                                                                                                                                                                                                                                                                                                                                                                                                                                                                                                                                                                                                                                                                                                                                                                                                                                                                                                                                                                                                                                                                                                                                                                                                                                                                                                                                                                                                                                                                                                                                                                                                                                                                                                                                                                                                                                                                                                                                                                                                                                                                                                                                                                                                                                                                                                                                                                                                                                                                                                                                                                                                                                                                                                                                                                                                                                                                                                                                                                                                                                                                                                                                                                                                                                                                                                                                                                                                                                                                                                                                                                                                                                                                                                                                                                                                                                                                                                                                                                                                                                                                                                                                                                                                                                                                                                                                                                                                                                                                                                                                                                                                                                                                                                                                                                                                                                                                                                                                                                                                                                                                                                                                                                                                                                                                                                                                                                                                                                                                                                                                                                                                                                                                                                                                                                                                                                                                                                                                                                                                                                                                                                                                                                                                                                                                                                                                                                                                                                                                                                                                                                                                                                                                                                                                                                                                                                                                                                                                                                                                                                                                                                                                                                                                                                                                                                                                                                                                                                                                                                                                                                                                                                                                                                                                                                                                                                                                                                                                                                                                                                                                                                                                                                                                                                                                                                                                                                                                                                                                                                                                                                                                                                                                                                                                                                                                                                                                                                                                                                                                                                                                                                                                                                                                                                                                                                                                                                                                                                                                                                                                                                                                                                                                                                                                                                                                                                                                                                                                                                                                                                                                                                                                                                                                                                                                                                                                                                                                                                                                                                                                                                                                                                                                                                                                                                                                                                                                                                                                                                                                                                                                                                                                                                                                                                                                                                                                                                                                                                                                                                                                                                                                                                                                                                                                                                                                                                                                                                                                                                                                                                                                                                                                                                                                                                                                                                                                                                                                                                                                                                                                                                                                                                                                                                                                                                                                                                                                                                                                                                                                                                                                                                                                                                                                                                                                                                                                                                                                                                                                                                                                                                                                                                                                                                                                                                                                                                                                                                                                                                                                                                                                                                                                                                                                                                                                                                                                                                                                                                                                                                                                                                                                                                                                                                                                                                                                                                                                                                                                                                                                                                                                                                                                                                                                                                                                                                                                                                                                                                                                                                                                                                                                                                                                                                                                                                                                                                                                                                                                                                                                                                                                                                                                                                                                                                                                                                                                                                                                                                                                                                                                                                                                                                                                                                                                                                                                                                                                                                                                                                                                                                                                                                                                                                                                                                                                                                                                                                                                                                                                                                                                                                                                                                                                                                                                                                                                                                                                                                                                                                                                                                                                                                                                                                                                                                                                                                                                                                                                                                                                                                                                                                                                                                                                                                                                                                                                                                                                                                                                                                                                                                                                                                                                                                                                                                                                                                                                                                                                                                                                                                                                                                                                                                                                                                                                                                                                                                                                                                                                                                                                                                                                                                                                                                                                                                                                                                                                                                                                                                                                                                                                                                                                                                                                                                                                                                                                                                                                                                                                                                                                                                                                                                                                                                                                                                                                                                                                                                                                                                                                                                                                                                                                                                                                                                                                                                                                                                                                                                                                                                                                                                                                                                                                                                                                                                                                                                                                                                                                                                                                                                                                                                                                                                                                                                                                                                                                                                                                                                                                                                                                                                                                                                                                                                                                                                                                                                                                                                                                                                                                                                                                                                                                                                                                                                                                                                                                                                                                                                                                                                                                                                                                                                                                                                                                                                                                                                                                                                                                                                                                                                                                                                                                                                                                                                                                                                                                                                                                                                                                                                                                                                                                                                                                                                                                                                                                                                                                                                                                                                                                                                                                                                                                                                                                                                                                                                                                                                                                                                                                                                                                                                                                                                                                                                                                                                                                                                                                                                                                                                                                                                                                                                                                                                                                                                                                                                                                                                                                                                                                                                                                                                                                                                                                                                                                                                                                                                                                                                                                                                                                                                                                                                                                                                                                                                                                                                                                                                                                                                                                                                                                                                                                                                                                                                                                                                                                                                                                                                                                                                                                                                                                                                                                                                                                                                                                                                                                                                                                                                                                                                                                                                                                                                                                                                                                                                                                                                                                                                                                                                                                                                                                                                                                                                                                                                                                                                                                                                                                                                                                                                                                                                                                                                                                                                                                                                                                                                                                                                                                                                                                                                                                                                                                                                                                                                                                                                                                                                                                                                                                                                                                                                                                                                                                                                                                                                                                                                                                                                                                                                                                                                                                                                                                                                                                                                                                                                                                                                                                                                                                                                                                                                                                                                                                                                                                                                                                                                                                                                                                                                                                                                                                                                                                                                                                                                                                                                                                                                                                                                                                                                                                                                                                                                                                                                                                                                                                                                                                                                                                                                                                                                                                                                                                                                                                                                                                                                                                                                                                                                                                                                                                                                                                                                                                                                                                                                                                                                                                                                                                                                                                                                                                                                                                                                                                                                                                                                                                                                                                                                                                                                                                                                                                                                                                                                                                                                                                                                                                                                                                                                                                                                                                                                                                                                                                                                                                                                                                                                                                                                                                                                                                                                                                                                                                                                                                                                                                                                                                                                                                                                                                                                                                                                                                                                                                                                                                                                                                                                                                                                                                                                                                                                                                                                                                                                                                                                                                                                                                                                                                                                                                                                                                                                                                                                                                                                                                                                                                                                                                                                                                                                                                                                                                                                                                                                                                                                                                                                                                                                                                                                                                                                                                                                                                                                                                                                                                                                                                                                                                                                                                                                                                                                                                                                                                                                                                                                                                                                                                                                                                                                                                                                                                                                                                                                                                                                                                                                                               \n",
    "driver.get(url)"
   ]
  },
  {
   "cell_type": "code",
   "execution_count": 4,
   "metadata": {},
   "outputs": [],
   "source": [
    "from_btn=driver.find_element_by_xpath(\"//*[@id='flying_from_N']\")\n"
   ]
  },
  {
   "cell_type": "code",
   "execution_count": 5,
   "metadata": {},
   "outputs": [],
   "source": [
    "from_btn.send_keys(\"Delhi\")"
   ]
  },
  {
   "cell_type": "code",
   "execution_count": 6,
   "metadata": {},
   "outputs": [],
   "source": [
    "to_btn=driver.find_element_by_xpath(\"//*[@id='flying_to_N']\")"
   ]
  },
  {
   "cell_type": "code",
   "execution_count": 7,
   "metadata": {},
   "outputs": [],
   "source": [
    "to_btn.send_keys(\"Mumbai\")"
   ]
  },
  {
   "cell_type": "code",
   "execution_count": 8,
   "metadata": {},
   "outputs": [],
   "source": [
    "search_btn=driver.find_element_by_xpath(\"/html/body/div[5]/ul/li[1]\")"
   ]
  },
  {
   "cell_type": "code",
   "execution_count": 9,
   "metadata": {},
   "outputs": [],
   "source": [
    "search_btn.click()"
   ]
  },
  {
   "cell_type": "code",
   "execution_count": 12,
   "metadata": {},
   "outputs": [],
   "source": [
    "search_1_btn=driver.find_element_by_xpath(\"/html/body/div[6]/ul/li[2]/span\")"
   ]
  },
  {
   "cell_type": "code",
   "execution_count": 13,
   "metadata": {},
   "outputs": [],
   "source": [
    "search_1_btn.click()"
   ]
  },
  {
   "cell_type": "code",
   "execution_count": 14,
   "metadata": {},
   "outputs": [],
   "source": [
    "search_engine=driver.find_element_by_xpath(\"//*[@id='searchengine_btn']\")"
   ]
  },
  {
   "cell_type": "code",
   "execution_count": 15,
   "metadata": {},
   "outputs": [],
   "source": [
    "search_engine.click()"
   ]
  },
  {
   "cell_type": "code",
   "execution_count": 16,
   "metadata": {},
   "outputs": [],
   "source": [
    "elements_tags=driver.find_elements_by_xpath(\"/html/body/section[2]/div/div[1]/div/div[2]/div/div/div/div/span\")"
   ]
  },
  {
   "cell_type": "code",
   "execution_count": 17,
   "metadata": {},
   "outputs": [],
   "source": [
    "elements=[]    "
   ]
  },
  {
   "cell_type": "code",
   "execution_count": 18,
   "metadata": {},
   "outputs": [],
   "source": [
    "for i in elements_tags[0::3]:\n",
    "    elements.append(i.text)"
   ]
  },
  {
   "cell_type": "code",
   "execution_count": 19,
   "metadata": {},
   "outputs": [
    {
     "data": {
      "text/plain": [
       "['SpiceJet\\nSG 8184',\n",
       " 'SpiceJet\\nSG 507',\n",
       " 'SpiceJet\\nSG 611',\n",
       " 'SpiceJet\\nSG 757',\n",
       " 'Indigo\\n6E 2339',\n",
       " 'Indigo\\n6E 2292',\n",
       " 'Indigo\\n6E 2215',\n",
       " 'Indigo\\n6E 2702',\n",
       " 'Indigo\\n6E 5203',\n",
       " 'Indigo\\n6E 6202',\n",
       " 'Indigo\\n6E 171',\n",
       " 'Indigo\\n6E 2293',\n",
       " 'Air Asia\\nI5 482',\n",
       " 'Air Asia\\nI5 834',\n",
       " 'Air Asia\\nI5 834',\n",
       " 'Air Asia\\nI5 482',\n",
       " 'Indigo\\n6E 2339',\n",
       " 'Indigo\\n6E 2292',\n",
       " 'Indigo\\n6E 2293',\n",
       " 'Indigo\\n6E 2702',\n",
       " 'Indigo\\n6E 2215',\n",
       " 'Indigo\\n6E 6202',\n",
       " 'Indigo\\n6E 171',\n",
       " 'Indigo\\n6E 5203',\n",
       " 'Indigo\\n6E 6125',\n",
       " 'Indigo\\n6E 5071',\n",
       " 'Indigo\\n6E 2186',\n",
       " 'Indigo\\n6E 2186',\n",
       " 'Indigo\\n6E 6125',\n",
       " 'Indigo\\n6E 5071',\n",
       " 'Indigo\\n6E 6387',\n",
       " 'Indigo\\n6E 2576',\n",
       " 'Indigo\\n6E 2576',\n",
       " 'Indigo\\n6E 6387',\n",
       " 'SpiceJet\\nSG 8701',\n",
       " 'GO FIRST\\nG8 530',\n",
       " 'GO FIRST\\nG8 323',\n",
       " 'GO FIRST\\nG8 334',\n",
       " 'GO FIRST\\nG8 336',\n",
       " 'GO FIRST\\nG8 717',\n",
       " 'GO FIRST\\nG8 2511',\n",
       " 'GO FIRST\\nG8 354',\n",
       " 'GO FIRST\\nG8 330',\n",
       " 'GO FIRST\\nG8 346',\n",
       " 'GO FIRST\\nG8 188',\n",
       " 'Vistara\\nUK 993',\n",
       " 'Vistara\\nUK 977',\n",
       " 'Vistara\\nUK 955',\n",
       " 'Vistara\\nUK 985',\n",
       " 'Vistara\\nUK 981',\n",
       " 'Vistara\\nUK 941',\n",
       " 'Vistara\\nUK 933',\n",
       " 'Air India\\nAI 441',\n",
       " 'Air India\\nAI 636',\n",
       " 'Air India\\nAI 624',\n",
       " 'Air India\\nAI 678',\n",
       " 'Air India\\nAI 665',\n",
       " 'Air India\\nAI 865',\n",
       " 'SpiceJet\\nSG 3001',\n",
       " 'Indigo\\n6E 5076',\n",
       " 'Indigo\\n6E 2733',\n",
       " 'Indigo\\n6E 2516',\n",
       " 'Indigo\\n6E 2136',\n",
       " 'Vistara\\nUK 995',\n",
       " 'Air India\\nAI 805',\n",
       " 'Vistara\\nUK 963',\n",
       " 'Indigo\\n6E 5076',\n",
       " 'Indigo\\n6E 2733',\n",
       " 'Indigo\\n6E 2516',\n",
       " 'Indigo\\n6E 2136',\n",
       " 'Indigo\\n6E 2615',\n",
       " 'Vistara\\nUK 927',\n",
       " 'Air India\\nAI 435',\n",
       " 'Air India\\nAI 437',\n",
       " 'Indigo\\n6E 2615',\n",
       " 'Indigo\\n6E 6019',\n",
       " 'Indigo\\n6E 2278',\n",
       " 'Vistara\\nUK 975',\n",
       " 'Indigo\\n6E 6019',\n",
       " 'Indigo\\n6E 2278',\n",
       " 'Air India\\nAI 469',\n",
       " 'Air India\\nAI 531',\n",
       " 'Air India\\nAI 435',\n",
       " 'Vistara\\nUK 667',\n",
       " 'Vistara\\nUK 637',\n",
       " 'Air India\\nAI 469',\n",
       " 'Air Asia\\nI5 744',\n",
       " 'Air India\\nAI 477',\n",
       " 'Air India\\nAI 477',\n",
       " 'Air India\\nAI 811',\n",
       " 'Vistara\\nUK 899',\n",
       " 'Vistara\\nUK 879',\n",
       " 'Vistara\\nUK 879',\n",
       " 'Air India\\nAI 477',\n",
       " 'Air Asia\\nI5 744',\n",
       " 'Indigo\\n6E 2567',\n",
       " 'Vistara\\nUK 943',\n",
       " 'Air Asia\\nI5 779',\n",
       " 'Air Asia\\nI5 775',\n",
       " 'Air Asia\\nI5 798',\n",
       " 'GO FIRST\\nG8 131',\n",
       " 'Air India\\nAI 406',\n",
       " 'Air Asia\\nI5 779',\n",
       " 'Air Asia\\nI5 775',\n",
       " 'Air Asia\\nI5 798',\n",
       " 'Indigo\\n6E 2567',\n",
       " 'Air India\\nAI 887',\n",
       " 'Indigo\\n6E 2083',\n",
       " 'Air India\\nAI 453',\n",
       " 'Vistara\\nUK 807',\n",
       " 'Vistara\\nUK 807',\n",
       " 'Vistara\\nUK 807',\n",
       " 'Indigo\\n6E 2083',\n",
       " 'Air India\\nAI 439',\n",
       " 'Air India\\nAI 540',\n",
       " 'Air India\\nAI 439',\n",
       " 'Vistara\\nUK 837',\n",
       " 'Vistara\\nUK 837',\n",
       " 'Vistara\\nUK 835',\n",
       " 'Air India\\nAI 484',\n",
       " 'GO FIRST\\nG8 194',\n",
       " 'GO FIRST\\nG8 194',\n",
       " 'GO FIRST\\nG8 199',\n",
       " 'GO FIRST\\nG8 286']"
      ]
     },
     "execution_count": 19,
     "metadata": {},
     "output_type": "execute_result"
    }
   ],
   "source": [
    "elements"
   ]
  },
  {
   "cell_type": "code",
   "execution_count": 20,
   "metadata": {},
   "outputs": [
    {
     "data": {
      "text/plain": [
       "124"
      ]
     },
     "execution_count": 20,
     "metadata": {},
     "output_type": "execute_result"
    }
   ],
   "source": [
    "len(elements)"
   ]
  },
  {
   "cell_type": "code",
   "execution_count": 21,
   "metadata": {},
   "outputs": [],
   "source": [
    "arrival_tags=driver.find_elements_by_xpath(\"/html/body/section[2]/div/div[1]/div/div[2]/div/div/div/div/div/b\")"
   ]
  },
  {
   "cell_type": "code",
   "execution_count": 22,
   "metadata": {},
   "outputs": [],
   "source": [
    "arrival=[]\n",
    "for i in arrival_tags[0::2]:\n",
    "    arrival.append(i.text)"
   ]
  },
  {
   "cell_type": "code",
   "execution_count": 23,
   "metadata": {},
   "outputs": [
    {
     "data": {
      "text/plain": [
       "['10:40\\nDelhi',\n",
       " '20:20\\nDelhi',\n",
       " '18:40\\nDelhi',\n",
       " '16:20\\nDelhi',\n",
       " '21:55\\nDelhi',\n",
       " '19:05\\nDelhi',\n",
       " '11:00\\nDelhi',\n",
       " '15:35\\nDelhi',\n",
       " '13:10\\nDelhi',\n",
       " '12:00\\nDelhi',\n",
       " '10:10\\nDelhi',\n",
       " '17:45\\nDelhi',\n",
       " '19:55\\nDelhi',\n",
       " '08:50\\nDelhi',\n",
       " '08:50\\nDelhi',\n",
       " '19:55\\nDelhi',\n",
       " '21:55\\nDelhi',\n",
       " '19:05\\nDelhi',\n",
       " '17:45\\nDelhi',\n",
       " '15:35\\nDelhi',\n",
       " '11:00\\nDelhi',\n",
       " '12:00\\nDelhi',\n",
       " '10:10\\nDelhi',\n",
       " '13:10\\nDelhi',\n",
       " '06:10\\nDelhi',\n",
       " '14:00\\nDelhi',\n",
       " '20:30\\nDelhi',\n",
       " '20:30\\nDelhi',\n",
       " '06:10\\nDelhi',\n",
       " '14:00\\nDelhi',\n",
       " '08:55\\nDelhi',\n",
       " '05:00\\nDelhi',\n",
       " '05:00\\nDelhi',\n",
       " '08:55\\nDelhi',\n",
       " '06:50\\nDelhi',\n",
       " '06:15\\nDelhi',\n",
       " '18:50\\nDelhi',\n",
       " '09:05\\nDelhi',\n",
       " '14:20\\nDelhi',\n",
       " '15:30\\nDelhi',\n",
       " '13:30\\nDelhi',\n",
       " '22:45\\nDelhi',\n",
       " '21:30\\nDelhi',\n",
       " '20:30\\nDelhi',\n",
       " '17:45\\nDelhi',\n",
       " '12:45\\nDelhi',\n",
       " '18:55\\nDelhi',\n",
       " '17:45\\nDelhi',\n",
       " '19:45\\nDelhi',\n",
       " '21:40\\nDelhi',\n",
       " '16:55\\nDelhi',\n",
       " '15:10\\nDelhi',\n",
       " '18:00\\nDelhi',\n",
       " '15:05\\nDelhi',\n",
       " '19:00\\nDelhi',\n",
       " '09:00\\nDelhi',\n",
       " '08:00\\nDelhi',\n",
       " '10:40\\nDelhi',\n",
       " '06:35\\nDelhi',\n",
       " '13:40\\nDelhi',\n",
       " '13:50\\nDelhi',\n",
       " '18:10\\nDelhi',\n",
       " '18:45\\nDelhi',\n",
       " '10:20\\nDelhi',\n",
       " '20:00\\nDelhi',\n",
       " '08:50\\nDelhi',\n",
       " '13:40\\nDelhi',\n",
       " '13:50\\nDelhi',\n",
       " '18:10\\nDelhi',\n",
       " '18:45\\nDelhi',\n",
       " '07:20\\nDelhi',\n",
       " '09:30\\nDelhi',\n",
       " '05:45\\nDelhi',\n",
       " '20:00\\nDelhi',\n",
       " '07:20\\nDelhi',\n",
       " '13:10\\nDelhi',\n",
       " '13:45\\nDelhi',\n",
       " '06:00\\nDelhi',\n",
       " '13:10\\nDelhi',\n",
       " '13:45\\nDelhi',\n",
       " '05:20\\nDelhi',\n",
       " '20:10\\nDelhi',\n",
       " '05:45\\nDelhi',\n",
       " '13:40\\nDelhi',\n",
       " '17:10\\nDelhi',\n",
       " '05:20\\nDelhi',\n",
       " '09:25\\nDelhi',\n",
       " '16:40\\nDelhi',\n",
       " '16:40\\nDelhi',\n",
       " '18:30\\nDelhi',\n",
       " '14:45\\nDelhi',\n",
       " '17:45\\nDelhi',\n",
       " '17:45\\nDelhi',\n",
       " '16:40\\nDelhi',\n",
       " '09:25\\nDelhi',\n",
       " '08:55\\nDelhi',\n",
       " '07:30\\nDelhi',\n",
       " '05:20\\nDelhi',\n",
       " '11:55\\nDelhi',\n",
       " '12:40\\nDelhi',\n",
       " '12:35\\nDelhi',\n",
       " '10:15\\nDelhi',\n",
       " '05:20\\nDelhi',\n",
       " '11:55\\nDelhi',\n",
       " '12:40\\nDelhi',\n",
       " '08:55\\nDelhi',\n",
       " '07:00\\nDelhi',\n",
       " '09:35\\nDelhi',\n",
       " '04:55\\nDelhi',\n",
       " '20:40\\nDelhi',\n",
       " '20:40\\nDelhi',\n",
       " '20:40\\nDelhi',\n",
       " '09:35\\nDelhi',\n",
       " '06:05\\nDelhi',\n",
       " '20:40\\nDelhi',\n",
       " '06:05\\nDelhi',\n",
       " '17:35\\nDelhi',\n",
       " '17:35\\nDelhi',\n",
       " '19:55\\nDelhi',\n",
       " '16:35\\nDelhi',\n",
       " '08:10\\nDelhi',\n",
       " '08:10\\nDelhi',\n",
       " '12:20\\nDelhi',\n",
       " '10:40\\nDelhi']"
      ]
     },
     "execution_count": 23,
     "metadata": {},
     "output_type": "execute_result"
    }
   ],
   "source": [
    "arrival"
   ]
  },
  {
   "cell_type": "code",
   "execution_count": 24,
   "metadata": {},
   "outputs": [
    {
     "data": {
      "text/plain": [
       "124"
      ]
     },
     "execution_count": 24,
     "metadata": {},
     "output_type": "execute_result"
    }
   ],
   "source": [
    "len(arrival)"
   ]
  },
  {
   "cell_type": "code",
   "execution_count": 25,
   "metadata": {},
   "outputs": [],
   "source": [
    "departure=[]\n",
    "for i in arrival_tags[1::2]:\n",
    "    departure.append(i.text)"
   ]
  },
  {
   "cell_type": "code",
   "execution_count": 26,
   "metadata": {},
   "outputs": [
    {
     "data": {
      "text/plain": [
       "['12:50\\nMumbai',\n",
       " '22:40\\nMumbai',\n",
       " '20:40\\nMumbai',\n",
       " '18:30\\nMumbai',\n",
       " '00:05+1D\\nMumbai',\n",
       " '21:05\\nMumbai',\n",
       " '13:05\\nMumbai',\n",
       " '17:50\\nMumbai',\n",
       " '15:15\\nMumbai',\n",
       " '14:05\\nMumbai',\n",
       " '12:25\\nMumbai',\n",
       " '20:10\\nMumbai',\n",
       " '22:15\\nMumbai',\n",
       " '11:05\\nMumbai',\n",
       " '11:05\\nMumbai',\n",
       " '22:15\\nMumbai',\n",
       " '00:05+1D\\nMumbai',\n",
       " '21:05\\nMumbai',\n",
       " '20:10\\nMumbai',\n",
       " '17:50\\nMumbai',\n",
       " '13:05\\nMumbai',\n",
       " '14:05\\nMumbai',\n",
       " '12:25\\nMumbai',\n",
       " '15:15\\nMumbai',\n",
       " '08:20\\nMumbai',\n",
       " '16:05\\nMumbai',\n",
       " '22:35\\nMumbai',\n",
       " '22:35\\nMumbai',\n",
       " '08:20\\nMumbai',\n",
       " '16:05\\nMumbai',\n",
       " '11:05\\nMumbai',\n",
       " '07:10\\nMumbai',\n",
       " '07:10\\nMumbai',\n",
       " '11:05\\nMumbai',\n",
       " '09:05\\nMumbai',\n",
       " '08:20\\nMumbai',\n",
       " '20:45\\nMumbai',\n",
       " '11:05\\nMumbai',\n",
       " '16:25\\nMumbai',\n",
       " '21:05\\nMumbai',\n",
       " '19:20\\nMumbai',\n",
       " '00:50+1D\\nMumbai',\n",
       " '23:35\\nMumbai',\n",
       " '22:35\\nMumbai',\n",
       " '22:25\\nMumbai',\n",
       " '14:55\\nMumbai',\n",
       " '21:15\\nMumbai',\n",
       " '20:05\\nMumbai',\n",
       " '22:00\\nMumbai',\n",
       " '23:50\\nMumbai',\n",
       " '19:05\\nMumbai',\n",
       " '17:15\\nMumbai',\n",
       " '21:35\\nMumbai',\n",
       " '18:15\\nMumbai',\n",
       " '21:15\\nMumbai',\n",
       " '11:15\\nMumbai',\n",
       " '10:10\\nMumbai',\n",
       " '12:50\\nMumbai',\n",
       " '10:10\\nMumbai',\n",
       " '18:35\\nMumbai',\n",
       " '19:30\\nMumbai',\n",
       " '22:35\\nMumbai',\n",
       " '23:00\\nMumbai',\n",
       " '12:30\\nMumbai',\n",
       " '22:10\\nMumbai',\n",
       " '11:10\\nMumbai',\n",
       " '18:35\\nMumbai',\n",
       " '19:30\\nMumbai',\n",
       " '22:35\\nMumbai',\n",
       " '23:00\\nMumbai',\n",
       " '13:10\\nMumbai',\n",
       " '11:40\\nMumbai',\n",
       " '23:25\\nMumbai',\n",
       " '09:40+1D\\nMumbai',\n",
       " '13:10\\nMumbai',\n",
       " '18:35\\nMumbai',\n",
       " '17:45\\nMumbai',\n",
       " '08:00\\nMumbai',\n",
       " '18:35\\nMumbai',\n",
       " '17:45\\nMumbai',\n",
       " '23:05\\nMumbai',\n",
       " '20:00+1D\\nMumbai',\n",
       " '09:40\\nMumbai',\n",
       " '21:35\\nMumbai',\n",
       " '21:35\\nMumbai',\n",
       " '16:25\\nMumbai',\n",
       " '16:00\\nMumbai',\n",
       " '23:45\\nMumbai',\n",
       " '07:10+1D\\nMumbai',\n",
       " '17:20+1D\\nMumbai',\n",
       " '23:00\\nMumbai',\n",
       " '23:00\\nMumbai',\n",
       " '10:40+1D\\nMumbai',\n",
       " '09:40+1D\\nMumbai',\n",
       " '16:00\\nMumbai',\n",
       " '13:10\\nMumbai',\n",
       " '09:45\\nMumbai',\n",
       " '20:15\\nMumbai',\n",
       " '20:15\\nMumbai',\n",
       " '20:15\\nMumbai',\n",
       " '19:20\\nMumbai',\n",
       " '15:40\\nMumbai',\n",
       " '20:15\\nMumbai',\n",
       " '20:15\\nMumbai',\n",
       " '20:15\\nMumbai',\n",
       " '13:10\\nMumbai',\n",
       " '09:05\\nMumbai',\n",
       " '14:50\\nMumbai',\n",
       " '13:40\\nMumbai',\n",
       " '08:25+1D\\nMumbai',\n",
       " '20:15+1D\\nMumbai',\n",
       " '21:50+1D\\nMumbai',\n",
       " '14:50\\nMumbai',\n",
       " '17:05\\nMumbai',\n",
       " '08:05+1D\\nMumbai',\n",
       " '08:05+1D\\nMumbai',\n",
       " '23:05\\nMumbai',\n",
       " '10:30+1D\\nMumbai',\n",
       " '10:30+1D\\nMumbai',\n",
       " '16:25+1D\\nMumbai',\n",
       " '13:00\\nMumbai',\n",
       " '14:55\\nMumbai',\n",
       " '18:15\\nMumbai',\n",
       " '15:40\\nMumbai']"
      ]
     },
     "execution_count": 26,
     "metadata": {},
     "output_type": "execute_result"
    }
   ],
   "source": [
    "departure"
   ]
  },
  {
   "cell_type": "code",
   "execution_count": 27,
   "metadata": {},
   "outputs": [
    {
     "data": {
      "text/plain": [
       "124"
      ]
     },
     "execution_count": 27,
     "metadata": {},
     "output_type": "execute_result"
    }
   ],
   "source": [
    "len(departure)"
   ]
  },
  {
   "cell_type": "code",
   "execution_count": 28,
   "metadata": {},
   "outputs": [],
   "source": [
    "duration_tags=driver.find_elements_by_xpath(\"/html/body/section[2]/div/div[1]/div/div[2]/div/div/div/div/span\")"
   ]
  },
  {
   "cell_type": "code",
   "execution_count": 29,
   "metadata": {},
   "outputs": [],
   "source": [
    "duration=[]\n",
    "for i in duration_tags[1::3]:\n",
    "    duration.append(i.text)"
   ]
  },
  {
   "cell_type": "code",
   "execution_count": 30,
   "metadata": {},
   "outputs": [
    {
     "data": {
      "text/plain": [
       "['2h 10m\\nNon Stop',\n",
       " '2h 20m\\nNon Stop',\n",
       " '2h 00m\\nNon Stop',\n",
       " '2h 10m\\nNon Stop',\n",
       " '2h 10m\\nNon Stop',\n",
       " '2h 00m\\nNon Stop',\n",
       " '2h 05m\\nNon Stop',\n",
       " '2h 15m\\nNon Stop',\n",
       " '2h 05m\\nNon Stop',\n",
       " '2h 05m\\nNon Stop',\n",
       " '2h 15m\\nNon Stop',\n",
       " '2h 25m\\nNon Stop',\n",
       " '2h 20m\\nNon Stop',\n",
       " '2h 15m\\nNon Stop',\n",
       " '2h 15m\\nNon Stop',\n",
       " '2h 20m\\nNon Stop',\n",
       " '2h 10m\\nNon Stop',\n",
       " '2h 00m\\nNon Stop',\n",
       " '2h 25m\\nNon Stop',\n",
       " '2h 15m\\nNon Stop',\n",
       " '2h 05m\\nNon Stop',\n",
       " '2h 05m\\nNon Stop',\n",
       " '2h 15m\\nNon Stop',\n",
       " '2h 05m\\nNon Stop',\n",
       " '2h 10m\\nNon Stop',\n",
       " '2h 05m\\nNon Stop',\n",
       " '2h 05m\\nNon Stop',\n",
       " '2h 05m\\nNon Stop',\n",
       " '2h 10m\\nNon Stop',\n",
       " '2h 05m\\nNon Stop',\n",
       " '2h 10m\\nNon Stop',\n",
       " '2h 10m\\nNon Stop',\n",
       " '2h 10m\\nNon Stop',\n",
       " '2h 10m\\nNon Stop',\n",
       " '2h 15m\\nNon Stop',\n",
       " '2h 05m\\nNon Stop',\n",
       " '1h 55m\\nNon Stop',\n",
       " '2h 00m\\nNon Stop',\n",
       " '2h 05m\\nNon Stop',\n",
       " '5h 35m\\n1 Stop',\n",
       " '5h 50m\\n1 Stop',\n",
       " '2h 05m\\nNon Stop',\n",
       " '2h 05m\\nNon Stop',\n",
       " '2h 05m\\nNon Stop',\n",
       " '4h 40m\\n1 Stop',\n",
       " '2h 10m\\nNon Stop',\n",
       " '2h 20m\\nNon Stop',\n",
       " '2h 20m\\nNon Stop',\n",
       " '2h 15m\\nNon Stop',\n",
       " '2h 10m\\nNon Stop',\n",
       " '2h 10m\\nNon Stop',\n",
       " '2h 05m\\nNon Stop',\n",
       " '3h 35m\\nNon Stop',\n",
       " '3h 10m\\nNon Stop',\n",
       " '2h 15m\\nNon Stop',\n",
       " '2h 15m\\nNon Stop',\n",
       " '2h 10m\\nNon Stop',\n",
       " '2h 10m\\nNon Stop',\n",
       " '3h 35m\\n1 Stop',\n",
       " '4h 55m\\n1 Stop',\n",
       " '5h 40m\\n1 Stop',\n",
       " '4h 25m\\n1 Stop',\n",
       " '4h 15m\\n1 Stop',\n",
       " '2h 10m\\nNon Stop',\n",
       " '2h 10m\\nNon Stop',\n",
       " '2h 20m\\nNon Stop',\n",
       " '4h 55m\\n1 Stop',\n",
       " '5h 40m\\n1 Stop',\n",
       " '4h 25m\\n1 Stop',\n",
       " '4h 15m\\n1 Stop',\n",
       " '5h 50m\\n1 Stop',\n",
       " '2h 10m\\nNon Stop',\n",
       " '17h 40m\\n1 Stop',\n",
       " '13h 40m\\n1 Stop',\n",
       " '5h 50m\\n1 Stop',\n",
       " '5h 25m\\n1 Stop',\n",
       " '4h 00m\\n1 Stop',\n",
       " '2h 00m\\nNon Stop',\n",
       " '5h 25m\\n1 Stop',\n",
       " '4h 00m\\n1 Stop',\n",
       " '17h 45m\\n1 Stop',\n",
       " '23h 50m\\n1 Stop',\n",
       " '3h 55m\\n1 Stop',\n",
       " '7h 55m\\n1 Stop',\n",
       " '4h 25m\\n1 Stop',\n",
       " '11h 05m\\n1 Stop',\n",
       " '6h 35m\\n1 Stop',\n",
       " '7h 05m\\n1 Stop',\n",
       " '14h 30m\\n1 Stop',\n",
       " '22h 50m\\n1 Stop',\n",
       " '8h 15m\\n1 Stop',\n",
       " '5h 15m\\n1 Stop',\n",
       " '16h 55m\\n1 Stop',\n",
       " '17h 00m\\n1 Stop',\n",
       " '6h 35m\\n1 Stop',\n",
       " '4h 15m\\n1 Stop',\n",
       " '2h 15m\\nNon Stop',\n",
       " '14h 55m\\n1 Stop',\n",
       " '8h 20m\\n1 Stop',\n",
       " '7h 35m\\n1 Stop',\n",
       " '6h 45m\\n1 Stop',\n",
       " '5h 25m\\n1 Stop',\n",
       " '14h 55m\\n1 Stop',\n",
       " '8h 20m\\n1 Stop',\n",
       " '7h 35m\\n1 Stop',\n",
       " '4h 15m\\n1 Stop',\n",
       " '2h 05m\\nNon Stop',\n",
       " '5h 15m\\n1 Stop',\n",
       " '8h 45m\\n1 Stop',\n",
       " '11h 45m\\n1 Stop',\n",
       " '23h 35m\\n1 Stop',\n",
       " '25h 10m\\n1 Stop',\n",
       " '5h 15m\\n1 Stop',\n",
       " '11h 00m\\n1 Stop',\n",
       " '11h 25m\\n1 Stop',\n",
       " '26h 00m\\n1 Stop',\n",
       " '5h 30m\\n1 Stop',\n",
       " '16h 55m\\n1 Stop',\n",
       " '14h 35m\\n1 Stop',\n",
       " '23h 50m\\n1 Stop',\n",
       " '4h 50m\\n1 Stop',\n",
       " '6h 45m\\n1 Stop',\n",
       " '5h 55m\\n1 Stop',\n",
       " '5h 00m\\n1 Stop']"
      ]
     },
     "execution_count": 30,
     "metadata": {},
     "output_type": "execute_result"
    }
   ],
   "source": [
    "duration"
   ]
  },
  {
   "cell_type": "code",
   "execution_count": 31,
   "metadata": {},
   "outputs": [],
   "source": [
    "price_tags=driver.find_elements_by_xpath(\"/html/body/section[2]/div/div[1]/div/div[2]/div/div/p\")"
   ]
  },
  {
   "cell_type": "code",
   "execution_count": 32,
   "metadata": {},
   "outputs": [],
   "source": [
    "price=[]\n",
    "for i in price_tags[1::3]:\n",
    "    price.append(i.text)"
   ]
  },
  {
   "cell_type": "code",
   "execution_count": 33,
   "metadata": {},
   "outputs": [
    {
     "data": {
      "text/plain": [
       "['5953',\n",
       " '5953',\n",
       " '5953',\n",
       " '5953',\n",
       " '5953',\n",
       " '5953',\n",
       " '5953',\n",
       " '5953',\n",
       " '5953',\n",
       " '5953',\n",
       " '5953',\n",
       " '5953',\n",
       " '5954',\n",
       " '5954',\n",
       " '6058',\n",
       " '6058',\n",
       " '6111',\n",
       " '6111',\n",
       " '6111',\n",
       " '6111',\n",
       " '6111',\n",
       " '6111',\n",
       " '6111',\n",
       " '6111',\n",
       " '6163',\n",
       " '6163',\n",
       " '6163',\n",
       " '6321',\n",
       " '6321',\n",
       " '6321',\n",
       " '6373',\n",
       " '6373',\n",
       " '6531',\n",
       " '6531',\n",
       " '7108',\n",
       " '5952',\n",
       " '5952',\n",
       " '5952',\n",
       " '5952',\n",
       " '5952',\n",
       " '5952',\n",
       " '5952',\n",
       " '5952',\n",
       " '5952',\n",
       " '5952',\n",
       " '5953',\n",
       " '5953',\n",
       " '5953',\n",
       " '5953',\n",
       " '5953',\n",
       " '5953',\n",
       " '5953',\n",
       " '5953',\n",
       " '5953',\n",
       " '5953',\n",
       " '5953',\n",
       " '5953',\n",
       " '5953',\n",
       " '5953',\n",
       " '5953',\n",
       " '5953',\n",
       " '5953',\n",
       " '5953',\n",
       " '6058',\n",
       " '6373',\n",
       " '6688',\n",
       " '6688',\n",
       " '6688',\n",
       " '6688',\n",
       " '6688',\n",
       " '6930',\n",
       " '7003',\n",
       " '7466',\n",
       " '7466',\n",
       " '7665',\n",
       " '7896',\n",
       " '7906',\n",
       " '8053',\n",
       " '8053',\n",
       " '8641',\n",
       " '8998',\n",
       " '8998',\n",
       " '9041',\n",
       " '9208',\n",
       " '9418',\n",
       " '9588',\n",
       " '9791',\n",
       " '9838',\n",
       " '9838',\n",
       " '9838',\n",
       " '9943',\n",
       " '9943',\n",
       " '9996',\n",
       " '10153',\n",
       " '10289',\n",
       " '10347',\n",
       " '10468',\n",
       " '10468',\n",
       " '10468',\n",
       " '10468',\n",
       " '10573',\n",
       " '10678',\n",
       " '10994',\n",
       " '10994',\n",
       " '10994',\n",
       " '11082',\n",
       " '11308',\n",
       " '11603',\n",
       " '11898',\n",
       " '12253',\n",
       " '12253',\n",
       " '12253',\n",
       " '12443',\n",
       " '12988',\n",
       " '12988',\n",
       " '12988',\n",
       " '13093',\n",
       " '13093',\n",
       " '13198',\n",
       " '14313',\n",
       " '15929',\n",
       " '15929',\n",
       " '16123',\n",
       " '17241']"
      ]
     },
     "execution_count": 33,
     "metadata": {},
     "output_type": "execute_result"
    }
   ],
   "source": [
    "price"
   ]
  },
  {
   "cell_type": "code",
   "execution_count": 34,
   "metadata": {},
   "outputs": [],
   "source": [
    "from_tag=driver.find_element_by_xpath(\"/html/body/div[6]/ul/li[2]/span\")"
   ]
  },
  {
   "cell_type": "code",
   "execution_count": 35,
   "metadata": {},
   "outputs": [],
   "source": [
    "from_tag.click()"
   ]
  },
  {
   "cell_type": "code",
   "execution_count": 36,
   "metadata": {},
   "outputs": [],
   "source": [
    "to_tag=driver.find_element_by_xpath(\"/html/body/div[7]/ul/li[1]/span\")"
   ]
  },
  {
   "cell_type": "code",
   "execution_count": 37,
   "metadata": {},
   "outputs": [],
   "source": [
    "to_tag.click()"
   ]
  },
  {
   "cell_type": "code",
   "execution_count": 38,
   "metadata": {},
   "outputs": [],
   "source": [
    "submit_tag=driver.find_element_by_xpath(\"//*[@id='modifysearch']\")"
   ]
  },
  {
   "cell_type": "code",
   "execution_count": 39,
   "metadata": {},
   "outputs": [],
   "source": [
    "submit_tag.click()"
   ]
  },
  {
   "cell_type": "code",
   "execution_count": 40,
   "metadata": {},
   "outputs": [],
   "source": [
    "elements_tags=driver.find_elements_by_xpath(\"/html/body/section[2]/div/div[1]/div/div[2]/div/div/div/div/span\")"
   ]
  },
  {
   "cell_type": "code",
   "execution_count": 41,
   "metadata": {},
   "outputs": [
    {
     "data": {
      "text/plain": [
       "[<selenium.webdriver.remote.webelement.WebElement (session=\"ee7817bafc9aaf52939eb49191fbf52e\", element=\"54925e77-d701-4f32-b4dd-d0388c82e0ee\")>,\n",
       " <selenium.webdriver.remote.webelement.WebElement (session=\"ee7817bafc9aaf52939eb49191fbf52e\", element=\"474deda4-441b-4a1b-8476-04e09124f5aa\")>,\n",
       " <selenium.webdriver.remote.webelement.WebElement (session=\"ee7817bafc9aaf52939eb49191fbf52e\", element=\"51bd607c-72b1-4043-83f5-f1eb87e14d5c\")>,\n",
       " <selenium.webdriver.remote.webelement.WebElement (session=\"ee7817bafc9aaf52939eb49191fbf52e\", element=\"4b318e92-0027-4a44-ac87-429abb40fdeb\")>,\n",
       " <selenium.webdriver.remote.webelement.WebElement (session=\"ee7817bafc9aaf52939eb49191fbf52e\", element=\"a5d4c2d3-7917-46a6-b978-bfb67ac84c33\")>,\n",
       " <selenium.webdriver.remote.webelement.WebElement (session=\"ee7817bafc9aaf52939eb49191fbf52e\", element=\"a059d4c0-46d6-406f-8c74-c7d196021a2d\")>,\n",
       " <selenium.webdriver.remote.webelement.WebElement (session=\"ee7817bafc9aaf52939eb49191fbf52e\", element=\"a768d8bd-c2f0-420d-b88e-fbd4509edb9b\")>,\n",
       " <selenium.webdriver.remote.webelement.WebElement (session=\"ee7817bafc9aaf52939eb49191fbf52e\", element=\"ae5bc4c4-4149-4f2f-b179-626af6c8cd52\")>,\n",
       " <selenium.webdriver.remote.webelement.WebElement (session=\"ee7817bafc9aaf52939eb49191fbf52e\", element=\"00a6cef4-5ef7-44fc-93fb-54ab9f43352f\")>,\n",
       " <selenium.webdriver.remote.webelement.WebElement (session=\"ee7817bafc9aaf52939eb49191fbf52e\", element=\"d3e6e71e-73cb-4b0d-9490-4908377575ac\")>,\n",
       " <selenium.webdriver.remote.webelement.WebElement (session=\"ee7817bafc9aaf52939eb49191fbf52e\", element=\"bb1bbdd1-3839-427e-8806-d5c3d54937d3\")>,\n",
       " <selenium.webdriver.remote.webelement.WebElement (session=\"ee7817bafc9aaf52939eb49191fbf52e\", element=\"878b9de6-34cb-4036-88ea-b7c680f843b6\")>,\n",
       " <selenium.webdriver.remote.webelement.WebElement (session=\"ee7817bafc9aaf52939eb49191fbf52e\", element=\"9be3f601-b76c-4664-9ffa-123079374050\")>,\n",
       " <selenium.webdriver.remote.webelement.WebElement (session=\"ee7817bafc9aaf52939eb49191fbf52e\", element=\"89fd98bd-a919-4d30-93ee-f53af09c67dc\")>,\n",
       " <selenium.webdriver.remote.webelement.WebElement (session=\"ee7817bafc9aaf52939eb49191fbf52e\", element=\"86568635-6ee8-4455-a0a6-8e16f44e73cc\")>,\n",
       " <selenium.webdriver.remote.webelement.WebElement (session=\"ee7817bafc9aaf52939eb49191fbf52e\", element=\"c3e3f586-2262-485e-8952-b394a62b0004\")>,\n",
       " <selenium.webdriver.remote.webelement.WebElement (session=\"ee7817bafc9aaf52939eb49191fbf52e\", element=\"ac4afdf3-3944-4db9-a92d-70fee3a48818\")>,\n",
       " <selenium.webdriver.remote.webelement.WebElement (session=\"ee7817bafc9aaf52939eb49191fbf52e\", element=\"93615e8d-662c-43e3-899e-71591b51e93f\")>,\n",
       " <selenium.webdriver.remote.webelement.WebElement (session=\"ee7817bafc9aaf52939eb49191fbf52e\", element=\"8d54b7a3-9867-4808-bf93-e8e1691be24c\")>,\n",
       " <selenium.webdriver.remote.webelement.WebElement (session=\"ee7817bafc9aaf52939eb49191fbf52e\", element=\"b7d2d14f-9c80-45e2-8630-31a050e6676a\")>,\n",
       " <selenium.webdriver.remote.webelement.WebElement (session=\"ee7817bafc9aaf52939eb49191fbf52e\", element=\"81f8edcd-06cb-4ee5-aa88-3a2e00bb4db4\")>,\n",
       " <selenium.webdriver.remote.webelement.WebElement (session=\"ee7817bafc9aaf52939eb49191fbf52e\", element=\"978ab5c5-f96f-4937-9e44-e8d49c010869\")>,\n",
       " <selenium.webdriver.remote.webelement.WebElement (session=\"ee7817bafc9aaf52939eb49191fbf52e\", element=\"ba347220-b20b-48e2-970b-c4e9dad9ae17\")>,\n",
       " <selenium.webdriver.remote.webelement.WebElement (session=\"ee7817bafc9aaf52939eb49191fbf52e\", element=\"c8ea3e2c-09c8-4b4f-b14d-b1857bed5966\")>,\n",
       " <selenium.webdriver.remote.webelement.WebElement (session=\"ee7817bafc9aaf52939eb49191fbf52e\", element=\"9e7fac99-29fb-4bf5-9656-9a98ef31a377\")>,\n",
       " <selenium.webdriver.remote.webelement.WebElement (session=\"ee7817bafc9aaf52939eb49191fbf52e\", element=\"ff738ed3-7c38-41d1-a96f-d7b17ba1bae1\")>,\n",
       " <selenium.webdriver.remote.webelement.WebElement (session=\"ee7817bafc9aaf52939eb49191fbf52e\", element=\"d50126ce-3d9c-4fce-a6a1-ffdb63392ae9\")>,\n",
       " <selenium.webdriver.remote.webelement.WebElement (session=\"ee7817bafc9aaf52939eb49191fbf52e\", element=\"c4b44c5c-bbe3-4572-8229-75390e28459a\")>,\n",
       " <selenium.webdriver.remote.webelement.WebElement (session=\"ee7817bafc9aaf52939eb49191fbf52e\", element=\"20e060ee-9021-43aa-9d40-65e98fdf0f91\")>,\n",
       " <selenium.webdriver.remote.webelement.WebElement (session=\"ee7817bafc9aaf52939eb49191fbf52e\", element=\"6f84402b-15a9-4a4c-8d7a-8b68249ba981\")>,\n",
       " <selenium.webdriver.remote.webelement.WebElement (session=\"ee7817bafc9aaf52939eb49191fbf52e\", element=\"89859660-14e3-4989-bc2c-0c5d087af3e8\")>,\n",
       " <selenium.webdriver.remote.webelement.WebElement (session=\"ee7817bafc9aaf52939eb49191fbf52e\", element=\"e993d998-15d1-497a-a919-5587f29feb18\")>,\n",
       " <selenium.webdriver.remote.webelement.WebElement (session=\"ee7817bafc9aaf52939eb49191fbf52e\", element=\"a6867b82-f6ab-4201-9b95-04c4f96e8659\")>,\n",
       " <selenium.webdriver.remote.webelement.WebElement (session=\"ee7817bafc9aaf52939eb49191fbf52e\", element=\"60100d38-8713-43f9-a780-1c86edbe9aa5\")>,\n",
       " <selenium.webdriver.remote.webelement.WebElement (session=\"ee7817bafc9aaf52939eb49191fbf52e\", element=\"5c6d7fc1-06db-43be-aab5-bd190fce17b6\")>,\n",
       " <selenium.webdriver.remote.webelement.WebElement (session=\"ee7817bafc9aaf52939eb49191fbf52e\", element=\"70468015-0304-4738-ab89-7c9a61aad6b8\")>,\n",
       " <selenium.webdriver.remote.webelement.WebElement (session=\"ee7817bafc9aaf52939eb49191fbf52e\", element=\"fb0924fb-75ea-4618-9909-086ac2efe0b3\")>,\n",
       " <selenium.webdriver.remote.webelement.WebElement (session=\"ee7817bafc9aaf52939eb49191fbf52e\", element=\"9d764a01-104b-4d6d-913c-4a4902395328\")>,\n",
       " <selenium.webdriver.remote.webelement.WebElement (session=\"ee7817bafc9aaf52939eb49191fbf52e\", element=\"303c6e9a-a81a-4052-b45e-2a9e6aa72597\")>,\n",
       " <selenium.webdriver.remote.webelement.WebElement (session=\"ee7817bafc9aaf52939eb49191fbf52e\", element=\"8987c08f-82cd-45fd-9271-3acf83299402\")>,\n",
       " <selenium.webdriver.remote.webelement.WebElement (session=\"ee7817bafc9aaf52939eb49191fbf52e\", element=\"8e809c40-cf20-4eae-bdd8-a71cfd60c855\")>,\n",
       " <selenium.webdriver.remote.webelement.WebElement (session=\"ee7817bafc9aaf52939eb49191fbf52e\", element=\"32c771ec-d44d-40de-ba4e-5443eafa3379\")>,\n",
       " <selenium.webdriver.remote.webelement.WebElement (session=\"ee7817bafc9aaf52939eb49191fbf52e\", element=\"81b67cd9-2158-453c-b27f-1de3d0974671\")>,\n",
       " <selenium.webdriver.remote.webelement.WebElement (session=\"ee7817bafc9aaf52939eb49191fbf52e\", element=\"25253ca5-1fb0-42b5-a8e0-a480ae58397b\")>,\n",
       " <selenium.webdriver.remote.webelement.WebElement (session=\"ee7817bafc9aaf52939eb49191fbf52e\", element=\"3fcbf1f6-9d1d-47b2-8c71-d209144127ea\")>,\n",
       " <selenium.webdriver.remote.webelement.WebElement (session=\"ee7817bafc9aaf52939eb49191fbf52e\", element=\"d2b80c44-621b-47b6-b791-6727cc6d5519\")>,\n",
       " <selenium.webdriver.remote.webelement.WebElement (session=\"ee7817bafc9aaf52939eb49191fbf52e\", element=\"f59ba6cf-1ef9-45bc-9bbb-6feb0306254e\")>,\n",
       " <selenium.webdriver.remote.webelement.WebElement (session=\"ee7817bafc9aaf52939eb49191fbf52e\", element=\"20579852-740d-4b42-8803-448fdf529033\")>,\n",
       " <selenium.webdriver.remote.webelement.WebElement (session=\"ee7817bafc9aaf52939eb49191fbf52e\", element=\"b79868c4-065d-441c-9312-d97a3932a917\")>,\n",
       " <selenium.webdriver.remote.webelement.WebElement (session=\"ee7817bafc9aaf52939eb49191fbf52e\", element=\"af4ff8ef-35aa-4426-afdc-675aa4aa281a\")>,\n",
       " <selenium.webdriver.remote.webelement.WebElement (session=\"ee7817bafc9aaf52939eb49191fbf52e\", element=\"69ac43ed-b878-467e-aebd-f5f67986b027\")>,\n",
       " <selenium.webdriver.remote.webelement.WebElement (session=\"ee7817bafc9aaf52939eb49191fbf52e\", element=\"c7d13e17-1a7e-4b29-9979-22120bb42fec\")>,\n",
       " <selenium.webdriver.remote.webelement.WebElement (session=\"ee7817bafc9aaf52939eb49191fbf52e\", element=\"af1d326a-2830-4623-ac10-817864ec6828\")>,\n",
       " <selenium.webdriver.remote.webelement.WebElement (session=\"ee7817bafc9aaf52939eb49191fbf52e\", element=\"45e5b645-a8f5-492c-b146-7a586701a2ff\")>,\n",
       " <selenium.webdriver.remote.webelement.WebElement (session=\"ee7817bafc9aaf52939eb49191fbf52e\", element=\"cacd5ddd-79ec-4240-9168-b34bc27d23ec\")>,\n",
       " <selenium.webdriver.remote.webelement.WebElement (session=\"ee7817bafc9aaf52939eb49191fbf52e\", element=\"4a21f476-9ef4-45d4-bb5c-4fef57055e4f\")>,\n",
       " <selenium.webdriver.remote.webelement.WebElement (session=\"ee7817bafc9aaf52939eb49191fbf52e\", element=\"ae2d80f0-1d15-4b24-8b88-381b4d528bae\")>,\n",
       " <selenium.webdriver.remote.webelement.WebElement (session=\"ee7817bafc9aaf52939eb49191fbf52e\", element=\"1206d9de-1cd7-43a8-8285-ad0b93ae2c57\")>,\n",
       " <selenium.webdriver.remote.webelement.WebElement (session=\"ee7817bafc9aaf52939eb49191fbf52e\", element=\"b73b22b3-b092-43d8-b54c-647bdbd21685\")>,\n",
       " <selenium.webdriver.remote.webelement.WebElement (session=\"ee7817bafc9aaf52939eb49191fbf52e\", element=\"93d506d7-b191-4466-9612-09d1dc545b3f\")>,\n",
       " <selenium.webdriver.remote.webelement.WebElement (session=\"ee7817bafc9aaf52939eb49191fbf52e\", element=\"7173b5eb-cde2-4107-bca9-77f575dc08e5\")>,\n",
       " <selenium.webdriver.remote.webelement.WebElement (session=\"ee7817bafc9aaf52939eb49191fbf52e\", element=\"790c29b1-b533-4e0c-acfa-4059d9d64c17\")>,\n",
       " <selenium.webdriver.remote.webelement.WebElement (session=\"ee7817bafc9aaf52939eb49191fbf52e\", element=\"8d57e9b6-4f01-4e20-8333-ca79f4913106\")>,\n",
       " <selenium.webdriver.remote.webelement.WebElement (session=\"ee7817bafc9aaf52939eb49191fbf52e\", element=\"ab567970-e265-45a0-8480-358fbabb6cc4\")>,\n",
       " <selenium.webdriver.remote.webelement.WebElement (session=\"ee7817bafc9aaf52939eb49191fbf52e\", element=\"39161208-d914-40e4-b99d-6a8ffb37e6d2\")>,\n",
       " <selenium.webdriver.remote.webelement.WebElement (session=\"ee7817bafc9aaf52939eb49191fbf52e\", element=\"64ad6c22-528b-49d1-9dd4-89d588b1064f\")>,\n",
       " <selenium.webdriver.remote.webelement.WebElement (session=\"ee7817bafc9aaf52939eb49191fbf52e\", element=\"c2f55715-8adc-4e0f-81bb-6eb30715fe14\")>,\n",
       " <selenium.webdriver.remote.webelement.WebElement (session=\"ee7817bafc9aaf52939eb49191fbf52e\", element=\"098c28ca-e601-4dcc-b28d-c8b71cb14445\")>,\n",
       " <selenium.webdriver.remote.webelement.WebElement (session=\"ee7817bafc9aaf52939eb49191fbf52e\", element=\"dd79e470-c8de-45ee-9289-08a2ee50f420\")>,\n",
       " <selenium.webdriver.remote.webelement.WebElement (session=\"ee7817bafc9aaf52939eb49191fbf52e\", element=\"d2ef3037-2365-47c6-a35d-cb2c8d6c9603\")>,\n",
       " <selenium.webdriver.remote.webelement.WebElement (session=\"ee7817bafc9aaf52939eb49191fbf52e\", element=\"e2eb9a2a-1828-4e7c-80b1-1bfd454d219d\")>,\n",
       " <selenium.webdriver.remote.webelement.WebElement (session=\"ee7817bafc9aaf52939eb49191fbf52e\", element=\"34e216a4-31b8-441a-8a75-aa426b170bc5\")>,\n",
       " <selenium.webdriver.remote.webelement.WebElement (session=\"ee7817bafc9aaf52939eb49191fbf52e\", element=\"beef4bd4-2beb-4239-bc20-6e3c2de905be\")>,\n",
       " <selenium.webdriver.remote.webelement.WebElement (session=\"ee7817bafc9aaf52939eb49191fbf52e\", element=\"70c63580-5a8b-41d8-a1f6-1137dce60ec8\")>,\n",
       " <selenium.webdriver.remote.webelement.WebElement (session=\"ee7817bafc9aaf52939eb49191fbf52e\", element=\"3b04fc8e-2e0b-4563-98a6-d4d4505517ec\")>,\n",
       " <selenium.webdriver.remote.webelement.WebElement (session=\"ee7817bafc9aaf52939eb49191fbf52e\", element=\"1b1764d3-6ea5-4b15-8923-d93932c23bc3\")>,\n",
       " <selenium.webdriver.remote.webelement.WebElement (session=\"ee7817bafc9aaf52939eb49191fbf52e\", element=\"b089de96-6f12-4acc-90d3-cc807cf5b0b1\")>,\n",
       " <selenium.webdriver.remote.webelement.WebElement (session=\"ee7817bafc9aaf52939eb49191fbf52e\", element=\"950c5f3e-ef4d-47b9-8ed9-46ca3dcf9c5f\")>,\n",
       " <selenium.webdriver.remote.webelement.WebElement (session=\"ee7817bafc9aaf52939eb49191fbf52e\", element=\"9b022f5a-8762-46bc-80ae-ad91e23f1f8f\")>,\n",
       " <selenium.webdriver.remote.webelement.WebElement (session=\"ee7817bafc9aaf52939eb49191fbf52e\", element=\"701f0f9a-8563-4ea1-9c10-8fb07ee21045\")>,\n",
       " <selenium.webdriver.remote.webelement.WebElement (session=\"ee7817bafc9aaf52939eb49191fbf52e\", element=\"952cd27c-ac02-4093-8f7e-fc9471507ed2\")>,\n",
       " <selenium.webdriver.remote.webelement.WebElement (session=\"ee7817bafc9aaf52939eb49191fbf52e\", element=\"52b2b64e-cd97-4cb4-b997-957195042b77\")>,\n",
       " <selenium.webdriver.remote.webelement.WebElement (session=\"ee7817bafc9aaf52939eb49191fbf52e\", element=\"38ea331a-ac67-42a5-8a76-1c2e3103453f\")>,\n",
       " <selenium.webdriver.remote.webelement.WebElement (session=\"ee7817bafc9aaf52939eb49191fbf52e\", element=\"04bf73ce-12fd-459d-8b21-07c690b02c44\")>,\n",
       " <selenium.webdriver.remote.webelement.WebElement (session=\"ee7817bafc9aaf52939eb49191fbf52e\", element=\"ea5ddaac-26ff-4848-a6a7-8a253ebe0c51\")>,\n",
       " <selenium.webdriver.remote.webelement.WebElement (session=\"ee7817bafc9aaf52939eb49191fbf52e\", element=\"9330d14f-35a6-4e21-a22b-d334ba2dd139\")>,\n",
       " <selenium.webdriver.remote.webelement.WebElement (session=\"ee7817bafc9aaf52939eb49191fbf52e\", element=\"48b1127f-1d1c-4599-ae54-cb8cd2a34107\")>,\n",
       " <selenium.webdriver.remote.webelement.WebElement (session=\"ee7817bafc9aaf52939eb49191fbf52e\", element=\"08feace0-27ef-4985-bc50-f6ed9b189b48\")>,\n",
       " <selenium.webdriver.remote.webelement.WebElement (session=\"ee7817bafc9aaf52939eb49191fbf52e\", element=\"c7147776-4406-4401-a53a-9e3a6f4b472c\")>,\n",
       " <selenium.webdriver.remote.webelement.WebElement (session=\"ee7817bafc9aaf52939eb49191fbf52e\", element=\"b970eb9c-7c2e-4f94-8547-7fa1c9fa9900\")>,\n",
       " <selenium.webdriver.remote.webelement.WebElement (session=\"ee7817bafc9aaf52939eb49191fbf52e\", element=\"ceee5815-e403-4f67-9537-ae191b4ddf0d\")>,\n",
       " <selenium.webdriver.remote.webelement.WebElement (session=\"ee7817bafc9aaf52939eb49191fbf52e\", element=\"95e8e9dc-6963-48a7-be4a-d64e26742955\")>,\n",
       " <selenium.webdriver.remote.webelement.WebElement (session=\"ee7817bafc9aaf52939eb49191fbf52e\", element=\"642b3380-d229-4f5a-9c38-176c2e06d545\")>,\n",
       " <selenium.webdriver.remote.webelement.WebElement (session=\"ee7817bafc9aaf52939eb49191fbf52e\", element=\"a234e869-79b0-4d37-87a1-810f7ae0fcf6\")>,\n",
       " <selenium.webdriver.remote.webelement.WebElement (session=\"ee7817bafc9aaf52939eb49191fbf52e\", element=\"d35ee0fb-e76c-496d-a965-44d6185bf66c\")>,\n",
       " <selenium.webdriver.remote.webelement.WebElement (session=\"ee7817bafc9aaf52939eb49191fbf52e\", element=\"85e42eaf-b035-403b-97ea-17da238e1595\")>,\n",
       " <selenium.webdriver.remote.webelement.WebElement (session=\"ee7817bafc9aaf52939eb49191fbf52e\", element=\"c7d0915b-1cdd-4220-8338-107e9bb7fe71\")>,\n",
       " <selenium.webdriver.remote.webelement.WebElement (session=\"ee7817bafc9aaf52939eb49191fbf52e\", element=\"be85db94-abf3-4783-ac07-ac72bd682ef1\")>,\n",
       " <selenium.webdriver.remote.webelement.WebElement (session=\"ee7817bafc9aaf52939eb49191fbf52e\", element=\"288461dc-d03f-41b5-9c25-feba4fc29c81\")>,\n",
       " <selenium.webdriver.remote.webelement.WebElement (session=\"ee7817bafc9aaf52939eb49191fbf52e\", element=\"c28f0b7b-faa4-4078-9fb6-3b554396778f\")>,\n",
       " <selenium.webdriver.remote.webelement.WebElement (session=\"ee7817bafc9aaf52939eb49191fbf52e\", element=\"fcb8dc0a-ae18-48e1-b120-1a36cc90a4b3\")>,\n",
       " <selenium.webdriver.remote.webelement.WebElement (session=\"ee7817bafc9aaf52939eb49191fbf52e\", element=\"aed27190-67ef-4ea3-80fb-df1c90e58a13\")>,\n",
       " <selenium.webdriver.remote.webelement.WebElement (session=\"ee7817bafc9aaf52939eb49191fbf52e\", element=\"cf08a846-1d4b-4dbc-8c1d-f6ddd405f80f\")>,\n",
       " <selenium.webdriver.remote.webelement.WebElement (session=\"ee7817bafc9aaf52939eb49191fbf52e\", element=\"7c50ac1f-c6ca-4774-9de3-6d667912c79d\")>,\n",
       " <selenium.webdriver.remote.webelement.WebElement (session=\"ee7817bafc9aaf52939eb49191fbf52e\", element=\"23dd47e7-2fa6-4dc6-ad9b-5106ca1fbbf1\")>,\n",
       " <selenium.webdriver.remote.webelement.WebElement (session=\"ee7817bafc9aaf52939eb49191fbf52e\", element=\"f40fb20a-a3b8-4268-8e2d-564ad42e1875\")>,\n",
       " <selenium.webdriver.remote.webelement.WebElement (session=\"ee7817bafc9aaf52939eb49191fbf52e\", element=\"d3d18f48-bf14-4e1a-bcb8-7cad841b2e6e\")>,\n",
       " <selenium.webdriver.remote.webelement.WebElement (session=\"ee7817bafc9aaf52939eb49191fbf52e\", element=\"aeef827b-623c-48de-a350-94b4b637eaeb\")>,\n",
       " <selenium.webdriver.remote.webelement.WebElement (session=\"ee7817bafc9aaf52939eb49191fbf52e\", element=\"3e96ede3-c22d-466a-8597-1ce503a95eff\")>,\n",
       " <selenium.webdriver.remote.webelement.WebElement (session=\"ee7817bafc9aaf52939eb49191fbf52e\", element=\"01d215d2-4cd3-40b4-80aa-86c4293e1e27\")>,\n",
       " <selenium.webdriver.remote.webelement.WebElement (session=\"ee7817bafc9aaf52939eb49191fbf52e\", element=\"db0abbe5-ac5b-4a9c-bc0e-c309f38854f6\")>,\n",
       " <selenium.webdriver.remote.webelement.WebElement (session=\"ee7817bafc9aaf52939eb49191fbf52e\", element=\"4e1db61c-079f-4b43-bc27-fd03023f1b64\")>,\n",
       " <selenium.webdriver.remote.webelement.WebElement (session=\"ee7817bafc9aaf52939eb49191fbf52e\", element=\"97e3322a-45e2-45ff-99fe-0042a2c9dac9\")>,\n",
       " <selenium.webdriver.remote.webelement.WebElement (session=\"ee7817bafc9aaf52939eb49191fbf52e\", element=\"a40b7d68-2da4-4c8a-8cdf-1da46d73d6a0\")>,\n",
       " <selenium.webdriver.remote.webelement.WebElement (session=\"ee7817bafc9aaf52939eb49191fbf52e\", element=\"71c64676-bf89-4430-88fa-a85ebb235482\")>,\n",
       " <selenium.webdriver.remote.webelement.WebElement (session=\"ee7817bafc9aaf52939eb49191fbf52e\", element=\"89b92469-ff97-493d-a74f-12287a28e37c\")>,\n",
       " <selenium.webdriver.remote.webelement.WebElement (session=\"ee7817bafc9aaf52939eb49191fbf52e\", element=\"83c3fe5f-621f-4fd8-8d17-825a698fc2ca\")>,\n",
       " <selenium.webdriver.remote.webelement.WebElement (session=\"ee7817bafc9aaf52939eb49191fbf52e\", element=\"abbbbe0f-c012-4593-86ba-b381c3bf5f14\")>,\n",
       " <selenium.webdriver.remote.webelement.WebElement (session=\"ee7817bafc9aaf52939eb49191fbf52e\", element=\"1dc10ca0-9fb9-4485-89ed-0b80173c26fa\")>,\n",
       " <selenium.webdriver.remote.webelement.WebElement (session=\"ee7817bafc9aaf52939eb49191fbf52e\", element=\"f1985e0e-ea38-480b-932a-59b3f42bdf60\")>,\n",
       " <selenium.webdriver.remote.webelement.WebElement (session=\"ee7817bafc9aaf52939eb49191fbf52e\", element=\"3dcc98ea-4e9f-470a-a35a-8c7b2e0f72c2\")>,\n",
       " <selenium.webdriver.remote.webelement.WebElement (session=\"ee7817bafc9aaf52939eb49191fbf52e\", element=\"009f7fbf-5dde-42e0-add5-18f8e4d2ec31\")>,\n",
       " <selenium.webdriver.remote.webelement.WebElement (session=\"ee7817bafc9aaf52939eb49191fbf52e\", element=\"41d70a80-b812-4a24-b8e8-e1d8df361bbd\")>,\n",
       " <selenium.webdriver.remote.webelement.WebElement (session=\"ee7817bafc9aaf52939eb49191fbf52e\", element=\"08ceedc2-24b9-4018-8702-a81ae3a059f2\")>,\n",
       " <selenium.webdriver.remote.webelement.WebElement (session=\"ee7817bafc9aaf52939eb49191fbf52e\", element=\"26c93c8d-fa06-4042-bdfc-b4796e63ab7b\")>,\n",
       " <selenium.webdriver.remote.webelement.WebElement (session=\"ee7817bafc9aaf52939eb49191fbf52e\", element=\"dfad07d1-64ad-41a4-badd-2c37d519fcdd\")>,\n",
       " <selenium.webdriver.remote.webelement.WebElement (session=\"ee7817bafc9aaf52939eb49191fbf52e\", element=\"f1cfb4d4-4090-4068-9b47-659188c5c6ab\")>,\n",
       " <selenium.webdriver.remote.webelement.WebElement (session=\"ee7817bafc9aaf52939eb49191fbf52e\", element=\"32ece4f8-c936-4c6c-8422-f27444c2fb09\")>,\n",
       " <selenium.webdriver.remote.webelement.WebElement (session=\"ee7817bafc9aaf52939eb49191fbf52e\", element=\"31880f35-5ad5-4c65-8f45-287c1eef2d49\")>,\n",
       " <selenium.webdriver.remote.webelement.WebElement (session=\"ee7817bafc9aaf52939eb49191fbf52e\", element=\"1225448d-8c9a-4289-8604-bfa0e7c654af\")>,\n",
       " <selenium.webdriver.remote.webelement.WebElement (session=\"ee7817bafc9aaf52939eb49191fbf52e\", element=\"5acea4d1-145e-4543-bc9e-ecc12b77ee1b\")>,\n",
       " <selenium.webdriver.remote.webelement.WebElement (session=\"ee7817bafc9aaf52939eb49191fbf52e\", element=\"a183f49c-a54f-4ad9-83e1-4d12ce2205b3\")>,\n",
       " <selenium.webdriver.remote.webelement.WebElement (session=\"ee7817bafc9aaf52939eb49191fbf52e\", element=\"7a339758-6ed1-4403-93eb-a9828f66517a\")>,\n",
       " <selenium.webdriver.remote.webelement.WebElement (session=\"ee7817bafc9aaf52939eb49191fbf52e\", element=\"f0488231-38d7-4ea8-8ada-a8887230109c\")>,\n",
       " <selenium.webdriver.remote.webelement.WebElement (session=\"ee7817bafc9aaf52939eb49191fbf52e\", element=\"eab0f83e-a521-4429-a5bd-4d5b4382e6c4\")>,\n",
       " <selenium.webdriver.remote.webelement.WebElement (session=\"ee7817bafc9aaf52939eb49191fbf52e\", element=\"fc5faa4e-d143-471b-a926-f6876902cf13\")>,\n",
       " <selenium.webdriver.remote.webelement.WebElement (session=\"ee7817bafc9aaf52939eb49191fbf52e\", element=\"8b2b9b79-2500-4113-a476-3b788e3bb631\")>,\n",
       " <selenium.webdriver.remote.webelement.WebElement (session=\"ee7817bafc9aaf52939eb49191fbf52e\", element=\"b9f3dd50-ab37-489b-81cf-2a9c434db9f3\")>,\n",
       " <selenium.webdriver.remote.webelement.WebElement (session=\"ee7817bafc9aaf52939eb49191fbf52e\", element=\"98f60d69-6bc4-4f79-9ee5-883c11ac78b3\")>,\n",
       " <selenium.webdriver.remote.webelement.WebElement (session=\"ee7817bafc9aaf52939eb49191fbf52e\", element=\"e1f0cfc8-271f-452b-982e-d7712bf7aabd\")>,\n",
       " <selenium.webdriver.remote.webelement.WebElement (session=\"ee7817bafc9aaf52939eb49191fbf52e\", element=\"fbc67de2-9498-4172-9da9-eb890cbfd433\")>,\n",
       " <selenium.webdriver.remote.webelement.WebElement (session=\"ee7817bafc9aaf52939eb49191fbf52e\", element=\"3edbf355-cf5b-47c4-a28a-0d5bc4a0fa3b\")>,\n",
       " <selenium.webdriver.remote.webelement.WebElement (session=\"ee7817bafc9aaf52939eb49191fbf52e\", element=\"ba7cb4eb-5b9b-4a29-a17a-db07ab473a8e\")>,\n",
       " <selenium.webdriver.remote.webelement.WebElement (session=\"ee7817bafc9aaf52939eb49191fbf52e\", element=\"97c59857-5b3b-4e71-a69a-e8d5f943e247\")>,\n",
       " <selenium.webdriver.remote.webelement.WebElement (session=\"ee7817bafc9aaf52939eb49191fbf52e\", element=\"b483b8c0-a850-48c4-aef3-947d6ec09bf8\")>,\n",
       " <selenium.webdriver.remote.webelement.WebElement (session=\"ee7817bafc9aaf52939eb49191fbf52e\", element=\"e4f88b3d-8f04-4e20-ba53-975540162571\")>,\n",
       " <selenium.webdriver.remote.webelement.WebElement (session=\"ee7817bafc9aaf52939eb49191fbf52e\", element=\"a4e74efa-6c4a-4026-9a59-92de1ccb4522\")>,\n",
       " <selenium.webdriver.remote.webelement.WebElement (session=\"ee7817bafc9aaf52939eb49191fbf52e\", element=\"37ce221e-03a7-4429-8206-0d3e9a887e05\")>,\n",
       " <selenium.webdriver.remote.webelement.WebElement (session=\"ee7817bafc9aaf52939eb49191fbf52e\", element=\"4632f2d8-b364-448a-93ab-f307df6579b5\")>,\n",
       " <selenium.webdriver.remote.webelement.WebElement (session=\"ee7817bafc9aaf52939eb49191fbf52e\", element=\"8ac09e93-c637-4d20-a598-e44cd747d171\")>,\n",
       " <selenium.webdriver.remote.webelement.WebElement (session=\"ee7817bafc9aaf52939eb49191fbf52e\", element=\"93d66958-55e5-4e05-bd90-09e294f7b058\")>,\n",
       " <selenium.webdriver.remote.webelement.WebElement (session=\"ee7817bafc9aaf52939eb49191fbf52e\", element=\"11544a6b-3021-47db-9ac5-103eccb899a2\")>,\n",
       " <selenium.webdriver.remote.webelement.WebElement (session=\"ee7817bafc9aaf52939eb49191fbf52e\", element=\"af10f989-8c84-4f30-9a7e-ca07748ee78a\")>,\n",
       " <selenium.webdriver.remote.webelement.WebElement (session=\"ee7817bafc9aaf52939eb49191fbf52e\", element=\"0bde0d77-fd67-42e9-969d-9061a46a1175\")>,\n",
       " <selenium.webdriver.remote.webelement.WebElement (session=\"ee7817bafc9aaf52939eb49191fbf52e\", element=\"caeb6d27-caae-49c4-8a41-c31b93ffb0e1\")>,\n",
       " <selenium.webdriver.remote.webelement.WebElement (session=\"ee7817bafc9aaf52939eb49191fbf52e\", element=\"b3da2ea9-eef2-4e61-8e3a-6a4ff499af4b\")>,\n",
       " <selenium.webdriver.remote.webelement.WebElement (session=\"ee7817bafc9aaf52939eb49191fbf52e\", element=\"d8b959bd-8b9b-428e-9e8e-9a25373a3a06\")>,\n",
       " <selenium.webdriver.remote.webelement.WebElement (session=\"ee7817bafc9aaf52939eb49191fbf52e\", element=\"45c61f79-3d68-4d7c-8444-b5db9aecef24\")>,\n",
       " <selenium.webdriver.remote.webelement.WebElement (session=\"ee7817bafc9aaf52939eb49191fbf52e\", element=\"30b0159b-e59b-4a3f-9062-29005eaec5df\")>,\n",
       " <selenium.webdriver.remote.webelement.WebElement (session=\"ee7817bafc9aaf52939eb49191fbf52e\", element=\"5c306545-d1b3-4bd6-bff4-e308ba7646fa\")>,\n",
       " <selenium.webdriver.remote.webelement.WebElement (session=\"ee7817bafc9aaf52939eb49191fbf52e\", element=\"687d81f1-31f8-4416-bc26-756b0b7617ec\")>,\n",
       " <selenium.webdriver.remote.webelement.WebElement (session=\"ee7817bafc9aaf52939eb49191fbf52e\", element=\"2f85815f-860c-4a97-b916-a81a3223ea50\")>,\n",
       " <selenium.webdriver.remote.webelement.WebElement (session=\"ee7817bafc9aaf52939eb49191fbf52e\", element=\"20ac8f36-9255-4ed9-ae48-10ef4bf19cc2\")>,\n",
       " <selenium.webdriver.remote.webelement.WebElement (session=\"ee7817bafc9aaf52939eb49191fbf52e\", element=\"1bbe97f0-7d69-435b-b2ad-64fa8c212c85\")>,\n",
       " <selenium.webdriver.remote.webelement.WebElement (session=\"ee7817bafc9aaf52939eb49191fbf52e\", element=\"d525c1b2-e555-45e7-aa4d-0a72f5a3a4ab\")>,\n",
       " <selenium.webdriver.remote.webelement.WebElement (session=\"ee7817bafc9aaf52939eb49191fbf52e\", element=\"106f6a12-2458-4c2f-8175-6be2c7cc6409\")>,\n",
       " <selenium.webdriver.remote.webelement.WebElement (session=\"ee7817bafc9aaf52939eb49191fbf52e\", element=\"132d65a2-71ca-4de8-a794-f24a52b346d9\")>,\n",
       " <selenium.webdriver.remote.webelement.WebElement (session=\"ee7817bafc9aaf52939eb49191fbf52e\", element=\"f8305189-7696-4b57-9056-0417b324d784\")>,\n",
       " <selenium.webdriver.remote.webelement.WebElement (session=\"ee7817bafc9aaf52939eb49191fbf52e\", element=\"80178fb0-2487-478d-9350-3b9a8c913ec9\")>,\n",
       " <selenium.webdriver.remote.webelement.WebElement (session=\"ee7817bafc9aaf52939eb49191fbf52e\", element=\"057d1b6c-5478-4250-b8a5-29b58d7bf4c7\")>,\n",
       " <selenium.webdriver.remote.webelement.WebElement (session=\"ee7817bafc9aaf52939eb49191fbf52e\", element=\"1de5bfef-3a0d-467e-a08b-6ed6cad79b56\")>,\n",
       " <selenium.webdriver.remote.webelement.WebElement (session=\"ee7817bafc9aaf52939eb49191fbf52e\", element=\"3888ba10-7994-49e1-9674-c0369273c4f2\")>,\n",
       " <selenium.webdriver.remote.webelement.WebElement (session=\"ee7817bafc9aaf52939eb49191fbf52e\", element=\"201c732e-7505-4cc7-ac7d-66a23b954ad8\")>,\n",
       " <selenium.webdriver.remote.webelement.WebElement (session=\"ee7817bafc9aaf52939eb49191fbf52e\", element=\"21c02c4a-aee7-41bc-a3b6-3a3a23763525\")>,\n",
       " <selenium.webdriver.remote.webelement.WebElement (session=\"ee7817bafc9aaf52939eb49191fbf52e\", element=\"abbafd3c-7b1c-4ec0-aa0e-460e40d96923\")>,\n",
       " <selenium.webdriver.remote.webelement.WebElement (session=\"ee7817bafc9aaf52939eb49191fbf52e\", element=\"656da03b-4708-4360-b220-bc0d56483ead\")>,\n",
       " <selenium.webdriver.remote.webelement.WebElement (session=\"ee7817bafc9aaf52939eb49191fbf52e\", element=\"14292a6c-036d-4b65-8b8a-35c5b2e1cd79\")>,\n",
       " <selenium.webdriver.remote.webelement.WebElement (session=\"ee7817bafc9aaf52939eb49191fbf52e\", element=\"4bd757d7-551a-470a-bc38-ebf0a64af7bd\")>,\n",
       " <selenium.webdriver.remote.webelement.WebElement (session=\"ee7817bafc9aaf52939eb49191fbf52e\", element=\"4f5d69f0-5c81-4a5a-a5b5-05ab75540cce\")>,\n",
       " <selenium.webdriver.remote.webelement.WebElement (session=\"ee7817bafc9aaf52939eb49191fbf52e\", element=\"f14b9751-81a3-4e5b-bd76-05ff4937955b\")>,\n",
       " <selenium.webdriver.remote.webelement.WebElement (session=\"ee7817bafc9aaf52939eb49191fbf52e\", element=\"0b534af4-c8b9-4f88-8cc1-9bc4c7ee6e80\")>,\n",
       " <selenium.webdriver.remote.webelement.WebElement (session=\"ee7817bafc9aaf52939eb49191fbf52e\", element=\"83f04594-5af4-481d-adbd-0c470b79efe9\")>,\n",
       " <selenium.webdriver.remote.webelement.WebElement (session=\"ee7817bafc9aaf52939eb49191fbf52e\", element=\"2883b1f1-034f-468e-89f2-cba386aea074\")>,\n",
       " <selenium.webdriver.remote.webelement.WebElement (session=\"ee7817bafc9aaf52939eb49191fbf52e\", element=\"e20eb06e-f3e2-46e9-aaf6-975b3d006e4b\")>,\n",
       " <selenium.webdriver.remote.webelement.WebElement (session=\"ee7817bafc9aaf52939eb49191fbf52e\", element=\"f9168d50-fb0d-44ac-8eca-a75bd1ee6d05\")>,\n",
       " <selenium.webdriver.remote.webelement.WebElement (session=\"ee7817bafc9aaf52939eb49191fbf52e\", element=\"62fbff14-0462-4b02-bf92-382061934af0\")>,\n",
       " <selenium.webdriver.remote.webelement.WebElement (session=\"ee7817bafc9aaf52939eb49191fbf52e\", element=\"c49ee07d-75d5-4fc6-a26d-ce586c3554b6\")>,\n",
       " <selenium.webdriver.remote.webelement.WebElement (session=\"ee7817bafc9aaf52939eb49191fbf52e\", element=\"774d14a2-1666-4c3a-9c3a-dabd4bcbace1\")>,\n",
       " <selenium.webdriver.remote.webelement.WebElement (session=\"ee7817bafc9aaf52939eb49191fbf52e\", element=\"4bfb9d04-30b7-439c-a536-39b8142e1d75\")>,\n",
       " <selenium.webdriver.remote.webelement.WebElement (session=\"ee7817bafc9aaf52939eb49191fbf52e\", element=\"1c99f56b-94fc-4169-96ff-071007d67ebf\")>,\n",
       " <selenium.webdriver.remote.webelement.WebElement (session=\"ee7817bafc9aaf52939eb49191fbf52e\", element=\"a0cbc88e-b2d5-4eaf-82d6-fa07e8ce63da\")>,\n",
       " <selenium.webdriver.remote.webelement.WebElement (session=\"ee7817bafc9aaf52939eb49191fbf52e\", element=\"409e94cb-a2b8-4741-8e9c-a3b5e6e43e87\")>,\n",
       " <selenium.webdriver.remote.webelement.WebElement (session=\"ee7817bafc9aaf52939eb49191fbf52e\", element=\"a1eee567-6a97-4e04-9f35-ee4c14e9c903\")>,\n",
       " <selenium.webdriver.remote.webelement.WebElement (session=\"ee7817bafc9aaf52939eb49191fbf52e\", element=\"763a81ba-709d-4987-8153-4cb89ec58c5d\")>,\n",
       " <selenium.webdriver.remote.webelement.WebElement (session=\"ee7817bafc9aaf52939eb49191fbf52e\", element=\"15fee26f-e0ff-44ca-a824-a1e60092ade8\")>,\n",
       " <selenium.webdriver.remote.webelement.WebElement (session=\"ee7817bafc9aaf52939eb49191fbf52e\", element=\"9477f6ee-bab0-4257-9e79-6ba3740ef436\")>,\n",
       " <selenium.webdriver.remote.webelement.WebElement (session=\"ee7817bafc9aaf52939eb49191fbf52e\", element=\"01df43fa-e58d-4fc1-967e-463ca0c62db4\")>,\n",
       " <selenium.webdriver.remote.webelement.WebElement (session=\"ee7817bafc9aaf52939eb49191fbf52e\", element=\"b906481a-57f1-4000-9285-d2b54e979c1d\")>,\n",
       " <selenium.webdriver.remote.webelement.WebElement (session=\"ee7817bafc9aaf52939eb49191fbf52e\", element=\"8bf133c0-a99a-4527-aeb3-3414b2a03973\")>,\n",
       " <selenium.webdriver.remote.webelement.WebElement (session=\"ee7817bafc9aaf52939eb49191fbf52e\", element=\"9854b5df-55da-47c2-9f1d-87c0054779e4\")>,\n",
       " <selenium.webdriver.remote.webelement.WebElement (session=\"ee7817bafc9aaf52939eb49191fbf52e\", element=\"6df2aa62-b77b-4a22-af95-28990de8165f\")>,\n",
       " <selenium.webdriver.remote.webelement.WebElement (session=\"ee7817bafc9aaf52939eb49191fbf52e\", element=\"30cbacec-6eb8-410c-af44-4d9e9e58be81\")>,\n",
       " <selenium.webdriver.remote.webelement.WebElement (session=\"ee7817bafc9aaf52939eb49191fbf52e\", element=\"9513bb4e-c0e0-416b-827d-4677a0937af4\")>,\n",
       " <selenium.webdriver.remote.webelement.WebElement (session=\"ee7817bafc9aaf52939eb49191fbf52e\", element=\"afecffa2-1fd0-415b-95a5-6af44ab41337\")>,\n",
       " <selenium.webdriver.remote.webelement.WebElement (session=\"ee7817bafc9aaf52939eb49191fbf52e\", element=\"3d647a65-1817-4942-a58e-ce4d7162915c\")>,\n",
       " <selenium.webdriver.remote.webelement.WebElement (session=\"ee7817bafc9aaf52939eb49191fbf52e\", element=\"4ce8418c-9a2d-402d-ba89-197944412a47\")>,\n",
       " <selenium.webdriver.remote.webelement.WebElement (session=\"ee7817bafc9aaf52939eb49191fbf52e\", element=\"915c7dfc-1526-4e3e-a0f3-f1246a0b907f\")>,\n",
       " <selenium.webdriver.remote.webelement.WebElement (session=\"ee7817bafc9aaf52939eb49191fbf52e\", element=\"21d8c24d-d456-4f3c-9585-876734b7f337\")>,\n",
       " <selenium.webdriver.remote.webelement.WebElement (session=\"ee7817bafc9aaf52939eb49191fbf52e\", element=\"c863e08f-ff01-4610-aad1-e7ff42444e54\")>,\n",
       " <selenium.webdriver.remote.webelement.WebElement (session=\"ee7817bafc9aaf52939eb49191fbf52e\", element=\"a15dd7a0-8978-4a9b-a5ea-a3e468e727a3\")>,\n",
       " <selenium.webdriver.remote.webelement.WebElement (session=\"ee7817bafc9aaf52939eb49191fbf52e\", element=\"bf8936b9-7f84-4cdf-869b-edc8415046af\")>,\n",
       " <selenium.webdriver.remote.webelement.WebElement (session=\"ee7817bafc9aaf52939eb49191fbf52e\", element=\"c6501758-25b7-4999-9601-2c4531caa2f5\")>,\n",
       " <selenium.webdriver.remote.webelement.WebElement (session=\"ee7817bafc9aaf52939eb49191fbf52e\", element=\"af7b721f-cf13-4cf7-bc71-72bf1f3aaaf7\")>,\n",
       " <selenium.webdriver.remote.webelement.WebElement (session=\"ee7817bafc9aaf52939eb49191fbf52e\", element=\"11577d90-f368-446c-9f74-a9a2f1ebd3cf\")>,\n",
       " <selenium.webdriver.remote.webelement.WebElement (session=\"ee7817bafc9aaf52939eb49191fbf52e\", element=\"d9b3ae61-aa6b-4d1b-90bd-5f43eea34deb\")>,\n",
       " <selenium.webdriver.remote.webelement.WebElement (session=\"ee7817bafc9aaf52939eb49191fbf52e\", element=\"9f269e27-9d4c-4d32-8843-811067381521\")>,\n",
       " <selenium.webdriver.remote.webelement.WebElement (session=\"ee7817bafc9aaf52939eb49191fbf52e\", element=\"2043dac1-9772-4543-97e1-6d2ad9d13331\")>,\n",
       " <selenium.webdriver.remote.webelement.WebElement (session=\"ee7817bafc9aaf52939eb49191fbf52e\", element=\"e84d66bc-8b22-45de-886f-2910b8780383\")>,\n",
       " <selenium.webdriver.remote.webelement.WebElement (session=\"ee7817bafc9aaf52939eb49191fbf52e\", element=\"99e4b7b6-8d6a-4415-a83b-f965a66318ec\")>,\n",
       " <selenium.webdriver.remote.webelement.WebElement (session=\"ee7817bafc9aaf52939eb49191fbf52e\", element=\"2bcc8fd9-faa2-4ccc-ba82-3935a2565f95\")>,\n",
       " <selenium.webdriver.remote.webelement.WebElement (session=\"ee7817bafc9aaf52939eb49191fbf52e\", element=\"7ad9531f-6476-4f4f-aab4-93eaeb94b37c\")>,\n",
       " <selenium.webdriver.remote.webelement.WebElement (session=\"ee7817bafc9aaf52939eb49191fbf52e\", element=\"2abcdfc3-5bff-4938-be79-769662b6d817\")>,\n",
       " <selenium.webdriver.remote.webelement.WebElement (session=\"ee7817bafc9aaf52939eb49191fbf52e\", element=\"abf04cc6-bd23-42d8-8e9d-e29f8fd74790\")>,\n",
       " <selenium.webdriver.remote.webelement.WebElement (session=\"ee7817bafc9aaf52939eb49191fbf52e\", element=\"f458dd98-a03e-4604-ad27-36a82ecb7eb0\")>,\n",
       " <selenium.webdriver.remote.webelement.WebElement (session=\"ee7817bafc9aaf52939eb49191fbf52e\", element=\"d2d06da7-c35f-43f4-9594-8c6581835779\")>,\n",
       " <selenium.webdriver.remote.webelement.WebElement (session=\"ee7817bafc9aaf52939eb49191fbf52e\", element=\"3eb08b43-ecb5-4930-b842-a98c036e1926\")>,\n",
       " <selenium.webdriver.remote.webelement.WebElement (session=\"ee7817bafc9aaf52939eb49191fbf52e\", element=\"c5565230-c6b0-4067-aec8-8d313fff6ccd\")>,\n",
       " <selenium.webdriver.remote.webelement.WebElement (session=\"ee7817bafc9aaf52939eb49191fbf52e\", element=\"e68abef8-bc70-4177-a86a-2a9b7b8129dc\")>,\n",
       " <selenium.webdriver.remote.webelement.WebElement (session=\"ee7817bafc9aaf52939eb49191fbf52e\", element=\"3775652c-084c-43e0-b8cb-95f0be543031\")>,\n",
       " <selenium.webdriver.remote.webelement.WebElement (session=\"ee7817bafc9aaf52939eb49191fbf52e\", element=\"e148502a-3890-481a-9ed2-0c4e16ba9117\")>,\n",
       " <selenium.webdriver.remote.webelement.WebElement (session=\"ee7817bafc9aaf52939eb49191fbf52e\", element=\"dc83565b-163c-4bad-83c1-45cb7176dc25\")>,\n",
       " <selenium.webdriver.remote.webelement.WebElement (session=\"ee7817bafc9aaf52939eb49191fbf52e\", element=\"bd2475b5-b7df-4e07-aa44-70e633a6b1b5\")>,\n",
       " <selenium.webdriver.remote.webelement.WebElement (session=\"ee7817bafc9aaf52939eb49191fbf52e\", element=\"ff686579-cf26-4f3d-ad38-4c1534dab9a7\")>,\n",
       " <selenium.webdriver.remote.webelement.WebElement (session=\"ee7817bafc9aaf52939eb49191fbf52e\", element=\"b8327325-01a2-446a-982d-d29f718c05cc\")>,\n",
       " <selenium.webdriver.remote.webelement.WebElement (session=\"ee7817bafc9aaf52939eb49191fbf52e\", element=\"6b15e1c6-8bd7-48cd-85a1-23f13e733b12\")>,\n",
       " <selenium.webdriver.remote.webelement.WebElement (session=\"ee7817bafc9aaf52939eb49191fbf52e\", element=\"8c21bd95-19ea-4f12-86e9-614bc47a11d8\")>,\n",
       " <selenium.webdriver.remote.webelement.WebElement (session=\"ee7817bafc9aaf52939eb49191fbf52e\", element=\"68741eef-89cf-43b8-ae0c-c960b9ed7555\")>,\n",
       " <selenium.webdriver.remote.webelement.WebElement (session=\"ee7817bafc9aaf52939eb49191fbf52e\", element=\"950ea777-e2e3-4ab3-abc8-98df7d7e3480\")>,\n",
       " <selenium.webdriver.remote.webelement.WebElement (session=\"ee7817bafc9aaf52939eb49191fbf52e\", element=\"239162ec-8508-4325-bf0f-868de33f17ac\")>,\n",
       " <selenium.webdriver.remote.webelement.WebElement (session=\"ee7817bafc9aaf52939eb49191fbf52e\", element=\"22c094e8-814f-4761-8ea5-313774084f42\")>,\n",
       " <selenium.webdriver.remote.webelement.WebElement (session=\"ee7817bafc9aaf52939eb49191fbf52e\", element=\"f6eb64f6-0e58-4c6d-878f-04d018300134\")>,\n",
       " <selenium.webdriver.remote.webelement.WebElement (session=\"ee7817bafc9aaf52939eb49191fbf52e\", element=\"a766a72a-19dc-4f05-955d-fef317a4300a\")>,\n",
       " <selenium.webdriver.remote.webelement.WebElement (session=\"ee7817bafc9aaf52939eb49191fbf52e\", element=\"fb0393d4-942a-48e6-870a-96511ccad54e\")>,\n",
       " <selenium.webdriver.remote.webelement.WebElement (session=\"ee7817bafc9aaf52939eb49191fbf52e\", element=\"88756472-2732-45ac-beb2-ef76db0f2b5c\")>,\n",
       " <selenium.webdriver.remote.webelement.WebElement (session=\"ee7817bafc9aaf52939eb49191fbf52e\", element=\"c4b87b85-d556-484b-a5d8-a332f7bac236\")>,\n",
       " <selenium.webdriver.remote.webelement.WebElement (session=\"ee7817bafc9aaf52939eb49191fbf52e\", element=\"57d8ab27-30da-430c-a05f-f296a18ad44f\")>,\n",
       " <selenium.webdriver.remote.webelement.WebElement (session=\"ee7817bafc9aaf52939eb49191fbf52e\", element=\"9d705120-7b75-4316-a3b8-6b471bed7324\")>,\n",
       " <selenium.webdriver.remote.webelement.WebElement (session=\"ee7817bafc9aaf52939eb49191fbf52e\", element=\"e3cdd34a-a40e-4212-a16e-b8bcf24bad94\")>,\n",
       " <selenium.webdriver.remote.webelement.WebElement (session=\"ee7817bafc9aaf52939eb49191fbf52e\", element=\"7ba42884-95a8-455a-9b2f-67898572e526\")>,\n",
       " <selenium.webdriver.remote.webelement.WebElement (session=\"ee7817bafc9aaf52939eb49191fbf52e\", element=\"14f0227b-b215-4f9d-9a57-d006dd5c7dec\")>,\n",
       " <selenium.webdriver.remote.webelement.WebElement (session=\"ee7817bafc9aaf52939eb49191fbf52e\", element=\"523e12bd-8276-488b-ac74-2f23d1324bcc\")>,\n",
       " <selenium.webdriver.remote.webelement.WebElement (session=\"ee7817bafc9aaf52939eb49191fbf52e\", element=\"32a01648-b4c6-41c8-8da7-eab219045f0e\")>,\n",
       " <selenium.webdriver.remote.webelement.WebElement (session=\"ee7817bafc9aaf52939eb49191fbf52e\", element=\"14697f1f-0798-439c-bcba-e3f27ae66d74\")>,\n",
       " <selenium.webdriver.remote.webelement.WebElement (session=\"ee7817bafc9aaf52939eb49191fbf52e\", element=\"e5990a73-c61b-4069-99b3-5edbe89daf2b\")>,\n",
       " <selenium.webdriver.remote.webelement.WebElement (session=\"ee7817bafc9aaf52939eb49191fbf52e\", element=\"93fec8e7-a9c9-4620-9e1f-b68fdc7615c3\")>,\n",
       " <selenium.webdriver.remote.webelement.WebElement (session=\"ee7817bafc9aaf52939eb49191fbf52e\", element=\"a947eb32-ca5d-4ed3-911c-3232f70c75b3\")>,\n",
       " <selenium.webdriver.remote.webelement.WebElement (session=\"ee7817bafc9aaf52939eb49191fbf52e\", element=\"4dc858b6-7059-4861-ae27-6a4323225d38\")>,\n",
       " <selenium.webdriver.remote.webelement.WebElement (session=\"ee7817bafc9aaf52939eb49191fbf52e\", element=\"8c2f75bb-134c-49c1-b6ee-afa5dabbbf79\")>,\n",
       " <selenium.webdriver.remote.webelement.WebElement (session=\"ee7817bafc9aaf52939eb49191fbf52e\", element=\"0b4207ba-6dbf-432b-a7bc-b29c0c4339e7\")>,\n",
       " <selenium.webdriver.remote.webelement.WebElement (session=\"ee7817bafc9aaf52939eb49191fbf52e\", element=\"b7d0508e-348b-4709-9ee2-6bd5c2018eda\")>,\n",
       " <selenium.webdriver.remote.webelement.WebElement (session=\"ee7817bafc9aaf52939eb49191fbf52e\", element=\"ee28d973-d4fa-46b5-b82d-5134aa50157e\")>,\n",
       " <selenium.webdriver.remote.webelement.WebElement (session=\"ee7817bafc9aaf52939eb49191fbf52e\", element=\"d22c12d3-fa75-4a0c-b557-33414a37f461\")>,\n",
       " <selenium.webdriver.remote.webelement.WebElement (session=\"ee7817bafc9aaf52939eb49191fbf52e\", element=\"09e94549-d476-4f3d-bc84-c8122e177c8b\")>,\n",
       " <selenium.webdriver.remote.webelement.WebElement (session=\"ee7817bafc9aaf52939eb49191fbf52e\", element=\"29528310-9a05-4a5e-a0c2-ea1ea3551333\")>,\n",
       " <selenium.webdriver.remote.webelement.WebElement (session=\"ee7817bafc9aaf52939eb49191fbf52e\", element=\"09bb7ace-8148-4ea4-8761-57472ae330d8\")>,\n",
       " <selenium.webdriver.remote.webelement.WebElement (session=\"ee7817bafc9aaf52939eb49191fbf52e\", element=\"c60e2a9d-5d83-476c-90af-d59cc2299b2c\")>,\n",
       " <selenium.webdriver.remote.webelement.WebElement (session=\"ee7817bafc9aaf52939eb49191fbf52e\", element=\"51ffeb8d-1352-4740-8988-475ba88acf8d\")>,\n",
       " <selenium.webdriver.remote.webelement.WebElement (session=\"ee7817bafc9aaf52939eb49191fbf52e\", element=\"e6dc49e7-f693-4eed-b6b8-f143f0740252\")>,\n",
       " <selenium.webdriver.remote.webelement.WebElement (session=\"ee7817bafc9aaf52939eb49191fbf52e\", element=\"84647b96-7e36-409f-bafb-9bdb537e16d1\")>,\n",
       " <selenium.webdriver.remote.webelement.WebElement (session=\"ee7817bafc9aaf52939eb49191fbf52e\", element=\"4180a2f9-70b3-4d7b-bac2-1e1dfbae6fab\")>,\n",
       " <selenium.webdriver.remote.webelement.WebElement (session=\"ee7817bafc9aaf52939eb49191fbf52e\", element=\"2cbee686-e51f-4435-a3a8-28f8fcffbfe0\")>,\n",
       " <selenium.webdriver.remote.webelement.WebElement (session=\"ee7817bafc9aaf52939eb49191fbf52e\", element=\"b630949d-667c-4fd7-a0a1-2aa28e6c57b1\")>,\n",
       " <selenium.webdriver.remote.webelement.WebElement (session=\"ee7817bafc9aaf52939eb49191fbf52e\", element=\"50916fe0-6ecd-4025-b64a-33aeda48b15e\")>,\n",
       " <selenium.webdriver.remote.webelement.WebElement (session=\"ee7817bafc9aaf52939eb49191fbf52e\", element=\"d69abea9-0f23-4a87-b0e7-77a51b35e5fc\")>,\n",
       " <selenium.webdriver.remote.webelement.WebElement (session=\"ee7817bafc9aaf52939eb49191fbf52e\", element=\"1bc7e086-355f-4933-8542-639f4da1c5d4\")>,\n",
       " <selenium.webdriver.remote.webelement.WebElement (session=\"ee7817bafc9aaf52939eb49191fbf52e\", element=\"e1f697ae-aace-4811-90a9-1c3fa806770a\")>,\n",
       " <selenium.webdriver.remote.webelement.WebElement (session=\"ee7817bafc9aaf52939eb49191fbf52e\", element=\"ae645abb-dc02-4c6f-884b-f4438320f17c\")>,\n",
       " <selenium.webdriver.remote.webelement.WebElement (session=\"ee7817bafc9aaf52939eb49191fbf52e\", element=\"1f1b2689-8bf8-45f0-b5bc-0da62f760f89\")>,\n",
       " <selenium.webdriver.remote.webelement.WebElement (session=\"ee7817bafc9aaf52939eb49191fbf52e\", element=\"341963cf-6bf8-4135-88a8-6f91ba833f42\")>,\n",
       " <selenium.webdriver.remote.webelement.WebElement (session=\"ee7817bafc9aaf52939eb49191fbf52e\", element=\"7af606cf-02a0-4b08-9365-f75a3f7b8689\")>,\n",
       " <selenium.webdriver.remote.webelement.WebElement (session=\"ee7817bafc9aaf52939eb49191fbf52e\", element=\"f239cf12-98ac-4129-bce5-455a7844f05d\")>,\n",
       " <selenium.webdriver.remote.webelement.WebElement (session=\"ee7817bafc9aaf52939eb49191fbf52e\", element=\"ca334454-5e20-45a8-8095-bd50906ea6e1\")>,\n",
       " <selenium.webdriver.remote.webelement.WebElement (session=\"ee7817bafc9aaf52939eb49191fbf52e\", element=\"bf2bfa82-87a5-4465-9e86-880fbbc1d36b\")>,\n",
       " <selenium.webdriver.remote.webelement.WebElement (session=\"ee7817bafc9aaf52939eb49191fbf52e\", element=\"30c9e6f4-aaef-40c2-9963-ff1eb59c989f\")>,\n",
       " <selenium.webdriver.remote.webelement.WebElement (session=\"ee7817bafc9aaf52939eb49191fbf52e\", element=\"c651cb7c-6b78-4790-a6a7-312f0f95df23\")>,\n",
       " <selenium.webdriver.remote.webelement.WebElement (session=\"ee7817bafc9aaf52939eb49191fbf52e\", element=\"b358a9f1-cdcf-42e6-9bc3-f2e689d34b28\")>,\n",
       " <selenium.webdriver.remote.webelement.WebElement (session=\"ee7817bafc9aaf52939eb49191fbf52e\", element=\"14fc63f0-eaf8-4b66-9012-2b92dc3258dd\")>,\n",
       " <selenium.webdriver.remote.webelement.WebElement (session=\"ee7817bafc9aaf52939eb49191fbf52e\", element=\"8cf91200-b185-41ab-9127-eabb47c9f4cf\")>,\n",
       " <selenium.webdriver.remote.webelement.WebElement (session=\"ee7817bafc9aaf52939eb49191fbf52e\", element=\"4893dd19-9658-439d-b45a-9b8f64a59f2e\")>,\n",
       " <selenium.webdriver.remote.webelement.WebElement (session=\"ee7817bafc9aaf52939eb49191fbf52e\", element=\"9870722c-1687-4dd8-bb6e-970c813832bc\")>,\n",
       " <selenium.webdriver.remote.webelement.WebElement (session=\"ee7817bafc9aaf52939eb49191fbf52e\", element=\"3cbe237c-c04d-450b-a21d-93a077f76b32\")>,\n",
       " <selenium.webdriver.remote.webelement.WebElement (session=\"ee7817bafc9aaf52939eb49191fbf52e\", element=\"53e91918-0928-4e2d-92b1-66256548c320\")>,\n",
       " <selenium.webdriver.remote.webelement.WebElement (session=\"ee7817bafc9aaf52939eb49191fbf52e\", element=\"01b4531c-3ea7-4749-b046-90981ac55faa\")>,\n",
       " <selenium.webdriver.remote.webelement.WebElement (session=\"ee7817bafc9aaf52939eb49191fbf52e\", element=\"af115a57-712b-4bbd-91e2-ad0c89b43c63\")>,\n",
       " <selenium.webdriver.remote.webelement.WebElement (session=\"ee7817bafc9aaf52939eb49191fbf52e\", element=\"d17dd6f4-0cae-4c3c-b09d-88e23f5c5b1f\")>,\n",
       " <selenium.webdriver.remote.webelement.WebElement (session=\"ee7817bafc9aaf52939eb49191fbf52e\", element=\"c17d4fe9-8bcc-41a1-9bec-d9787e09a27b\")>,\n",
       " <selenium.webdriver.remote.webelement.WebElement (session=\"ee7817bafc9aaf52939eb49191fbf52e\", element=\"b69fc1ae-81ca-4c14-9fce-ce1f9cfb5f6b\")>,\n",
       " <selenium.webdriver.remote.webelement.WebElement (session=\"ee7817bafc9aaf52939eb49191fbf52e\", element=\"b5627f66-8b6a-4f97-bb0f-7646618d6f1a\")>,\n",
       " <selenium.webdriver.remote.webelement.WebElement (session=\"ee7817bafc9aaf52939eb49191fbf52e\", element=\"41a3ef31-4203-4ecf-9e72-d6c6adfb2a52\")>,\n",
       " <selenium.webdriver.remote.webelement.WebElement (session=\"ee7817bafc9aaf52939eb49191fbf52e\", element=\"92625553-34bc-4d08-9368-64595765ee93\")>,\n",
       " <selenium.webdriver.remote.webelement.WebElement (session=\"ee7817bafc9aaf52939eb49191fbf52e\", element=\"48cfb840-6dd2-4a60-a75f-58e200897186\")>,\n",
       " <selenium.webdriver.remote.webelement.WebElement (session=\"ee7817bafc9aaf52939eb49191fbf52e\", element=\"d4f06334-82ea-46d2-8103-d28bbb2387e5\")>,\n",
       " <selenium.webdriver.remote.webelement.WebElement (session=\"ee7817bafc9aaf52939eb49191fbf52e\", element=\"c98dc690-e025-4385-8050-cf1c8dd8367f\")>,\n",
       " <selenium.webdriver.remote.webelement.WebElement (session=\"ee7817bafc9aaf52939eb49191fbf52e\", element=\"3a5c0479-3368-41fd-9e21-a5866811fb2f\")>,\n",
       " <selenium.webdriver.remote.webelement.WebElement (session=\"ee7817bafc9aaf52939eb49191fbf52e\", element=\"7f34d5a8-41b8-46e2-9415-3d238c46afc4\")>,\n",
       " <selenium.webdriver.remote.webelement.WebElement (session=\"ee7817bafc9aaf52939eb49191fbf52e\", element=\"2df7e3be-89a6-42bf-97ac-b73f45b0b0d8\")>,\n",
       " <selenium.webdriver.remote.webelement.WebElement (session=\"ee7817bafc9aaf52939eb49191fbf52e\", element=\"6afe3a95-b309-47de-9ae6-ef9c6e9b691a\")>,\n",
       " <selenium.webdriver.remote.webelement.WebElement (session=\"ee7817bafc9aaf52939eb49191fbf52e\", element=\"a32b0506-fb72-4110-bb0f-6722b5b6743d\")>,\n",
       " <selenium.webdriver.remote.webelement.WebElement (session=\"ee7817bafc9aaf52939eb49191fbf52e\", element=\"f23195d5-2b78-4805-9f4b-737259ba9c4c\")>,\n",
       " <selenium.webdriver.remote.webelement.WebElement (session=\"ee7817bafc9aaf52939eb49191fbf52e\", element=\"e6206a7c-d907-46ac-ad81-6f253dff846a\")>,\n",
       " <selenium.webdriver.remote.webelement.WebElement (session=\"ee7817bafc9aaf52939eb49191fbf52e\", element=\"89711b66-a4f9-45b8-8b32-d55c4d0ff940\")>,\n",
       " <selenium.webdriver.remote.webelement.WebElement (session=\"ee7817bafc9aaf52939eb49191fbf52e\", element=\"b2c4cbd1-693e-4da9-a846-0658a60e947f\")>,\n",
       " <selenium.webdriver.remote.webelement.WebElement (session=\"ee7817bafc9aaf52939eb49191fbf52e\", element=\"9235b2d8-4c51-4c90-b683-bc7395bda156\")>,\n",
       " <selenium.webdriver.remote.webelement.WebElement (session=\"ee7817bafc9aaf52939eb49191fbf52e\", element=\"7e9c4cd3-7a3e-4074-b64e-b57644cae5e0\")>,\n",
       " <selenium.webdriver.remote.webelement.WebElement (session=\"ee7817bafc9aaf52939eb49191fbf52e\", element=\"112727a5-af34-481c-b1d1-c166e23e5a25\")>,\n",
       " <selenium.webdriver.remote.webelement.WebElement (session=\"ee7817bafc9aaf52939eb49191fbf52e\", element=\"dc224f5e-9e3c-4ae0-9e7e-25462e2cd84c\")>,\n",
       " <selenium.webdriver.remote.webelement.WebElement (session=\"ee7817bafc9aaf52939eb49191fbf52e\", element=\"102f7870-0727-4055-9513-ad3ec5c2053d\")>,\n",
       " <selenium.webdriver.remote.webelement.WebElement (session=\"ee7817bafc9aaf52939eb49191fbf52e\", element=\"39acdeec-526e-454a-bf38-a657d5ceaf3b\")>,\n",
       " <selenium.webdriver.remote.webelement.WebElement (session=\"ee7817bafc9aaf52939eb49191fbf52e\", element=\"731b0160-03a4-4a07-a0ff-0c2d02284105\")>,\n",
       " <selenium.webdriver.remote.webelement.WebElement (session=\"ee7817bafc9aaf52939eb49191fbf52e\", element=\"3894d65f-a4b9-4d98-b5cf-335043a100a2\")>,\n",
       " <selenium.webdriver.remote.webelement.WebElement (session=\"ee7817bafc9aaf52939eb49191fbf52e\", element=\"db5c8891-f704-4632-b704-df35f5b3bbe2\")>,\n",
       " <selenium.webdriver.remote.webelement.WebElement (session=\"ee7817bafc9aaf52939eb49191fbf52e\", element=\"76b39aac-1c11-42b8-b568-074431a1ef22\")>,\n",
       " <selenium.webdriver.remote.webelement.WebElement (session=\"ee7817bafc9aaf52939eb49191fbf52e\", element=\"e093c77f-d5f5-4a85-9326-f8deb99dbeef\")>,\n",
       " <selenium.webdriver.remote.webelement.WebElement (session=\"ee7817bafc9aaf52939eb49191fbf52e\", element=\"8fe20b06-5780-4b06-bafb-4cc7e0e00ed3\")>,\n",
       " <selenium.webdriver.remote.webelement.WebElement (session=\"ee7817bafc9aaf52939eb49191fbf52e\", element=\"cb22c69f-8c4b-4094-b5b9-de175e57e359\")>,\n",
       " <selenium.webdriver.remote.webelement.WebElement (session=\"ee7817bafc9aaf52939eb49191fbf52e\", element=\"06193c54-d438-45c0-9ab0-1bba473d5598\")>,\n",
       " <selenium.webdriver.remote.webelement.WebElement (session=\"ee7817bafc9aaf52939eb49191fbf52e\", element=\"3fab51c5-979f-4704-b2d0-134776d0c64a\")>,\n",
       " <selenium.webdriver.remote.webelement.WebElement (session=\"ee7817bafc9aaf52939eb49191fbf52e\", element=\"b953d078-2007-4242-b770-41e4011730b7\")>,\n",
       " <selenium.webdriver.remote.webelement.WebElement (session=\"ee7817bafc9aaf52939eb49191fbf52e\", element=\"c83e04f8-0c37-4e28-aba2-f1f83731393a\")>,\n",
       " <selenium.webdriver.remote.webelement.WebElement (session=\"ee7817bafc9aaf52939eb49191fbf52e\", element=\"d355e27d-0d77-4fc3-a9e0-65ecdb66194d\")>,\n",
       " <selenium.webdriver.remote.webelement.WebElement (session=\"ee7817bafc9aaf52939eb49191fbf52e\", element=\"62670f20-0c9d-4ef0-825b-e754114705fb\")>,\n",
       " <selenium.webdriver.remote.webelement.WebElement (session=\"ee7817bafc9aaf52939eb49191fbf52e\", element=\"4c761c29-a3cb-4fcf-ad86-278c60030a2c\")>,\n",
       " <selenium.webdriver.remote.webelement.WebElement (session=\"ee7817bafc9aaf52939eb49191fbf52e\", element=\"7253f158-3e41-4bf7-b52f-929f344332a0\")>,\n",
       " <selenium.webdriver.remote.webelement.WebElement (session=\"ee7817bafc9aaf52939eb49191fbf52e\", element=\"84499758-c605-4a56-aa02-90b08db8a7b3\")>,\n",
       " <selenium.webdriver.remote.webelement.WebElement (session=\"ee7817bafc9aaf52939eb49191fbf52e\", element=\"d038cba4-e1a2-4de7-a618-938fe798f684\")>,\n",
       " <selenium.webdriver.remote.webelement.WebElement (session=\"ee7817bafc9aaf52939eb49191fbf52e\", element=\"61900d06-07b2-406e-87f9-f021c1c77fa1\")>,\n",
       " <selenium.webdriver.remote.webelement.WebElement (session=\"ee7817bafc9aaf52939eb49191fbf52e\", element=\"afd36aff-e531-42f6-8851-5e718d5069e4\")>,\n",
       " <selenium.webdriver.remote.webelement.WebElement (session=\"ee7817bafc9aaf52939eb49191fbf52e\", element=\"d40ca11a-1fba-41fc-8685-0f286b7e6757\")>,\n",
       " <selenium.webdriver.remote.webelement.WebElement (session=\"ee7817bafc9aaf52939eb49191fbf52e\", element=\"02b7cc12-c896-4a31-9a2c-3086e9e443bd\")>,\n",
       " <selenium.webdriver.remote.webelement.WebElement (session=\"ee7817bafc9aaf52939eb49191fbf52e\", element=\"8520c478-514d-4dd9-9252-9d03be85eae6\")>,\n",
       " <selenium.webdriver.remote.webelement.WebElement (session=\"ee7817bafc9aaf52939eb49191fbf52e\", element=\"29e9296f-5bef-4bd9-9220-c7739797e304\")>,\n",
       " <selenium.webdriver.remote.webelement.WebElement (session=\"ee7817bafc9aaf52939eb49191fbf52e\", element=\"0b5e4eee-edb6-4c79-a129-3d874477cef1\")>,\n",
       " <selenium.webdriver.remote.webelement.WebElement (session=\"ee7817bafc9aaf52939eb49191fbf52e\", element=\"529f9e60-0904-4c4f-9923-514811b8b8cd\")>,\n",
       " <selenium.webdriver.remote.webelement.WebElement (session=\"ee7817bafc9aaf52939eb49191fbf52e\", element=\"2280e6c2-9975-4a16-af10-9aafe0c044d4\")>,\n",
       " <selenium.webdriver.remote.webelement.WebElement (session=\"ee7817bafc9aaf52939eb49191fbf52e\", element=\"3e34e867-6b7d-453c-933f-e354e472e26f\")>,\n",
       " <selenium.webdriver.remote.webelement.WebElement (session=\"ee7817bafc9aaf52939eb49191fbf52e\", element=\"13d21796-2f40-4853-b50c-774fe03df0cd\")>,\n",
       " <selenium.webdriver.remote.webelement.WebElement (session=\"ee7817bafc9aaf52939eb49191fbf52e\", element=\"f2667cb9-fc5b-4f7a-a50a-a4be85ae6051\")>,\n",
       " <selenium.webdriver.remote.webelement.WebElement (session=\"ee7817bafc9aaf52939eb49191fbf52e\", element=\"0958fc62-fd23-4f77-a611-1b5efd25c415\")>,\n",
       " <selenium.webdriver.remote.webelement.WebElement (session=\"ee7817bafc9aaf52939eb49191fbf52e\", element=\"9d87d53d-ee33-4dc2-a540-4531da57c572\")>,\n",
       " <selenium.webdriver.remote.webelement.WebElement (session=\"ee7817bafc9aaf52939eb49191fbf52e\", element=\"0160bc37-775e-453c-b211-f23119417e86\")>,\n",
       " <selenium.webdriver.remote.webelement.WebElement (session=\"ee7817bafc9aaf52939eb49191fbf52e\", element=\"ad8f54ab-d28b-476f-9dc4-ae8295e49772\")>,\n",
       " <selenium.webdriver.remote.webelement.WebElement (session=\"ee7817bafc9aaf52939eb49191fbf52e\", element=\"79dcfbfc-be0a-4bc4-bbaa-68867746a165\")>,\n",
       " <selenium.webdriver.remote.webelement.WebElement (session=\"ee7817bafc9aaf52939eb49191fbf52e\", element=\"807ef8fd-654d-403a-b101-caf2f9339505\")>,\n",
       " <selenium.webdriver.remote.webelement.WebElement (session=\"ee7817bafc9aaf52939eb49191fbf52e\", element=\"4d991aa0-a1f9-4eed-8f5c-1191c2edf7a5\")>,\n",
       " <selenium.webdriver.remote.webelement.WebElement (session=\"ee7817bafc9aaf52939eb49191fbf52e\", element=\"d580bbce-01b5-42d8-8d54-9bab58d62424\")>,\n",
       " <selenium.webdriver.remote.webelement.WebElement (session=\"ee7817bafc9aaf52939eb49191fbf52e\", element=\"116cfb7f-f76e-4d74-9dda-152799411a80\")>,\n",
       " <selenium.webdriver.remote.webelement.WebElement (session=\"ee7817bafc9aaf52939eb49191fbf52e\", element=\"8f23d63d-1ea8-4c2f-9c8c-11f468beb412\")>,\n",
       " <selenium.webdriver.remote.webelement.WebElement (session=\"ee7817bafc9aaf52939eb49191fbf52e\", element=\"ea5a658d-20db-4e7c-82f0-7121fc00ed2d\")>,\n",
       " <selenium.webdriver.remote.webelement.WebElement (session=\"ee7817bafc9aaf52939eb49191fbf52e\", element=\"ad1cca81-5ccc-4451-9f14-46d1edd166dd\")>,\n",
       " <selenium.webdriver.remote.webelement.WebElement (session=\"ee7817bafc9aaf52939eb49191fbf52e\", element=\"2d3236b1-76db-4aea-837b-c59f8e6e9968\")>,\n",
       " <selenium.webdriver.remote.webelement.WebElement (session=\"ee7817bafc9aaf52939eb49191fbf52e\", element=\"b3e5ad87-bf68-4ded-88c0-1b58e1847aca\")>,\n",
       " <selenium.webdriver.remote.webelement.WebElement (session=\"ee7817bafc9aaf52939eb49191fbf52e\", element=\"f47b2a0b-ef63-4a7b-a9c6-b0e19edda9d6\")>,\n",
       " <selenium.webdriver.remote.webelement.WebElement (session=\"ee7817bafc9aaf52939eb49191fbf52e\", element=\"615f9822-1942-40b1-beb1-bee1321a93c6\")>,\n",
       " <selenium.webdriver.remote.webelement.WebElement (session=\"ee7817bafc9aaf52939eb49191fbf52e\", element=\"f10ccd44-4dc5-416b-93bc-a41f006cfef7\")>,\n",
       " <selenium.webdriver.remote.webelement.WebElement (session=\"ee7817bafc9aaf52939eb49191fbf52e\", element=\"848a3bf5-598d-40f0-8759-04adc5c97e28\")>,\n",
       " <selenium.webdriver.remote.webelement.WebElement (session=\"ee7817bafc9aaf52939eb49191fbf52e\", element=\"29575374-475b-4244-8cbe-9938e5dbb61d\")>,\n",
       " <selenium.webdriver.remote.webelement.WebElement (session=\"ee7817bafc9aaf52939eb49191fbf52e\", element=\"970bbbd0-cd2c-4d36-9ed8-924acfe2311d\")>,\n",
       " <selenium.webdriver.remote.webelement.WebElement (session=\"ee7817bafc9aaf52939eb49191fbf52e\", element=\"63b8d1ea-7d70-4876-a225-f6d864ff2b5f\")>,\n",
       " <selenium.webdriver.remote.webelement.WebElement (session=\"ee7817bafc9aaf52939eb49191fbf52e\", element=\"9ce0255a-8c27-4a6b-b89d-0672badbd4ec\")>,\n",
       " <selenium.webdriver.remote.webelement.WebElement (session=\"ee7817bafc9aaf52939eb49191fbf52e\", element=\"41d4904e-d49b-451c-b035-1585f34edb52\")>,\n",
       " <selenium.webdriver.remote.webelement.WebElement (session=\"ee7817bafc9aaf52939eb49191fbf52e\", element=\"e4d920c5-eb0d-447e-82fe-0f76850f4697\")>,\n",
       " <selenium.webdriver.remote.webelement.WebElement (session=\"ee7817bafc9aaf52939eb49191fbf52e\", element=\"5348f627-5bf7-4a7d-94f1-0628efe7f8b0\")>,\n",
       " <selenium.webdriver.remote.webelement.WebElement (session=\"ee7817bafc9aaf52939eb49191fbf52e\", element=\"b12027b3-b99a-47ff-82a1-c07473cb4694\")>,\n",
       " <selenium.webdriver.remote.webelement.WebElement (session=\"ee7817bafc9aaf52939eb49191fbf52e\", element=\"5f0cd53c-b11b-4d39-8515-516b61f315bd\")>,\n",
       " <selenium.webdriver.remote.webelement.WebElement (session=\"ee7817bafc9aaf52939eb49191fbf52e\", element=\"7d3669fa-e348-414f-8a4a-caf9a6cbffb7\")>,\n",
       " <selenium.webdriver.remote.webelement.WebElement (session=\"ee7817bafc9aaf52939eb49191fbf52e\", element=\"da9ddc1a-d109-49a7-89f0-2e991703d87e\")>,\n",
       " <selenium.webdriver.remote.webelement.WebElement (session=\"ee7817bafc9aaf52939eb49191fbf52e\", element=\"943455cf-a513-4918-ad5e-a1f1aa1b0ab4\")>,\n",
       " <selenium.webdriver.remote.webelement.WebElement (session=\"ee7817bafc9aaf52939eb49191fbf52e\", element=\"8a630f69-4c4b-4cb2-b6a4-14ee2c74fd09\")>,\n",
       " <selenium.webdriver.remote.webelement.WebElement (session=\"ee7817bafc9aaf52939eb49191fbf52e\", element=\"4ecf6c9c-1e8c-42c5-aa1c-2f186b33cd4c\")>,\n",
       " <selenium.webdriver.remote.webelement.WebElement (session=\"ee7817bafc9aaf52939eb49191fbf52e\", element=\"162c9829-21f6-4f90-81e1-c9160269723a\")>,\n",
       " <selenium.webdriver.remote.webelement.WebElement (session=\"ee7817bafc9aaf52939eb49191fbf52e\", element=\"5bfaf37e-5df0-4388-8a4f-f6da49c2c06d\")>,\n",
       " <selenium.webdriver.remote.webelement.WebElement (session=\"ee7817bafc9aaf52939eb49191fbf52e\", element=\"01056452-f1a9-41ac-b06f-81da4c49fd24\")>,\n",
       " <selenium.webdriver.remote.webelement.WebElement (session=\"ee7817bafc9aaf52939eb49191fbf52e\", element=\"887c7ae1-72ef-40f1-8b71-8a34822aca09\")>,\n",
       " <selenium.webdriver.remote.webelement.WebElement (session=\"ee7817bafc9aaf52939eb49191fbf52e\", element=\"77d938e7-8962-4c32-8caf-433c1424eb04\")>,\n",
       " <selenium.webdriver.remote.webelement.WebElement (session=\"ee7817bafc9aaf52939eb49191fbf52e\", element=\"7abfdc2c-ac80-4d5d-b0cc-3f84707d09a1\")>,\n",
       " <selenium.webdriver.remote.webelement.WebElement (session=\"ee7817bafc9aaf52939eb49191fbf52e\", element=\"b08c527b-5509-4335-99a2-3e5f53a0059a\")>,\n",
       " <selenium.webdriver.remote.webelement.WebElement (session=\"ee7817bafc9aaf52939eb49191fbf52e\", element=\"3520f79f-03ee-4e80-bd48-7608268d4d96\")>,\n",
       " <selenium.webdriver.remote.webelement.WebElement (session=\"ee7817bafc9aaf52939eb49191fbf52e\", element=\"5330d8c1-bd29-4eb2-82be-407c7bec00c8\")>,\n",
       " <selenium.webdriver.remote.webelement.WebElement (session=\"ee7817bafc9aaf52939eb49191fbf52e\", element=\"f1fa15b0-0bb5-4547-b33b-30465ec31914\")>,\n",
       " <selenium.webdriver.remote.webelement.WebElement (session=\"ee7817bafc9aaf52939eb49191fbf52e\", element=\"28cc7f33-5487-4328-9e25-3172d24a1176\")>,\n",
       " <selenium.webdriver.remote.webelement.WebElement (session=\"ee7817bafc9aaf52939eb49191fbf52e\", element=\"eacda797-17e0-4935-9c83-0050627106b0\")>,\n",
       " <selenium.webdriver.remote.webelement.WebElement (session=\"ee7817bafc9aaf52939eb49191fbf52e\", element=\"4a6fa72a-c8f0-4023-b930-835cf63d361f\")>,\n",
       " <selenium.webdriver.remote.webelement.WebElement (session=\"ee7817bafc9aaf52939eb49191fbf52e\", element=\"4f932fc3-9239-4fb6-b52d-589c5b5d274d\")>,\n",
       " <selenium.webdriver.remote.webelement.WebElement (session=\"ee7817bafc9aaf52939eb49191fbf52e\", element=\"aaffd216-1a56-40a7-877a-ed40114c4299\")>,\n",
       " <selenium.webdriver.remote.webelement.WebElement (session=\"ee7817bafc9aaf52939eb49191fbf52e\", element=\"849f5f44-8a7f-4ef9-842b-858237b2a3d9\")>,\n",
       " <selenium.webdriver.remote.webelement.WebElement (session=\"ee7817bafc9aaf52939eb49191fbf52e\", element=\"8882ce61-be70-40ad-b385-8b2fc5a10765\")>,\n",
       " <selenium.webdriver.remote.webelement.WebElement (session=\"ee7817bafc9aaf52939eb49191fbf52e\", element=\"aac0c214-983d-4f30-b31e-0372dbf4d959\")>,\n",
       " <selenium.webdriver.remote.webelement.WebElement (session=\"ee7817bafc9aaf52939eb49191fbf52e\", element=\"3c2f1030-a447-46cf-befb-3b3dc0ab771f\")>,\n",
       " <selenium.webdriver.remote.webelement.WebElement (session=\"ee7817bafc9aaf52939eb49191fbf52e\", element=\"08575da1-bd2e-473a-8d64-441900bb6abc\")>,\n",
       " <selenium.webdriver.remote.webelement.WebElement (session=\"ee7817bafc9aaf52939eb49191fbf52e\", element=\"4abb06f5-93c0-4aa8-9f79-2c29dacbdee0\")>,\n",
       " <selenium.webdriver.remote.webelement.WebElement (session=\"ee7817bafc9aaf52939eb49191fbf52e\", element=\"547d3809-bd78-433d-8b72-40af936ec789\")>,\n",
       " <selenium.webdriver.remote.webelement.WebElement (session=\"ee7817bafc9aaf52939eb49191fbf52e\", element=\"dcb2969f-942a-47a9-9219-9f40b71f88f1\")>,\n",
       " <selenium.webdriver.remote.webelement.WebElement (session=\"ee7817bafc9aaf52939eb49191fbf52e\", element=\"62c164d5-7971-4eeb-a03d-3c36c3f3a090\")>,\n",
       " <selenium.webdriver.remote.webelement.WebElement (session=\"ee7817bafc9aaf52939eb49191fbf52e\", element=\"43e00b55-b601-4e39-a29f-672cc6d25a27\")>,\n",
       " <selenium.webdriver.remote.webelement.WebElement (session=\"ee7817bafc9aaf52939eb49191fbf52e\", element=\"fabeca9f-3248-4581-8a85-b19d4daba5af\")>]"
      ]
     },
     "execution_count": 41,
     "metadata": {},
     "output_type": "execute_result"
    }
   ],
   "source": [
    "elements_tags"
   ]
  },
  {
   "cell_type": "code",
   "execution_count": 42,
   "metadata": {},
   "outputs": [
    {
     "data": {
      "text/plain": [
       "405"
      ]
     },
     "execution_count": 42,
     "metadata": {},
     "output_type": "execute_result"
    }
   ],
   "source": [
    "len(elements_tags)"
   ]
  },
  {
   "cell_type": "code",
   "execution_count": 43,
   "metadata": {},
   "outputs": [],
   "source": [
    "for i in elements_tags[0::3]:\n",
    "    elements.append(i.text)"
   ]
  },
  {
   "cell_type": "code",
   "execution_count": 44,
   "metadata": {},
   "outputs": [
    {
     "data": {
      "text/plain": [
       "['SpiceJet\\nSG 8184',\n",
       " 'SpiceJet\\nSG 507',\n",
       " 'SpiceJet\\nSG 611',\n",
       " 'SpiceJet\\nSG 757',\n",
       " 'Indigo\\n6E 2339',\n",
       " 'Indigo\\n6E 2292',\n",
       " 'Indigo\\n6E 2215',\n",
       " 'Indigo\\n6E 2702',\n",
       " 'Indigo\\n6E 5203',\n",
       " 'Indigo\\n6E 6202',\n",
       " 'Indigo\\n6E 171',\n",
       " 'Indigo\\n6E 2293',\n",
       " 'Air Asia\\nI5 482',\n",
       " 'Air Asia\\nI5 834',\n",
       " 'Air Asia\\nI5 834',\n",
       " 'Air Asia\\nI5 482',\n",
       " 'Indigo\\n6E 2339',\n",
       " 'Indigo\\n6E 2292',\n",
       " 'Indigo\\n6E 2293',\n",
       " 'Indigo\\n6E 2702',\n",
       " 'Indigo\\n6E 2215',\n",
       " 'Indigo\\n6E 6202',\n",
       " 'Indigo\\n6E 171',\n",
       " 'Indigo\\n6E 5203',\n",
       " 'Indigo\\n6E 6125',\n",
       " 'Indigo\\n6E 5071',\n",
       " 'Indigo\\n6E 2186',\n",
       " 'Indigo\\n6E 2186',\n",
       " 'Indigo\\n6E 6125',\n",
       " 'Indigo\\n6E 5071',\n",
       " 'Indigo\\n6E 6387',\n",
       " 'Indigo\\n6E 2576',\n",
       " 'Indigo\\n6E 2576',\n",
       " 'Indigo\\n6E 6387',\n",
       " 'SpiceJet\\nSG 8701',\n",
       " 'GO FIRST\\nG8 530',\n",
       " 'GO FIRST\\nG8 323',\n",
       " 'GO FIRST\\nG8 334',\n",
       " 'GO FIRST\\nG8 336',\n",
       " 'GO FIRST\\nG8 717',\n",
       " 'GO FIRST\\nG8 2511',\n",
       " 'GO FIRST\\nG8 354',\n",
       " 'GO FIRST\\nG8 330',\n",
       " 'GO FIRST\\nG8 346',\n",
       " 'GO FIRST\\nG8 188',\n",
       " 'Vistara\\nUK 993',\n",
       " 'Vistara\\nUK 977',\n",
       " 'Vistara\\nUK 955',\n",
       " 'Vistara\\nUK 985',\n",
       " 'Vistara\\nUK 981',\n",
       " 'Vistara\\nUK 941',\n",
       " 'Vistara\\nUK 933',\n",
       " 'Air India\\nAI 441',\n",
       " 'Air India\\nAI 636',\n",
       " 'Air India\\nAI 624',\n",
       " 'Air India\\nAI 678',\n",
       " 'Air India\\nAI 665',\n",
       " 'Air India\\nAI 865',\n",
       " 'SpiceJet\\nSG 3001',\n",
       " 'Indigo\\n6E 5076',\n",
       " 'Indigo\\n6E 2733',\n",
       " 'Indigo\\n6E 2516',\n",
       " 'Indigo\\n6E 2136',\n",
       " 'Vistara\\nUK 995',\n",
       " 'Air India\\nAI 805',\n",
       " 'Vistara\\nUK 963',\n",
       " 'Indigo\\n6E 5076',\n",
       " 'Indigo\\n6E 2733',\n",
       " 'Indigo\\n6E 2516',\n",
       " 'Indigo\\n6E 2136',\n",
       " 'Indigo\\n6E 2615',\n",
       " 'Vistara\\nUK 927',\n",
       " 'Air India\\nAI 435',\n",
       " 'Air India\\nAI 437',\n",
       " 'Indigo\\n6E 2615',\n",
       " 'Indigo\\n6E 6019',\n",
       " 'Indigo\\n6E 2278',\n",
       " 'Vistara\\nUK 975',\n",
       " 'Indigo\\n6E 6019',\n",
       " 'Indigo\\n6E 2278',\n",
       " 'Air India\\nAI 469',\n",
       " 'Air India\\nAI 531',\n",
       " 'Air India\\nAI 435',\n",
       " 'Vistara\\nUK 667',\n",
       " 'Vistara\\nUK 637',\n",
       " 'Air India\\nAI 469',\n",
       " 'Air Asia\\nI5 744',\n",
       " 'Air India\\nAI 477',\n",
       " 'Air India\\nAI 477',\n",
       " 'Air India\\nAI 811',\n",
       " 'Vistara\\nUK 899',\n",
       " 'Vistara\\nUK 879',\n",
       " 'Vistara\\nUK 879',\n",
       " 'Air India\\nAI 477',\n",
       " 'Air Asia\\nI5 744',\n",
       " 'Indigo\\n6E 2567',\n",
       " 'Vistara\\nUK 943',\n",
       " 'Air Asia\\nI5 779',\n",
       " 'Air Asia\\nI5 775',\n",
       " 'Air Asia\\nI5 798',\n",
       " 'GO FIRST\\nG8 131',\n",
       " 'Air India\\nAI 406',\n",
       " 'Air Asia\\nI5 779',\n",
       " 'Air Asia\\nI5 775',\n",
       " 'Air Asia\\nI5 798',\n",
       " 'Indigo\\n6E 2567',\n",
       " 'Air India\\nAI 887',\n",
       " 'Indigo\\n6E 2083',\n",
       " 'Air India\\nAI 453',\n",
       " 'Vistara\\nUK 807',\n",
       " 'Vistara\\nUK 807',\n",
       " 'Vistara\\nUK 807',\n",
       " 'Indigo\\n6E 2083',\n",
       " 'Air India\\nAI 439',\n",
       " 'Air India\\nAI 540',\n",
       " 'Air India\\nAI 439',\n",
       " 'Vistara\\nUK 837',\n",
       " 'Vistara\\nUK 837',\n",
       " 'Vistara\\nUK 835',\n",
       " 'Air India\\nAI 484',\n",
       " 'GO FIRST\\nG8 194',\n",
       " 'GO FIRST\\nG8 194',\n",
       " 'GO FIRST\\nG8 199',\n",
       " 'GO FIRST\\nG8 286',\n",
       " 'SpiceJet\\nSG 8158',\n",
       " 'Indigo\\n6E 2216',\n",
       " 'Indigo\\n6E 5519',\n",
       " 'Indigo\\n6E 6673',\n",
       " 'Indigo\\n6E 2184',\n",
       " 'Indigo\\n6E 2338',\n",
       " 'Indigo\\n6E 2056',\n",
       " 'Air Asia\\nI5 330',\n",
       " 'Air Asia\\nI5 828',\n",
       " 'SpiceJet\\nSG 8185',\n",
       " 'Air Asia\\nI5 828',\n",
       " 'Air Asia\\nI5 330',\n",
       " 'Indigo\\n6E 2216',\n",
       " 'Indigo\\n6E 5519',\n",
       " 'Indigo\\n6E 6673',\n",
       " 'Indigo\\n6E 2184',\n",
       " 'Indigo\\n6E 2338',\n",
       " 'Indigo\\n6E 2056',\n",
       " 'Indigo\\n6E 2291',\n",
       " 'Indigo\\n6E 2291',\n",
       " 'Indigo\\n6E 6126',\n",
       " 'Indigo\\n6E 6126',\n",
       " 'Indigo\\n6E 168',\n",
       " 'Indigo\\n6E 168',\n",
       " 'Indigo\\n6E 2575',\n",
       " 'Indigo\\n6E 2575',\n",
       " 'Indigo\\n6E 2703',\n",
       " 'Indigo\\n6E 2703',\n",
       " 'Indigo\\n6E 5047',\n",
       " 'Indigo\\n6E 5047',\n",
       " 'Indigo\\n6E 169',\n",
       " 'Indigo\\n6E 169',\n",
       " 'SpiceJet\\nSG 756',\n",
       " 'Air Asia\\nI5 620',\n",
       " 'Air Asia\\nI5 678',\n",
       " 'Air Asia\\nI5 631',\n",
       " 'Air Asia\\nI5 620',\n",
       " 'GO FIRST\\nG8 575',\n",
       " 'GO FIRST\\nG8 322',\n",
       " 'GO FIRST\\nG8 398',\n",
       " 'GO FIRST\\nG8 341',\n",
       " 'GO FIRST\\nG8 339',\n",
       " 'GO FIRST\\nG8 319',\n",
       " 'GO FIRST\\nG8 345',\n",
       " 'GO FIRST\\nG8 351',\n",
       " 'Vistara\\nUK 940',\n",
       " 'Vistara\\nUK 950',\n",
       " 'Vistara\\nUK 944',\n",
       " 'Vistara\\nUK 986',\n",
       " 'Vistara\\nUK 996',\n",
       " 'Vistara\\nUK 988',\n",
       " 'Vistara\\nUK 902',\n",
       " 'Air India\\nAI 687',\n",
       " 'Air India\\nAI 888',\n",
       " 'Air India\\nAI 660',\n",
       " 'Air India\\nAI 442',\n",
       " 'SpiceJet\\nSG 3004',\n",
       " 'Indigo\\n6E 5568',\n",
       " 'Indigo\\n6E 201',\n",
       " 'Indigo\\n6E 6182',\n",
       " 'Indigo\\n6E 5392',\n",
       " 'Vistara\\nUK 910',\n",
       " 'Air Asia\\nI5 678',\n",
       " 'Air Asia\\nI5 631',\n",
       " 'Air Asia\\nI5 620',\n",
       " 'Air Asia\\nI5 620',\n",
       " 'Indigo\\n6E 6182',\n",
       " 'Indigo\\n6E 201',\n",
       " 'Indigo\\n6E 5568',\n",
       " 'Indigo\\n6E 5392',\n",
       " 'GO FIRST\\nG8 327',\n",
       " 'Air Asia\\nI5 631',\n",
       " 'Vistara\\nUK 960',\n",
       " 'Indigo\\n6E 385',\n",
       " 'Air Asia\\nI5 631',\n",
       " 'Vistara\\nUK 970',\n",
       " 'Air Asia\\nI5 942',\n",
       " 'Air Asia\\nI5 942',\n",
       " 'Air India\\nAI 633',\n",
       " 'Air India\\nAI 631',\n",
       " 'Air India\\nAI 631',\n",
       " 'Air Asia\\nI5 942',\n",
       " 'Air Asia\\nI5 942',\n",
       " 'Indigo\\n6E 385',\n",
       " 'Air India\\nAI 864',\n",
       " 'Indigo\\n6E 567',\n",
       " 'Air India\\nAI 637',\n",
       " 'Indigo\\n6E 749',\n",
       " 'GO FIRST\\nG8 365',\n",
       " 'Indigo\\n6E 918',\n",
       " 'Vistara\\nUK 994',\n",
       " 'Indigo\\n6E 567',\n",
       " 'Indigo\\n6E 918',\n",
       " 'Vistara\\nUK 875',\n",
       " 'Air India\\nAI 629',\n",
       " 'Air Asia\\nI5 432',\n",
       " 'Vistara\\nUK 877',\n",
       " 'Vistara\\nUK 877',\n",
       " 'Indigo\\n6E 749',\n",
       " 'Air India\\nAI 615',\n",
       " 'Air India\\nAI 615',\n",
       " 'Air India\\nAI 615',\n",
       " 'Air Asia\\nI5 432',\n",
       " 'GO FIRST\\nG8 349',\n",
       " 'Air India\\nAI 695',\n",
       " 'Air Asia\\nI5 678',\n",
       " 'Air Asia\\nI5 678',\n",
       " 'Air India\\nAI 607',\n",
       " 'Air India\\nAI 607',\n",
       " 'Air India\\nAI 637',\n",
       " 'Vistara\\nUK 857',\n",
       " 'Vistara\\nUK 857',\n",
       " 'Vistara\\nUK 857',\n",
       " 'Indigo\\n6E 176',\n",
       " 'Air India\\nAI 649',\n",
       " 'Air India\\nAI 570',\n",
       " 'Air India\\nAI 570',\n",
       " 'Indigo\\n6E 176',\n",
       " 'Vistara\\nUK 823',\n",
       " 'Air India\\nAI 669',\n",
       " 'Vistara\\nUK 775',\n",
       " 'Vistara\\nUK 773',\n",
       " 'Vistara\\nUK 775',\n",
       " 'Vistara\\nUK 821',\n",
       " 'Air India\\nAI 774',\n",
       " 'GO FIRST\\nG8 397',\n",
       " 'Air India\\nAI 651',\n",
       " 'Air India\\nAI 643',\n",
       " 'GO FIRST\\nG8 331',\n",
       " 'GO FIRST\\nG8 312',\n",
       " 'GO FIRST\\nG8 511',\n",
       " 'Air India\\nAI 675',\n",
       " 'Vistara\\nUK 823',\n",
       " 'Air Asia\\nI5 620',\n",
       " 'Air Asia\\nI5 620']"
      ]
     },
     "execution_count": 44,
     "metadata": {},
     "output_type": "execute_result"
    }
   ],
   "source": [
    "elements"
   ]
  },
  {
   "cell_type": "code",
   "execution_count": 45,
   "metadata": {},
   "outputs": [
    {
     "data": {
      "text/plain": [
       "259"
      ]
     },
     "execution_count": 45,
     "metadata": {},
     "output_type": "execute_result"
    }
   ],
   "source": [
    "len(elements)"
   ]
  },
  {
   "cell_type": "code",
   "execution_count": 46,
   "metadata": {},
   "outputs": [],
   "source": [
    "arrival_tags=driver.find_elements_by_xpath(\"/html/body/section[2]/div/div[1]/div/div[2]/div/div/div/div/div/b\")"
   ]
  },
  {
   "cell_type": "code",
   "execution_count": 47,
   "metadata": {},
   "outputs": [],
   "source": [
    "for i in arrival_tags[0::2]:\n",
    "    arrival.append(i.text)"
   ]
  },
  {
   "cell_type": "code",
   "execution_count": 48,
   "metadata": {},
   "outputs": [
    {
     "data": {
      "text/plain": [
       "['10:40\\nDelhi',\n",
       " '20:20\\nDelhi',\n",
       " '18:40\\nDelhi',\n",
       " '16:20\\nDelhi',\n",
       " '21:55\\nDelhi',\n",
       " '19:05\\nDelhi',\n",
       " '11:00\\nDelhi',\n",
       " '15:35\\nDelhi',\n",
       " '13:10\\nDelhi',\n",
       " '12:00\\nDelhi',\n",
       " '10:10\\nDelhi',\n",
       " '17:45\\nDelhi',\n",
       " '19:55\\nDelhi',\n",
       " '08:50\\nDelhi',\n",
       " '08:50\\nDelhi',\n",
       " '19:55\\nDelhi',\n",
       " '21:55\\nDelhi',\n",
       " '19:05\\nDelhi',\n",
       " '17:45\\nDelhi',\n",
       " '15:35\\nDelhi',\n",
       " '11:00\\nDelhi',\n",
       " '12:00\\nDelhi',\n",
       " '10:10\\nDelhi',\n",
       " '13:10\\nDelhi',\n",
       " '06:10\\nDelhi',\n",
       " '14:00\\nDelhi',\n",
       " '20:30\\nDelhi',\n",
       " '20:30\\nDelhi',\n",
       " '06:10\\nDelhi',\n",
       " '14:00\\nDelhi',\n",
       " '08:55\\nDelhi',\n",
       " '05:00\\nDelhi',\n",
       " '05:00\\nDelhi',\n",
       " '08:55\\nDelhi',\n",
       " '06:50\\nDelhi',\n",
       " '06:15\\nDelhi',\n",
       " '18:50\\nDelhi',\n",
       " '09:05\\nDelhi',\n",
       " '14:20\\nDelhi',\n",
       " '15:30\\nDelhi',\n",
       " '13:30\\nDelhi',\n",
       " '22:45\\nDelhi',\n",
       " '21:30\\nDelhi',\n",
       " '20:30\\nDelhi',\n",
       " '17:45\\nDelhi',\n",
       " '12:45\\nDelhi',\n",
       " '18:55\\nDelhi',\n",
       " '17:45\\nDelhi',\n",
       " '19:45\\nDelhi',\n",
       " '21:40\\nDelhi',\n",
       " '16:55\\nDelhi',\n",
       " '15:10\\nDelhi',\n",
       " '18:00\\nDelhi',\n",
       " '15:05\\nDelhi',\n",
       " '19:00\\nDelhi',\n",
       " '09:00\\nDelhi',\n",
       " '08:00\\nDelhi',\n",
       " '10:40\\nDelhi',\n",
       " '06:35\\nDelhi',\n",
       " '13:40\\nDelhi',\n",
       " '13:50\\nDelhi',\n",
       " '18:10\\nDelhi',\n",
       " '18:45\\nDelhi',\n",
       " '10:20\\nDelhi',\n",
       " '20:00\\nDelhi',\n",
       " '08:50\\nDelhi',\n",
       " '13:40\\nDelhi',\n",
       " '13:50\\nDelhi',\n",
       " '18:10\\nDelhi',\n",
       " '18:45\\nDelhi',\n",
       " '07:20\\nDelhi',\n",
       " '09:30\\nDelhi',\n",
       " '05:45\\nDelhi',\n",
       " '20:00\\nDelhi',\n",
       " '07:20\\nDelhi',\n",
       " '13:10\\nDelhi',\n",
       " '13:45\\nDelhi',\n",
       " '06:00\\nDelhi',\n",
       " '13:10\\nDelhi',\n",
       " '13:45\\nDelhi',\n",
       " '05:20\\nDelhi',\n",
       " '20:10\\nDelhi',\n",
       " '05:45\\nDelhi',\n",
       " '13:40\\nDelhi',\n",
       " '17:10\\nDelhi',\n",
       " '05:20\\nDelhi',\n",
       " '09:25\\nDelhi',\n",
       " '16:40\\nDelhi',\n",
       " '16:40\\nDelhi',\n",
       " '18:30\\nDelhi',\n",
       " '14:45\\nDelhi',\n",
       " '17:45\\nDelhi',\n",
       " '17:45\\nDelhi',\n",
       " '16:40\\nDelhi',\n",
       " '09:25\\nDelhi',\n",
       " '08:55\\nDelhi',\n",
       " '07:30\\nDelhi',\n",
       " '05:20\\nDelhi',\n",
       " '11:55\\nDelhi',\n",
       " '12:40\\nDelhi',\n",
       " '12:35\\nDelhi',\n",
       " '10:15\\nDelhi',\n",
       " '05:20\\nDelhi',\n",
       " '11:55\\nDelhi',\n",
       " '12:40\\nDelhi',\n",
       " '08:55\\nDelhi',\n",
       " '07:00\\nDelhi',\n",
       " '09:35\\nDelhi',\n",
       " '04:55\\nDelhi',\n",
       " '20:40\\nDelhi',\n",
       " '20:40\\nDelhi',\n",
       " '20:40\\nDelhi',\n",
       " '09:35\\nDelhi',\n",
       " '06:05\\nDelhi',\n",
       " '20:40\\nDelhi',\n",
       " '06:05\\nDelhi',\n",
       " '17:35\\nDelhi',\n",
       " '17:35\\nDelhi',\n",
       " '19:55\\nDelhi',\n",
       " '16:35\\nDelhi',\n",
       " '08:10\\nDelhi',\n",
       " '08:10\\nDelhi',\n",
       " '12:20\\nDelhi',\n",
       " '10:40\\nDelhi',\n",
       " '21:55\\nMumbai',\n",
       " '13:50\\nMumbai',\n",
       " '14:45\\nMumbai',\n",
       " '16:05\\nMumbai',\n",
       " '17:35\\nMumbai',\n",
       " '18:55\\nMumbai',\n",
       " '20:45\\nMumbai',\n",
       " '23:05\\nMumbai',\n",
       " '11:40\\nMumbai',\n",
       " '07:45\\nMumbai',\n",
       " '11:40\\nMumbai',\n",
       " '23:05\\nMumbai',\n",
       " '13:50\\nMumbai',\n",
       " '14:45\\nMumbai',\n",
       " '16:05\\nMumbai',\n",
       " '17:35\\nMumbai',\n",
       " '18:55\\nMumbai',\n",
       " '20:45\\nMumbai',\n",
       " '22:10\\nMumbai',\n",
       " '22:10\\nMumbai',\n",
       " '09:15\\nMumbai',\n",
       " '09:15\\nMumbai',\n",
       " '11:05\\nMumbai',\n",
       " '11:05\\nMumbai',\n",
       " '04:45\\nMumbai',\n",
       " '04:45\\nMumbai',\n",
       " '08:15\\nMumbai',\n",
       " '08:15\\nMumbai',\n",
       " '06:05\\nMumbai',\n",
       " '06:05\\nMumbai',\n",
       " '07:05\\nMumbai',\n",
       " '07:05\\nMumbai',\n",
       " '13:30\\nMumbai',\n",
       " '05:55\\nMumbai',\n",
       " '16:40\\nMumbai',\n",
       " '09:55\\nMumbai',\n",
       " '05:55\\nMumbai',\n",
       " '05:35\\nMumbai',\n",
       " '21:40\\nMumbai',\n",
       " '18:05\\nMumbai',\n",
       " '20:40\\nMumbai',\n",
       " '19:20\\nMumbai',\n",
       " '15:45\\nMumbai',\n",
       " '22:15\\nMumbai',\n",
       " '14:00\\nMumbai',\n",
       " '19:45\\nMumbai',\n",
       " '21:55\\nMumbai',\n",
       " '14:40\\nMumbai',\n",
       " '22:45\\nMumbai',\n",
       " '18:30\\nMumbai',\n",
       " '20:55\\nMumbai',\n",
       " '15:45\\nMumbai',\n",
       " '16:00\\nMumbai',\n",
       " '19:20\\nMumbai',\n",
       " '18:00\\nMumbai',\n",
       " '15:40\\nMumbai',\n",
       " '14:30\\nMumbai',\n",
       " '15:25\\nMumbai',\n",
       " '13:20\\nMumbai',\n",
       " '06:10\\nMumbai',\n",
       " '16:15\\nMumbai',\n",
       " '17:30\\nMumbai',\n",
       " '16:40\\nMumbai',\n",
       " '09:55\\nMumbai',\n",
       " '05:55\\nMumbai',\n",
       " '05:55\\nMumbai',\n",
       " '06:10\\nMumbai',\n",
       " '13:20\\nMumbai',\n",
       " '15:25\\nMumbai',\n",
       " '16:15\\nMumbai',\n",
       " '09:20\\nMumbai',\n",
       " '09:55\\nMumbai',\n",
       " '11:55\\nMumbai',\n",
       " '13:40\\nMumbai',\n",
       " '09:55\\nMumbai',\n",
       " '08:45\\nMumbai',\n",
       " '12:15\\nMumbai',\n",
       " '12:15\\nMumbai',\n",
       " '05:45\\nMumbai',\n",
       " '19:20\\nMumbai',\n",
       " '19:20\\nMumbai',\n",
       " '12:15\\nMumbai',\n",
       " '12:15\\nMumbai',\n",
       " '13:40\\nMumbai',\n",
       " '07:00\\nMumbai',\n",
       " '10:55\\nMumbai',\n",
       " '16:55\\nMumbai',\n",
       " '05:35\\nMumbai',\n",
       " '07:00\\nMumbai',\n",
       " '11:10\\nMumbai',\n",
       " '10:25\\nMumbai',\n",
       " '10:55\\nMumbai',\n",
       " '11:10\\nMumbai',\n",
       " '19:15\\nMumbai',\n",
       " '19:00\\nMumbai',\n",
       " '08:00\\nMumbai',\n",
       " '11:25\\nMumbai',\n",
       " '11:25\\nMumbai',\n",
       " '05:35\\nMumbai',\n",
       " '05:45\\nMumbai',\n",
       " '05:45\\nMumbai',\n",
       " '05:45\\nMumbai',\n",
       " '08:00\\nMumbai',\n",
       " '15:00\\nMumbai',\n",
       " '10:25\\nMumbai',\n",
       " '16:40\\nMumbai',\n",
       " '16:40\\nMumbai',\n",
       " '17:15\\nMumbai',\n",
       " '17:15\\nMumbai',\n",
       " '16:55\\nMumbai',\n",
       " '21:00\\nMumbai',\n",
       " '21:00\\nMumbai',\n",
       " '21:00\\nMumbai',\n",
       " '14:25\\nMumbai',\n",
       " '07:15\\nMumbai',\n",
       " '05:40\\nMumbai',\n",
       " '05:40\\nMumbai',\n",
       " '14:25\\nMumbai',\n",
       " '18:30\\nMumbai',\n",
       " '12:00\\nMumbai',\n",
       " '14:00\\nMumbai',\n",
       " '17:00\\nMumbai',\n",
       " '14:00\\nMumbai',\n",
       " '07:10\\nMumbai',\n",
       " '20:45\\nMumbai',\n",
       " '17:20\\nMumbai',\n",
       " '09:50\\nMumbai',\n",
       " '14:20\\nMumbai',\n",
       " '12:40\\nMumbai',\n",
       " '14:20\\nMumbai',\n",
       " '08:00\\nMumbai',\n",
       " '06:10\\nMumbai',\n",
       " '18:30\\nMumbai',\n",
       " '05:55\\nMumbai',\n",
       " '05:55\\nMumbai']"
      ]
     },
     "execution_count": 48,
     "metadata": {},
     "output_type": "execute_result"
    }
   ],
   "source": [
    "arrival"
   ]
  },
  {
   "cell_type": "code",
   "execution_count": 49,
   "metadata": {},
   "outputs": [
    {
     "data": {
      "text/plain": [
       "259"
      ]
     },
     "execution_count": 49,
     "metadata": {},
     "output_type": "execute_result"
    }
   ],
   "source": [
    "len(arrival)"
   ]
  },
  {
   "cell_type": "code",
   "execution_count": 50,
   "metadata": {},
   "outputs": [
    {
     "data": {
      "text/plain": [
       "['11:40\\nMumbai',\n",
       " '07:45\\nMumbai',\n",
       " '11:40\\nMumbai',\n",
       " '23:05\\nMumbai',\n",
       " '13:50\\nMumbai',\n",
       " '14:45\\nMumbai',\n",
       " '16:05\\nMumbai',\n",
       " '17:35\\nMumbai',\n",
       " '18:55\\nMumbai',\n",
       " '20:45\\nMumbai',\n",
       " '22:10\\nMumbai',\n",
       " '22:10\\nMumbai',\n",
       " '09:15\\nMumbai',\n",
       " '09:15\\nMumbai',\n",
       " '11:05\\nMumbai',\n",
       " '11:05\\nMumbai',\n",
       " '04:45\\nMumbai',\n",
       " '04:45\\nMumbai',\n",
       " '08:15\\nMumbai',\n",
       " '08:15\\nMumbai',\n",
       " '06:05\\nMumbai',\n",
       " '06:05\\nMumbai',\n",
       " '07:05\\nMumbai',\n",
       " '07:05\\nMumbai',\n",
       " '13:30\\nMumbai',\n",
       " '05:55\\nMumbai',\n",
       " '16:40\\nMumbai',\n",
       " '09:55\\nMumbai',\n",
       " '05:55\\nMumbai',\n",
       " '05:35\\nMumbai',\n",
       " '21:40\\nMumbai',\n",
       " '18:05\\nMumbai',\n",
       " '20:40\\nMumbai',\n",
       " '19:20\\nMumbai',\n",
       " '15:45\\nMumbai',\n",
       " '22:15\\nMumbai',\n",
       " '14:00\\nMumbai',\n",
       " '19:45\\nMumbai',\n",
       " '21:55\\nMumbai',\n",
       " '14:40\\nMumbai',\n",
       " '22:45\\nMumbai',\n",
       " '18:30\\nMumbai',\n",
       " '20:55\\nMumbai',\n",
       " '15:45\\nMumbai',\n",
       " '16:00\\nMumbai',\n",
       " '19:20\\nMumbai',\n",
       " '18:00\\nMumbai',\n",
       " '15:40\\nMumbai',\n",
       " '14:30\\nMumbai',\n",
       " '15:25\\nMumbai',\n",
       " '13:20\\nMumbai',\n",
       " '06:10\\nMumbai',\n",
       " '16:15\\nMumbai',\n",
       " '17:30\\nMumbai',\n",
       " '16:40\\nMumbai',\n",
       " '09:55\\nMumbai',\n",
       " '05:55\\nMumbai',\n",
       " '05:55\\nMumbai',\n",
       " '06:10\\nMumbai',\n",
       " '13:20\\nMumbai',\n",
       " '15:25\\nMumbai',\n",
       " '16:15\\nMumbai',\n",
       " '09:20\\nMumbai',\n",
       " '09:55\\nMumbai',\n",
       " '11:55\\nMumbai',\n",
       " '13:40\\nMumbai',\n",
       " '09:55\\nMumbai',\n",
       " '08:45\\nMumbai',\n",
       " '12:15\\nMumbai',\n",
       " '12:15\\nMumbai',\n",
       " '05:45\\nMumbai',\n",
       " '19:20\\nMumbai',\n",
       " '19:20\\nMumbai',\n",
       " '12:15\\nMumbai',\n",
       " '12:15\\nMumbai',\n",
       " '13:40\\nMumbai',\n",
       " '07:00\\nMumbai',\n",
       " '10:55\\nMumbai',\n",
       " '16:55\\nMumbai',\n",
       " '05:35\\nMumbai',\n",
       " '07:00\\nMumbai',\n",
       " '11:10\\nMumbai',\n",
       " '10:25\\nMumbai',\n",
       " '10:55\\nMumbai',\n",
       " '11:10\\nMumbai',\n",
       " '19:15\\nMumbai',\n",
       " '19:00\\nMumbai',\n",
       " '08:00\\nMumbai',\n",
       " '11:25\\nMumbai',\n",
       " '11:25\\nMumbai',\n",
       " '05:35\\nMumbai',\n",
       " '05:45\\nMumbai',\n",
       " '05:45\\nMumbai',\n",
       " '05:45\\nMumbai',\n",
       " '08:00\\nMumbai',\n",
       " '15:00\\nMumbai',\n",
       " '10:25\\nMumbai',\n",
       " '16:40\\nMumbai',\n",
       " '16:40\\nMumbai',\n",
       " '17:15\\nMumbai',\n",
       " '17:15\\nMumbai',\n",
       " '16:55\\nMumbai',\n",
       " '21:00\\nMumbai',\n",
       " '21:00\\nMumbai',\n",
       " '21:00\\nMumbai',\n",
       " '14:25\\nMumbai',\n",
       " '07:15\\nMumbai',\n",
       " '05:40\\nMumbai',\n",
       " '05:40\\nMumbai',\n",
       " '14:25\\nMumbai',\n",
       " '18:30\\nMumbai',\n",
       " '12:00\\nMumbai',\n",
       " '14:00\\nMumbai',\n",
       " '17:00\\nMumbai',\n",
       " '14:00\\nMumbai',\n",
       " '07:10\\nMumbai',\n",
       " '20:45\\nMumbai',\n",
       " '17:20\\nMumbai',\n",
       " '09:50\\nMumbai',\n",
       " '14:20\\nMumbai',\n",
       " '12:40\\nMumbai',\n",
       " '14:20\\nMumbai',\n",
       " '08:00\\nMumbai',\n",
       " '06:10\\nMumbai',\n",
       " '18:30\\nMumbai',\n",
       " '05:55\\nMumbai',\n",
       " '05:55\\nMumbai']"
      ]
     },
     "execution_count": 50,
     "metadata": {},
     "output_type": "execute_result"
    }
   ],
   "source": [
    "arrival[132:]"
   ]
  },
  {
   "cell_type": "code",
   "execution_count": 51,
   "metadata": {},
   "outputs": [],
   "source": [
    "for i in arrival_tags[1::2]:\n",
    "    departure.append(i.text)    "
   ]
  },
  {
   "cell_type": "code",
   "execution_count": 52,
   "metadata": {},
   "outputs": [
    {
     "data": {
      "text/plain": [
       "259"
      ]
     },
     "execution_count": 52,
     "metadata": {},
     "output_type": "execute_result"
    }
   ],
   "source": [
    "len(departure)"
   ]
  },
  {
   "cell_type": "code",
   "execution_count": 53,
   "metadata": {},
   "outputs": [],
   "source": [
    "duration_tags=driver.find_elements_by_xpath(\"/html/body/section[2]/div/div[1]/div/div[2]/div/div/div/div/span\")"
   ]
  },
  {
   "cell_type": "code",
   "execution_count": 54,
   "metadata": {},
   "outputs": [],
   "source": [
    "for i in duration_tags[1::3]:\n",
    "    duration.append(i.text)"
   ]
  },
  {
   "cell_type": "code",
   "execution_count": 55,
   "metadata": {},
   "outputs": [
    {
     "data": {
      "text/plain": [
       "['2h 10m\\nNon Stop',\n",
       " '2h 20m\\nNon Stop',\n",
       " '2h 00m\\nNon Stop',\n",
       " '2h 10m\\nNon Stop',\n",
       " '2h 10m\\nNon Stop',\n",
       " '2h 00m\\nNon Stop',\n",
       " '2h 05m\\nNon Stop',\n",
       " '2h 15m\\nNon Stop',\n",
       " '2h 05m\\nNon Stop',\n",
       " '2h 05m\\nNon Stop',\n",
       " '2h 15m\\nNon Stop',\n",
       " '2h 25m\\nNon Stop',\n",
       " '2h 20m\\nNon Stop',\n",
       " '2h 15m\\nNon Stop',\n",
       " '2h 15m\\nNon Stop',\n",
       " '2h 20m\\nNon Stop',\n",
       " '2h 10m\\nNon Stop',\n",
       " '2h 00m\\nNon Stop',\n",
       " '2h 25m\\nNon Stop',\n",
       " '2h 15m\\nNon Stop',\n",
       " '2h 05m\\nNon Stop',\n",
       " '2h 05m\\nNon Stop',\n",
       " '2h 15m\\nNon Stop',\n",
       " '2h 05m\\nNon Stop',\n",
       " '2h 10m\\nNon Stop',\n",
       " '2h 05m\\nNon Stop',\n",
       " '2h 05m\\nNon Stop',\n",
       " '2h 05m\\nNon Stop',\n",
       " '2h 10m\\nNon Stop',\n",
       " '2h 05m\\nNon Stop',\n",
       " '2h 10m\\nNon Stop',\n",
       " '2h 10m\\nNon Stop',\n",
       " '2h 10m\\nNon Stop',\n",
       " '2h 10m\\nNon Stop',\n",
       " '2h 15m\\nNon Stop',\n",
       " '2h 05m\\nNon Stop',\n",
       " '1h 55m\\nNon Stop',\n",
       " '2h 00m\\nNon Stop',\n",
       " '2h 05m\\nNon Stop',\n",
       " '5h 35m\\n1 Stop',\n",
       " '5h 50m\\n1 Stop',\n",
       " '2h 05m\\nNon Stop',\n",
       " '2h 05m\\nNon Stop',\n",
       " '2h 05m\\nNon Stop',\n",
       " '4h 40m\\n1 Stop',\n",
       " '2h 10m\\nNon Stop',\n",
       " '2h 20m\\nNon Stop',\n",
       " '2h 20m\\nNon Stop',\n",
       " '2h 15m\\nNon Stop',\n",
       " '2h 10m\\nNon Stop',\n",
       " '2h 10m\\nNon Stop',\n",
       " '2h 05m\\nNon Stop',\n",
       " '3h 35m\\nNon Stop',\n",
       " '3h 10m\\nNon Stop',\n",
       " '2h 15m\\nNon Stop',\n",
       " '2h 15m\\nNon Stop',\n",
       " '2h 10m\\nNon Stop',\n",
       " '2h 10m\\nNon Stop',\n",
       " '3h 35m\\n1 Stop',\n",
       " '4h 55m\\n1 Stop',\n",
       " '5h 40m\\n1 Stop',\n",
       " '4h 25m\\n1 Stop',\n",
       " '4h 15m\\n1 Stop',\n",
       " '2h 10m\\nNon Stop',\n",
       " '2h 10m\\nNon Stop',\n",
       " '2h 20m\\nNon Stop',\n",
       " '4h 55m\\n1 Stop',\n",
       " '5h 40m\\n1 Stop',\n",
       " '4h 25m\\n1 Stop',\n",
       " '4h 15m\\n1 Stop',\n",
       " '5h 50m\\n1 Stop',\n",
       " '2h 10m\\nNon Stop',\n",
       " '17h 40m\\n1 Stop',\n",
       " '13h 40m\\n1 Stop',\n",
       " '5h 50m\\n1 Stop',\n",
       " '5h 25m\\n1 Stop',\n",
       " '4h 00m\\n1 Stop',\n",
       " '2h 00m\\nNon Stop',\n",
       " '5h 25m\\n1 Stop',\n",
       " '4h 00m\\n1 Stop',\n",
       " '17h 45m\\n1 Stop',\n",
       " '23h 50m\\n1 Stop',\n",
       " '3h 55m\\n1 Stop',\n",
       " '7h 55m\\n1 Stop',\n",
       " '4h 25m\\n1 Stop',\n",
       " '11h 05m\\n1 Stop',\n",
       " '6h 35m\\n1 Stop',\n",
       " '7h 05m\\n1 Stop',\n",
       " '14h 30m\\n1 Stop',\n",
       " '22h 50m\\n1 Stop',\n",
       " '8h 15m\\n1 Stop',\n",
       " '5h 15m\\n1 Stop',\n",
       " '16h 55m\\n1 Stop',\n",
       " '17h 00m\\n1 Stop',\n",
       " '6h 35m\\n1 Stop',\n",
       " '4h 15m\\n1 Stop',\n",
       " '2h 15m\\nNon Stop',\n",
       " '14h 55m\\n1 Stop',\n",
       " '8h 20m\\n1 Stop',\n",
       " '7h 35m\\n1 Stop',\n",
       " '6h 45m\\n1 Stop',\n",
       " '5h 25m\\n1 Stop',\n",
       " '14h 55m\\n1 Stop',\n",
       " '8h 20m\\n1 Stop',\n",
       " '7h 35m\\n1 Stop',\n",
       " '4h 15m\\n1 Stop',\n",
       " '2h 05m\\nNon Stop',\n",
       " '5h 15m\\n1 Stop',\n",
       " '8h 45m\\n1 Stop',\n",
       " '11h 45m\\n1 Stop',\n",
       " '23h 35m\\n1 Stop',\n",
       " '25h 10m\\n1 Stop',\n",
       " '5h 15m\\n1 Stop',\n",
       " '11h 00m\\n1 Stop',\n",
       " '11h 25m\\n1 Stop',\n",
       " '26h 00m\\n1 Stop',\n",
       " '5h 30m\\n1 Stop',\n",
       " '16h 55m\\n1 Stop',\n",
       " '14h 35m\\n1 Stop',\n",
       " '23h 50m\\n1 Stop',\n",
       " '4h 50m\\n1 Stop',\n",
       " '6h 45m\\n1 Stop',\n",
       " '5h 55m\\n1 Stop',\n",
       " '5h 00m\\n1 Stop',\n",
       " '2h 25m\\nNon Stop',\n",
       " '2h 05m\\nNon Stop',\n",
       " '2h 15m\\nNon Stop',\n",
       " '2h 00m\\nNon Stop',\n",
       " '2h 05m\\nNon Stop',\n",
       " '2h 05m\\nNon Stop',\n",
       " '2h 00m\\nNon Stop',\n",
       " '2h 00m\\nNon Stop',\n",
       " '2h 20m\\nNon Stop',\n",
       " '2h 15m\\nNon Stop',\n",
       " '2h 20m\\nNon Stop',\n",
       " '2h 00m\\nNon Stop',\n",
       " '2h 05m\\nNon Stop',\n",
       " '2h 15m\\nNon Stop',\n",
       " '2h 00m\\nNon Stop',\n",
       " '2h 05m\\nNon Stop',\n",
       " '2h 05m\\nNon Stop',\n",
       " '2h 00m\\nNon Stop',\n",
       " '2h 05m\\nNon Stop',\n",
       " '2h 05m\\nNon Stop',\n",
       " '2h 05m\\nNon Stop',\n",
       " '2h 05m\\nNon Stop',\n",
       " '2h 15m\\nNon Stop',\n",
       " '2h 15m\\nNon Stop',\n",
       " '2h 15m\\nNon Stop',\n",
       " '2h 15m\\nNon Stop',\n",
       " '2h 10m\\nNon Stop',\n",
       " '2h 10m\\nNon Stop',\n",
       " '2h 10m\\nNon Stop',\n",
       " '2h 10m\\nNon Stop',\n",
       " '2h 10m\\nNon Stop',\n",
       " '2h 10m\\nNon Stop',\n",
       " '2h 10m\\nNon Stop',\n",
       " '11h 50m\\n1 Stop',\n",
       " '9h 55m\\n1 Stop',\n",
       " '10h 25m\\n1 Stop',\n",
       " '13h 20m\\n1 Stop',\n",
       " '8h 05m\\n1 Stop',\n",
       " '2h 10m\\nNon Stop',\n",
       " '5h 50m\\n1 Stop',\n",
       " '2h 05m\\nNon Stop',\n",
       " '2h 05m\\nNon Stop',\n",
       " '2h 05m\\nNon Stop',\n",
       " '2h 05m\\nNon Stop',\n",
       " '6h 45m\\n1 Stop',\n",
       " '2h 10m\\nNon Stop',\n",
       " '2h 15m\\nNon Stop',\n",
       " '2h 15m\\nNon Stop',\n",
       " '2h 10m\\nNon Stop',\n",
       " '2h 10m\\nNon Stop',\n",
       " '2h 05m\\nNon Stop',\n",
       " '2h 20m\\nNon Stop',\n",
       " '2h 20m\\nNon Stop',\n",
       " '2h 15m\\nNon Stop',\n",
       " '2h 30m\\nNon Stop',\n",
       " '3h 40m\\nNon Stop',\n",
       " '3h 20m\\n1 Stop',\n",
       " '5h 15m\\n1 Stop',\n",
       " '5h 55m\\n1 Stop',\n",
       " '5h 30m\\n1 Stop',\n",
       " '6h 00m\\n1 Stop',\n",
       " '2h 10m\\nNon Stop',\n",
       " '9h 55m\\n1 Stop',\n",
       " '10h 25m\\n1 Stop',\n",
       " '13h 20m\\n1 Stop',\n",
       " '11h 50m\\n1 Stop',\n",
       " '5h 30m\\n1 Stop',\n",
       " '5h 55m\\n1 Stop',\n",
       " '5h 15m\\n1 Stop',\n",
       " '6h 00m\\n1 Stop',\n",
       " '2h 00m\\nNon Stop',\n",
       " '8h 55m\\n1 Stop',\n",
       " '2h 10m\\nNon Stop',\n",
       " '6h 00m\\n1 Stop',\n",
       " '8h 55m\\n1 Stop',\n",
       " '2h 15m\\nNon Stop',\n",
       " '10h 20m\\n1 Stop',\n",
       " '12h 20m\\n1 Stop',\n",
       " '17h 40m\\n1 Stop',\n",
       " '4h 05m\\n1 Stop',\n",
       " '20h 35m\\n1 Stop',\n",
       " '10h 20m\\n1 Stop',\n",
       " '12h 20m\\n1 Stop',\n",
       " '6h 00m\\n1 Stop',\n",
       " '2h 10m\\nNon Stop',\n",
       " '5h 20m\\n1 Stop',\n",
       " '7h 00m\\n1 Stop',\n",
       " '5h 15m\\n1 Stop',\n",
       " '3h 45m\\n1 Stop',\n",
       " '5h 00m\\n1 Stop',\n",
       " '2h 15m\\nNon Stop',\n",
       " '5h 20m\\n1 Stop',\n",
       " '5h 00m\\n1 Stop',\n",
       " '27h 35m\\n1 Stop',\n",
       " '15h 00m\\n1 Stop',\n",
       " '16h 45m\\n1 Stop',\n",
       " '11h 25m\\n1 Stop',\n",
       " '8h 45m\\n1 Stop',\n",
       " '5h 15m\\n1 Stop',\n",
       " '8h 05m\\n1 Stop',\n",
       " '17h 50m\\n1 Stop',\n",
       " '17h 05m\\n1 Stop',\n",
       " '16h 45m\\n1 Stop',\n",
       " '5h 40m\\n1 Stop',\n",
       " '27h 20m\\n1 Stop',\n",
       " '8h 05m\\n1 Stop',\n",
       " '8h 05m\\n1 Stop',\n",
       " '5h 30m\\n1 Stop',\n",
       " '15h 30m\\n1 Stop',\n",
       " '21h 50m\\n1 Stop',\n",
       " '12h 40m\\n1 Stop',\n",
       " '13h 40m\\n1 Stop',\n",
       " '17h 10m\\n1 Stop',\n",
       " '5h 10m\\n1 Stop',\n",
       " '16h 25m\\n1 Stop',\n",
       " '7h 20m\\n1 Stop',\n",
       " '27h 15m\\n1 Stop',\n",
       " '5h 10m\\n1 Stop',\n",
       " '5h 25m\\n1 Stop',\n",
       " '11h 15m\\n1 Stop',\n",
       " '8h 45m\\n1 Stop',\n",
       " '16h 35m\\n1 Stop',\n",
       " '19h 35m\\n1 Stop',\n",
       " '6h 25m\\n1 Stop',\n",
       " '12h 30m\\n1 Stop',\n",
       " '6h 00m\\n1 Stop',\n",
       " '13h 00m\\n1 Stop',\n",
       " '26h 10m\\n1 Stop',\n",
       " '7h 15m\\n1 Stop',\n",
       " '5h 35m\\n1 Stop',\n",
       " '6h 50m\\n1 Stop',\n",
       " '6h 55m\\n1 Stop',\n",
       " '15h 25m\\n1 Stop',\n",
       " '5h 00m\\n1 Stop',\n",
       " '5h 00m\\n1 Stop']"
      ]
     },
     "execution_count": 55,
     "metadata": {},
     "output_type": "execute_result"
    }
   ],
   "source": [
    "duration"
   ]
  },
  {
   "cell_type": "code",
   "execution_count": 56,
   "metadata": {},
   "outputs": [
    {
     "data": {
      "text/plain": [
       "259"
      ]
     },
     "execution_count": 56,
     "metadata": {},
     "output_type": "execute_result"
    }
   ],
   "source": [
    "len(duration)"
   ]
  },
  {
   "cell_type": "code",
   "execution_count": 57,
   "metadata": {},
   "outputs": [],
   "source": [
    "price_tags=driver.find_elements_by_xpath(\"/html/body/section[2]/div/div[1]/div/div[2]/div/div/p\")"
   ]
  },
  {
   "cell_type": "code",
   "execution_count": 58,
   "metadata": {},
   "outputs": [],
   "source": [
    "for i in price_tags[1::3]:\n",
    "    price.append(i.text)"
   ]
  },
  {
   "cell_type": "code",
   "execution_count": 59,
   "metadata": {},
   "outputs": [
    {
     "data": {
      "text/plain": [
       "259"
      ]
     },
     "execution_count": 59,
     "metadata": {},
     "output_type": "execute_result"
    }
   ],
   "source": [
    "len(price)"
   ]
  },
  {
   "cell_type": "code",
   "execution_count": 60,
   "metadata": {},
   "outputs": [],
   "source": [
    "from_tag=driver.find_element_by_xpath(\"/html/body/div[6]/ul/li[3]/span\")"
   ]
  },
  {
   "cell_type": "code",
   "execution_count": 61,
   "metadata": {},
   "outputs": [],
   "source": [
    "from_tag.click()"
   ]
  },
  {
   "cell_type": "code",
   "execution_count": 62,
   "metadata": {},
   "outputs": [],
   "source": [
    "search_btn=driver.find_element_by_xpath(\"//*[@id='modifysearch']\")"
   ]
  },
  {
   "cell_type": "code",
   "execution_count": 63,
   "metadata": {},
   "outputs": [],
   "source": [
    "search_btn.click()"
   ]
  },
  {
   "cell_type": "code",
   "execution_count": 64,
   "metadata": {},
   "outputs": [],
   "source": [
    "elements_tags=driver.find_elements_by_xpath(\"/html/body/section[2]/div/div[1]/div/div[2]/div/div/div/div/span\")"
   ]
  },
  {
   "cell_type": "code",
   "execution_count": 65,
   "metadata": {},
   "outputs": [
    {
     "data": {
      "text/plain": [
       "414"
      ]
     },
     "execution_count": 65,
     "metadata": {},
     "output_type": "execute_result"
    }
   ],
   "source": [
    "len(elements_tags)"
   ]
  },
  {
   "cell_type": "code",
   "execution_count": 66,
   "metadata": {},
   "outputs": [],
   "source": [
    "for i in elements_tags[0::3]:\n",
    "    elements.append(i.text)"
   ]
  },
  {
   "cell_type": "code",
   "execution_count": 67,
   "metadata": {},
   "outputs": [
    {
     "data": {
      "text/plain": [
       "397"
      ]
     },
     "execution_count": 67,
     "metadata": {},
     "output_type": "execute_result"
    }
   ],
   "source": [
    "len(elements)"
   ]
  },
  {
   "cell_type": "code",
   "execution_count": 68,
   "metadata": {},
   "outputs": [
    {
     "data": {
      "text/plain": [
       "['SpiceJet\\nSG 8184',\n",
       " 'SpiceJet\\nSG 507',\n",
       " 'SpiceJet\\nSG 611',\n",
       " 'SpiceJet\\nSG 757',\n",
       " 'Indigo\\n6E 2339',\n",
       " 'Indigo\\n6E 2292',\n",
       " 'Indigo\\n6E 2215',\n",
       " 'Indigo\\n6E 2702',\n",
       " 'Indigo\\n6E 5203',\n",
       " 'Indigo\\n6E 6202',\n",
       " 'Indigo\\n6E 171',\n",
       " 'Indigo\\n6E 2293',\n",
       " 'Air Asia\\nI5 482',\n",
       " 'Air Asia\\nI5 834',\n",
       " 'Air Asia\\nI5 834',\n",
       " 'Air Asia\\nI5 482',\n",
       " 'Indigo\\n6E 2339',\n",
       " 'Indigo\\n6E 2292',\n",
       " 'Indigo\\n6E 2293',\n",
       " 'Indigo\\n6E 2702',\n",
       " 'Indigo\\n6E 2215',\n",
       " 'Indigo\\n6E 6202',\n",
       " 'Indigo\\n6E 171',\n",
       " 'Indigo\\n6E 5203',\n",
       " 'Indigo\\n6E 6125',\n",
       " 'Indigo\\n6E 5071',\n",
       " 'Indigo\\n6E 2186',\n",
       " 'Indigo\\n6E 2186',\n",
       " 'Indigo\\n6E 6125',\n",
       " 'Indigo\\n6E 5071',\n",
       " 'Indigo\\n6E 6387',\n",
       " 'Indigo\\n6E 2576',\n",
       " 'Indigo\\n6E 2576',\n",
       " 'Indigo\\n6E 6387',\n",
       " 'SpiceJet\\nSG 8701',\n",
       " 'GO FIRST\\nG8 530',\n",
       " 'GO FIRST\\nG8 323',\n",
       " 'GO FIRST\\nG8 334',\n",
       " 'GO FIRST\\nG8 336',\n",
       " 'GO FIRST\\nG8 717',\n",
       " 'GO FIRST\\nG8 2511',\n",
       " 'GO FIRST\\nG8 354',\n",
       " 'GO FIRST\\nG8 330',\n",
       " 'GO FIRST\\nG8 346',\n",
       " 'GO FIRST\\nG8 188',\n",
       " 'Vistara\\nUK 993',\n",
       " 'Vistara\\nUK 977',\n",
       " 'Vistara\\nUK 955',\n",
       " 'Vistara\\nUK 985',\n",
       " 'Vistara\\nUK 981',\n",
       " 'Vistara\\nUK 941',\n",
       " 'Vistara\\nUK 933',\n",
       " 'Air India\\nAI 441',\n",
       " 'Air India\\nAI 636',\n",
       " 'Air India\\nAI 624',\n",
       " 'Air India\\nAI 678',\n",
       " 'Air India\\nAI 665',\n",
       " 'Air India\\nAI 865',\n",
       " 'SpiceJet\\nSG 3001',\n",
       " 'Indigo\\n6E 5076',\n",
       " 'Indigo\\n6E 2733',\n",
       " 'Indigo\\n6E 2516',\n",
       " 'Indigo\\n6E 2136',\n",
       " 'Vistara\\nUK 995',\n",
       " 'Air India\\nAI 805',\n",
       " 'Vistara\\nUK 963',\n",
       " 'Indigo\\n6E 5076',\n",
       " 'Indigo\\n6E 2733',\n",
       " 'Indigo\\n6E 2516',\n",
       " 'Indigo\\n6E 2136',\n",
       " 'Indigo\\n6E 2615',\n",
       " 'Vistara\\nUK 927',\n",
       " 'Air India\\nAI 435',\n",
       " 'Air India\\nAI 437',\n",
       " 'Indigo\\n6E 2615',\n",
       " 'Indigo\\n6E 6019',\n",
       " 'Indigo\\n6E 2278',\n",
       " 'Vistara\\nUK 975',\n",
       " 'Indigo\\n6E 6019',\n",
       " 'Indigo\\n6E 2278',\n",
       " 'Air India\\nAI 469',\n",
       " 'Air India\\nAI 531',\n",
       " 'Air India\\nAI 435',\n",
       " 'Vistara\\nUK 667',\n",
       " 'Vistara\\nUK 637',\n",
       " 'Air India\\nAI 469',\n",
       " 'Air Asia\\nI5 744',\n",
       " 'Air India\\nAI 477',\n",
       " 'Air India\\nAI 477',\n",
       " 'Air India\\nAI 811',\n",
       " 'Vistara\\nUK 899',\n",
       " 'Vistara\\nUK 879',\n",
       " 'Vistara\\nUK 879',\n",
       " 'Air India\\nAI 477',\n",
       " 'Air Asia\\nI5 744',\n",
       " 'Indigo\\n6E 2567',\n",
       " 'Vistara\\nUK 943',\n",
       " 'Air Asia\\nI5 779',\n",
       " 'Air Asia\\nI5 775',\n",
       " 'Air Asia\\nI5 798',\n",
       " 'GO FIRST\\nG8 131',\n",
       " 'Air India\\nAI 406',\n",
       " 'Air Asia\\nI5 779',\n",
       " 'Air Asia\\nI5 775',\n",
       " 'Air Asia\\nI5 798',\n",
       " 'Indigo\\n6E 2567',\n",
       " 'Air India\\nAI 887',\n",
       " 'Indigo\\n6E 2083',\n",
       " 'Air India\\nAI 453',\n",
       " 'Vistara\\nUK 807',\n",
       " 'Vistara\\nUK 807',\n",
       " 'Vistara\\nUK 807',\n",
       " 'Indigo\\n6E 2083',\n",
       " 'Air India\\nAI 439',\n",
       " 'Air India\\nAI 540',\n",
       " 'Air India\\nAI 439',\n",
       " 'Vistara\\nUK 837',\n",
       " 'Vistara\\nUK 837',\n",
       " 'Vistara\\nUK 835',\n",
       " 'Air India\\nAI 484',\n",
       " 'GO FIRST\\nG8 194',\n",
       " 'GO FIRST\\nG8 194',\n",
       " 'GO FIRST\\nG8 199',\n",
       " 'GO FIRST\\nG8 286',\n",
       " 'SpiceJet\\nSG 8158',\n",
       " 'Indigo\\n6E 2216',\n",
       " 'Indigo\\n6E 5519',\n",
       " 'Indigo\\n6E 6673',\n",
       " 'Indigo\\n6E 2184',\n",
       " 'Indigo\\n6E 2338',\n",
       " 'Indigo\\n6E 2056',\n",
       " 'Air Asia\\nI5 330',\n",
       " 'Air Asia\\nI5 828',\n",
       " 'SpiceJet\\nSG 8185',\n",
       " 'Air Asia\\nI5 828',\n",
       " 'Air Asia\\nI5 330',\n",
       " 'Indigo\\n6E 2216',\n",
       " 'Indigo\\n6E 5519',\n",
       " 'Indigo\\n6E 6673',\n",
       " 'Indigo\\n6E 2184',\n",
       " 'Indigo\\n6E 2338',\n",
       " 'Indigo\\n6E 2056',\n",
       " 'Indigo\\n6E 2291',\n",
       " 'Indigo\\n6E 2291',\n",
       " 'Indigo\\n6E 6126',\n",
       " 'Indigo\\n6E 6126',\n",
       " 'Indigo\\n6E 168',\n",
       " 'Indigo\\n6E 168',\n",
       " 'Indigo\\n6E 2575',\n",
       " 'Indigo\\n6E 2575',\n",
       " 'Indigo\\n6E 2703',\n",
       " 'Indigo\\n6E 2703',\n",
       " 'Indigo\\n6E 5047',\n",
       " 'Indigo\\n6E 5047',\n",
       " 'Indigo\\n6E 169',\n",
       " 'Indigo\\n6E 169',\n",
       " 'SpiceJet\\nSG 756',\n",
       " 'Air Asia\\nI5 620',\n",
       " 'Air Asia\\nI5 678',\n",
       " 'Air Asia\\nI5 631',\n",
       " 'Air Asia\\nI5 620',\n",
       " 'GO FIRST\\nG8 575',\n",
       " 'GO FIRST\\nG8 322',\n",
       " 'GO FIRST\\nG8 398',\n",
       " 'GO FIRST\\nG8 341',\n",
       " 'GO FIRST\\nG8 339',\n",
       " 'GO FIRST\\nG8 319',\n",
       " 'GO FIRST\\nG8 345',\n",
       " 'GO FIRST\\nG8 351',\n",
       " 'Vistara\\nUK 940',\n",
       " 'Vistara\\nUK 950',\n",
       " 'Vistara\\nUK 944',\n",
       " 'Vistara\\nUK 986',\n",
       " 'Vistara\\nUK 996',\n",
       " 'Vistara\\nUK 988',\n",
       " 'Vistara\\nUK 902',\n",
       " 'Air India\\nAI 687',\n",
       " 'Air India\\nAI 888',\n",
       " 'Air India\\nAI 660',\n",
       " 'Air India\\nAI 442',\n",
       " 'SpiceJet\\nSG 3004',\n",
       " 'Indigo\\n6E 5568',\n",
       " 'Indigo\\n6E 201',\n",
       " 'Indigo\\n6E 6182',\n",
       " 'Indigo\\n6E 5392',\n",
       " 'Vistara\\nUK 910',\n",
       " 'Air Asia\\nI5 678',\n",
       " 'Air Asia\\nI5 631',\n",
       " 'Air Asia\\nI5 620',\n",
       " 'Air Asia\\nI5 620',\n",
       " 'Indigo\\n6E 6182',\n",
       " 'Indigo\\n6E 201',\n",
       " 'Indigo\\n6E 5568',\n",
       " 'Indigo\\n6E 5392',\n",
       " 'GO FIRST\\nG8 327',\n",
       " 'Air Asia\\nI5 631',\n",
       " 'Vistara\\nUK 960',\n",
       " 'Indigo\\n6E 385',\n",
       " 'Air Asia\\nI5 631',\n",
       " 'Vistara\\nUK 970',\n",
       " 'Air Asia\\nI5 942',\n",
       " 'Air Asia\\nI5 942',\n",
       " 'Air India\\nAI 633',\n",
       " 'Air India\\nAI 631',\n",
       " 'Air India\\nAI 631',\n",
       " 'Air Asia\\nI5 942',\n",
       " 'Air Asia\\nI5 942',\n",
       " 'Indigo\\n6E 385',\n",
       " 'Air India\\nAI 864',\n",
       " 'Indigo\\n6E 567',\n",
       " 'Air India\\nAI 637',\n",
       " 'Indigo\\n6E 749',\n",
       " 'GO FIRST\\nG8 365',\n",
       " 'Indigo\\n6E 918',\n",
       " 'Vistara\\nUK 994',\n",
       " 'Indigo\\n6E 567',\n",
       " 'Indigo\\n6E 918',\n",
       " 'Vistara\\nUK 875',\n",
       " 'Air India\\nAI 629',\n",
       " 'Air Asia\\nI5 432',\n",
       " 'Vistara\\nUK 877',\n",
       " 'Vistara\\nUK 877',\n",
       " 'Indigo\\n6E 749',\n",
       " 'Air India\\nAI 615',\n",
       " 'Air India\\nAI 615',\n",
       " 'Air India\\nAI 615',\n",
       " 'Air Asia\\nI5 432',\n",
       " 'GO FIRST\\nG8 349',\n",
       " 'Air India\\nAI 695',\n",
       " 'Air Asia\\nI5 678',\n",
       " 'Air Asia\\nI5 678',\n",
       " 'Air India\\nAI 607',\n",
       " 'Air India\\nAI 607',\n",
       " 'Air India\\nAI 637',\n",
       " 'Vistara\\nUK 857',\n",
       " 'Vistara\\nUK 857',\n",
       " 'Vistara\\nUK 857',\n",
       " 'Indigo\\n6E 176',\n",
       " 'Air India\\nAI 649',\n",
       " 'Air India\\nAI 570',\n",
       " 'Air India\\nAI 570',\n",
       " 'Indigo\\n6E 176',\n",
       " 'Vistara\\nUK 823',\n",
       " 'Air India\\nAI 669',\n",
       " 'Vistara\\nUK 775',\n",
       " 'Vistara\\nUK 773',\n",
       " 'Vistara\\nUK 775',\n",
       " 'Vistara\\nUK 821',\n",
       " 'Air India\\nAI 774',\n",
       " 'GO FIRST\\nG8 397',\n",
       " 'Air India\\nAI 651',\n",
       " 'Air India\\nAI 643',\n",
       " 'GO FIRST\\nG8 331',\n",
       " 'GO FIRST\\nG8 312',\n",
       " 'GO FIRST\\nG8 511',\n",
       " 'Air India\\nAI 675',\n",
       " 'Vistara\\nUK 823',\n",
       " 'Air Asia\\nI5 620',\n",
       " 'Air Asia\\nI5 620',\n",
       " 'SpiceJet\\nSG 552',\n",
       " 'SpiceJet\\nSG 190',\n",
       " 'SpiceJet\\nSG 1198',\n",
       " 'Indigo\\n6E 2453',\n",
       " 'Indigo\\n6E 2106',\n",
       " 'Indigo\\n6E 2271',\n",
       " 'Indigo\\n6E 2363',\n",
       " 'Indigo\\n6E 2087',\n",
       " 'Indigo\\n6E 2301',\n",
       " 'Indigo\\n6E 5082',\n",
       " 'Air Asia\\nI5 722',\n",
       " 'Air Asia\\nI5 996',\n",
       " 'Air Asia\\nI5 741',\n",
       " 'Air Asia\\nI5 722',\n",
       " 'Air Asia\\nI5 741',\n",
       " 'Air Asia\\nI5 996',\n",
       " 'Indigo\\n6E 5082',\n",
       " 'Indigo\\n6E 2301',\n",
       " 'Indigo\\n6E 2106',\n",
       " 'Indigo\\n6E 2453',\n",
       " 'Indigo\\n6E 2363',\n",
       " 'Indigo\\n6E 2271',\n",
       " 'Indigo\\n6E 2087',\n",
       " 'Indigo\\n6E 5824',\n",
       " 'Indigo\\n6E 5824',\n",
       " 'Air Asia\\nI5 941',\n",
       " 'Air Asia\\nI5 1321',\n",
       " 'Air Asia\\nI5 925',\n",
       " 'Air Asia\\nI5 1451',\n",
       " 'Air Asia\\nI5 1982',\n",
       " 'Air Asia\\nI5 1621',\n",
       " 'Air Asia\\nI5 1325',\n",
       " 'Air Asia\\nI5 2469',\n",
       " 'Air Asia\\nI5 972',\n",
       " 'Air Asia\\nI5 1321',\n",
       " 'Air Asia\\nI5 991',\n",
       " 'GO FIRST\\nG8 401',\n",
       " 'GO FIRST\\nG8 873',\n",
       " 'GO FIRST\\nG8 873',\n",
       " 'GO FIRST\\nG8 873',\n",
       " 'GO FIRST\\nG8 813',\n",
       " 'GO FIRST\\nG8 395',\n",
       " 'GO FIRST\\nG8 118',\n",
       " 'GO FIRST\\nG8 808',\n",
       " 'GO FIRST\\nG8 116',\n",
       " 'SpiceJet\\nSG 3010',\n",
       " 'SpiceJet\\nSG 768',\n",
       " 'SpiceJet\\nSG 3425',\n",
       " 'SpiceJet\\nSG 211',\n",
       " 'SpiceJet\\nSG 3010',\n",
       " 'SpiceJet\\nSG 768',\n",
       " 'Indigo\\n6E 537',\n",
       " 'Indigo\\n6E 466',\n",
       " 'Indigo\\n6E 7301',\n",
       " 'Indigo\\n6E 807',\n",
       " 'Indigo\\n6E 6491',\n",
       " 'Indigo\\n6E 469',\n",
       " 'Indigo\\n6E 6802',\n",
       " 'Indigo\\n6E 638',\n",
       " 'Vistara\\nUK 818',\n",
       " 'Vistara\\nUK 814',\n",
       " 'Vistara\\nUK 820',\n",
       " 'Air India\\nAI 804',\n",
       " 'Air India\\nAI 505',\n",
       " 'Air India\\nAI 501',\n",
       " 'Air India\\nAI 508',\n",
       " 'Air India\\nAI 503',\n",
       " 'Vistara\\nUK 808',\n",
       " 'Air Asia\\nI5 1428',\n",
       " 'Vistara\\nUK 816',\n",
       " 'Air Asia\\nI5 991',\n",
       " 'Air Asia\\nI5 1321',\n",
       " 'Air Asia\\nI5 972',\n",
       " 'Air Asia\\nI5 2469',\n",
       " 'Air Asia\\nI5 1325',\n",
       " 'Air Asia\\nI5 1321',\n",
       " 'Air Asia\\nI5 1982',\n",
       " 'Air Asia\\nI5 1451',\n",
       " 'Air Asia\\nI5 925',\n",
       " 'Air Asia\\nI5 941',\n",
       " 'Air Asia\\nI5 1621',\n",
       " 'SpiceJet\\nSG 3023',\n",
       " 'Air Asia\\nI5 1428',\n",
       " 'Indigo\\n6E 6802',\n",
       " 'Indigo\\n6E 7301',\n",
       " 'Indigo\\n6E 6491',\n",
       " 'Indigo\\n6E 469',\n",
       " 'Indigo\\n6E 537',\n",
       " 'Indigo\\n6E 466',\n",
       " 'Indigo\\n6E 638',\n",
       " 'Indigo\\n6E 807',\n",
       " 'Vistara\\nUK 810',\n",
       " 'Indigo\\n6E 484',\n",
       " 'Indigo\\n6E 415',\n",
       " 'Indigo\\n6E 415',\n",
       " 'Indigo\\n6E 484',\n",
       " 'Air India\\nAI 9517',\n",
       " 'Air India\\nAI 9876',\n",
       " 'Vistara\\nUK 897',\n",
       " 'Vistara\\nUK 897',\n",
       " 'Air India\\nAI 516',\n",
       " 'Air India\\nAI 516',\n",
       " 'Air India\\nAI 523',\n",
       " 'Air India\\nAI 523',\n",
       " 'Vistara\\nUK 854',\n",
       " 'Vistara\\nUK 850',\n",
       " 'Air India\\nAI 640',\n",
       " 'Air India\\nAI 604',\n",
       " 'SpiceJet\\nSG 3023',\n",
       " 'GO FIRST\\nG8 385',\n",
       " 'Air India\\nAI 738',\n",
       " 'Air India\\nAI 604',\n",
       " 'Air India\\nAI 640',\n",
       " 'Air India\\nAI 640',\n",
       " 'Air India\\nAI 604',\n",
       " 'Air India\\nAI 738',\n",
       " 'Vistara\\nUK 717',\n",
       " 'Air India\\nAI 573',\n",
       " 'Air India\\nAI 573',\n",
       " 'Air India\\nAI 772',\n",
       " 'Vistara\\nUK 866',\n",
       " 'GO FIRST\\nG8 819',\n",
       " 'Vistara\\nUK 866',\n",
       " 'Air India\\nAI 9505',\n",
       " 'SpiceJet\\nSG 3233',\n",
       " 'Air India\\nAI 640',\n",
       " 'Air India\\nAI 610',\n",
       " 'Air Asia\\nI5 634',\n",
       " 'Air Asia\\nI5 634',\n",
       " 'Vistara\\nUK 867',\n",
       " 'Vistara\\nUK 867',\n",
       " 'Air Asia\\nI5 2392',\n",
       " 'GO FIRST\\nG8 986',\n",
       " 'Air Asia\\nI5 2392',\n",
       " 'SpiceJet\\nSG 3233',\n",
       " 'Air India\\nAI 772',\n",
       " 'Air Asia\\nI5 1324',\n",
       " 'Air Asia\\nI5 1324']"
      ]
     },
     "execution_count": 68,
     "metadata": {},
     "output_type": "execute_result"
    }
   ],
   "source": [
    "elements"
   ]
  },
  {
   "cell_type": "code",
   "execution_count": 69,
   "metadata": {},
   "outputs": [],
   "source": [
    "arrival_tags=driver.find_elements_by_xpath(\"/html/body/section[2]/div/div[1]/div/div[2]/div/div/div/div/div/b\")"
   ]
  },
  {
   "cell_type": "code",
   "execution_count": 70,
   "metadata": {},
   "outputs": [],
   "source": [
    "for i in arrival_tags[0::2]:\n",
    "    arrival.append(i.text)"
   ]
  },
  {
   "cell_type": "code",
   "execution_count": 71,
   "metadata": {},
   "outputs": [
    {
     "data": {
      "text/plain": [
       "397"
      ]
     },
     "execution_count": 71,
     "metadata": {},
     "output_type": "execute_result"
    }
   ],
   "source": [
    "len(arrival)"
   ]
  },
  {
   "cell_type": "code",
   "execution_count": 72,
   "metadata": {},
   "outputs": [],
   "source": [
    "for i in arrival_tags[1::2]:\n",
    "    departure.append(i.text)    "
   ]
  },
  {
   "cell_type": "code",
   "execution_count": 73,
   "metadata": {},
   "outputs": [
    {
     "data": {
      "text/plain": [
       "397"
      ]
     },
     "execution_count": 73,
     "metadata": {},
     "output_type": "execute_result"
    }
   ],
   "source": [
    "len(departure)"
   ]
  },
  {
   "cell_type": "code",
   "execution_count": 75,
   "metadata": {},
   "outputs": [],
   "source": [
    "duration_tags=driver.find_elements_by_xpath(\"/html/body/section[2]/div/div[1]/div/div[2]/div/div/div/div/span\")\n",
    "for i in duration_tags[1::3]:\n",
    "    duration.append(i.text)"
   ]
  },
  {
   "cell_type": "code",
   "execution_count": 76,
   "metadata": {},
   "outputs": [
    {
     "data": {
      "text/plain": [
       "397"
      ]
     },
     "execution_count": 76,
     "metadata": {},
     "output_type": "execute_result"
    }
   ],
   "source": [
    "len(duration)"
   ]
  },
  {
   "cell_type": "code",
   "execution_count": 77,
   "metadata": {},
   "outputs": [],
   "source": [
    "price_tags=driver.find_elements_by_xpath(\"/html/body/section[2]/div/div[1]/div/div[2]/div/div/p\")"
   ]
  },
  {
   "cell_type": "code",
   "execution_count": 78,
   "metadata": {},
   "outputs": [],
   "source": [
    "for i in price_tags[1::3]:\n",
    "    price.append(i.text)"
   ]
  },
  {
   "cell_type": "code",
   "execution_count": 79,
   "metadata": {},
   "outputs": [
    {
     "data": {
      "text/plain": [
       "397"
      ]
     },
     "execution_count": 79,
     "metadata": {},
     "output_type": "execute_result"
    }
   ],
   "source": [
    "len(price)"
   ]
  },
  {
   "cell_type": "code",
   "execution_count": 80,
   "metadata": {},
   "outputs": [],
   "source": [
    "from_tag=driver.find_element_by_xpath(\"/html/body/div[6]/ul/li[4]/span\")"
   ]
  },
  {
   "cell_type": "code",
   "execution_count": 81,
   "metadata": {},
   "outputs": [],
   "source": [
    "from_tag.click()"
   ]
  },
  {
   "cell_type": "code",
   "execution_count": 82,
   "metadata": {},
   "outputs": [],
   "source": [
    "search_btn=driver.find_element_by_xpath(\"//*[@id='modifysearch']\")"
   ]
  },
  {
   "cell_type": "code",
   "execution_count": 83,
   "metadata": {},
   "outputs": [],
   "source": [
    "search_btn.click()"
   ]
  },
  {
   "cell_type": "code",
   "execution_count": 84,
   "metadata": {},
   "outputs": [],
   "source": [
    "elements_tags=driver.find_elements_by_xpath(\"/html/body/section[2]/div/div[1]/div/div[2]/div/div/div/div/span\")"
   ]
  },
  {
   "cell_type": "code",
   "execution_count": 85,
   "metadata": {},
   "outputs": [
    {
     "data": {
      "text/plain": [
       "378"
      ]
     },
     "execution_count": 85,
     "metadata": {},
     "output_type": "execute_result"
    }
   ],
   "source": [
    "len(elements_tags)"
   ]
  },
  {
   "cell_type": "code",
   "execution_count": 86,
   "metadata": {},
   "outputs": [],
   "source": [
    "for i in elements_tags[0::3]:\n",
    "    elements.append(i.text)"
   ]
  },
  {
   "cell_type": "code",
   "execution_count": 87,
   "metadata": {},
   "outputs": [
    {
     "data": {
      "text/plain": [
       "523"
      ]
     },
     "execution_count": 87,
     "metadata": {},
     "output_type": "execute_result"
    }
   ],
   "source": [
    "len(elements)"
   ]
  },
  {
   "cell_type": "code",
   "execution_count": 88,
   "metadata": {},
   "outputs": [],
   "source": [
    "arrival_tags=driver.find_elements_by_xpath(\"/html/body/section[2]/div/div[1]/div/div[2]/div/div/div/div/div/b\")"
   ]
  },
  {
   "cell_type": "code",
   "execution_count": 89,
   "metadata": {},
   "outputs": [],
   "source": [
    "for i in arrival_tags[0::2]:\n",
    "    arrival.append(i.text)"
   ]
  },
  {
   "cell_type": "code",
   "execution_count": 90,
   "metadata": {},
   "outputs": [
    {
     "data": {
      "text/plain": [
       "523"
      ]
     },
     "execution_count": 90,
     "metadata": {},
     "output_type": "execute_result"
    }
   ],
   "source": [
    "len(arrival)"
   ]
  },
  {
   "cell_type": "code",
   "execution_count": 91,
   "metadata": {},
   "outputs": [],
   "source": [
    "for i in arrival_tags[1::2]:\n",
    "    departure.append(i.text)    "
   ]
  },
  {
   "cell_type": "code",
   "execution_count": 92,
   "metadata": {},
   "outputs": [
    {
     "data": {
      "text/plain": [
       "523"
      ]
     },
     "execution_count": 92,
     "metadata": {},
     "output_type": "execute_result"
    }
   ],
   "source": [
    "len(departure)"
   ]
  },
  {
   "cell_type": "code",
   "execution_count": 93,
   "metadata": {},
   "outputs": [
    {
     "name": "stdout",
     "output_type": "stream",
     "text": [
      "523\n"
     ]
    }
   ],
   "source": [
    "duration_tags=driver.find_elements_by_xpath(\"/html/body/section[2]/div/div[1]/div/div[2]/div/div/div/div/span\")\n",
    "for i in duration_tags[1::3]:\n",
    "    duration.append(i.text)\n",
    "    \n",
    "print(len(departure))"
   ]
  },
  {
   "cell_type": "code",
   "execution_count": 94,
   "metadata": {},
   "outputs": [],
   "source": [
    "price_tags=driver.find_elements_by_xpath(\"/html/body/section[2]/div/div[1]/div/div[2]/div/div/p\")"
   ]
  },
  {
   "cell_type": "code",
   "execution_count": 95,
   "metadata": {},
   "outputs": [],
   "source": [
    "for i in price_tags[1::3]:\n",
    "    price.append(i.text)"
   ]
  },
  {
   "cell_type": "code",
   "execution_count": 96,
   "metadata": {},
   "outputs": [
    {
     "data": {
      "text/plain": [
       "523"
      ]
     },
     "execution_count": 96,
     "metadata": {},
     "output_type": "execute_result"
    }
   ],
   "source": [
    "len(price)"
   ]
  },
  {
   "cell_type": "code",
   "execution_count": 97,
   "metadata": {},
   "outputs": [],
   "source": [
    "from_tag=driver.find_element_by_xpath(\"/html/body/div[6]/ul/li[5]\")"
   ]
  },
  {
   "cell_type": "code",
   "execution_count": 98,
   "metadata": {},
   "outputs": [],
   "source": [
    "from_tag.click()"
   ]
  },
  {
   "cell_type": "code",
   "execution_count": 99,
   "metadata": {},
   "outputs": [],
   "source": [
    "search_btn=driver.find_element_by_xpath(\"//*[@id='modifysearch']\")"
   ]
  },
  {
   "cell_type": "code",
   "execution_count": 100,
   "metadata": {},
   "outputs": [],
   "source": [
    "search_btn.click()"
   ]
  },
  {
   "cell_type": "code",
   "execution_count": 101,
   "metadata": {},
   "outputs": [],
   "source": [
    "elements_tags=driver.find_elements_by_xpath(\"/html/body/section[2]/div/div[1]/div/div[2]/div/div/div/div/span\")"
   ]
  },
  {
   "cell_type": "code",
   "execution_count": 102,
   "metadata": {},
   "outputs": [
    {
     "data": {
      "text/plain": [
       "261"
      ]
     },
     "execution_count": 102,
     "metadata": {},
     "output_type": "execute_result"
    }
   ],
   "source": [
    "len(elements_tags)"
   ]
  },
  {
   "cell_type": "code",
   "execution_count": 103,
   "metadata": {},
   "outputs": [],
   "source": [
    "for i in elements_tags[0::3]:\n",
    "    elements.append(i.text)"
   ]
  },
  {
   "cell_type": "code",
   "execution_count": 104,
   "metadata": {},
   "outputs": [
    {
     "data": {
      "text/plain": [
       "610"
      ]
     },
     "execution_count": 104,
     "metadata": {},
     "output_type": "execute_result"
    }
   ],
   "source": [
    "len(elements)"
   ]
  },
  {
   "cell_type": "code",
   "execution_count": 105,
   "metadata": {},
   "outputs": [],
   "source": [
    "arrival_tags=driver.find_elements_by_xpath(\"/html/body/section[2]/div/div[1]/div/div[2]/div/div/div/div/div/b\")"
   ]
  },
  {
   "cell_type": "code",
   "execution_count": 106,
   "metadata": {},
   "outputs": [],
   "source": [
    "for i in arrival_tags[0::2]:\n",
    "    arrival.append(i.text)"
   ]
  },
  {
   "cell_type": "code",
   "execution_count": 107,
   "metadata": {},
   "outputs": [
    {
     "data": {
      "text/plain": [
       "610"
      ]
     },
     "execution_count": 107,
     "metadata": {},
     "output_type": "execute_result"
    }
   ],
   "source": [
    "len(arrival)"
   ]
  },
  {
   "cell_type": "code",
   "execution_count": 108,
   "metadata": {},
   "outputs": [],
   "source": [
    "for i in arrival_tags[1::2]:\n",
    "    departure.append(i.text)    "
   ]
  },
  {
   "cell_type": "code",
   "execution_count": 109,
   "metadata": {},
   "outputs": [
    {
     "data": {
      "text/plain": [
       "610"
      ]
     },
     "execution_count": 109,
     "metadata": {},
     "output_type": "execute_result"
    }
   ],
   "source": [
    "len(departure)"
   ]
  },
  {
   "cell_type": "code",
   "execution_count": 110,
   "metadata": {},
   "outputs": [
    {
     "name": "stdout",
     "output_type": "stream",
     "text": [
      "610\n"
     ]
    }
   ],
   "source": [
    "duration_tags=driver.find_elements_by_xpath(\"/html/body/section[2]/div/div[1]/div/div[2]/div/div/div/div/span\")\n",
    "for i in duration_tags[1::3]:\n",
    "    duration.append(i.text)\n",
    "    \n",
    "print(len(departure))"
   ]
  },
  {
   "cell_type": "code",
   "execution_count": 111,
   "metadata": {},
   "outputs": [],
   "source": [
    "price_tags=driver.find_elements_by_xpath(\"/html/body/section[2]/div/div[1]/div/div[2]/div/div/p\")"
   ]
  },
  {
   "cell_type": "code",
   "execution_count": 112,
   "metadata": {},
   "outputs": [],
   "source": [
    "for i in price_tags[1::3]:\n",
    "    price.append(i.text)"
   ]
  },
  {
   "cell_type": "code",
   "execution_count": 113,
   "metadata": {},
   "outputs": [
    {
     "data": {
      "text/plain": [
       "610"
      ]
     },
     "execution_count": 113,
     "metadata": {},
     "output_type": "execute_result"
    }
   ],
   "source": [
    "len(price)"
   ]
  },
  {
   "cell_type": "code",
   "execution_count": 114,
   "metadata": {},
   "outputs": [],
   "source": [
    "from_tag=driver.find_element_by_xpath(\"/html/body/div[6]/ul/li[6]/span\")"
   ]
  },
  {
   "cell_type": "code",
   "execution_count": 115,
   "metadata": {},
   "outputs": [],
   "source": [
    "from_tag.click()"
   ]
  },
  {
   "cell_type": "code",
   "execution_count": 116,
   "metadata": {},
   "outputs": [],
   "source": [
    "search_btn=driver.find_element_by_xpath(\"//*[@id='modifysearch']\")"
   ]
  },
  {
   "cell_type": "code",
   "execution_count": 117,
   "metadata": {},
   "outputs": [],
   "source": [
    "search_btn.click()"
   ]
  },
  {
   "cell_type": "code",
   "execution_count": 118,
   "metadata": {},
   "outputs": [],
   "source": [
    "elements_tags=driver.find_elements_by_xpath(\"/html/body/section[2]/div/div[1]/div/div[2]/div/div/div/div/span\")"
   ]
  },
  {
   "cell_type": "code",
   "execution_count": 119,
   "metadata": {},
   "outputs": [
    {
     "data": {
      "text/plain": [
       "324"
      ]
     },
     "execution_count": 119,
     "metadata": {},
     "output_type": "execute_result"
    }
   ],
   "source": [
    "len(elements_tags)"
   ]
  },
  {
   "cell_type": "code",
   "execution_count": 120,
   "metadata": {},
   "outputs": [],
   "source": [
    "for i in elements_tags[0::3]:\n",
    "    elements.append(i.text)"
   ]
  },
  {
   "cell_type": "code",
   "execution_count": 121,
   "metadata": {},
   "outputs": [
    {
     "data": {
      "text/plain": [
       "718"
      ]
     },
     "execution_count": 121,
     "metadata": {},
     "output_type": "execute_result"
    }
   ],
   "source": [
    "len(elements)"
   ]
  },
  {
   "cell_type": "code",
   "execution_count": 122,
   "metadata": {},
   "outputs": [],
   "source": [
    "arrival_tags=driver.find_elements_by_xpath(\"/html/body/section[2]/div/div[1]/div/div[2]/div/div/div/div/div/b\")"
   ]
  },
  {
   "cell_type": "code",
   "execution_count": 123,
   "metadata": {},
   "outputs": [],
   "source": [
    "for i in arrival_tags[0::2]:\n",
    "    arrival.append(i.text)"
   ]
  },
  {
   "cell_type": "code",
   "execution_count": 124,
   "metadata": {},
   "outputs": [
    {
     "data": {
      "text/plain": [
       "718"
      ]
     },
     "execution_count": 124,
     "metadata": {},
     "output_type": "execute_result"
    }
   ],
   "source": [
    "len(arrival)"
   ]
  },
  {
   "cell_type": "code",
   "execution_count": 125,
   "metadata": {},
   "outputs": [],
   "source": [
    "for i in arrival_tags[1::2]:\n",
    "    departure.append(i.text)    "
   ]
  },
  {
   "cell_type": "code",
   "execution_count": 126,
   "metadata": {},
   "outputs": [
    {
     "data": {
      "text/plain": [
       "718"
      ]
     },
     "execution_count": 126,
     "metadata": {},
     "output_type": "execute_result"
    }
   ],
   "source": [
    "len(departure)"
   ]
  },
  {
   "cell_type": "code",
   "execution_count": 127,
   "metadata": {},
   "outputs": [
    {
     "name": "stdout",
     "output_type": "stream",
     "text": [
      "718\n"
     ]
    }
   ],
   "source": [
    "duration_tags=driver.find_elements_by_xpath(\"/html/body/section[2]/div/div[1]/div/div[2]/div/div/div/div/span\")\n",
    "for i in duration_tags[1::3]:\n",
    "    duration.append(i.text)\n",
    "    \n",
    "print(len(departure))"
   ]
  },
  {
   "cell_type": "code",
   "execution_count": 128,
   "metadata": {},
   "outputs": [],
   "source": [
    "price_tags=driver.find_elements_by_xpath(\"/html/body/section[2]/div/div[1]/div/div[2]/div/div/p\")"
   ]
  },
  {
   "cell_type": "code",
   "execution_count": 129,
   "metadata": {},
   "outputs": [],
   "source": [
    "for i in price_tags[1::3]:\n",
    "    price.append(i.text)"
   ]
  },
  {
   "cell_type": "code",
   "execution_count": 130,
   "metadata": {},
   "outputs": [
    {
     "data": {
      "text/plain": [
       "718"
      ]
     },
     "execution_count": 130,
     "metadata": {},
     "output_type": "execute_result"
    }
   ],
   "source": [
    "len(price)"
   ]
  },
  {
   "cell_type": "code",
   "execution_count": 131,
   "metadata": {},
   "outputs": [],
   "source": [
    "to_tag=driver.find_element_by_xpath(\"/html/body/div[6]/ul/li[2]\")"
   ]
  },
  {
   "cell_type": "code",
   "execution_count": 132,
   "metadata": {},
   "outputs": [],
   "source": [
    "to_tag.click()"
   ]
  },
  {
   "cell_type": "code",
   "execution_count": 133,
   "metadata": {},
   "outputs": [],
   "source": [
    "search_btn=driver.find_element_by_xpath(\"//*[@id='modifysearch']\")"
   ]
  },
  {
   "cell_type": "code",
   "execution_count": 134,
   "metadata": {},
   "outputs": [],
   "source": [
    "search_btn.click()"
   ]
  },
  {
   "cell_type": "code",
   "execution_count": 135,
   "metadata": {},
   "outputs": [],
   "source": [
    "elements_tags=driver.find_elements_by_xpath(\"/html/body/section[2]/div/div[1]/div/div[2]/div/div/div/div/span\")"
   ]
  },
  {
   "cell_type": "code",
   "execution_count": 136,
   "metadata": {},
   "outputs": [
    {
     "data": {
      "text/plain": [
       "231"
      ]
     },
     "execution_count": 136,
     "metadata": {},
     "output_type": "execute_result"
    }
   ],
   "source": [
    "len(elements_tags)"
   ]
  },
  {
   "cell_type": "code",
   "execution_count": 137,
   "metadata": {},
   "outputs": [],
   "source": [
    "for i in elements_tags[0::3]:\n",
    "    elements.append(i.text)"
   ]
  },
  {
   "cell_type": "code",
   "execution_count": 138,
   "metadata": {},
   "outputs": [
    {
     "data": {
      "text/plain": [
       "795"
      ]
     },
     "execution_count": 138,
     "metadata": {},
     "output_type": "execute_result"
    }
   ],
   "source": [
    "len(elements)"
   ]
  },
  {
   "cell_type": "code",
   "execution_count": 139,
   "metadata": {},
   "outputs": [],
   "source": [
    "arrival_tags=driver.find_elements_by_xpath(\"/html/body/section[2]/div/div[1]/div/div[2]/div/div/div/div/div/b\")"
   ]
  },
  {
   "cell_type": "code",
   "execution_count": 140,
   "metadata": {},
   "outputs": [],
   "source": [
    "for i in arrival_tags[0::2]:\n",
    "    arrival.append(i.text)"
   ]
  },
  {
   "cell_type": "code",
   "execution_count": 141,
   "metadata": {},
   "outputs": [
    {
     "data": {
      "text/plain": [
       "795"
      ]
     },
     "execution_count": 141,
     "metadata": {},
     "output_type": "execute_result"
    }
   ],
   "source": [
    "len(arrival)"
   ]
  },
  {
   "cell_type": "code",
   "execution_count": 142,
   "metadata": {},
   "outputs": [],
   "source": [
    "for i in arrival_tags[1::2]:\n",
    "    departure.append(i.text)    "
   ]
  },
  {
   "cell_type": "code",
   "execution_count": 143,
   "metadata": {},
   "outputs": [
    {
     "data": {
      "text/plain": [
       "795"
      ]
     },
     "execution_count": 143,
     "metadata": {},
     "output_type": "execute_result"
    }
   ],
   "source": [
    "len(departure)"
   ]
  },
  {
   "cell_type": "code",
   "execution_count": 144,
   "metadata": {},
   "outputs": [
    {
     "name": "stdout",
     "output_type": "stream",
     "text": [
      "795\n"
     ]
    }
   ],
   "source": [
    "duration_tags=driver.find_elements_by_xpath(\"/html/body/section[2]/div/div[1]/div/div[2]/div/div/div/div/span\")\n",
    "for i in duration_tags[1::3]:\n",
    "    duration.append(i.text)\n",
    "    \n",
    "print(len(departure))"
   ]
  },
  {
   "cell_type": "code",
   "execution_count": 145,
   "metadata": {},
   "outputs": [],
   "source": [
    "price_tags=driver.find_elements_by_xpath(\"/html/body/section[2]/div/div[1]/div/div[2]/div/div/p\")"
   ]
  },
  {
   "cell_type": "code",
   "execution_count": 146,
   "metadata": {},
   "outputs": [],
   "source": [
    "for i in price_tags[1::3]:\n",
    "    price.append(i.text)"
   ]
  },
  {
   "cell_type": "code",
   "execution_count": 147,
   "metadata": {},
   "outputs": [
    {
     "data": {
      "text/plain": [
       "795"
      ]
     },
     "execution_count": 147,
     "metadata": {},
     "output_type": "execute_result"
    }
   ],
   "source": [
    "len(price)"
   ]
  },
  {
   "cell_type": "code",
   "execution_count": 148,
   "metadata": {},
   "outputs": [],
   "source": [
    "to_tag=driver.find_element_by_xpath(\"/html/body/div[6]/ul/li[3]/span\")"
   ]
  },
  {
   "cell_type": "code",
   "execution_count": 149,
   "metadata": {},
   "outputs": [],
   "source": [
    "to_tag.click()"
   ]
  },
  {
   "cell_type": "code",
   "execution_count": 150,
   "metadata": {},
   "outputs": [],
   "source": [
    "search_btn=driver.find_element_by_xpath(\"//*[@id='modifysearch']\")"
   ]
  },
  {
   "cell_type": "code",
   "execution_count": 151,
   "metadata": {},
   "outputs": [],
   "source": [
    "search_btn.click()"
   ]
  },
  {
   "cell_type": "code",
   "execution_count": 152,
   "metadata": {},
   "outputs": [],
   "source": [
    "elements_tags=driver.find_elements_by_xpath(\"/html/body/section[2]/div/div[1]/div/div[2]/div/div/div/div/span\")"
   ]
  },
  {
   "cell_type": "code",
   "execution_count": 153,
   "metadata": {},
   "outputs": [
    {
     "data": {
      "text/plain": [
       "246"
      ]
     },
     "execution_count": 153,
     "metadata": {},
     "output_type": "execute_result"
    }
   ],
   "source": [
    "len(elements_tags)"
   ]
  },
  {
   "cell_type": "code",
   "execution_count": 154,
   "metadata": {},
   "outputs": [],
   "source": [
    "for i in elements_tags[0::3]:\n",
    "    elements.append(i.text)"
   ]
  },
  {
   "cell_type": "code",
   "execution_count": 155,
   "metadata": {},
   "outputs": [
    {
     "data": {
      "text/plain": [
       "877"
      ]
     },
     "execution_count": 155,
     "metadata": {},
     "output_type": "execute_result"
    }
   ],
   "source": [
    "len(elements)"
   ]
  },
  {
   "cell_type": "code",
   "execution_count": 156,
   "metadata": {},
   "outputs": [],
   "source": [
    "arrival_tags=driver.find_elements_by_xpath(\"/html/body/section[2]/div/div[1]/div/div[2]/div/div/div/div/div/b\")"
   ]
  },
  {
   "cell_type": "code",
   "execution_count": 157,
   "metadata": {},
   "outputs": [],
   "source": [
    "for i in arrival_tags[0::2]:\n",
    "    arrival.append(i.text)"
   ]
  },
  {
   "cell_type": "code",
   "execution_count": 158,
   "metadata": {},
   "outputs": [
    {
     "data": {
      "text/plain": [
       "877"
      ]
     },
     "execution_count": 158,
     "metadata": {},
     "output_type": "execute_result"
    }
   ],
   "source": [
    "len(arrival)"
   ]
  },
  {
   "cell_type": "code",
   "execution_count": 159,
   "metadata": {},
   "outputs": [],
   "source": [
    "for i in arrival_tags[1::2]:\n",
    "    departure.append(i.text)    "
   ]
  },
  {
   "cell_type": "code",
   "execution_count": 160,
   "metadata": {},
   "outputs": [
    {
     "data": {
      "text/plain": [
       "877"
      ]
     },
     "execution_count": 160,
     "metadata": {},
     "output_type": "execute_result"
    }
   ],
   "source": [
    "len(departure)"
   ]
  },
  {
   "cell_type": "code",
   "execution_count": 161,
   "metadata": {},
   "outputs": [],
   "source": [
    "price_tags=driver.find_elements_by_xpath(\"/html/body/section[2]/div/div[1]/div/div[2]/div/div/p\")"
   ]
  },
  {
   "cell_type": "code",
   "execution_count": 162,
   "metadata": {},
   "outputs": [],
   "source": [
    "for i in price_tags[1::3]:\n",
    "    price.append(i.text)"
   ]
  },
  {
   "cell_type": "code",
   "execution_count": 163,
   "metadata": {},
   "outputs": [
    {
     "data": {
      "text/plain": [
       "877"
      ]
     },
     "execution_count": 163,
     "metadata": {},
     "output_type": "execute_result"
    }
   ],
   "source": [
    "len(price)"
   ]
  },
  {
   "cell_type": "code",
   "execution_count": 164,
   "metadata": {},
   "outputs": [
    {
     "name": "stdout",
     "output_type": "stream",
     "text": [
      "877\n"
     ]
    }
   ],
   "source": [
    "duration_tags=driver.find_elements_by_xpath(\"/html/body/section[2]/div/div[1]/div/div[2]/div/div/div/div/span\")\n",
    "for i in duration_tags[1::3]:\n",
    "    duration.append(i.text)\n",
    "    \n",
    "print(len(departure))"
   ]
  },
  {
   "cell_type": "code",
   "execution_count": 165,
   "metadata": {},
   "outputs": [],
   "source": [
    "to_tag=driver.find_element_by_xpath(\"/html/body/div[6]/ul/li[4]/span\")"
   ]
  },
  {
   "cell_type": "code",
   "execution_count": 166,
   "metadata": {},
   "outputs": [],
   "source": [
    "to_tag.click()"
   ]
  },
  {
   "cell_type": "code",
   "execution_count": 167,
   "metadata": {},
   "outputs": [],
   "source": [
    "search_btn=driver.find_element_by_xpath(\"//*[@id='modifysearch']\")"
   ]
  },
  {
   "cell_type": "code",
   "execution_count": 168,
   "metadata": {},
   "outputs": [],
   "source": [
    "search_btn.click()"
   ]
  },
  {
   "cell_type": "code",
   "execution_count": 169,
   "metadata": {},
   "outputs": [],
   "source": [
    "elements_tags=driver.find_elements_by_xpath(\"/html/body/section[2]/div/div[1]/div/div[2]/div/div/div/div/span\")"
   ]
  },
  {
   "cell_type": "code",
   "execution_count": 170,
   "metadata": {},
   "outputs": [],
   "source": [
    "for i in elements_tags[0::3]:\n",
    "    elements.append(i.text)"
   ]
  },
  {
   "cell_type": "code",
   "execution_count": 171,
   "metadata": {},
   "outputs": [
    {
     "data": {
      "text/plain": [
       "973"
      ]
     },
     "execution_count": 171,
     "metadata": {},
     "output_type": "execute_result"
    }
   ],
   "source": [
    "len(elements)"
   ]
  },
  {
   "cell_type": "code",
   "execution_count": 172,
   "metadata": {},
   "outputs": [],
   "source": [
    "arrival_tags=driver.find_elements_by_xpath(\"/html/body/section[2]/div/div[1]/div/div[2]/div/div/div/div/div/b\")"
   ]
  },
  {
   "cell_type": "code",
   "execution_count": 173,
   "metadata": {},
   "outputs": [],
   "source": [
    "for i in arrival_tags[0::2]:\n",
    "    arrival.append(i.text)"
   ]
  },
  {
   "cell_type": "code",
   "execution_count": 174,
   "metadata": {},
   "outputs": [
    {
     "data": {
      "text/plain": [
       "973"
      ]
     },
     "execution_count": 174,
     "metadata": {},
     "output_type": "execute_result"
    }
   ],
   "source": [
    "len(arrival)"
   ]
  },
  {
   "cell_type": "code",
   "execution_count": 175,
   "metadata": {},
   "outputs": [],
   "source": [
    "for i in arrival_tags[1::2]:\n",
    "    departure.append(i.text)    "
   ]
  },
  {
   "cell_type": "code",
   "execution_count": 176,
   "metadata": {},
   "outputs": [
    {
     "data": {
      "text/plain": [
       "973"
      ]
     },
     "execution_count": 176,
     "metadata": {},
     "output_type": "execute_result"
    }
   ],
   "source": [
    "len(departure)"
   ]
  },
  {
   "cell_type": "code",
   "execution_count": 177,
   "metadata": {},
   "outputs": [
    {
     "name": "stdout",
     "output_type": "stream",
     "text": [
      "973\n"
     ]
    }
   ],
   "source": [
    "duration_tags=driver.find_elements_by_xpath(\"/html/body/section[2]/div/div[1]/div/div[2]/div/div/div/div/span\")\n",
    "for i in duration_tags[1::3]:\n",
    "    duration.append(i.text)\n",
    "    \n",
    "print(len(departure))"
   ]
  },
  {
   "cell_type": "code",
   "execution_count": 178,
   "metadata": {},
   "outputs": [],
   "source": [
    "price_tags=driver.find_elements_by_xpath(\"/html/body/section[2]/div/div[1]/div/div[2]/div/div/p\")"
   ]
  },
  {
   "cell_type": "code",
   "execution_count": 179,
   "metadata": {},
   "outputs": [],
   "source": [
    "for i in price_tags[1::3]:\n",
    "    price.append(i.text)"
   ]
  },
  {
   "cell_type": "code",
   "execution_count": 180,
   "metadata": {},
   "outputs": [
    {
     "data": {
      "text/plain": [
       "973"
      ]
     },
     "execution_count": 180,
     "metadata": {},
     "output_type": "execute_result"
    }
   ],
   "source": [
    "len(price)"
   ]
  },
  {
   "cell_type": "code",
   "execution_count": 181,
   "metadata": {},
   "outputs": [],
   "source": [
    "to_tag=driver.find_element_by_xpath(\"/html/body/div[6]/ul/li[5]\")"
   ]
  },
  {
   "cell_type": "code",
   "execution_count": 182,
   "metadata": {},
   "outputs": [],
   "source": [
    "to_tag.click()"
   ]
  },
  {
   "cell_type": "code",
   "execution_count": 183,
   "metadata": {},
   "outputs": [],
   "source": [
    "search_btn=driver.find_element_by_xpath(\"//*[@id='modifysearch']\")"
   ]
  },
  {
   "cell_type": "code",
   "execution_count": 184,
   "metadata": {},
   "outputs": [],
   "source": [
    "search_btn.click()"
   ]
  },
  {
   "cell_type": "code",
   "execution_count": 185,
   "metadata": {},
   "outputs": [],
   "source": [
    "elements_tags=driver.find_elements_by_xpath(\"/html/body/section[2]/div/div[1]/div/div[2]/div/div/div/div/span\")"
   ]
  },
  {
   "cell_type": "code",
   "execution_count": 186,
   "metadata": {},
   "outputs": [],
   "source": [
    "for i in elements_tags[0::3]:\n",
    "    elements.append(i.text)"
   ]
  },
  {
   "cell_type": "code",
   "execution_count": 187,
   "metadata": {},
   "outputs": [
    {
     "data": {
      "text/plain": [
       "1035"
      ]
     },
     "execution_count": 187,
     "metadata": {},
     "output_type": "execute_result"
    }
   ],
   "source": [
    "len(elements)"
   ]
  },
  {
   "cell_type": "code",
   "execution_count": 188,
   "metadata": {},
   "outputs": [],
   "source": [
    "arrival_tags=driver.find_elements_by_xpath(\"/html/body/section[2]/div/div[1]/div/div[2]/div/div/div/div/div/b\")"
   ]
  },
  {
   "cell_type": "code",
   "execution_count": 189,
   "metadata": {},
   "outputs": [],
   "source": [
    "for i in arrival_tags[0::2]:\n",
    "    arrival.append(i.text)"
   ]
  },
  {
   "cell_type": "code",
   "execution_count": 190,
   "metadata": {},
   "outputs": [
    {
     "data": {
      "text/plain": [
       "1035"
      ]
     },
     "execution_count": 190,
     "metadata": {},
     "output_type": "execute_result"
    }
   ],
   "source": [
    "len(arrival)"
   ]
  },
  {
   "cell_type": "code",
   "execution_count": 191,
   "metadata": {},
   "outputs": [],
   "source": [
    "for i in arrival_tags[1::2]:\n",
    "    departure.append(i.text)    "
   ]
  },
  {
   "cell_type": "code",
   "execution_count": 192,
   "metadata": {},
   "outputs": [
    {
     "data": {
      "text/plain": [
       "1035"
      ]
     },
     "execution_count": 192,
     "metadata": {},
     "output_type": "execute_result"
    }
   ],
   "source": [
    "len(departure)"
   ]
  },
  {
   "cell_type": "code",
   "execution_count": 193,
   "metadata": {},
   "outputs": [
    {
     "name": "stdout",
     "output_type": "stream",
     "text": [
      "1035\n"
     ]
    }
   ],
   "source": [
    "duration_tags=driver.find_elements_by_xpath(\"/html/body/section[2]/div/div[1]/div/div[2]/div/div/div/div/span\")\n",
    "for i in duration_tags[1::3]:\n",
    "    duration.append(i.text)\n",
    "    \n",
    "print(len(duration))"
   ]
  },
  {
   "cell_type": "code",
   "execution_count": 194,
   "metadata": {},
   "outputs": [],
   "source": [
    "price_tags=driver.find_elements_by_xpath(\"/html/body/section[2]/div/div[1]/div/div[2]/div/div/p\")"
   ]
  },
  {
   "cell_type": "code",
   "execution_count": 195,
   "metadata": {},
   "outputs": [],
   "source": [
    "for i in price_tags[1::3]:\n",
    "    price.append(i.text)"
   ]
  },
  {
   "cell_type": "code",
   "execution_count": 196,
   "metadata": {},
   "outputs": [
    {
     "data": {
      "text/plain": [
       "1035"
      ]
     },
     "execution_count": 196,
     "metadata": {},
     "output_type": "execute_result"
    }
   ],
   "source": [
    "len(price)"
   ]
  },
  {
   "cell_type": "code",
   "execution_count": 220,
   "metadata": {},
   "outputs": [],
   "source": [
    "from_tag=driver.find_element_by_xpath(\"/html/body/div[7]/ul/li[8]/span\")"
   ]
  },
  {
   "cell_type": "code",
   "execution_count": 221,
   "metadata": {},
   "outputs": [],
   "source": [
    "from_tag.click()"
   ]
  },
  {
   "cell_type": "code",
   "execution_count": 224,
   "metadata": {},
   "outputs": [],
   "source": [
    "to_tag=driver.find_element_by_xpath(\"/html/body/div[6]/ul/li[2]/span\")"
   ]
  },
  {
   "cell_type": "code",
   "execution_count": 225,
   "metadata": {},
   "outputs": [],
   "source": [
    "to_tag.click()"
   ]
  },
  {
   "cell_type": "code",
   "execution_count": 226,
   "metadata": {},
   "outputs": [],
   "source": [
    "search_btn=driver.find_element_by_xpath(\"//*[@id='modifysearch']\")"
   ]
  },
  {
   "cell_type": "code",
   "execution_count": 227,
   "metadata": {},
   "outputs": [],
   "source": [
    "search_btn.click()"
   ]
  },
  {
   "cell_type": "code",
   "execution_count": 228,
   "metadata": {},
   "outputs": [],
   "source": [
    "elements_tags=driver.find_elements_by_xpath(\"/html/body/section[2]/div/div[1]/div/div[2]/div/div/div/div/span\")"
   ]
  },
  {
   "cell_type": "code",
   "execution_count": 229,
   "metadata": {},
   "outputs": [],
   "source": [
    "for i in elements_tags[0::3]:\n",
    "    elements.append(i.text)"
   ]
  },
  {
   "cell_type": "code",
   "execution_count": 230,
   "metadata": {},
   "outputs": [
    {
     "data": {
      "text/plain": [
       "1095"
      ]
     },
     "execution_count": 230,
     "metadata": {},
     "output_type": "execute_result"
    }
   ],
   "source": [
    "len(elements)"
   ]
  },
  {
   "cell_type": "code",
   "execution_count": 231,
   "metadata": {},
   "outputs": [],
   "source": [
    "arrival_tags=driver.find_elements_by_xpath(\"/html/body/section[2]/div/div[1]/div/div[2]/div/div/div/div/div/b\")"
   ]
  },
  {
   "cell_type": "code",
   "execution_count": 232,
   "metadata": {},
   "outputs": [],
   "source": [
    "for i in arrival_tags[0::2]:\n",
    "    arrival.append(i.text)"
   ]
  },
  {
   "cell_type": "code",
   "execution_count": 233,
   "metadata": {},
   "outputs": [
    {
     "data": {
      "text/plain": [
       "1095"
      ]
     },
     "execution_count": 233,
     "metadata": {},
     "output_type": "execute_result"
    }
   ],
   "source": [
    "len(arrival)"
   ]
  },
  {
   "cell_type": "code",
   "execution_count": 234,
   "metadata": {},
   "outputs": [],
   "source": [
    "for i in arrival_tags[1::2]:\n",
    "    departure.append(i.text)    "
   ]
  },
  {
   "cell_type": "code",
   "execution_count": 235,
   "metadata": {},
   "outputs": [
    {
     "data": {
      "text/plain": [
       "1095"
      ]
     },
     "execution_count": 235,
     "metadata": {},
     "output_type": "execute_result"
    }
   ],
   "source": [
    "len(departure)"
   ]
  },
  {
   "cell_type": "code",
   "execution_count": 236,
   "metadata": {},
   "outputs": [
    {
     "name": "stdout",
     "output_type": "stream",
     "text": [
      "1095\n"
     ]
    }
   ],
   "source": [
    "duration_tags=driver.find_elements_by_xpath(\"/html/body/section[2]/div/div[1]/div/div[2]/div/div/div/div/span\")\n",
    "for i in duration_tags[1::3]:\n",
    "    duration.append(i.text)\n",
    "    \n",
    "print(len(duration))"
   ]
  },
  {
   "cell_type": "code",
   "execution_count": 237,
   "metadata": {},
   "outputs": [],
   "source": [
    "price_tags=driver.find_elements_by_xpath(\"/html/body/section[2]/div/div[1]/div/div[2]/div/div/p\")"
   ]
  },
  {
   "cell_type": "code",
   "execution_count": 238,
   "metadata": {},
   "outputs": [],
   "source": [
    "for i in price_tags[1::3]:\n",
    "    price.append(i.text)"
   ]
  },
  {
   "cell_type": "code",
   "execution_count": 239,
   "metadata": {},
   "outputs": [
    {
     "data": {
      "text/plain": [
       "1095"
      ]
     },
     "execution_count": 239,
     "metadata": {},
     "output_type": "execute_result"
    }
   ],
   "source": [
    "len(price)"
   ]
  },
  {
   "cell_type": "code",
   "execution_count": 240,
   "metadata": {},
   "outputs": [],
   "source": [
    "from_tag=driver.find_element_by_xpath(\"/html/body/div[6]/ul/li[9]/b\")"
   ]
  },
  {
   "cell_type": "code",
   "execution_count": 241,
   "metadata": {},
   "outputs": [],
   "source": [
    "from_tag.click()"
   ]
  },
  {
   "cell_type": "code",
   "execution_count": 242,
   "metadata": {},
   "outputs": [],
   "source": [
    "search_btn=driver.find_element_by_xpath(\"//*[@id='modifysearch']\")"
   ]
  },
  {
   "cell_type": "code",
   "execution_count": 243,
   "metadata": {},
   "outputs": [],
   "source": [
    "search_btn.click()"
   ]
  },
  {
   "cell_type": "code",
   "execution_count": 244,
   "metadata": {},
   "outputs": [],
   "source": [
    "elements_tags=driver.find_elements_by_xpath(\"/html/body/section[2]/div/div[1]/div/div[2]/div/div/div/div/span\")"
   ]
  },
  {
   "cell_type": "code",
   "execution_count": 245,
   "metadata": {},
   "outputs": [],
   "source": [
    "for i in elements_tags[0::3]:\n",
    "    elements.append(i.text)"
   ]
  },
  {
   "cell_type": "code",
   "execution_count": 246,
   "metadata": {},
   "outputs": [
    {
     "data": {
      "text/plain": [
       "1162"
      ]
     },
     "execution_count": 246,
     "metadata": {},
     "output_type": "execute_result"
    }
   ],
   "source": [
    "len(elements)"
   ]
  },
  {
   "cell_type": "code",
   "execution_count": 247,
   "metadata": {},
   "outputs": [],
   "source": [
    "arrival_tags=driver.find_elements_by_xpath(\"/html/body/section[2]/div/div[1]/div/div[2]/div/div/div/div/div/b\")"
   ]
  },
  {
   "cell_type": "code",
   "execution_count": 248,
   "metadata": {},
   "outputs": [],
   "source": [
    "for i in arrival_tags[0::2]:\n",
    "    arrival.append(i.text)"
   ]
  },
  {
   "cell_type": "code",
   "execution_count": 249,
   "metadata": {},
   "outputs": [
    {
     "data": {
      "text/plain": [
       "1162"
      ]
     },
     "execution_count": 249,
     "metadata": {},
     "output_type": "execute_result"
    }
   ],
   "source": [
    "len(arrival)"
   ]
  },
  {
   "cell_type": "code",
   "execution_count": 250,
   "metadata": {},
   "outputs": [],
   "source": [
    "for i in arrival_tags[1::2]:\n",
    "    departure.append(i.text)    "
   ]
  },
  {
   "cell_type": "code",
   "execution_count": 251,
   "metadata": {},
   "outputs": [
    {
     "data": {
      "text/plain": [
       "1162"
      ]
     },
     "execution_count": 251,
     "metadata": {},
     "output_type": "execute_result"
    }
   ],
   "source": [
    "len(departure)"
   ]
  },
  {
   "cell_type": "code",
   "execution_count": 252,
   "metadata": {},
   "outputs": [
    {
     "name": "stdout",
     "output_type": "stream",
     "text": [
      "1162\n"
     ]
    }
   ],
   "source": [
    "duration_tags=driver.find_elements_by_xpath(\"/html/body/section[2]/div/div[1]/div/div[2]/div/div/div/div/span\")\n",
    "for i in duration_tags[1::3]:\n",
    "    duration.append(i.text)\n",
    "    \n",
    "print(len(duration))"
   ]
  },
  {
   "cell_type": "code",
   "execution_count": 253,
   "metadata": {},
   "outputs": [],
   "source": [
    "price_tags=driver.find_elements_by_xpath(\"/html/body/section[2]/div/div[1]/div/div[2]/div/div/p\")"
   ]
  },
  {
   "cell_type": "code",
   "execution_count": 254,
   "metadata": {},
   "outputs": [],
   "source": [
    "for i in price_tags[1::3]:\n",
    "    price.append(i.text)"
   ]
  },
  {
   "cell_type": "code",
   "execution_count": 255,
   "metadata": {},
   "outputs": [
    {
     "data": {
      "text/plain": [
       "1162"
      ]
     },
     "execution_count": 255,
     "metadata": {},
     "output_type": "execute_result"
    }
   ],
   "source": [
    "len(price)"
   ]
  },
  {
   "cell_type": "code",
   "execution_count": 256,
   "metadata": {},
   "outputs": [],
   "source": [
    "from_tag=driver.find_element_by_xpath(\"/html/body/div[6]/ul/li[10]/span\")"
   ]
  },
  {
   "cell_type": "code",
   "execution_count": 257,
   "metadata": {},
   "outputs": [],
   "source": [
    "from_tag.click()"
   ]
  },
  {
   "cell_type": "code",
   "execution_count": 258,
   "metadata": {},
   "outputs": [],
   "source": [
    "search_btn=driver.find_element_by_xpath(\"//*[@id='modifysearch']\")"
   ]
  },
  {
   "cell_type": "code",
   "execution_count": 259,
   "metadata": {},
   "outputs": [],
   "source": [
    "search_btn.click()"
   ]
  },
  {
   "cell_type": "code",
   "execution_count": 260,
   "metadata": {},
   "outputs": [],
   "source": [
    "elements_tags=driver.find_elements_by_xpath(\"/html/body/section[2]/div/div[1]/div/div[2]/div/div/div/div/span\")"
   ]
  },
  {
   "cell_type": "code",
   "execution_count": 261,
   "metadata": {},
   "outputs": [],
   "source": [
    "for i in elements_tags[0::3]:\n",
    "    elements.append(i.text)"
   ]
  },
  {
   "cell_type": "code",
   "execution_count": 262,
   "metadata": {},
   "outputs": [
    {
     "data": {
      "text/plain": [
       "1223"
      ]
     },
     "execution_count": 262,
     "metadata": {},
     "output_type": "execute_result"
    }
   ],
   "source": [
    "len(elements)"
   ]
  },
  {
   "cell_type": "code",
   "execution_count": 263,
   "metadata": {},
   "outputs": [],
   "source": [
    "arrival_tags=driver.find_elements_by_xpath(\"/html/body/section[2]/div/div[1]/div/div[2]/div/div/div/div/div/b\")"
   ]
  },
  {
   "cell_type": "code",
   "execution_count": 264,
   "metadata": {},
   "outputs": [],
   "source": [
    "for i in arrival_tags[0::2]:\n",
    "    arrival.append(i.text)"
   ]
  },
  {
   "cell_type": "code",
   "execution_count": 265,
   "metadata": {},
   "outputs": [
    {
     "data": {
      "text/plain": [
       "1223"
      ]
     },
     "execution_count": 265,
     "metadata": {},
     "output_type": "execute_result"
    }
   ],
   "source": [
    "len(arrival)"
   ]
  },
  {
   "cell_type": "code",
   "execution_count": 266,
   "metadata": {},
   "outputs": [],
   "source": [
    "for i in arrival_tags[1::2]:\n",
    "    departure.append(i.text)    "
   ]
  },
  {
   "cell_type": "code",
   "execution_count": 267,
   "metadata": {},
   "outputs": [
    {
     "data": {
      "text/plain": [
       "1223"
      ]
     },
     "execution_count": 267,
     "metadata": {},
     "output_type": "execute_result"
    }
   ],
   "source": [
    "len(departure)"
   ]
  },
  {
   "cell_type": "code",
   "execution_count": 268,
   "metadata": {},
   "outputs": [
    {
     "name": "stdout",
     "output_type": "stream",
     "text": [
      "1223\n"
     ]
    }
   ],
   "source": [
    "duration_tags=driver.find_elements_by_xpath(\"/html/body/section[2]/div/div[1]/div/div[2]/div/div/div/div/span\")\n",
    "for i in duration_tags[1::3]:\n",
    "    duration.append(i.text)\n",
    "    \n",
    "print(len(duration))"
   ]
  },
  {
   "cell_type": "code",
   "execution_count": 269,
   "metadata": {},
   "outputs": [],
   "source": [
    "price_tags=driver.find_elements_by_xpath(\"/html/body/section[2]/div/div[1]/div/div[2]/div/div/p\")"
   ]
  },
  {
   "cell_type": "code",
   "execution_count": 270,
   "metadata": {},
   "outputs": [],
   "source": [
    "for i in price_tags[1::3]:\n",
    "    price.append(i.text)"
   ]
  },
  {
   "cell_type": "code",
   "execution_count": 271,
   "metadata": {},
   "outputs": [],
   "source": [
    "to_tag=driver.find_element_by_xpath(\"/html/body/div[6]/ul/li[4]\")"
   ]
  },
  {
   "cell_type": "code",
   "execution_count": 272,
   "metadata": {},
   "outputs": [],
   "source": [
    "to_tag.click()"
   ]
  },
  {
   "cell_type": "code",
   "execution_count": 273,
   "metadata": {},
   "outputs": [],
   "source": [
    "search_btn=driver.find_element_by_xpath(\"//*[@id='modifysearch']\")"
   ]
  },
  {
   "cell_type": "code",
   "execution_count": 274,
   "metadata": {},
   "outputs": [],
   "source": [
    "search_btn.click()"
   ]
  },
  {
   "cell_type": "code",
   "execution_count": 275,
   "metadata": {},
   "outputs": [],
   "source": [
    "elements_tags=driver.find_elements_by_xpath(\"/html/body/section[2]/div/div[1]/div/div[2]/div/div/div/div/span\")"
   ]
  },
  {
   "cell_type": "code",
   "execution_count": 276,
   "metadata": {},
   "outputs": [],
   "source": [
    "for i in elements_tags[0::3]:\n",
    "    elements.append(i.text)"
   ]
  },
  {
   "cell_type": "code",
   "execution_count": 277,
   "metadata": {},
   "outputs": [
    {
     "data": {
      "text/plain": [
       "1307"
      ]
     },
     "execution_count": 277,
     "metadata": {},
     "output_type": "execute_result"
    }
   ],
   "source": [
    "len(elements)"
   ]
  },
  {
   "cell_type": "code",
   "execution_count": 278,
   "metadata": {},
   "outputs": [],
   "source": [
    "arrival_tags=driver.find_elements_by_xpath(\"/html/body/section[2]/div/div[1]/div/div[2]/div/div/div/div/div/b\")"
   ]
  },
  {
   "cell_type": "code",
   "execution_count": 279,
   "metadata": {},
   "outputs": [],
   "source": [
    "for i in arrival_tags[0::2]:\n",
    "    arrival.append(i.text)"
   ]
  },
  {
   "cell_type": "code",
   "execution_count": 280,
   "metadata": {},
   "outputs": [
    {
     "data": {
      "text/plain": [
       "1307"
      ]
     },
     "execution_count": 280,
     "metadata": {},
     "output_type": "execute_result"
    }
   ],
   "source": [
    "len(arrival)"
   ]
  },
  {
   "cell_type": "code",
   "execution_count": 281,
   "metadata": {},
   "outputs": [],
   "source": [
    "for i in arrival_tags[1::2]:\n",
    "    departure.append(i.text)    "
   ]
  },
  {
   "cell_type": "code",
   "execution_count": 282,
   "metadata": {},
   "outputs": [
    {
     "data": {
      "text/plain": [
       "1307"
      ]
     },
     "execution_count": 282,
     "metadata": {},
     "output_type": "execute_result"
    }
   ],
   "source": [
    "len(departure)"
   ]
  },
  {
   "cell_type": "code",
   "execution_count": 283,
   "metadata": {},
   "outputs": [
    {
     "name": "stdout",
     "output_type": "stream",
     "text": [
      "1307\n"
     ]
    }
   ],
   "source": [
    "duration_tags=driver.find_elements_by_xpath(\"/html/body/section[2]/div/div[1]/div/div[2]/div/div/div/div/span\")\n",
    "for i in duration_tags[1::3]:\n",
    "    duration.append(i.text)\n",
    "    \n",
    "print(len(duration))"
   ]
  },
  {
   "cell_type": "code",
   "execution_count": 284,
   "metadata": {},
   "outputs": [],
   "source": [
    "price_tags=driver.find_elements_by_xpath(\"/html/body/section[2]/div/div[1]/div/div[2]/div/div/p\")"
   ]
  },
  {
   "cell_type": "code",
   "execution_count": 285,
   "metadata": {},
   "outputs": [],
   "source": [
    "for i in price_tags[1::3]:\n",
    "    price.append(i.text)"
   ]
  },
  {
   "cell_type": "code",
   "execution_count": 286,
   "metadata": {},
   "outputs": [],
   "source": [
    "to_tag=driver.find_element_by_xpath(\"/html/body/div[6]/ul/li[9]\")"
   ]
  },
  {
   "cell_type": "code",
   "execution_count": 287,
   "metadata": {},
   "outputs": [],
   "source": [
    "to_tag.click()"
   ]
  },
  {
   "cell_type": "code",
   "execution_count": 288,
   "metadata": {},
   "outputs": [],
   "source": [
    "search_btn=driver.find_element_by_xpath(\"//*[@id='modifysearch']\")"
   ]
  },
  {
   "cell_type": "code",
   "execution_count": 289,
   "metadata": {},
   "outputs": [],
   "source": [
    "search_btn.click()"
   ]
  },
  {
   "cell_type": "code",
   "execution_count": 290,
   "metadata": {},
   "outputs": [],
   "source": [
    "elements_tags=driver.find_elements_by_xpath(\"/html/body/section[2]/div/div[1]/div/div[2]/div/div/div/div/span\")"
   ]
  },
  {
   "cell_type": "code",
   "execution_count": 291,
   "metadata": {},
   "outputs": [],
   "source": [
    "for i in elements_tags[0::3]:\n",
    "    elements.append(i.text)"
   ]
  },
  {
   "cell_type": "code",
   "execution_count": 292,
   "metadata": {},
   "outputs": [
    {
     "data": {
      "text/plain": [
       "1338"
      ]
     },
     "execution_count": 292,
     "metadata": {},
     "output_type": "execute_result"
    }
   ],
   "source": [
    "len(elements)"
   ]
  },
  {
   "cell_type": "code",
   "execution_count": 293,
   "metadata": {},
   "outputs": [],
   "source": [
    "arrival_tags=driver.find_elements_by_xpath(\"/html/body/section[2]/div/div[1]/div/div[2]/div/div/div/div/div/b\")"
   ]
  },
  {
   "cell_type": "code",
   "execution_count": 294,
   "metadata": {},
   "outputs": [],
   "source": [
    "for i in arrival_tags[0::2]:\n",
    "    arrival.append(i.text)"
   ]
  },
  {
   "cell_type": "code",
   "execution_count": 295,
   "metadata": {},
   "outputs": [
    {
     "data": {
      "text/plain": [
       "1338"
      ]
     },
     "execution_count": 295,
     "metadata": {},
     "output_type": "execute_result"
    }
   ],
   "source": [
    "len(arrival)"
   ]
  },
  {
   "cell_type": "code",
   "execution_count": 296,
   "metadata": {},
   "outputs": [],
   "source": [
    "for i in arrival_tags[1::2]:\n",
    "    departure.append(i.text)    "
   ]
  },
  {
   "cell_type": "code",
   "execution_count": 297,
   "metadata": {},
   "outputs": [
    {
     "data": {
      "text/plain": [
       "1338"
      ]
     },
     "execution_count": 297,
     "metadata": {},
     "output_type": "execute_result"
    }
   ],
   "source": [
    "len(departure)"
   ]
  },
  {
   "cell_type": "code",
   "execution_count": 298,
   "metadata": {},
   "outputs": [
    {
     "name": "stdout",
     "output_type": "stream",
     "text": [
      "1338\n"
     ]
    }
   ],
   "source": [
    "duration_tags=driver.find_elements_by_xpath(\"/html/body/section[2]/div/div[1]/div/div[2]/div/div/div/div/span\")\n",
    "for i in duration_tags[1::3]:\n",
    "    duration.append(i.text)\n",
    "    \n",
    "print(len(duration))"
   ]
  },
  {
   "cell_type": "code",
   "execution_count": 299,
   "metadata": {},
   "outputs": [],
   "source": [
    "price_tags=driver.find_elements_by_xpath(\"/html/body/section[2]/div/div[1]/div/div[2]/div/div/p\")"
   ]
  },
  {
   "cell_type": "code",
   "execution_count": 300,
   "metadata": {},
   "outputs": [],
   "source": [
    "for i in price_tags[1::3]:\n",
    "    price.append(i.text)"
   ]
  },
  {
   "cell_type": "code",
   "execution_count": 301,
   "metadata": {},
   "outputs": [
    {
     "data": {
      "text/plain": [
       "1338"
      ]
     },
     "execution_count": 301,
     "metadata": {},
     "output_type": "execute_result"
    }
   ],
   "source": [
    "len(price)"
   ]
  },
  {
   "cell_type": "code",
   "execution_count": 302,
   "metadata": {},
   "outputs": [],
   "source": [
    "to_tag=driver.find_element_by_xpath(\"/html/body/div[6]/ul/li[8]\")"
   ]
  },
  {
   "cell_type": "code",
   "execution_count": 303,
   "metadata": {},
   "outputs": [],
   "source": [
    "to_tag.click()"
   ]
  },
  {
   "cell_type": "code",
   "execution_count": 304,
   "metadata": {},
   "outputs": [],
   "source": [
    "search_btn=driver.find_element_by_xpath(\"//*[@id='modifysearch']\")"
   ]
  },
  {
   "cell_type": "code",
   "execution_count": 305,
   "metadata": {},
   "outputs": [],
   "source": [
    "search_btn.click()"
   ]
  },
  {
   "cell_type": "code",
   "execution_count": 306,
   "metadata": {},
   "outputs": [],
   "source": [
    "elements_tags=driver.find_elements_by_xpath(\"/html/body/section[2]/div/div[1]/div/div[2]/div/div/div/div/span\")"
   ]
  },
  {
   "cell_type": "code",
   "execution_count": 307,
   "metadata": {},
   "outputs": [],
   "source": [
    "for i in elements_tags[0::3]:\n",
    "    elements.append(i.text)"
   ]
  },
  {
   "cell_type": "code",
   "execution_count": 308,
   "metadata": {},
   "outputs": [
    {
     "data": {
      "text/plain": [
       "1373"
      ]
     },
     "execution_count": 308,
     "metadata": {},
     "output_type": "execute_result"
    }
   ],
   "source": [
    "len(elements)"
   ]
  },
  {
   "cell_type": "code",
   "execution_count": 309,
   "metadata": {},
   "outputs": [],
   "source": [
    "arrival_tags=driver.find_elements_by_xpath(\"/html/body/section[2]/div/div[1]/div/div[2]/div/div/div/div/div/b\")"
   ]
  },
  {
   "cell_type": "code",
   "execution_count": 310,
   "metadata": {},
   "outputs": [],
   "source": [
    "for i in arrival_tags[0::2]:\n",
    "    arrival.append(i.text)"
   ]
  },
  {
   "cell_type": "code",
   "execution_count": 311,
   "metadata": {},
   "outputs": [
    {
     "data": {
      "text/plain": [
       "1373"
      ]
     },
     "execution_count": 311,
     "metadata": {},
     "output_type": "execute_result"
    }
   ],
   "source": [
    "len(arrival)"
   ]
  },
  {
   "cell_type": "code",
   "execution_count": 312,
   "metadata": {},
   "outputs": [],
   "source": [
    "for i in arrival_tags[1::2]:\n",
    "    departure.append(i.text)    "
   ]
  },
  {
   "cell_type": "code",
   "execution_count": 313,
   "metadata": {},
   "outputs": [
    {
     "data": {
      "text/plain": [
       "1373"
      ]
     },
     "execution_count": 313,
     "metadata": {},
     "output_type": "execute_result"
    }
   ],
   "source": [
    "len(departure)"
   ]
  },
  {
   "cell_type": "code",
   "execution_count": 314,
   "metadata": {},
   "outputs": [
    {
     "name": "stdout",
     "output_type": "stream",
     "text": [
      "1373\n"
     ]
    }
   ],
   "source": [
    "duration_tags=driver.find_elements_by_xpath(\"/html/body/section[2]/div/div[1]/div/div[2]/div/div/div/div/span\")\n",
    "for i in duration_tags[1::3]:\n",
    "    duration.append(i.text)\n",
    "    \n",
    "print(len(duration))"
   ]
  },
  {
   "cell_type": "code",
   "execution_count": 315,
   "metadata": {},
   "outputs": [],
   "source": [
    "price_tags=driver.find_elements_by_xpath(\"/html/body/section[2]/div/div[1]/div/div[2]/div/div/p\")"
   ]
  },
  {
   "cell_type": "code",
   "execution_count": 316,
   "metadata": {},
   "outputs": [],
   "source": [
    "for i in price_tags[1::3]:\n",
    "    price.append(i.text)"
   ]
  },
  {
   "cell_type": "code",
   "execution_count": 317,
   "metadata": {},
   "outputs": [
    {
     "data": {
      "text/plain": [
       "1373"
      ]
     },
     "execution_count": 317,
     "metadata": {},
     "output_type": "execute_result"
    }
   ],
   "source": [
    "len(price)"
   ]
  },
  {
   "cell_type": "code",
   "execution_count": 318,
   "metadata": {},
   "outputs": [],
   "source": [
    "to_tag=driver.find_element_by_xpath(\"/html/body/div[6]/ul/li[3]/b\")"
   ]
  },
  {
   "cell_type": "code",
   "execution_count": 319,
   "metadata": {},
   "outputs": [],
   "source": [
    "to_tag.click()"
   ]
  },
  {
   "cell_type": "code",
   "execution_count": 320,
   "metadata": {},
   "outputs": [],
   "source": [
    "search_btn=driver.find_element_by_xpath(\"//*[@id='modifysearch']\")"
   ]
  },
  {
   "cell_type": "code",
   "execution_count": 321,
   "metadata": {},
   "outputs": [],
   "source": [
    "search_btn.click()"
   ]
  },
  {
   "cell_type": "code",
   "execution_count": 322,
   "metadata": {},
   "outputs": [],
   "source": [
    "elements_tags=driver.find_elements_by_xpath(\"/html/body/section[2]/div/div[1]/div/div[2]/div/div/div/div/span\")"
   ]
  },
  {
   "cell_type": "code",
   "execution_count": 323,
   "metadata": {},
   "outputs": [],
   "source": [
    "for i in elements_tags[0::3]:\n",
    "    elements.append(i.text)"
   ]
  },
  {
   "cell_type": "code",
   "execution_count": 324,
   "metadata": {},
   "outputs": [
    {
     "data": {
      "text/plain": [
       "1435"
      ]
     },
     "execution_count": 324,
     "metadata": {},
     "output_type": "execute_result"
    }
   ],
   "source": [
    "len(elements)"
   ]
  },
  {
   "cell_type": "code",
   "execution_count": 325,
   "metadata": {},
   "outputs": [],
   "source": [
    "arrival_tags=driver.find_elements_by_xpath(\"/html/body/section[2]/div/div[1]/div/div[2]/div/div/div/div/div/b\")"
   ]
  },
  {
   "cell_type": "code",
   "execution_count": 326,
   "metadata": {},
   "outputs": [],
   "source": [
    "for i in arrival_tags[0::2]:\n",
    "    arrival.append(i.text)"
   ]
  },
  {
   "cell_type": "code",
   "execution_count": 327,
   "metadata": {},
   "outputs": [
    {
     "data": {
      "text/plain": [
       "1435"
      ]
     },
     "execution_count": 327,
     "metadata": {},
     "output_type": "execute_result"
    }
   ],
   "source": [
    "len(arrival)"
   ]
  },
  {
   "cell_type": "code",
   "execution_count": 328,
   "metadata": {},
   "outputs": [],
   "source": [
    "for i in arrival_tags[1::2]:\n",
    "    departure.append(i.text)    "
   ]
  },
  {
   "cell_type": "code",
   "execution_count": 329,
   "metadata": {},
   "outputs": [
    {
     "data": {
      "text/plain": [
       "1435"
      ]
     },
     "execution_count": 329,
     "metadata": {},
     "output_type": "execute_result"
    }
   ],
   "source": [
    "len(departure)"
   ]
  },
  {
   "cell_type": "code",
   "execution_count": 330,
   "metadata": {},
   "outputs": [
    {
     "name": "stdout",
     "output_type": "stream",
     "text": [
      "1435\n"
     ]
    }
   ],
   "source": [
    "duration_tags=driver.find_elements_by_xpath(\"/html/body/section[2]/div/div[1]/div/div[2]/div/div/div/div/span\")\n",
    "for i in duration_tags[1::3]:\n",
    "    duration.append(i.text)\n",
    "    \n",
    "print(len(duration))"
   ]
  },
  {
   "cell_type": "code",
   "execution_count": 331,
   "metadata": {},
   "outputs": [],
   "source": [
    "price_tags=driver.find_elements_by_xpath(\"/html/body/section[2]/div/div[1]/div/div[2]/div/div/p\")"
   ]
  },
  {
   "cell_type": "code",
   "execution_count": 332,
   "metadata": {},
   "outputs": [],
   "source": [
    "for i in price_tags[1::3]:\n",
    "    price.append(i.text)"
   ]
  },
  {
   "cell_type": "code",
   "execution_count": 333,
   "metadata": {},
   "outputs": [
    {
     "data": {
      "text/plain": [
       "1435"
      ]
     },
     "execution_count": 333,
     "metadata": {},
     "output_type": "execute_result"
    }
   ],
   "source": [
    "len(price)"
   ]
  },
  {
   "cell_type": "code",
   "execution_count": 334,
   "metadata": {},
   "outputs": [],
   "source": [
    "from_tag=driver.find_element_by_xpath(\"/html/body/div[7]/ul/li[3]\")"
   ]
  },
  {
   "cell_type": "code",
   "execution_count": 335,
   "metadata": {},
   "outputs": [],
   "source": [
    "from_tag.click()"
   ]
  },
  {
   "cell_type": "code",
   "execution_count": 336,
   "metadata": {},
   "outputs": [],
   "source": [
    "to_tag=driver.find_element_by_xpath(\"/html/body/div[6]/ul/li[1]/span\")"
   ]
  },
  {
   "cell_type": "code",
   "execution_count": 337,
   "metadata": {},
   "outputs": [],
   "source": [
    "to_tag.click()"
   ]
  },
  {
   "cell_type": "code",
   "execution_count": 338,
   "metadata": {},
   "outputs": [],
   "source": [
    "search_btn=driver.find_element_by_xpath(\"//*[@id='modifysearch']\")"
   ]
  },
  {
   "cell_type": "code",
   "execution_count": 339,
   "metadata": {},
   "outputs": [],
   "source": [
    "search_btn.click()"
   ]
  },
  {
   "cell_type": "code",
   "execution_count": 340,
   "metadata": {},
   "outputs": [],
   "source": [
    "elements_tags=driver.find_elements_by_xpath(\"/html/body/section[2]/div/div[1]/div/div[2]/div/div/div/div/span\")"
   ]
  },
  {
   "cell_type": "code",
   "execution_count": 341,
   "metadata": {},
   "outputs": [],
   "source": [
    "for i in elements_tags[0::3]:\n",
    "    elements.append(i.text)"
   ]
  },
  {
   "cell_type": "code",
   "execution_count": 342,
   "metadata": {},
   "outputs": [
    {
     "data": {
      "text/plain": [
       "1573"
      ]
     },
     "execution_count": 342,
     "metadata": {},
     "output_type": "execute_result"
    }
   ],
   "source": [
    "len(elements)"
   ]
  },
  {
   "cell_type": "code",
   "execution_count": 343,
   "metadata": {},
   "outputs": [],
   "source": [
    "arrival_tags=driver.find_elements_by_xpath(\"/html/body/section[2]/div/div[1]/div/div[2]/div/div/div/div/div/b\")"
   ]
  },
  {
   "cell_type": "code",
   "execution_count": 344,
   "metadata": {},
   "outputs": [],
   "source": [
    "for i in arrival_tags[0::2]:\n",
    "    arrival.append(i.text)"
   ]
  },
  {
   "cell_type": "code",
   "execution_count": 345,
   "metadata": {},
   "outputs": [
    {
     "data": {
      "text/plain": [
       "1573"
      ]
     },
     "execution_count": 345,
     "metadata": {},
     "output_type": "execute_result"
    }
   ],
   "source": [
    "len(arrival)"
   ]
  },
  {
   "cell_type": "code",
   "execution_count": 346,
   "metadata": {},
   "outputs": [],
   "source": [
    "for i in arrival_tags[1::2]:\n",
    "    departure.append(i.text)    "
   ]
  },
  {
   "cell_type": "code",
   "execution_count": 347,
   "metadata": {},
   "outputs": [
    {
     "data": {
      "text/plain": [
       "1573"
      ]
     },
     "execution_count": 347,
     "metadata": {},
     "output_type": "execute_result"
    }
   ],
   "source": [
    "len(departure)"
   ]
  },
  {
   "cell_type": "code",
   "execution_count": 348,
   "metadata": {},
   "outputs": [
    {
     "name": "stdout",
     "output_type": "stream",
     "text": [
      "1573\n"
     ]
    }
   ],
   "source": [
    "duration_tags=driver.find_elements_by_xpath(\"/html/body/section[2]/div/div[1]/div/div[2]/div/div/div/div/span\")\n",
    "for i in duration_tags[1::3]:\n",
    "    duration.append(i.text)\n",
    "    \n",
    "print(len(duration))"
   ]
  },
  {
   "cell_type": "code",
   "execution_count": 349,
   "metadata": {},
   "outputs": [],
   "source": [
    "price_tags=driver.find_elements_by_xpath(\"/html/body/section[2]/div/div[1]/div/div[2]/div/div/p\")"
   ]
  },
  {
   "cell_type": "code",
   "execution_count": 350,
   "metadata": {},
   "outputs": [],
   "source": [
    "for i in price_tags[1::3]:\n",
    "    price.append(i.text)"
   ]
  },
  {
   "cell_type": "code",
   "execution_count": 351,
   "metadata": {},
   "outputs": [
    {
     "data": {
      "text/plain": [
       "1573"
      ]
     },
     "execution_count": 351,
     "metadata": {},
     "output_type": "execute_result"
    }
   ],
   "source": [
    "len(price)"
   ]
  },
  {
   "cell_type": "code",
   "execution_count": 353,
   "metadata": {},
   "outputs": [
    {
     "name": "stdout",
     "output_type": "stream",
     "text": [
      "1573\n",
      "1573\n",
      "1573\n",
      "1573\n",
      "1573\n"
     ]
    }
   ],
   "source": [
    "print(len(elements))\n",
    "print(len(arrival))\n",
    "print(len(departure))\n",
    "print(len(duration))\n",
    "print(len(price))"
   ]
  },
  {
   "cell_type": "code",
   "execution_count": 354,
   "metadata": {},
   "outputs": [],
   "source": [
    "flight_name=elements[:]"
   ]
  },
  {
   "cell_type": "code",
   "execution_count": 355,
   "metadata": {},
   "outputs": [],
   "source": [
    "flight=pd.DataFrame({})\n",
    "flight['Name']=flight_name\n",
    "flight['Arrival']=arrival\n",
    "flight['Departure']=departure\n",
    "flight['Duration']=duration\n",
    "flight['Price']=price\n"
   ]
  },
  {
   "cell_type": "code",
   "execution_count": 356,
   "metadata": {},
   "outputs": [
    {
     "data": {
      "text/html": [
       "<div>\n",
       "<style scoped>\n",
       "    .dataframe tbody tr th:only-of-type {\n",
       "        vertical-align: middle;\n",
       "    }\n",
       "\n",
       "    .dataframe tbody tr th {\n",
       "        vertical-align: top;\n",
       "    }\n",
       "\n",
       "    .dataframe thead th {\n",
       "        text-align: right;\n",
       "    }\n",
       "</style>\n",
       "<table border=\"1\" class=\"dataframe\">\n",
       "  <thead>\n",
       "    <tr style=\"text-align: right;\">\n",
       "      <th></th>\n",
       "      <th>Name</th>\n",
       "      <th>Arrival</th>\n",
       "      <th>Departure</th>\n",
       "      <th>Duration</th>\n",
       "      <th>Price</th>\n",
       "    </tr>\n",
       "  </thead>\n",
       "  <tbody>\n",
       "    <tr>\n",
       "      <th>0</th>\n",
       "      <td>SpiceJet\\nSG 8184</td>\n",
       "      <td>10:40\\nDelhi</td>\n",
       "      <td>12:50\\nMumbai</td>\n",
       "      <td>2h 10m\\nNon Stop</td>\n",
       "      <td>5953</td>\n",
       "    </tr>\n",
       "    <tr>\n",
       "      <th>1</th>\n",
       "      <td>SpiceJet\\nSG 507</td>\n",
       "      <td>20:20\\nDelhi</td>\n",
       "      <td>22:40\\nMumbai</td>\n",
       "      <td>2h 20m\\nNon Stop</td>\n",
       "      <td>5953</td>\n",
       "    </tr>\n",
       "    <tr>\n",
       "      <th>2</th>\n",
       "      <td>SpiceJet\\nSG 611</td>\n",
       "      <td>18:40\\nDelhi</td>\n",
       "      <td>20:40\\nMumbai</td>\n",
       "      <td>2h 00m\\nNon Stop</td>\n",
       "      <td>5953</td>\n",
       "    </tr>\n",
       "    <tr>\n",
       "      <th>3</th>\n",
       "      <td>SpiceJet\\nSG 757</td>\n",
       "      <td>16:20\\nDelhi</td>\n",
       "      <td>18:30\\nMumbai</td>\n",
       "      <td>2h 10m\\nNon Stop</td>\n",
       "      <td>5953</td>\n",
       "    </tr>\n",
       "    <tr>\n",
       "      <th>4</th>\n",
       "      <td>Indigo\\n6E 2339</td>\n",
       "      <td>21:55\\nDelhi</td>\n",
       "      <td>00:05+1D\\nMumbai</td>\n",
       "      <td>2h 10m\\nNon Stop</td>\n",
       "      <td>5953</td>\n",
       "    </tr>\n",
       "    <tr>\n",
       "      <th>...</th>\n",
       "      <td>...</td>\n",
       "      <td>...</td>\n",
       "      <td>...</td>\n",
       "      <td>...</td>\n",
       "      <td>...</td>\n",
       "    </tr>\n",
       "    <tr>\n",
       "      <th>1568</th>\n",
       "      <td>Air Asia\\nI5 2392</td>\n",
       "      <td>11:50\\nBangalore</td>\n",
       "      <td>19:20\\nDelhi</td>\n",
       "      <td>7h 30m\\n1 Stop</td>\n",
       "      <td>16174</td>\n",
       "    </tr>\n",
       "    <tr>\n",
       "      <th>1569</th>\n",
       "      <td>SpiceJet\\nSG 3233</td>\n",
       "      <td>09:50\\nBangalore</td>\n",
       "      <td>17:45\\nDelhi</td>\n",
       "      <td>7h 55m\\n1 Stop</td>\n",
       "      <td>16306</td>\n",
       "    </tr>\n",
       "    <tr>\n",
       "      <th>1570</th>\n",
       "      <td>Air India\\nAI 772</td>\n",
       "      <td>12:00\\nBangalore</td>\n",
       "      <td>23:00\\nDelhi</td>\n",
       "      <td>11h 00m\\n1 Stop</td>\n",
       "      <td>21137</td>\n",
       "    </tr>\n",
       "    <tr>\n",
       "      <th>1571</th>\n",
       "      <td>Air Asia\\nI5 1324</td>\n",
       "      <td>05:45\\nBangalore</td>\n",
       "      <td>10:55\\nDelhi</td>\n",
       "      <td>5h 10m\\n1 Stop</td>\n",
       "      <td>24208</td>\n",
       "    </tr>\n",
       "    <tr>\n",
       "      <th>1572</th>\n",
       "      <td>Air Asia\\nI5 1324</td>\n",
       "      <td>05:45\\nBangalore</td>\n",
       "      <td>10:55\\nDelhi</td>\n",
       "      <td>5h 10m\\n1 Stop</td>\n",
       "      <td>25159</td>\n",
       "    </tr>\n",
       "  </tbody>\n",
       "</table>\n",
       "<p>1573 rows × 5 columns</p>\n",
       "</div>"
      ],
      "text/plain": [
       "                   Name           Arrival         Departure          Duration  \\\n",
       "0     SpiceJet\\nSG 8184      10:40\\nDelhi     12:50\\nMumbai  2h 10m\\nNon Stop   \n",
       "1      SpiceJet\\nSG 507      20:20\\nDelhi     22:40\\nMumbai  2h 20m\\nNon Stop   \n",
       "2      SpiceJet\\nSG 611      18:40\\nDelhi     20:40\\nMumbai  2h 00m\\nNon Stop   \n",
       "3      SpiceJet\\nSG 757      16:20\\nDelhi     18:30\\nMumbai  2h 10m\\nNon Stop   \n",
       "4       Indigo\\n6E 2339      21:55\\nDelhi  00:05+1D\\nMumbai  2h 10m\\nNon Stop   \n",
       "...                 ...               ...               ...               ...   \n",
       "1568  Air Asia\\nI5 2392  11:50\\nBangalore      19:20\\nDelhi    7h 30m\\n1 Stop   \n",
       "1569  SpiceJet\\nSG 3233  09:50\\nBangalore      17:45\\nDelhi    7h 55m\\n1 Stop   \n",
       "1570  Air India\\nAI 772  12:00\\nBangalore      23:00\\nDelhi   11h 00m\\n1 Stop   \n",
       "1571  Air Asia\\nI5 1324  05:45\\nBangalore      10:55\\nDelhi    5h 10m\\n1 Stop   \n",
       "1572  Air Asia\\nI5 1324  05:45\\nBangalore      10:55\\nDelhi    5h 10m\\n1 Stop   \n",
       "\n",
       "      Price  \n",
       "0      5953  \n",
       "1      5953  \n",
       "2      5953  \n",
       "3      5953  \n",
       "4      5953  \n",
       "...     ...  \n",
       "1568  16174  \n",
       "1569  16306  \n",
       "1570  21137  \n",
       "1571  24208  \n",
       "1572  25159  \n",
       "\n",
       "[1573 rows x 5 columns]"
      ]
     },
     "execution_count": 356,
     "metadata": {},
     "output_type": "execute_result"
    }
   ],
   "source": [
    "flight"
   ]
  },
  {
   "cell_type": "code",
   "execution_count": 357,
   "metadata": {},
   "outputs": [],
   "source": [
    "flight.to_csv('flights_data.csv')"
   ]
  },
  {
   "cell_type": "code",
   "execution_count": null,
   "metadata": {},
   "outputs": [],
   "source": []
  }
 ],
 "metadata": {
  "kernelspec": {
   "display_name": "Python 3",
   "language": "python",
   "name": "python3"
  },
  "language_info": {
   "codemirror_mode": {
    "name": "ipython",
    "version": 3
   },
   "file_extension": ".py",
   "mimetype": "text/x-python",
   "name": "python",
   "nbconvert_exporter": "python",
   "pygments_lexer": "ipython3",
   "version": "3.7.6"
  }
 },
 "nbformat": 4,
 "nbformat_minor": 4
}
