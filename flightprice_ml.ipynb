{
 "cells": [
  {
   "cell_type": "code",
   "execution_count": 1,
   "metadata": {},
   "outputs": [],
   "source": [
    "import numpy as np \n",
    "import pandas as pd\n",
    "import matplotlib.pyplot as plt\n",
    "import seaborn as sns\n",
    "import scipy\n",
    "import sklearn\n",
    "import warnings\n",
    "warnings.filterwarnings('ignore')\n",
    "from sklearn.linear_model import LinearRegression\n",
    "from sklearn.metrics import r2_score,mean_squared_error,mean_absolute_error\n",
    "from sklearn.metrics import accuracy_score,classification_report,confusion_matrix\n",
    "from sklearn.naive_bayes import GaussianNB\n",
    "from sklearn.svm import SVR\n",
    "from sklearn.tree import DecisionTreeRegressor\n",
    "from sklearn.neighbors import KNeighborsRegressor\n",
    "from sklearn.model_selection import GridSearchCV\n",
    "from sklearn.model_selection import cross_val_score\n",
    "from sklearn.model_selection import train_test_split\n",
    "import warnings\n",
    "warnings.filterwarnings('ignore')"
   ]
  },
  {
   "cell_type": "code",
   "execution_count": 2,
   "metadata": {},
   "outputs": [
    {
     "data": {
      "text/html": [
       "<div>\n",
       "<style scoped>\n",
       "    .dataframe tbody tr th:only-of-type {\n",
       "        vertical-align: middle;\n",
       "    }\n",
       "\n",
       "    .dataframe tbody tr th {\n",
       "        vertical-align: top;\n",
       "    }\n",
       "\n",
       "    .dataframe thead th {\n",
       "        text-align: right;\n",
       "    }\n",
       "</style>\n",
       "<table border=\"1\" class=\"dataframe\">\n",
       "  <thead>\n",
       "    <tr style=\"text-align: right;\">\n",
       "      <th></th>\n",
       "      <th>Unnamed: 0</th>\n",
       "      <th>Name</th>\n",
       "      <th>Arrival</th>\n",
       "      <th>Departure</th>\n",
       "      <th>Duration</th>\n",
       "      <th>Price</th>\n",
       "    </tr>\n",
       "  </thead>\n",
       "  <tbody>\n",
       "    <tr>\n",
       "      <th>0</th>\n",
       "      <td>0</td>\n",
       "      <td>SpiceJet\\nSG 8184</td>\n",
       "      <td>10:40\\nDelhi</td>\n",
       "      <td>12:50\\nMumbai</td>\n",
       "      <td>2h 10m\\nNon Stop</td>\n",
       "      <td>5953</td>\n",
       "    </tr>\n",
       "    <tr>\n",
       "      <th>1</th>\n",
       "      <td>1</td>\n",
       "      <td>SpiceJet\\nSG 507</td>\n",
       "      <td>20:20\\nDelhi</td>\n",
       "      <td>22:40\\nMumbai</td>\n",
       "      <td>2h 20m\\nNon Stop</td>\n",
       "      <td>5953</td>\n",
       "    </tr>\n",
       "    <tr>\n",
       "      <th>2</th>\n",
       "      <td>2</td>\n",
       "      <td>SpiceJet\\nSG 611</td>\n",
       "      <td>18:40\\nDelhi</td>\n",
       "      <td>20:40\\nMumbai</td>\n",
       "      <td>2h 00m\\nNon Stop</td>\n",
       "      <td>5953</td>\n",
       "    </tr>\n",
       "    <tr>\n",
       "      <th>3</th>\n",
       "      <td>3</td>\n",
       "      <td>SpiceJet\\nSG 757</td>\n",
       "      <td>16:20\\nDelhi</td>\n",
       "      <td>18:30\\nMumbai</td>\n",
       "      <td>2h 10m\\nNon Stop</td>\n",
       "      <td>5953</td>\n",
       "    </tr>\n",
       "    <tr>\n",
       "      <th>4</th>\n",
       "      <td>4</td>\n",
       "      <td>Indigo\\n6E 2339</td>\n",
       "      <td>21:55\\nDelhi</td>\n",
       "      <td>00:05+1D\\nMumbai</td>\n",
       "      <td>2h 10m\\nNon Stop</td>\n",
       "      <td>5953</td>\n",
       "    </tr>\n",
       "  </tbody>\n",
       "</table>\n",
       "</div>"
      ],
      "text/plain": [
       "   Unnamed: 0               Name       Arrival         Departure  \\\n",
       "0           0  SpiceJet\\nSG 8184  10:40\\nDelhi     12:50\\nMumbai   \n",
       "1           1   SpiceJet\\nSG 507  20:20\\nDelhi     22:40\\nMumbai   \n",
       "2           2   SpiceJet\\nSG 611  18:40\\nDelhi     20:40\\nMumbai   \n",
       "3           3   SpiceJet\\nSG 757  16:20\\nDelhi     18:30\\nMumbai   \n",
       "4           4    Indigo\\n6E 2339  21:55\\nDelhi  00:05+1D\\nMumbai   \n",
       "\n",
       "           Duration  Price  \n",
       "0  2h 10m\\nNon Stop   5953  \n",
       "1  2h 20m\\nNon Stop   5953  \n",
       "2  2h 00m\\nNon Stop   5953  \n",
       "3  2h 10m\\nNon Stop   5953  \n",
       "4  2h 10m\\nNon Stop   5953  "
      ]
     },
     "execution_count": 2,
     "metadata": {},
     "output_type": "execute_result"
    }
   ],
   "source": [
    "df=pd.read_csv('flights_data.csv')\n",
    "df.head()"
   ]
  },
  {
   "cell_type": "code",
   "execution_count": 4,
   "metadata": {},
   "outputs": [
    {
     "name": "stdout",
     "output_type": "stream",
     "text": [
      "<class 'pandas.core.frame.DataFrame'>\n",
      "RangeIndex: 1573 entries, 0 to 1572\n",
      "Data columns (total 6 columns):\n",
      " #   Column      Non-Null Count  Dtype \n",
      "---  ------      --------------  ----- \n",
      " 0   Unnamed: 0  1573 non-null   int64 \n",
      " 1   Name        1573 non-null   object\n",
      " 2   Arrival     1573 non-null   object\n",
      " 3   Departure   1573 non-null   object\n",
      " 4   Duration    1573 non-null   object\n",
      " 5   Price       1573 non-null   int64 \n",
      "dtypes: int64(2), object(4)\n",
      "memory usage: 73.9+ KB\n"
     ]
    }
   ],
   "source": [
    "#checking the information of the train dataset\n",
    "df.info()"
   ]
  },
  {
   "cell_type": "code",
   "execution_count": 5,
   "metadata": {},
   "outputs": [
    {
     "data": {
      "text/plain": [
       "(1573, 6)"
      ]
     },
     "execution_count": 5,
     "metadata": {},
     "output_type": "execute_result"
    }
   ],
   "source": [
    "#checking the shape of the train dataset\n",
    "df.shape"
   ]
  },
  {
   "cell_type": "code",
   "execution_count": 6,
   "metadata": {},
   "outputs": [
    {
     "data": {
      "text/plain": [
       "Unnamed: 0     int64\n",
       "Name          object\n",
       "Arrival       object\n",
       "Departure     object\n",
       "Duration      object\n",
       "Price          int64\n",
       "dtype: object"
      ]
     },
     "execution_count": 6,
     "metadata": {},
     "output_type": "execute_result"
    }
   ],
   "source": [
    "#checking the data types of dataset\n",
    "df.dtypes"
   ]
  },
  {
   "cell_type": "code",
   "execution_count": 7,
   "metadata": {},
   "outputs": [
    {
     "data": {
      "text/plain": [
       "Index(['Unnamed: 0', 'Name', 'Arrival', 'Departure', 'Duration', 'Price'], dtype='object')"
      ]
     },
     "execution_count": 7,
     "metadata": {},
     "output_type": "execute_result"
    }
   ],
   "source": [
    "#checking the columns of the train dataset\n",
    "df.columns"
   ]
  },
  {
   "cell_type": "markdown",
   "metadata": {},
   "source": [
    "# Statistical Summary"
   ]
  },
  {
   "cell_type": "code",
   "execution_count": 8,
   "metadata": {},
   "outputs": [
    {
     "data": {
      "text/html": [
       "<div>\n",
       "<style scoped>\n",
       "    .dataframe tbody tr th:only-of-type {\n",
       "        vertical-align: middle;\n",
       "    }\n",
       "\n",
       "    .dataframe tbody tr th {\n",
       "        vertical-align: top;\n",
       "    }\n",
       "\n",
       "    .dataframe thead th {\n",
       "        text-align: right;\n",
       "    }\n",
       "</style>\n",
       "<table border=\"1\" class=\"dataframe\">\n",
       "  <thead>\n",
       "    <tr style=\"text-align: right;\">\n",
       "      <th></th>\n",
       "      <th>Unnamed: 0</th>\n",
       "      <th>Price</th>\n",
       "    </tr>\n",
       "  </thead>\n",
       "  <tbody>\n",
       "    <tr>\n",
       "      <th>count</th>\n",
       "      <td>1573.000000</td>\n",
       "      <td>1573.000000</td>\n",
       "    </tr>\n",
       "    <tr>\n",
       "      <th>mean</th>\n",
       "      <td>786.000000</td>\n",
       "      <td>10754.796567</td>\n",
       "    </tr>\n",
       "    <tr>\n",
       "      <th>std</th>\n",
       "      <td>454.230301</td>\n",
       "      <td>4529.753777</td>\n",
       "    </tr>\n",
       "    <tr>\n",
       "      <th>min</th>\n",
       "      <td>0.000000</td>\n",
       "      <td>4450.000000</td>\n",
       "    </tr>\n",
       "    <tr>\n",
       "      <th>25%</th>\n",
       "      <td>393.000000</td>\n",
       "      <td>7391.000000</td>\n",
       "    </tr>\n",
       "    <tr>\n",
       "      <th>50%</th>\n",
       "      <td>786.000000</td>\n",
       "      <td>9902.000000</td>\n",
       "    </tr>\n",
       "    <tr>\n",
       "      <th>75%</th>\n",
       "      <td>1179.000000</td>\n",
       "      <td>13297.000000</td>\n",
       "    </tr>\n",
       "    <tr>\n",
       "      <th>max</th>\n",
       "      <td>1572.000000</td>\n",
       "      <td>34408.000000</td>\n",
       "    </tr>\n",
       "  </tbody>\n",
       "</table>\n",
       "</div>"
      ],
      "text/plain": [
       "        Unnamed: 0         Price\n",
       "count  1573.000000   1573.000000\n",
       "mean    786.000000  10754.796567\n",
       "std     454.230301   4529.753777\n",
       "min       0.000000   4450.000000\n",
       "25%     393.000000   7391.000000\n",
       "50%     786.000000   9902.000000\n",
       "75%    1179.000000  13297.000000\n",
       "max    1572.000000  34408.000000"
      ]
     },
     "execution_count": 8,
     "metadata": {},
     "output_type": "execute_result"
    }
   ],
   "source": [
    "#ch3cking the description/summary of the dataset\n",
    "df.describe()"
   ]
  },
  {
   "cell_type": "raw",
   "metadata": {},
   "source": [
    "Observations :-\n",
    "    \n",
    "1. The mean is more than median for Price Column."
   ]
  },
  {
   "cell_type": "markdown",
   "metadata": {},
   "source": [
    "# Exploring Target Variable"
   ]
  },
  {
   "cell_type": "code",
   "execution_count": 9,
   "metadata": {},
   "outputs": [
    {
     "data": {
      "text/plain": [
       "7486     48\n",
       "5953     30\n",
       "7350     24\n",
       "5941     23\n",
       "8009     22\n",
       "         ..\n",
       "17250     1\n",
       "7396      1\n",
       "17641     1\n",
       "14153     1\n",
       "12288     1\n",
       "Name: Price, Length: 685, dtype: int64"
      ]
     },
     "execution_count": 9,
     "metadata": {},
     "output_type": "execute_result"
    }
   ],
   "source": [
    "df['Price'].value_counts()"
   ]
  },
  {
   "cell_type": "code",
   "execution_count": 10,
   "metadata": {},
   "outputs": [],
   "source": [
    "# As we have continuos values in Price column, so, this is a regression problem."
   ]
  },
  {
   "cell_type": "code",
   "execution_count": 11,
   "metadata": {},
   "outputs": [
    {
     "data": {
      "text/plain": [
       "<matplotlib.axes._subplots.AxesSubplot at 0x1a7c518f288>"
      ]
     },
     "execution_count": 11,
     "metadata": {},
     "output_type": "execute_result"
    },
    {
     "data": {
      "image/png": "[encoded data removed]",
      "text/plain": [
       "<Figure size 432x288 with 1 Axes>"
      ]
     },
     "metadata": {
      "needs_background": "light"
     },
     "output_type": "display_data"
    }
   ],
   "source": [
    "sns.stripplot(df['Price'])"
   ]
  },
  {
   "cell_type": "raw",
   "metadata": {},
   "source": [
    "Observations :-\n",
    "    \n",
    "1. Flight Prices are majorly in the range of 5000-20000."
   ]
  },
  {
   "cell_type": "markdown",
   "metadata": {},
   "source": [
    "# Data Visualizations"
   ]
  },
  {
   "cell_type": "raw",
   "metadata": {},
   "source": [
    "To check missing values"
   ]
  },
  {
   "cell_type": "code",
   "execution_count": 12,
   "metadata": {},
   "outputs": [
    {
     "data": {
      "text/plain": [
       "Unnamed: 0    0\n",
       "Name          0\n",
       "Arrival       0\n",
       "Departure     0\n",
       "Duration      0\n",
       "Price         0\n",
       "dtype: int64"
      ]
     },
     "execution_count": 12,
     "metadata": {},
     "output_type": "execute_result"
    }
   ],
   "source": [
    "#checking the null values\n",
    "df.isnull().sum()"
   ]
  },
  {
   "cell_type": "code",
   "execution_count": 13,
   "metadata": {},
   "outputs": [
    {
     "data": {
      "text/plain": [
       "<matplotlib.axes._subplots.AxesSubplot at 0x1a7c5988488>"
      ]
     },
     "execution_count": 13,
     "metadata": {},
     "output_type": "execute_result"
    },
    {
     "data": {
      "image/png": "[encoded data removed]",
      "text/plain": [
       "<Figure size 432x288 with 2 Axes>"
      ]
     },
     "metadata": {
      "needs_background": "light"
     },
     "output_type": "display_data"
    }
   ],
   "source": [
    "sns.heatmap(df.isnull())"
   ]
  },
  {
   "cell_type": "raw",
   "metadata": {},
   "source": [
    "Observations :-\n",
    "\n",
    "1. There is no missing values in the data."
   ]
  },
  {
   "cell_type": "markdown",
   "metadata": {},
   "source": [
    "# Feature Engineering"
   ]
  },
  {
   "cell_type": "code",
   "execution_count": 14,
   "metadata": {},
   "outputs": [],
   "source": [
    "df['Seat Number']=df['Name'].str.split('\\n').str[1]"
   ]
  },
  {
   "cell_type": "code",
   "execution_count": 15,
   "metadata": {},
   "outputs": [
    {
     "data": {
      "text/plain": [
       "0       SG 8184\n",
       "1        SG 507\n",
       "2        SG 611\n",
       "3        SG 757\n",
       "4       6E 2339\n",
       "         ...   \n",
       "1568    I5 2392\n",
       "1569    SG 3233\n",
       "1570     AI 772\n",
       "1571    I5 1324\n",
       "1572    I5 1324\n",
       "Name: Seat Number, Length: 1573, dtype: object"
      ]
     },
     "execution_count": 15,
     "metadata": {},
     "output_type": "execute_result"
    }
   ],
   "source": [
    "df['Seat Number']"
   ]
  },
  {
   "cell_type": "code",
   "execution_count": 16,
   "metadata": {},
   "outputs": [],
   "source": [
    "df['Flight Name']=df['Name'].str.split('\\n').str[0]"
   ]
  },
  {
   "cell_type": "code",
   "execution_count": 17,
   "metadata": {},
   "outputs": [
    {
     "data": {
      "text/plain": [
       "0        SpiceJet\n",
       "1        SpiceJet\n",
       "2        SpiceJet\n",
       "3        SpiceJet\n",
       "4          Indigo\n",
       "          ...    \n",
       "1568     Air Asia\n",
       "1569     SpiceJet\n",
       "1570    Air India\n",
       "1571     Air Asia\n",
       "1572     Air Asia\n",
       "Name: Flight Name, Length: 1573, dtype: object"
      ]
     },
     "execution_count": 17,
     "metadata": {},
     "output_type": "execute_result"
    }
   ],
   "source": [
    "df['Flight Name']"
   ]
  },
  {
   "cell_type": "code",
   "execution_count": 18,
   "metadata": {},
   "outputs": [],
   "source": [
    "df['Arrival Station']=df['Arrival'].str.split('\\n').str[1]"
   ]
  },
  {
   "cell_type": "code",
   "execution_count": 19,
   "metadata": {},
   "outputs": [
    {
     "data": {
      "text/plain": [
       "0           Delhi\n",
       "1           Delhi\n",
       "2           Delhi\n",
       "3           Delhi\n",
       "4           Delhi\n",
       "          ...    \n",
       "1568    Bangalore\n",
       "1569    Bangalore\n",
       "1570    Bangalore\n",
       "1571    Bangalore\n",
       "1572    Bangalore\n",
       "Name: Arrival Station, Length: 1573, dtype: object"
      ]
     },
     "execution_count": 19,
     "metadata": {},
     "output_type": "execute_result"
    }
   ],
   "source": [
    "df['Arrival Station']"
   ]
  },
  {
   "cell_type": "code",
   "execution_count": 20,
   "metadata": {},
   "outputs": [],
   "source": [
    "df['Arrival Time']=df['Arrival'].str.split('\\n').str[0]"
   ]
  },
  {
   "cell_type": "code",
   "execution_count": 21,
   "metadata": {},
   "outputs": [
    {
     "data": {
      "text/plain": [
       "0       10:40\n",
       "1       20:20\n",
       "2       18:40\n",
       "3       16:20\n",
       "4       21:55\n",
       "        ...  \n",
       "1568    11:50\n",
       "1569    09:50\n",
       "1570    12:00\n",
       "1571    05:45\n",
       "1572    05:45\n",
       "Name: Arrival Time, Length: 1573, dtype: object"
      ]
     },
     "execution_count": 21,
     "metadata": {},
     "output_type": "execute_result"
    }
   ],
   "source": [
    "df['Arrival Time']"
   ]
  },
  {
   "cell_type": "code",
   "execution_count": 22,
   "metadata": {},
   "outputs": [],
   "source": [
    "df['Departure Station']=df['Departure'].str.split('\\n').str[1]"
   ]
  },
  {
   "cell_type": "code",
   "execution_count": 23,
   "metadata": {},
   "outputs": [
    {
     "data": {
      "text/plain": [
       "0       Mumbai\n",
       "1       Mumbai\n",
       "2       Mumbai\n",
       "3       Mumbai\n",
       "4       Mumbai\n",
       "         ...  \n",
       "1568     Delhi\n",
       "1569     Delhi\n",
       "1570     Delhi\n",
       "1571     Delhi\n",
       "1572     Delhi\n",
       "Name: Departure Station, Length: 1573, dtype: object"
      ]
     },
     "execution_count": 23,
     "metadata": {},
     "output_type": "execute_result"
    }
   ],
   "source": [
    "df['Departure Station']"
   ]
  },
  {
   "cell_type": "code",
   "execution_count": 24,
   "metadata": {},
   "outputs": [],
   "source": [
    "df['Departure Time']=df['Departure'].str.split('\\n').str[0]"
   ]
  },
  {
   "cell_type": "code",
   "execution_count": 25,
   "metadata": {},
   "outputs": [
    {
     "data": {
      "text/plain": [
       "0          12:50\n",
       "1          22:40\n",
       "2          20:40\n",
       "3          18:30\n",
       "4       00:05+1D\n",
       "          ...   \n",
       "1568       19:20\n",
       "1569       17:45\n",
       "1570       23:00\n",
       "1571       10:55\n",
       "1572       10:55\n",
       "Name: Departure Time, Length: 1573, dtype: object"
      ]
     },
     "execution_count": 25,
     "metadata": {},
     "output_type": "execute_result"
    }
   ],
   "source": [
    "df['Departure Time']"
   ]
  },
  {
   "cell_type": "code",
   "execution_count": 26,
   "metadata": {},
   "outputs": [],
   "source": [
    "df['Flight Duration']=df['Duration'].str.split('\\n').str[0]"
   ]
  },
  {
   "cell_type": "code",
   "execution_count": 27,
   "metadata": {},
   "outputs": [
    {
     "data": {
      "text/plain": [
       "0        2h 10m\n",
       "1        2h 20m\n",
       "2        2h 00m\n",
       "3        2h 10m\n",
       "4        2h 10m\n",
       "         ...   \n",
       "1568     7h 30m\n",
       "1569     7h 55m\n",
       "1570    11h 00m\n",
       "1571     5h 10m\n",
       "1572     5h 10m\n",
       "Name: Flight Duration, Length: 1573, dtype: object"
      ]
     },
     "execution_count": 27,
     "metadata": {},
     "output_type": "execute_result"
    }
   ],
   "source": [
    "df['Flight Duration']"
   ]
  },
  {
   "cell_type": "code",
   "execution_count": 28,
   "metadata": {},
   "outputs": [],
   "source": [
    "df['Number of Stops']=df['Duration'].str.split('\\n').str[1]"
   ]
  },
  {
   "cell_type": "code",
   "execution_count": 29,
   "metadata": {},
   "outputs": [
    {
     "data": {
      "text/plain": [
       "0       Non Stop\n",
       "1       Non Stop\n",
       "2       Non Stop\n",
       "3       Non Stop\n",
       "4       Non Stop\n",
       "          ...   \n",
       "1568      1 Stop\n",
       "1569      1 Stop\n",
       "1570      1 Stop\n",
       "1571      1 Stop\n",
       "1572      1 Stop\n",
       "Name: Number of Stops, Length: 1573, dtype: object"
      ]
     },
     "execution_count": 29,
     "metadata": {},
     "output_type": "execute_result"
    }
   ],
   "source": [
    "df['Number of Stops']"
   ]
  },
  {
   "cell_type": "code",
   "execution_count": 30,
   "metadata": {},
   "outputs": [
    {
     "data": {
      "text/plain": [
       "Index(['Unnamed: 0', 'Name', 'Arrival', 'Departure', 'Duration', 'Price',\n",
       "       'Seat Number', 'Flight Name', 'Arrival Station', 'Arrival Time',\n",
       "       'Departure Station', 'Departure Time', 'Flight Duration',\n",
       "       'Number of Stops'],\n",
       "      dtype='object')"
      ]
     },
     "execution_count": 30,
     "metadata": {},
     "output_type": "execute_result"
    }
   ],
   "source": [
    "df.columns"
   ]
  },
  {
   "cell_type": "markdown",
   "metadata": {},
   "source": [
    "# Dropping of Columns"
   ]
  },
  {
   "cell_type": "code",
   "execution_count": 31,
   "metadata": {},
   "outputs": [],
   "source": [
    "df.drop(['Unnamed: 0', 'Name','Arrival', 'Departure', 'Duration'],axis=1,inplace=True)"
   ]
  },
  {
   "cell_type": "code",
   "execution_count": 32,
   "metadata": {},
   "outputs": [
    {
     "data": {
      "text/html": [
       "<div>\n",
       "<style scoped>\n",
       "    .dataframe tbody tr th:only-of-type {\n",
       "        vertical-align: middle;\n",
       "    }\n",
       "\n",
       "    .dataframe tbody tr th {\n",
       "        vertical-align: top;\n",
       "    }\n",
       "\n",
       "    .dataframe thead th {\n",
       "        text-align: right;\n",
       "    }\n",
       "</style>\n",
       "<table border=\"1\" class=\"dataframe\">\n",
       "  <thead>\n",
       "    <tr style=\"text-align: right;\">\n",
       "      <th></th>\n",
       "      <th>Price</th>\n",
       "      <th>Seat Number</th>\n",
       "      <th>Flight Name</th>\n",
       "      <th>Arrival Station</th>\n",
       "      <th>Arrival Time</th>\n",
       "      <th>Departure Station</th>\n",
       "      <th>Departure Time</th>\n",
       "      <th>Flight Duration</th>\n",
       "      <th>Number of Stops</th>\n",
       "    </tr>\n",
       "  </thead>\n",
       "  <tbody>\n",
       "    <tr>\n",
       "      <th>0</th>\n",
       "      <td>5953</td>\n",
       "      <td>SG 8184</td>\n",
       "      <td>SpiceJet</td>\n",
       "      <td>Delhi</td>\n",
       "      <td>10:40</td>\n",
       "      <td>Mumbai</td>\n",
       "      <td>12:50</td>\n",
       "      <td>2h 10m</td>\n",
       "      <td>Non Stop</td>\n",
       "    </tr>\n",
       "    <tr>\n",
       "      <th>1</th>\n",
       "      <td>5953</td>\n",
       "      <td>SG 507</td>\n",
       "      <td>SpiceJet</td>\n",
       "      <td>Delhi</td>\n",
       "      <td>20:20</td>\n",
       "      <td>Mumbai</td>\n",
       "      <td>22:40</td>\n",
       "      <td>2h 20m</td>\n",
       "      <td>Non Stop</td>\n",
       "    </tr>\n",
       "    <tr>\n",
       "      <th>2</th>\n",
       "      <td>5953</td>\n",
       "      <td>SG 611</td>\n",
       "      <td>SpiceJet</td>\n",
       "      <td>Delhi</td>\n",
       "      <td>18:40</td>\n",
       "      <td>Mumbai</td>\n",
       "      <td>20:40</td>\n",
       "      <td>2h 00m</td>\n",
       "      <td>Non Stop</td>\n",
       "    </tr>\n",
       "    <tr>\n",
       "      <th>3</th>\n",
       "      <td>5953</td>\n",
       "      <td>SG 757</td>\n",
       "      <td>SpiceJet</td>\n",
       "      <td>Delhi</td>\n",
       "      <td>16:20</td>\n",
       "      <td>Mumbai</td>\n",
       "      <td>18:30</td>\n",
       "      <td>2h 10m</td>\n",
       "      <td>Non Stop</td>\n",
       "    </tr>\n",
       "    <tr>\n",
       "      <th>4</th>\n",
       "      <td>5953</td>\n",
       "      <td>6E 2339</td>\n",
       "      <td>Indigo</td>\n",
       "      <td>Delhi</td>\n",
       "      <td>21:55</td>\n",
       "      <td>Mumbai</td>\n",
       "      <td>00:05+1D</td>\n",
       "      <td>2h 10m</td>\n",
       "      <td>Non Stop</td>\n",
       "    </tr>\n",
       "  </tbody>\n",
       "</table>\n",
       "</div>"
      ],
      "text/plain": [
       "   Price Seat Number Flight Name Arrival Station Arrival Time  \\\n",
       "0   5953     SG 8184    SpiceJet           Delhi        10:40   \n",
       "1   5953      SG 507    SpiceJet           Delhi        20:20   \n",
       "2   5953      SG 611    SpiceJet           Delhi        18:40   \n",
       "3   5953      SG 757    SpiceJet           Delhi        16:20   \n",
       "4   5953     6E 2339      Indigo           Delhi        21:55   \n",
       "\n",
       "  Departure Station Departure Time Flight Duration Number of Stops  \n",
       "0            Mumbai          12:50          2h 10m        Non Stop  \n",
       "1            Mumbai          22:40          2h 20m        Non Stop  \n",
       "2            Mumbai          20:40          2h 00m        Non Stop  \n",
       "3            Mumbai          18:30          2h 10m        Non Stop  \n",
       "4            Mumbai       00:05+1D          2h 10m        Non Stop  "
      ]
     },
     "execution_count": 32,
     "metadata": {},
     "output_type": "execute_result"
    }
   ],
   "source": [
    "df.head()"
   ]
  },
  {
   "cell_type": "markdown",
   "metadata": {},
   "source": [
    "# Feature Engineering"
   ]
  },
  {
   "cell_type": "code",
   "execution_count": 33,
   "metadata": {},
   "outputs": [
    {
     "data": {
      "text/plain": [
       "2h 15m     42\n",
       "2h 50m     42\n",
       "2h 05m     42\n",
       "2h 10m     38\n",
       "2h 20m     34\n",
       "           ..\n",
       "31h 20m     1\n",
       "26h 50m     1\n",
       "0h 55m      1\n",
       "20h 35m     1\n",
       "3h 20m      1\n",
       "Name: Flight Duration, Length: 306, dtype: int64"
      ]
     },
     "execution_count": 33,
     "metadata": {},
     "output_type": "execute_result"
    }
   ],
   "source": [
    "df['Flight Duration'].value_counts()"
   ]
  },
  {
   "cell_type": "code",
   "execution_count": 34,
   "metadata": {},
   "outputs": [],
   "source": [
    "df['Duration_Hours']=df['Flight Duration'].str.split('h').str[0]"
   ]
  },
  {
   "cell_type": "code",
   "execution_count": 35,
   "metadata": {},
   "outputs": [
    {
     "data": {
      "text/plain": [
       "0        2\n",
       "1        2\n",
       "2        2\n",
       "3        2\n",
       "4        2\n",
       "        ..\n",
       "1568     7\n",
       "1569     7\n",
       "1570    11\n",
       "1571     5\n",
       "1572     5\n",
       "Name: Duration_Hours, Length: 1573, dtype: object"
      ]
     },
     "execution_count": 35,
     "metadata": {},
     "output_type": "execute_result"
    }
   ],
   "source": [
    "df['Duration_Hours']"
   ]
  },
  {
   "cell_type": "code",
   "execution_count": 36,
   "metadata": {},
   "outputs": [],
   "source": [
    "df['Duration_Minutes']=df['Flight Duration'].str.split(' ').str[1].str.split('m').str[0]"
   ]
  },
  {
   "cell_type": "code",
   "execution_count": 37,
   "metadata": {},
   "outputs": [
    {
     "data": {
      "text/plain": [
       "0       10\n",
       "1       20\n",
       "2       00\n",
       "3       10\n",
       "4       10\n",
       "        ..\n",
       "1568    30\n",
       "1569    55\n",
       "1570    00\n",
       "1571    10\n",
       "1572    10\n",
       "Name: Duration_Minutes, Length: 1573, dtype: object"
      ]
     },
     "execution_count": 37,
     "metadata": {},
     "output_type": "execute_result"
    }
   ],
   "source": [
    "df['Duration_Minutes']"
   ]
  },
  {
   "cell_type": "code",
   "execution_count": 38,
   "metadata": {},
   "outputs": [],
   "source": [
    "df['Duration_Hours']=df['Duration_Hours'].astype('int32')"
   ]
  },
  {
   "cell_type": "code",
   "execution_count": 39,
   "metadata": {},
   "outputs": [],
   "source": [
    "df['Duration_Minutes']=df['Duration_Minutes'].astype('int32')"
   ]
  },
  {
   "cell_type": "code",
   "execution_count": 40,
   "metadata": {},
   "outputs": [],
   "source": [
    "df['Dep_Hour']=df['Departure Time'].str.split(':').str[0]"
   ]
  },
  {
   "cell_type": "code",
   "execution_count": 41,
   "metadata": {},
   "outputs": [
    {
     "data": {
      "text/plain": [
       "0       12\n",
       "1       22\n",
       "2       20\n",
       "3       18\n",
       "4       00\n",
       "        ..\n",
       "1568    19\n",
       "1569    17\n",
       "1570    23\n",
       "1571    10\n",
       "1572    10\n",
       "Name: Dep_Hour, Length: 1573, dtype: object"
      ]
     },
     "execution_count": 41,
     "metadata": {},
     "output_type": "execute_result"
    }
   ],
   "source": [
    "df['Dep_Hour']"
   ]
  },
  {
   "cell_type": "code",
   "execution_count": 42,
   "metadata": {},
   "outputs": [],
   "source": [
    "df['Dep_Minute']=df['Departure Time'].str.split(':').str[1]"
   ]
  },
  {
   "cell_type": "code",
   "execution_count": 43,
   "metadata": {},
   "outputs": [
    {
     "data": {
      "text/plain": [
       "0          50\n",
       "1          40\n",
       "2          40\n",
       "3          30\n",
       "4       05+1D\n",
       "        ...  \n",
       "1568       20\n",
       "1569       45\n",
       "1570       00\n",
       "1571       55\n",
       "1572       55\n",
       "Name: Dep_Minute, Length: 1573, dtype: object"
      ]
     },
     "execution_count": 43,
     "metadata": {},
     "output_type": "execute_result"
    }
   ],
   "source": [
    "df['Dep_Minute']"
   ]
  },
  {
   "cell_type": "code",
   "execution_count": 44,
   "metadata": {},
   "outputs": [
    {
     "data": {
      "text/plain": [
       "35       116\n",
       "40       115\n",
       "50       113\n",
       "55       100\n",
       "15       100\n",
       "20        96\n",
       "05        95\n",
       "25        93\n",
       "45        84\n",
       "00        72\n",
       "30        69\n",
       "10        65\n",
       "35+1D     61\n",
       "45+1D     51\n",
       "05+1D     50\n",
       "20+1D     46\n",
       "40+1D     43\n",
       "00+1D     41\n",
       "15+1D     35\n",
       "55+1D     33\n",
       "50+1D     33\n",
       "10+1D     30\n",
       "30+1D     20\n",
       "25+1D     12\n",
       "Name: Dep_Minute, dtype: int64"
      ]
     },
     "execution_count": 44,
     "metadata": {},
     "output_type": "execute_result"
    }
   ],
   "source": [
    "df['Dep_Minute'].value_counts()"
   ]
  },
  {
   "cell_type": "code",
   "execution_count": 45,
   "metadata": {},
   "outputs": [],
   "source": [
    "df['Dep_Minute']=df['Dep_Minute'].replace('35+1D','1475')"
   ]
  },
  {
   "cell_type": "code",
   "execution_count": 46,
   "metadata": {},
   "outputs": [],
   "source": [
    "df['Dep_Minute']=df['Dep_Minute'].replace('45+1D','1485')\n",
    "df['Dep_Minute']=df['Dep_Minute'].replace('05+1D','1445')\n",
    "df['Dep_Minute']=df['Dep_Minute'].replace('20+1D','1460')\n",
    "df['Dep_Minute']=df['Dep_Minute'].replace('00+1D','1440')\n",
    "df['Dep_Minute']=df['Dep_Minute'].replace('15+1D','1455')\n",
    "df['Dep_Minute']=df['Dep_Minute'].replace('50+1D','1490')\n",
    "df['Dep_Minute']=df['Dep_Minute'].replace('55+1D','1495')\n",
    "df['Dep_Minute']=df['Dep_Minute'].replace('10+1D','1450')\n",
    "df['Dep_Minute']=df['Dep_Minute'].replace('30+1D','1470')\n",
    "df['Dep_Minute']=df['Dep_Minute'].replace('25+1D','1465')\n",
    "df['Dep_Minute']=df['Dep_Minute'].replace('40+1D','1480')"
   ]
  },
  {
   "cell_type": "code",
   "execution_count": 47,
   "metadata": {},
   "outputs": [
    {
     "data": {
      "text/plain": [
       "35      116\n",
       "40      115\n",
       "50      113\n",
       "55      100\n",
       "15      100\n",
       "20       96\n",
       "05       95\n",
       "25       93\n",
       "45       84\n",
       "00       72\n",
       "30       69\n",
       "10       65\n",
       "1475     61\n",
       "1485     51\n",
       "1445     50\n",
       "1460     46\n",
       "1480     43\n",
       "1440     41\n",
       "1455     35\n",
       "1495     33\n",
       "1490     33\n",
       "1450     30\n",
       "1470     20\n",
       "1465     12\n",
       "Name: Dep_Minute, dtype: int64"
      ]
     },
     "execution_count": 47,
     "metadata": {},
     "output_type": "execute_result"
    }
   ],
   "source": [
    "df['Dep_Minute'].value_counts()"
   ]
  },
  {
   "cell_type": "code",
   "execution_count": 48,
   "metadata": {},
   "outputs": [],
   "source": [
    "df['Dep_Hour']=df['Dep_Hour'].astype('int')\n",
    "df['Dep_Minute']=df['Dep_Minute'].astype('int')"
   ]
  },
  {
   "cell_type": "code",
   "execution_count": 49,
   "metadata": {},
   "outputs": [],
   "source": [
    "df['Arrival_Hour']=df['Arrival Time'].str.split(':').str[0]\n",
    "df['Arrival_Minute']=df['Arrival Time'].str.split(':').str[1]"
   ]
  },
  {
   "cell_type": "code",
   "execution_count": 50,
   "metadata": {},
   "outputs": [],
   "source": [
    "df['Arrival_Hour']=df['Arrival_Hour'].astype('int')\n",
    "df['Arrival_Minute']=df['Arrival_Minute'].astype('int')"
   ]
  },
  {
   "cell_type": "markdown",
   "metadata": {},
   "source": [
    "# Dropping of Columns"
   ]
  },
  {
   "cell_type": "code",
   "execution_count": 51,
   "metadata": {},
   "outputs": [],
   "source": [
    "df.drop(['Arrival Time','Flight Duration','Departure Time'],axis=1,inplace=True)"
   ]
  },
  {
   "cell_type": "code",
   "execution_count": 52,
   "metadata": {},
   "outputs": [
    {
     "data": {
      "text/html": [
       "<div>\n",
       "<style scoped>\n",
       "    .dataframe tbody tr th:only-of-type {\n",
       "        vertical-align: middle;\n",
       "    }\n",
       "\n",
       "    .dataframe tbody tr th {\n",
       "        vertical-align: top;\n",
       "    }\n",
       "\n",
       "    .dataframe thead th {\n",
       "        text-align: right;\n",
       "    }\n",
       "</style>\n",
       "<table border=\"1\" class=\"dataframe\">\n",
       "  <thead>\n",
       "    <tr style=\"text-align: right;\">\n",
       "      <th></th>\n",
       "      <th>Price</th>\n",
       "      <th>Seat Number</th>\n",
       "      <th>Flight Name</th>\n",
       "      <th>Arrival Station</th>\n",
       "      <th>Departure Station</th>\n",
       "      <th>Number of Stops</th>\n",
       "      <th>Duration_Hours</th>\n",
       "      <th>Duration_Minutes</th>\n",
       "      <th>Dep_Hour</th>\n",
       "      <th>Dep_Minute</th>\n",
       "      <th>Arrival_Hour</th>\n",
       "      <th>Arrival_Minute</th>\n",
       "    </tr>\n",
       "  </thead>\n",
       "  <tbody>\n",
       "    <tr>\n",
       "      <th>0</th>\n",
       "      <td>5953</td>\n",
       "      <td>SG 8184</td>\n",
       "      <td>SpiceJet</td>\n",
       "      <td>Delhi</td>\n",
       "      <td>Mumbai</td>\n",
       "      <td>Non Stop</td>\n",
       "      <td>2</td>\n",
       "      <td>10</td>\n",
       "      <td>12</td>\n",
       "      <td>50</td>\n",
       "      <td>10</td>\n",
       "      <td>40</td>\n",
       "    </tr>\n",
       "    <tr>\n",
       "      <th>1</th>\n",
       "      <td>5953</td>\n",
       "      <td>SG 507</td>\n",
       "      <td>SpiceJet</td>\n",
       "      <td>Delhi</td>\n",
       "      <td>Mumbai</td>\n",
       "      <td>Non Stop</td>\n",
       "      <td>2</td>\n",
       "      <td>20</td>\n",
       "      <td>22</td>\n",
       "      <td>40</td>\n",
       "      <td>20</td>\n",
       "      <td>20</td>\n",
       "    </tr>\n",
       "    <tr>\n",
       "      <th>2</th>\n",
       "      <td>5953</td>\n",
       "      <td>SG 611</td>\n",
       "      <td>SpiceJet</td>\n",
       "      <td>Delhi</td>\n",
       "      <td>Mumbai</td>\n",
       "      <td>Non Stop</td>\n",
       "      <td>2</td>\n",
       "      <td>0</td>\n",
       "      <td>20</td>\n",
       "      <td>40</td>\n",
       "      <td>18</td>\n",
       "      <td>40</td>\n",
       "    </tr>\n",
       "    <tr>\n",
       "      <th>3</th>\n",
       "      <td>5953</td>\n",
       "      <td>SG 757</td>\n",
       "      <td>SpiceJet</td>\n",
       "      <td>Delhi</td>\n",
       "      <td>Mumbai</td>\n",
       "      <td>Non Stop</td>\n",
       "      <td>2</td>\n",
       "      <td>10</td>\n",
       "      <td>18</td>\n",
       "      <td>30</td>\n",
       "      <td>16</td>\n",
       "      <td>20</td>\n",
       "    </tr>\n",
       "    <tr>\n",
       "      <th>4</th>\n",
       "      <td>5953</td>\n",
       "      <td>6E 2339</td>\n",
       "      <td>Indigo</td>\n",
       "      <td>Delhi</td>\n",
       "      <td>Mumbai</td>\n",
       "      <td>Non Stop</td>\n",
       "      <td>2</td>\n",
       "      <td>10</td>\n",
       "      <td>0</td>\n",
       "      <td>1445</td>\n",
       "      <td>21</td>\n",
       "      <td>55</td>\n",
       "    </tr>\n",
       "  </tbody>\n",
       "</table>\n",
       "</div>"
      ],
      "text/plain": [
       "   Price Seat Number Flight Name Arrival Station Departure Station  \\\n",
       "0   5953     SG 8184    SpiceJet           Delhi            Mumbai   \n",
       "1   5953      SG 507    SpiceJet           Delhi            Mumbai   \n",
       "2   5953      SG 611    SpiceJet           Delhi            Mumbai   \n",
       "3   5953      SG 757    SpiceJet           Delhi            Mumbai   \n",
       "4   5953     6E 2339      Indigo           Delhi            Mumbai   \n",
       "\n",
       "  Number of Stops  Duration_Hours  Duration_Minutes  Dep_Hour  Dep_Minute  \\\n",
       "0        Non Stop               2                10        12          50   \n",
       "1        Non Stop               2                20        22          40   \n",
       "2        Non Stop               2                 0        20          40   \n",
       "3        Non Stop               2                10        18          30   \n",
       "4        Non Stop               2                10         0        1445   \n",
       "\n",
       "   Arrival_Hour  Arrival_Minute  \n",
       "0            10              40  \n",
       "1            20              20  \n",
       "2            18              40  \n",
       "3            16              20  \n",
       "4            21              55  "
      ]
     },
     "execution_count": 52,
     "metadata": {},
     "output_type": "execute_result"
    }
   ],
   "source": [
    "df.head()"
   ]
  },
  {
   "cell_type": "code",
   "execution_count": 53,
   "metadata": {},
   "outputs": [
    {
     "data": {
      "text/plain": [
       "I5 633     30\n",
       "UK 868     17\n",
       "I5 634     16\n",
       "I5 328     16\n",
       "I5 1321    16\n",
       "           ..\n",
       "AI 9741     1\n",
       "G8 334      1\n",
       "AI 660      1\n",
       "AI 774      1\n",
       "UK 667      1\n",
       "Name: Seat Number, Length: 534, dtype: int64"
      ]
     },
     "execution_count": 53,
     "metadata": {},
     "output_type": "execute_result"
    }
   ],
   "source": [
    "df['Seat Number'].value_counts()"
   ]
  },
  {
   "cell_type": "code",
   "execution_count": 54,
   "metadata": {},
   "outputs": [
    {
     "data": {
      "text/plain": [
       "1 Stop      944\n",
       "Non Stop    426\n",
       "2 Stops     201\n",
       "3 Stops       2\n",
       "Name: Number of Stops, dtype: int64"
      ]
     },
     "execution_count": 54,
     "metadata": {},
     "output_type": "execute_result"
    }
   ],
   "source": [
    "df['Number of Stops'].value_counts()"
   ]
  },
  {
   "cell_type": "markdown",
   "metadata": {},
   "source": [
    "# Feature Engineering"
   ]
  },
  {
   "cell_type": "code",
   "execution_count": 55,
   "metadata": {},
   "outputs": [
    {
     "data": {
      "text/plain": [
       "0       0 Stop\n",
       "1       0 Stop\n",
       "2       0 Stop\n",
       "3       0 Stop\n",
       "4       0 Stop\n",
       "         ...  \n",
       "1568    1 Stop\n",
       "1569    1 Stop\n",
       "1570    1 Stop\n",
       "1571    1 Stop\n",
       "1572    1 Stop\n",
       "Name: Number of Stops, Length: 1573, dtype: object"
      ]
     },
     "execution_count": 55,
     "metadata": {},
     "output_type": "execute_result"
    }
   ],
   "source": [
    "df['Number of Stops']=df['Number of Stops'].replace('Non Stop','0 Stop')\n",
    "df['Number of Stops']"
   ]
  },
  {
   "cell_type": "code",
   "execution_count": 56,
   "metadata": {},
   "outputs": [
    {
     "data": {
      "text/plain": [
       "0       0\n",
       "1       0\n",
       "2       0\n",
       "3       0\n",
       "4       0\n",
       "       ..\n",
       "1568    1\n",
       "1569    1\n",
       "1570    1\n",
       "1571    1\n",
       "1572    1\n",
       "Name: Number of Stops, Length: 1573, dtype: object"
      ]
     },
     "execution_count": 56,
     "metadata": {},
     "output_type": "execute_result"
    }
   ],
   "source": [
    "df['Number of Stops']=df['Number of Stops'].str.split(' ').str[0]\n",
    "df['Number of Stops']"
   ]
  },
  {
   "cell_type": "code",
   "execution_count": 57,
   "metadata": {},
   "outputs": [
    {
     "data": {
      "text/plain": [
       "1    944\n",
       "0    426\n",
       "2    201\n",
       "3      2\n",
       "Name: Number of Stops, dtype: int64"
      ]
     },
     "execution_count": 57,
     "metadata": {},
     "output_type": "execute_result"
    }
   ],
   "source": [
    "df['Number of Stops'].value_counts()"
   ]
  },
  {
   "cell_type": "code",
   "execution_count": 58,
   "metadata": {},
   "outputs": [],
   "source": [
    "df['Number of Stops']=df['Number of Stops'].astype('int')"
   ]
  },
  {
   "cell_type": "code",
   "execution_count": 59,
   "metadata": {},
   "outputs": [
    {
     "data": {
      "text/plain": [
       "0       SG\n",
       "1       SG\n",
       "2       SG\n",
       "3       SG\n",
       "4       6E\n",
       "        ..\n",
       "1568    I5\n",
       "1569    SG\n",
       "1570    AI\n",
       "1571    I5\n",
       "1572    I5\n",
       "Name: Seat Number, Length: 1573, dtype: object"
      ]
     },
     "execution_count": 59,
     "metadata": {},
     "output_type": "execute_result"
    }
   ],
   "source": [
    "df['Seat Number']=df['Seat Number'].str.split(' ').str[0]\n",
    "df['Seat Number']"
   ]
  },
  {
   "cell_type": "code",
   "execution_count": 60,
   "metadata": {},
   "outputs": [
    {
     "data": {
      "text/plain": [
       "6E    498\n",
       "I5    310\n",
       "AI    290\n",
       "UK    250\n",
       "G8    146\n",
       "SG     79\n",
       "Name: Seat Number, dtype: int64"
      ]
     },
     "execution_count": 60,
     "metadata": {},
     "output_type": "execute_result"
    }
   ],
   "source": [
    "df['Seat Number'].value_counts()"
   ]
  },
  {
   "cell_type": "code",
   "execution_count": 61,
   "metadata": {},
   "outputs": [
    {
     "data": {
      "text/html": [
       "<div>\n",
       "<style scoped>\n",
       "    .dataframe tbody tr th:only-of-type {\n",
       "        vertical-align: middle;\n",
       "    }\n",
       "\n",
       "    .dataframe tbody tr th {\n",
       "        vertical-align: top;\n",
       "    }\n",
       "\n",
       "    .dataframe thead th {\n",
       "        text-align: right;\n",
       "    }\n",
       "</style>\n",
       "<table border=\"1\" class=\"dataframe\">\n",
       "  <thead>\n",
       "    <tr style=\"text-align: right;\">\n",
       "      <th></th>\n",
       "      <th>Price</th>\n",
       "      <th>Seat Number</th>\n",
       "      <th>Flight Name</th>\n",
       "      <th>Arrival Station</th>\n",
       "      <th>Departure Station</th>\n",
       "      <th>Number of Stops</th>\n",
       "      <th>Duration_Hours</th>\n",
       "      <th>Duration_Minutes</th>\n",
       "      <th>Dep_Hour</th>\n",
       "      <th>Dep_Minute</th>\n",
       "      <th>Arrival_Hour</th>\n",
       "      <th>Arrival_Minute</th>\n",
       "    </tr>\n",
       "  </thead>\n",
       "  <tbody>\n",
       "    <tr>\n",
       "      <th>0</th>\n",
       "      <td>5953</td>\n",
       "      <td>SG</td>\n",
       "      <td>SpiceJet</td>\n",
       "      <td>Delhi</td>\n",
       "      <td>Mumbai</td>\n",
       "      <td>0</td>\n",
       "      <td>2</td>\n",
       "      <td>10</td>\n",
       "      <td>12</td>\n",
       "      <td>50</td>\n",
       "      <td>10</td>\n",
       "      <td>40</td>\n",
       "    </tr>\n",
       "    <tr>\n",
       "      <th>1</th>\n",
       "      <td>5953</td>\n",
       "      <td>SG</td>\n",
       "      <td>SpiceJet</td>\n",
       "      <td>Delhi</td>\n",
       "      <td>Mumbai</td>\n",
       "      <td>0</td>\n",
       "      <td>2</td>\n",
       "      <td>20</td>\n",
       "      <td>22</td>\n",
       "      <td>40</td>\n",
       "      <td>20</td>\n",
       "      <td>20</td>\n",
       "    </tr>\n",
       "    <tr>\n",
       "      <th>2</th>\n",
       "      <td>5953</td>\n",
       "      <td>SG</td>\n",
       "      <td>SpiceJet</td>\n",
       "      <td>Delhi</td>\n",
       "      <td>Mumbai</td>\n",
       "      <td>0</td>\n",
       "      <td>2</td>\n",
       "      <td>0</td>\n",
       "      <td>20</td>\n",
       "      <td>40</td>\n",
       "      <td>18</td>\n",
       "      <td>40</td>\n",
       "    </tr>\n",
       "    <tr>\n",
       "      <th>3</th>\n",
       "      <td>5953</td>\n",
       "      <td>SG</td>\n",
       "      <td>SpiceJet</td>\n",
       "      <td>Delhi</td>\n",
       "      <td>Mumbai</td>\n",
       "      <td>0</td>\n",
       "      <td>2</td>\n",
       "      <td>10</td>\n",
       "      <td>18</td>\n",
       "      <td>30</td>\n",
       "      <td>16</td>\n",
       "      <td>20</td>\n",
       "    </tr>\n",
       "    <tr>\n",
       "      <th>4</th>\n",
       "      <td>5953</td>\n",
       "      <td>6E</td>\n",
       "      <td>Indigo</td>\n",
       "      <td>Delhi</td>\n",
       "      <td>Mumbai</td>\n",
       "      <td>0</td>\n",
       "      <td>2</td>\n",
       "      <td>10</td>\n",
       "      <td>0</td>\n",
       "      <td>1445</td>\n",
       "      <td>21</td>\n",
       "      <td>55</td>\n",
       "    </tr>\n",
       "  </tbody>\n",
       "</table>\n",
       "</div>"
      ],
      "text/plain": [
       "   Price Seat Number Flight Name Arrival Station Departure Station  \\\n",
       "0   5953          SG    SpiceJet           Delhi            Mumbai   \n",
       "1   5953          SG    SpiceJet           Delhi            Mumbai   \n",
       "2   5953          SG    SpiceJet           Delhi            Mumbai   \n",
       "3   5953          SG    SpiceJet           Delhi            Mumbai   \n",
       "4   5953          6E      Indigo           Delhi            Mumbai   \n",
       "\n",
       "   Number of Stops  Duration_Hours  Duration_Minutes  Dep_Hour  Dep_Minute  \\\n",
       "0                0               2                10        12          50   \n",
       "1                0               2                20        22          40   \n",
       "2                0               2                 0        20          40   \n",
       "3                0               2                10        18          30   \n",
       "4                0               2                10         0        1445   \n",
       "\n",
       "   Arrival_Hour  Arrival_Minute  \n",
       "0            10              40  \n",
       "1            20              20  \n",
       "2            18              40  \n",
       "3            16              20  \n",
       "4            21              55  "
      ]
     },
     "execution_count": 61,
     "metadata": {},
     "output_type": "execute_result"
    }
   ],
   "source": [
    "df.head()"
   ]
  },
  {
   "cell_type": "markdown",
   "metadata": {},
   "source": [
    "# Univariate Analysis"
   ]
  },
  {
   "cell_type": "code",
   "execution_count": 62,
   "metadata": {},
   "outputs": [
    {
     "data": {
      "text/plain": [
       "<matplotlib.axes._subplots.AxesSubplot at 0x1a7c5b68488>"
      ]
     },
     "execution_count": 62,
     "metadata": {},
     "output_type": "execute_result"
    },
    {
     "data": {
      "image/png": "[encoded data removed]",
      "text/plain": [
       "<Figure size 432x288 with 1 Axes>"
      ]
     },
     "metadata": {},
     "output_type": "display_data"
    }
   ],
   "source": [
    "sns.set_style('whitegrid')\n",
    "sns.countplot(df['Seat Number'])"
   ]
  },
  {
   "cell_type": "raw",
   "metadata": {},
   "source": [
    "Observations:-\n",
    "    \n",
    "1. 6E seat number is present majorly in flights.\n",
    "2. SG seat number is present in the least number in flights.\n",
    "3. I5 and AI seat numbers are also present in high number in flights."
   ]
  },
  {
   "cell_type": "code",
   "execution_count": 63,
   "metadata": {},
   "outputs": [
    {
     "data": {
      "text/plain": [
       "<matplotlib.axes._subplots.AxesSubplot at 0x1a7c5c0c2c8>"
      ]
     },
     "execution_count": 63,
     "metadata": {},
     "output_type": "execute_result"
    },
    {
     "data": {
      "image/png": "[encoded data removed]",
      "text/plain": [
       "<Figure size 432x288 with 1 Axes>"
      ]
     },
     "metadata": {},
     "output_type": "display_data"
    }
   ],
   "source": [
    "sns.set_style('whitegrid')\n",
    "sns.countplot(df['Flight Name'])"
   ]
  },
  {
   "cell_type": "raw",
   "metadata": {},
   "source": [
    "Observations:-\n",
    "    \n",
    "1. Indigo Airline is present majorly as flight name.\n",
    "2. Spice Jet Airline is present in the least number as flight name.\n",
    "3. Air Asia and Air India are also present in high number as flights name."
   ]
  },
  {
   "cell_type": "code",
   "execution_count": 64,
   "metadata": {},
   "outputs": [
    {
     "data": {
      "text/plain": [
       "<matplotlib.axes._subplots.AxesSubplot at 0x1a7c5ad0208>"
      ]
     },
     "execution_count": 64,
     "metadata": {},
     "output_type": "execute_result"
    },
    {
     "data": {
      "image/png": "[encoded data removed]",
      "text/plain": [
       "<Figure size 432x288 with 1 Axes>"
      ]
     },
     "metadata": {},
     "output_type": "display_data"
    }
   ],
   "source": [
    "sns.set_style('whitegrid')\n",
    "sns.countplot(df['Arrival Station'])"
   ]
  },
  {
   "cell_type": "raw",
   "metadata": {},
   "source": [
    "Observations :-\n",
    "    \n",
    "1. Hyderabad is majorly present as arrival station for flights.\n",
    "2. Jaipur is minorly present as arrival station for flights.\n",
    "3. Goa and Banglore are also present in high number as arrival station for flights."
   ]
  },
  {
   "cell_type": "code",
   "execution_count": 65,
   "metadata": {},
   "outputs": [
    {
     "data": {
      "text/plain": [
       "<matplotlib.axes._subplots.AxesSubplot at 0x1a7c5d22248>"
      ]
     },
     "execution_count": 65,
     "metadata": {},
     "output_type": "execute_result"
    },
    {
     "data": {
      "image/png": "[encoded data removed]",
      "text/plain": [
       "<Figure size 432x288 with 1 Axes>"
      ]
     },
     "metadata": {},
     "output_type": "display_data"
    }
   ],
   "source": [
    "sns.set_style('whitegrid')\n",
    "sns.countplot(df['Number of Stops'])"
   ]
  },
  {
   "cell_type": "raw",
   "metadata": {},
   "source": [
    "Observations :-\n",
    "    \n",
    "1. One stop is present majorly for flights.\n",
    "2. Three stop are present in the least number for flights.\n",
    "3. Zero Stop is also present in high number for flights."
   ]
  },
  {
   "cell_type": "code",
   "execution_count": 66,
   "metadata": {},
   "outputs": [
    {
     "data": {
      "text/plain": [
       "<matplotlib.axes._subplots.AxesSubplot at 0x1a7c5d28808>"
      ]
     },
     "execution_count": 66,
     "metadata": {},
     "output_type": "execute_result"
    },
    {
     "data": {
      "image/png": "[encoded data removed]",
      "text/plain": [
       "<Figure size 432x288 with 1 Axes>"
      ]
     },
     "metadata": {},
     "output_type": "display_data"
    }
   ],
   "source": [
    "sns.distplot(df['Duration_Hours'])"
   ]
  },
  {
   "cell_type": "raw",
   "metadata": {},
   "source": [
    "Observations:-\n",
    "    \n",
    "    \n",
    "1. Duration hours are majorly in the range of 0-10 for flights.\n",
    "2. Duration hours are slightly in the range of 30-40 for flights."
   ]
  },
  {
   "cell_type": "code",
   "execution_count": 67,
   "metadata": {},
   "outputs": [
    {
     "data": {
      "text/plain": [
       "<matplotlib.axes._subplots.AxesSubplot at 0x1a7c5c20308>"
      ]
     },
     "execution_count": 67,
     "metadata": {},
     "output_type": "execute_result"
    },
    {
     "data": {
      "image/png": "[encoded data removed]",
      "text/plain": [
       "<Figure size 1296x936 with 1 Axes>"
      ]
     },
     "metadata": {},
     "output_type": "display_data"
    }
   ],
   "source": [
    "sns.set_style('whitegrid')\n",
    "plt.figure(figsize=(18,13))\n",
    "sns.countplot(df['Duration_Hours'])"
   ]
  },
  {
   "cell_type": "raw",
   "metadata": {},
   "source": [
    "Observations:-\n",
    "    \n",
    "1. 2 hours duration is present majorly for flights.\n",
    "2. 38, 37 and 0 hours duration are present in the least number for flights.\n",
    "3. 5, 6, 1, 7, 8, 4, 9, 11 and 10 hours duration are also present in high number for flights.\n",
    "4. 20, 26, 22, 24, 27, 18, 19, 28, 31, 30, 34, 35, 29, 32 and 33 hours duration are prsent in low number for flights."
   ]
  },
  {
   "cell_type": "code",
   "execution_count": 69,
   "metadata": {},
   "outputs": [
    {
     "data": {
      "text/plain": [
       "<matplotlib.axes._subplots.AxesSubplot at 0x1a7c5f44648>"
      ]
     },
     "execution_count": 69,
     "metadata": {},
     "output_type": "execute_result"
    },
    {
     "data": {
      "image/png": "[encoded data removed]",
      "text/plain": [
       "<Figure size 432x288 with 1 Axes>"
      ]
     },
     "metadata": {},
     "output_type": "display_data"
    }
   ],
   "source": [
    "sns.set_style('whitegrid')\n",
    "sns.distplot(df['Duration_Minutes'])"
   ]
  },
  {
   "cell_type": "raw",
   "metadata": {},
   "source": [
    "Obseravtions :-\n",
    "    \n",
    "1. Duration minutes are majorly in the range of 0-30 minutes for flights.\n",
    "2. Duration minutes are slightly in the range of 30-40 minutes for flights.\n",
    "3. Duration minutes are also in high number in the range of 30-40 minutes for flights."
   ]
  },
  {
   "cell_type": "code",
   "execution_count": 70,
   "metadata": {},
   "outputs": [
    {
     "data": {
      "text/plain": [
       "<matplotlib.axes._subplots.AxesSubplot at 0x1a7c5e42508>"
      ]
     },
     "execution_count": 70,
     "metadata": {},
     "output_type": "execute_result"
    },
    {
     "data": {
      "image/png": "[encoded data removed]",
      "text/plain": [
       "<Figure size 432x288 with 1 Axes>"
      ]
     },
     "metadata": {},
     "output_type": "display_data"
    }
   ],
   "source": [
    "sns.set_style('whitegrid')\n",
    "sns.distplot(df['Dep_Hour'])"
   ]
  },
  {
   "cell_type": "raw",
   "metadata": {},
   "source": [
    "Observations :-\n",
    "    \n",
    "1. Departure hours are majorly in the range of 18-23 hours for flights.\n",
    "2. Departure hours are slightly in the range of 3-5 hours for flights.\n",
    "3. Duration minutes are also in high number in the range of 30-40 minutes for flights."
   ]
  },
  {
   "cell_type": "code",
   "execution_count": 71,
   "metadata": {},
   "outputs": [
    {
     "data": {
      "text/plain": [
       "<matplotlib.axes._subplots.AxesSubplot at 0x1a7c5fdc0c8>"
      ]
     },
     "execution_count": 71,
     "metadata": {},
     "output_type": "execute_result"
    },
    {
     "data": {
      "image/png": "[encoded data removed]",
      "text/plain": [
       "<Figure size 432x288 with 1 Axes>"
      ]
     },
     "metadata": {},
     "output_type": "display_data"
    }
   ],
   "source": [
    "sns.set_style('whitegrid')\n",
    "sns.distplot(df['Dep_Minute'])"
   ]
  },
  {
   "cell_type": "code",
   "execution_count": 72,
   "metadata": {},
   "outputs": [
    {
     "data": {
      "text/plain": [
       "<matplotlib.axes._subplots.AxesSubplot at 0x1a7c60e1a08>"
      ]
     },
     "execution_count": 72,
     "metadata": {},
     "output_type": "execute_result"
    },
    {
     "data": {
      "image/png": "[encoded data removed]",
      "text/plain": [
       "<Figure size 432x288 with 1 Axes>"
      ]
     },
     "metadata": {},
     "output_type": "display_data"
    }
   ],
   "source": [
    "sns.countplot(df['Dep_Minute'])"
   ]
  },
  {
   "cell_type": "raw",
   "metadata": {},
   "source": [
    "Observations :-\n",
    "    \n",
    "1. Departure minutes are majorly in the range of 18-23 hours for flights.\n",
    "2. Departure hours are slightly in the range of 3-5 hours for flights.\n",
    "3. Duration minutes are also in high number in the range of 30-40 minutes for flights."
   ]
  },
  {
   "cell_type": "code",
   "execution_count": 73,
   "metadata": {},
   "outputs": [
    {
     "data": {
      "text/plain": [
       "<matplotlib.axes._subplots.AxesSubplot at 0x1a7c619a548>"
      ]
     },
     "execution_count": 73,
     "metadata": {},
     "output_type": "execute_result"
    },
    {
     "data": {
      "image/png": "[encoded data removed]",
      "text/plain": [
       "<Figure size 1080x936 with 1 Axes>"
      ]
     },
     "metadata": {},
     "output_type": "display_data"
    }
   ],
   "source": [
    "sns.set_style('whitegrid')\n",
    "plt.figure(figsize=(15,13))\n",
    "sns.distplot(df['Arrival_Hour'])"
   ]
  },
  {
   "cell_type": "raw",
   "metadata": {},
   "source": [
    "Observations :-\n",
    "    \n",
    "1. Arrival hours are majorly in the range of 12-16 hours for flights.\n",
    "2. Arrival hours are slightly in the range of 0-4 hours for flights.\n",
    "3. Arrival hours are also in high number in the range of 5-9 hours for flights."
   ]
  },
  {
   "cell_type": "code",
   "execution_count": 74,
   "metadata": {},
   "outputs": [
    {
     "data": {
      "text/plain": [
       "<matplotlib.axes._subplots.AxesSubplot at 0x1a7c6225b48>"
      ]
     },
     "execution_count": 74,
     "metadata": {},
     "output_type": "execute_result"
    },
    {
     "data": {
      "image/png": "[encoded data removed]",
      "text/plain": [
       "<Figure size 1080x936 with 1 Axes>"
      ]
     },
     "metadata": {},
     "output_type": "display_data"
    }
   ],
   "source": [
    "sns.set_style('whitegrid')\n",
    "plt.figure(figsize=(15,13))\n",
    "sns.distplot(df['Arrival_Minute'])"
   ]
  },
  {
   "cell_type": "raw",
   "metadata": {},
   "source": [
    "Observations :-\n",
    "    \n",
    "1. Arrival minutes are majorly in the range of 20-40 minutes for flights.\n",
    "2. Arrival minutes are slightly in the range of 49-53 minutes for flights.\n",
    "3. Arrival minutes are also in high number in the range of 0-10 minutes for flights."
   ]
  },
  {
   "cell_type": "markdown",
   "metadata": {},
   "source": [
    "# Bivariate Analysis"
   ]
  },
  {
   "cell_type": "code",
   "execution_count": 75,
   "metadata": {},
   "outputs": [
    {
     "data": {
      "text/plain": [
       "Index(['Price', 'Seat Number', 'Flight Name', 'Arrival Station',\n",
       "       'Departure Station', 'Number of Stops', 'Duration_Hours',\n",
       "       'Duration_Minutes', 'Dep_Hour', 'Dep_Minute', 'Arrival_Hour',\n",
       "       'Arrival_Minute'],\n",
       "      dtype='object')"
      ]
     },
     "execution_count": 75,
     "metadata": {},
     "output_type": "execute_result"
    }
   ],
   "source": [
    "df.columns"
   ]
  },
  {
   "cell_type": "code",
   "execution_count": 76,
   "metadata": {},
   "outputs": [],
   "source": [
    "list=['Seat Number', 'Flight Name', 'Arrival Station',\n",
    "       'Departure Station', 'Number of Stops', 'Duration_Hours',\n",
    "       'Duration_Minutes', 'Dep_Hour', 'Dep_Minute', 'Arrival_Hour',\n",
    "       'Arrival_Minute']"
   ]
  },
  {
   "cell_type": "code",
   "execution_count": 77,
   "metadata": {
    "scrolled": false
   },
   "outputs": [
    {
     "data": {
      "image/png": "[encoded data removed]",
      "text/plain": [
       "<Figure size 432x288 with 1 Axes>"
      ]
     },
     "metadata": {},
     "output_type": "display_data"
    },
    {
     "data": {
      "image/png": "[encoded data removed]",
      "text/plain": [
       "<Figure size 432x288 with 1 Axes>"
      ]
     },
     "metadata": {},
     "output_type": "display_data"
    },
    {
     "data": {
      "image/png": "[encoded data removed]",
      "text/plain": [
       "<Figure size 432x288 with 1 Axes>"
      ]
     },
     "metadata": {},
     "output_type": "display_data"
    },
    {
     "data": {
      "image/png": "[encoded data removed]",
      "text/plain": [
       "<Figure size 432x288 with 1 Axes>"
      ]
     },
     "metadata": {},
     "output_type": "display_data"
    },
    {
     "data": {
      "image/png": "[encoded data removed]",
      "text/plain": [
       "<Figure size 432x288 with 1 Axes>"
      ]
     },
     "metadata": {},
     "output_type": "display_data"
    },
    {
     "data": {
      "image/png": "[encoded data removed]",
      "text/plain": [
       "<Figure size 432x288 with 1 Axes>"
      ]
     },
     "metadata": {},
     "output_type": "display_data"
    },
    {
     "data": {
      "image/png": "[encoded data removed]",
      "text/plain": [
       "<Figure size 432x288 with 1 Axes>"
      ]
     },
     "metadata": {},
     "output_type": "display_data"
    },
    {
     "data": {
      "image/png": "[encoded data removed]",
      "text/plain": [
       "<Figure size 432x288 with 1 Axes>"
      ]
     },
     "metadata": {},
     "output_type": "display_data"
    },
    {
     "data": {
      "image/png": "[encoded data removed]",
      "text/plain": [
       "<Figure size 432x288 with 1 Axes>"
      ]
     },
     "metadata": {},
     "output_type": "display_data"
    },
    {
     "data": {
      "image/png": "[encoded data removed]",
      "text/plain": [
       "<Figure size 432x288 with 1 Axes>"
      ]
     },
     "metadata": {},
     "output_type": "display_data"
    },
    {
     "data": {
      "image/png": "[encoded data removed]",
      "text/plain": [
       "<Figure size 432x288 with 1 Axes>"
      ]
     },
     "metadata": {},
     "output_type": "display_data"
    }
   ],
   "source": [
    "for i in list:\n",
    "    sns.set_style('whitegrid')\n",
    "    sns.barplot(x=i,y='Price',data=df)\n",
    "    plt.show()"
   ]
  },
  {
   "cell_type": "raw",
   "metadata": {},
   "source": [
    "Observations :-\n",
    "    \n",
    "1. Uk seat number have the highest prices for flights.\n",
    "2. 6E seat number have the lowest prices for flights.\n",
    "3. AI seat number have also the high prices for flights.\n",
    "4. Vistara airlines have the the highest prices for flights.\n",
    "5. Indigo airlines have the lowest prices for flights.\n",
    "6. Air India airlines have also high prices for flights.\n",
    "7. Spice jet airlines have also low prices for flights.\n",
    "8. Arrival station of Goa have the highest prices for flights.\n",
    "9. Arrival station of Delhi have the lowest price for flights.\n",
    "10. Arrival station of Chandigarh and Jaipur have also high prices for flights.\n",
    "11. Arrival station of Banglore and Mumbai have also low prices for flights.\n",
    "12. Departure station of Chandigarh have the highest prices for flights.\n",
    "13. Departure station of Delhi have the lowest prices for flights.\n",
    "14. Departure station of Kolkata and Jaipur have also high prices for flights.\n",
    "15. Departure station of Chennai have also low prices for flights.\n",
    "16. Flights with three number of stops have the highest prices for flights.\n",
    "17. Flights with zero number of stops have the lowest prices for flights.\n",
    "18. Flights with 33 hours of duration have the highest prices for flights.\n",
    "19. Flights with 0 hours of duration have the lowest prices for flights.\n",
    "20. Flights with 35, 20, 30, 31, 27, 28, 29 and 23 hours of duration have also high prices for flights.\n",
    "21. Flights with 1, 2, 3 and 4 hours of duration have also low prices for flights.\n",
    "22. Flights with 35 minutes of duration have the highest prices for flights.\n",
    "23. Flights with 15 minutes of duration have the lowest prices for flights.\n",
    "24. Flights with 0 and 20 minutes of duration have also high prices for flights.\n",
    "25. Flights with 45 and 50 minutes of duration have also low prices for flights.\n",
    "26. Flights with 23rd hour as departure have the highest prices for flights.\n",
    "27. Flights with 2nd hour as departure have the lowest prices for flights.\n",
    "28. Flights with 18th, 19th, 8th and 10th hour as departure have also high prices for flights.\n",
    "29. Flights with 11th hour as arrival have the highest prices for flights.\n",
    "30. Flights with 23rd hour as arrival have the lowest prices for flights.\n",
    "31. Flights with 14th and 20th hour as arrival have also high prices for flights.\n",
    "32. Flights with 0th and 2nd hour as arrival have also low prices for flights.\n"
   ]
  },
  {
   "cell_type": "markdown",
   "metadata": {},
   "source": [
    "# Label Encoding"
   ]
  },
  {
   "cell_type": "code",
   "execution_count": 78,
   "metadata": {},
   "outputs": [],
   "source": [
    "from sklearn.preprocessing import LabelEncoder\n",
    "LE=LabelEncoder()"
   ]
  },
  {
   "cell_type": "code",
   "execution_count": 79,
   "metadata": {},
   "outputs": [
    {
     "name": "stdout",
     "output_type": "stream",
     "text": [
      "['SG' '6E' 'I5' 'G8' 'UK' 'AI']\n",
      "[4 0 3 2 5 1]\n",
      "['SpiceJet' 'Indigo' 'Air Asia' 'GO FIRST' 'Vistara' 'Air India']\n",
      "[4 3 0 2 5 1]\n",
      "['Delhi' 'Mumbai' 'Bangalore' 'Kolkata' 'Chennai' 'Hyderabad' 'Jaipur'\n",
      " 'Chandigarh' 'Goa']\n",
      "[3 8 0 7 2 5 6 1 4]\n",
      "['Mumbai' 'Delhi' 'Bangalore' 'Kolkata' 'Chennai' 'Chandigarh' 'Jaipur']\n",
      "[6 3 0 5 2 1 4]\n"
     ]
    }
   ],
   "source": [
    "list=['Seat Number', 'Flight Name', 'Arrival Station',\n",
    "       'Departure Station']\n",
    "for i in list:\n",
    "    print(df[i].unique())\n",
    "    df[i]=LE.fit_transform(df[i])\n",
    "    print(df[i].unique())"
   ]
  },
  {
   "cell_type": "code",
   "execution_count": 80,
   "metadata": {},
   "outputs": [
    {
     "data": {
      "text/html": [
       "<div>\n",
       "<style scoped>\n",
       "    .dataframe tbody tr th:only-of-type {\n",
       "        vertical-align: middle;\n",
       "    }\n",
       "\n",
       "    .dataframe tbody tr th {\n",
       "        vertical-align: top;\n",
       "    }\n",
       "\n",
       "    .dataframe thead th {\n",
       "        text-align: right;\n",
       "    }\n",
       "</style>\n",
       "<table border=\"1\" class=\"dataframe\">\n",
       "  <thead>\n",
       "    <tr style=\"text-align: right;\">\n",
       "      <th></th>\n",
       "      <th>Price</th>\n",
       "      <th>Seat Number</th>\n",
       "      <th>Flight Name</th>\n",
       "      <th>Arrival Station</th>\n",
       "      <th>Departure Station</th>\n",
       "      <th>Number of Stops</th>\n",
       "      <th>Duration_Hours</th>\n",
       "      <th>Duration_Minutes</th>\n",
       "      <th>Dep_Hour</th>\n",
       "      <th>Dep_Minute</th>\n",
       "      <th>Arrival_Hour</th>\n",
       "      <th>Arrival_Minute</th>\n",
       "    </tr>\n",
       "  </thead>\n",
       "  <tbody>\n",
       "    <tr>\n",
       "      <th>0</th>\n",
       "      <td>5953</td>\n",
       "      <td>4</td>\n",
       "      <td>4</td>\n",
       "      <td>3</td>\n",
       "      <td>6</td>\n",
       "      <td>0</td>\n",
       "      <td>2</td>\n",
       "      <td>10</td>\n",
       "      <td>12</td>\n",
       "      <td>50</td>\n",
       "      <td>10</td>\n",
       "      <td>40</td>\n",
       "    </tr>\n",
       "    <tr>\n",
       "      <th>1</th>\n",
       "      <td>5953</td>\n",
       "      <td>4</td>\n",
       "      <td>4</td>\n",
       "      <td>3</td>\n",
       "      <td>6</td>\n",
       "      <td>0</td>\n",
       "      <td>2</td>\n",
       "      <td>20</td>\n",
       "      <td>22</td>\n",
       "      <td>40</td>\n",
       "      <td>20</td>\n",
       "      <td>20</td>\n",
       "    </tr>\n",
       "    <tr>\n",
       "      <th>2</th>\n",
       "      <td>5953</td>\n",
       "      <td>4</td>\n",
       "      <td>4</td>\n",
       "      <td>3</td>\n",
       "      <td>6</td>\n",
       "      <td>0</td>\n",
       "      <td>2</td>\n",
       "      <td>0</td>\n",
       "      <td>20</td>\n",
       "      <td>40</td>\n",
       "      <td>18</td>\n",
       "      <td>40</td>\n",
       "    </tr>\n",
       "    <tr>\n",
       "      <th>3</th>\n",
       "      <td>5953</td>\n",
       "      <td>4</td>\n",
       "      <td>4</td>\n",
       "      <td>3</td>\n",
       "      <td>6</td>\n",
       "      <td>0</td>\n",
       "      <td>2</td>\n",
       "      <td>10</td>\n",
       "      <td>18</td>\n",
       "      <td>30</td>\n",
       "      <td>16</td>\n",
       "      <td>20</td>\n",
       "    </tr>\n",
       "    <tr>\n",
       "      <th>4</th>\n",
       "      <td>5953</td>\n",
       "      <td>0</td>\n",
       "      <td>3</td>\n",
       "      <td>3</td>\n",
       "      <td>6</td>\n",
       "      <td>0</td>\n",
       "      <td>2</td>\n",
       "      <td>10</td>\n",
       "      <td>0</td>\n",
       "      <td>1445</td>\n",
       "      <td>21</td>\n",
       "      <td>55</td>\n",
       "    </tr>\n",
       "    <tr>\n",
       "      <th>...</th>\n",
       "      <td>...</td>\n",
       "      <td>...</td>\n",
       "      <td>...</td>\n",
       "      <td>...</td>\n",
       "      <td>...</td>\n",
       "      <td>...</td>\n",
       "      <td>...</td>\n",
       "      <td>...</td>\n",
       "      <td>...</td>\n",
       "      <td>...</td>\n",
       "      <td>...</td>\n",
       "      <td>...</td>\n",
       "    </tr>\n",
       "    <tr>\n",
       "      <th>1568</th>\n",
       "      <td>16174</td>\n",
       "      <td>3</td>\n",
       "      <td>0</td>\n",
       "      <td>0</td>\n",
       "      <td>3</td>\n",
       "      <td>1</td>\n",
       "      <td>7</td>\n",
       "      <td>30</td>\n",
       "      <td>19</td>\n",
       "      <td>20</td>\n",
       "      <td>11</td>\n",
       "      <td>50</td>\n",
       "    </tr>\n",
       "    <tr>\n",
       "      <th>1569</th>\n",
       "      <td>16306</td>\n",
       "      <td>4</td>\n",
       "      <td>4</td>\n",
       "      <td>0</td>\n",
       "      <td>3</td>\n",
       "      <td>1</td>\n",
       "      <td>7</td>\n",
       "      <td>55</td>\n",
       "      <td>17</td>\n",
       "      <td>45</td>\n",
       "      <td>9</td>\n",
       "      <td>50</td>\n",
       "    </tr>\n",
       "    <tr>\n",
       "      <th>1570</th>\n",
       "      <td>21137</td>\n",
       "      <td>1</td>\n",
       "      <td>1</td>\n",
       "      <td>0</td>\n",
       "      <td>3</td>\n",
       "      <td>1</td>\n",
       "      <td>11</td>\n",
       "      <td>0</td>\n",
       "      <td>23</td>\n",
       "      <td>0</td>\n",
       "      <td>12</td>\n",
       "      <td>0</td>\n",
       "    </tr>\n",
       "    <tr>\n",
       "      <th>1571</th>\n",
       "      <td>24208</td>\n",
       "      <td>3</td>\n",
       "      <td>0</td>\n",
       "      <td>0</td>\n",
       "      <td>3</td>\n",
       "      <td>1</td>\n",
       "      <td>5</td>\n",
       "      <td>10</td>\n",
       "      <td>10</td>\n",
       "      <td>55</td>\n",
       "      <td>5</td>\n",
       "      <td>45</td>\n",
       "    </tr>\n",
       "    <tr>\n",
       "      <th>1572</th>\n",
       "      <td>25159</td>\n",
       "      <td>3</td>\n",
       "      <td>0</td>\n",
       "      <td>0</td>\n",
       "      <td>3</td>\n",
       "      <td>1</td>\n",
       "      <td>5</td>\n",
       "      <td>10</td>\n",
       "      <td>10</td>\n",
       "      <td>55</td>\n",
       "      <td>5</td>\n",
       "      <td>45</td>\n",
       "    </tr>\n",
       "  </tbody>\n",
       "</table>\n",
       "<p>1573 rows × 12 columns</p>\n",
       "</div>"
      ],
      "text/plain": [
       "      Price  Seat Number  Flight Name  Arrival Station  Departure Station  \\\n",
       "0      5953            4            4                3                  6   \n",
       "1      5953            4            4                3                  6   \n",
       "2      5953            4            4                3                  6   \n",
       "3      5953            4            4                3                  6   \n",
       "4      5953            0            3                3                  6   \n",
       "...     ...          ...          ...              ...                ...   \n",
       "1568  16174            3            0                0                  3   \n",
       "1569  16306            4            4                0                  3   \n",
       "1570  21137            1            1                0                  3   \n",
       "1571  24208            3            0                0                  3   \n",
       "1572  25159            3            0                0                  3   \n",
       "\n",
       "      Number of Stops  Duration_Hours  Duration_Minutes  Dep_Hour  Dep_Minute  \\\n",
       "0                   0               2                10        12          50   \n",
       "1                   0               2                20        22          40   \n",
       "2                   0               2                 0        20          40   \n",
       "3                   0               2                10        18          30   \n",
       "4                   0               2                10         0        1445   \n",
       "...               ...             ...               ...       ...         ...   \n",
       "1568                1               7                30        19          20   \n",
       "1569                1               7                55        17          45   \n",
       "1570                1              11                 0        23           0   \n",
       "1571                1               5                10        10          55   \n",
       "1572                1               5                10        10          55   \n",
       "\n",
       "      Arrival_Hour  Arrival_Minute  \n",
       "0               10              40  \n",
       "1               20              20  \n",
       "2               18              40  \n",
       "3               16              20  \n",
       "4               21              55  \n",
       "...            ...             ...  \n",
       "1568            11              50  \n",
       "1569             9              50  \n",
       "1570            12               0  \n",
       "1571             5              45  \n",
       "1572             5              45  \n",
       "\n",
       "[1573 rows x 12 columns]"
      ]
     },
     "execution_count": 80,
     "metadata": {},
     "output_type": "execute_result"
    }
   ],
   "source": [
    "df"
   ]
  },
  {
   "cell_type": "code",
   "execution_count": 81,
   "metadata": {},
   "outputs": [
    {
     "data": {
      "text/plain": [
       "Price                int64\n",
       "Seat Number          int32\n",
       "Flight Name          int32\n",
       "Arrival Station      int32\n",
       "Departure Station    int32\n",
       "Number of Stops      int32\n",
       "Duration_Hours       int32\n",
       "Duration_Minutes     int32\n",
       "Dep_Hour             int32\n",
       "Dep_Minute           int32\n",
       "Arrival_Hour         int32\n",
       "Arrival_Minute       int32\n",
       "dtype: object"
      ]
     },
     "execution_count": 81,
     "metadata": {},
     "output_type": "execute_result"
    }
   ],
   "source": [
    "df.dtypes"
   ]
  },
  {
   "cell_type": "markdown",
   "metadata": {},
   "source": [
    "# Multivariate Analysis"
   ]
  },
  {
   "cell_type": "code",
   "execution_count": 82,
   "metadata": {},
   "outputs": [
    {
     "data": {
      "text/html": [
       "<div>\n",
       "<style scoped>\n",
       "    .dataframe tbody tr th:only-of-type {\n",
       "        vertical-align: middle;\n",
       "    }\n",
       "\n",
       "    .dataframe tbody tr th {\n",
       "        vertical-align: top;\n",
       "    }\n",
       "\n",
       "    .dataframe thead th {\n",
       "        text-align: right;\n",
       "    }\n",
       "</style>\n",
       "<table border=\"1\" class=\"dataframe\">\n",
       "  <thead>\n",
       "    <tr style=\"text-align: right;\">\n",
       "      <th></th>\n",
       "      <th>Price</th>\n",
       "      <th>Seat Number</th>\n",
       "      <th>Flight Name</th>\n",
       "      <th>Arrival Station</th>\n",
       "      <th>Departure Station</th>\n",
       "      <th>Number of Stops</th>\n",
       "      <th>Duration_Hours</th>\n",
       "      <th>Duration_Minutes</th>\n",
       "      <th>Dep_Hour</th>\n",
       "      <th>Dep_Minute</th>\n",
       "      <th>Arrival_Hour</th>\n",
       "      <th>Arrival_Minute</th>\n",
       "    </tr>\n",
       "  </thead>\n",
       "  <tbody>\n",
       "    <tr>\n",
       "      <th>Price</th>\n",
       "      <td>1.000000</td>\n",
       "      <td>0.209040</td>\n",
       "      <td>0.102703</td>\n",
       "      <td>0.015988</td>\n",
       "      <td>0.010957</td>\n",
       "      <td>0.550734</td>\n",
       "      <td>0.469412</td>\n",
       "      <td>-0.004099</td>\n",
       "      <td>0.140609</td>\n",
       "      <td>0.171740</td>\n",
       "      <td>-0.124995</td>\n",
       "      <td>0.036216</td>\n",
       "    </tr>\n",
       "    <tr>\n",
       "      <th>Seat Number</th>\n",
       "      <td>0.209040</td>\n",
       "      <td>1.000000</td>\n",
       "      <td>0.263740</td>\n",
       "      <td>-0.029541</td>\n",
       "      <td>-0.039126</td>\n",
       "      <td>0.212780</td>\n",
       "      <td>0.294809</td>\n",
       "      <td>-0.030936</td>\n",
       "      <td>-0.051173</td>\n",
       "      <td>0.254145</td>\n",
       "      <td>0.055154</td>\n",
       "      <td>0.094031</td>\n",
       "    </tr>\n",
       "    <tr>\n",
       "      <th>Flight Name</th>\n",
       "      <td>0.102703</td>\n",
       "      <td>0.263740</td>\n",
       "      <td>1.000000</td>\n",
       "      <td>-0.017593</td>\n",
       "      <td>0.005634</td>\n",
       "      <td>-0.125413</td>\n",
       "      <td>-0.004864</td>\n",
       "      <td>-0.028689</td>\n",
       "      <td>0.181853</td>\n",
       "      <td>-0.097626</td>\n",
       "      <td>0.046531</td>\n",
       "      <td>0.044116</td>\n",
       "    </tr>\n",
       "    <tr>\n",
       "      <th>Arrival Station</th>\n",
       "      <td>0.015988</td>\n",
       "      <td>-0.029541</td>\n",
       "      <td>-0.017593</td>\n",
       "      <td>1.000000</td>\n",
       "      <td>-0.059196</td>\n",
       "      <td>-0.008239</td>\n",
       "      <td>0.009023</td>\n",
       "      <td>-0.163951</td>\n",
       "      <td>0.007432</td>\n",
       "      <td>0.015118</td>\n",
       "      <td>0.046238</td>\n",
       "      <td>-0.042913</td>\n",
       "    </tr>\n",
       "    <tr>\n",
       "      <th>Departure Station</th>\n",
       "      <td>0.010957</td>\n",
       "      <td>-0.039126</td>\n",
       "      <td>0.005634</td>\n",
       "      <td>-0.059196</td>\n",
       "      <td>1.000000</td>\n",
       "      <td>-0.013489</td>\n",
       "      <td>0.003170</td>\n",
       "      <td>0.019421</td>\n",
       "      <td>0.045780</td>\n",
       "      <td>-0.040878</td>\n",
       "      <td>-0.036628</td>\n",
       "      <td>0.040349</td>\n",
       "    </tr>\n",
       "    <tr>\n",
       "      <th>Number of Stops</th>\n",
       "      <td>0.550734</td>\n",
       "      <td>0.212780</td>\n",
       "      <td>-0.125413</td>\n",
       "      <td>-0.008239</td>\n",
       "      <td>-0.013489</td>\n",
       "      <td>1.000000</td>\n",
       "      <td>0.658729</td>\n",
       "      <td>0.068117</td>\n",
       "      <td>0.088281</td>\n",
       "      <td>0.355816</td>\n",
       "      <td>-0.077921</td>\n",
       "      <td>0.057892</td>\n",
       "    </tr>\n",
       "    <tr>\n",
       "      <th>Duration_Hours</th>\n",
       "      <td>0.469412</td>\n",
       "      <td>0.294809</td>\n",
       "      <td>-0.004864</td>\n",
       "      <td>0.009023</td>\n",
       "      <td>0.003170</td>\n",
       "      <td>0.658729</td>\n",
       "      <td>1.000000</td>\n",
       "      <td>0.014828</td>\n",
       "      <td>0.015891</td>\n",
       "      <td>0.654709</td>\n",
       "      <td>-0.013314</td>\n",
       "      <td>0.050146</td>\n",
       "    </tr>\n",
       "    <tr>\n",
       "      <th>Duration_Minutes</th>\n",
       "      <td>-0.004099</td>\n",
       "      <td>-0.030936</td>\n",
       "      <td>-0.028689</td>\n",
       "      <td>-0.163951</td>\n",
       "      <td>0.019421</td>\n",
       "      <td>0.068117</td>\n",
       "      <td>0.014828</td>\n",
       "      <td>1.000000</td>\n",
       "      <td>-0.001796</td>\n",
       "      <td>0.039120</td>\n",
       "      <td>0.007718</td>\n",
       "      <td>-0.016258</td>\n",
       "    </tr>\n",
       "    <tr>\n",
       "      <th>Dep_Hour</th>\n",
       "      <td>0.140609</td>\n",
       "      <td>-0.051173</td>\n",
       "      <td>0.181853</td>\n",
       "      <td>0.007432</td>\n",
       "      <td>0.045780</td>\n",
       "      <td>0.088281</td>\n",
       "      <td>0.015891</td>\n",
       "      <td>-0.001796</td>\n",
       "      <td>1.000000</td>\n",
       "      <td>-0.594643</td>\n",
       "      <td>0.032584</td>\n",
       "      <td>0.018485</td>\n",
       "    </tr>\n",
       "    <tr>\n",
       "      <th>Dep_Minute</th>\n",
       "      <td>0.171740</td>\n",
       "      <td>0.254145</td>\n",
       "      <td>-0.097626</td>\n",
       "      <td>0.015118</td>\n",
       "      <td>-0.040878</td>\n",
       "      <td>0.355816</td>\n",
       "      <td>0.654709</td>\n",
       "      <td>0.039120</td>\n",
       "      <td>-0.594643</td>\n",
       "      <td>1.000000</td>\n",
       "      <td>0.419373</td>\n",
       "      <td>0.059408</td>\n",
       "    </tr>\n",
       "    <tr>\n",
       "      <th>Arrival_Hour</th>\n",
       "      <td>-0.124995</td>\n",
       "      <td>0.055154</td>\n",
       "      <td>0.046531</td>\n",
       "      <td>0.046238</td>\n",
       "      <td>-0.036628</td>\n",
       "      <td>-0.077921</td>\n",
       "      <td>-0.013314</td>\n",
       "      <td>0.007718</td>\n",
       "      <td>0.032584</td>\n",
       "      <td>0.419373</td>\n",
       "      <td>1.000000</td>\n",
       "      <td>0.029048</td>\n",
       "    </tr>\n",
       "    <tr>\n",
       "      <th>Arrival_Minute</th>\n",
       "      <td>0.036216</td>\n",
       "      <td>0.094031</td>\n",
       "      <td>0.044116</td>\n",
       "      <td>-0.042913</td>\n",
       "      <td>0.040349</td>\n",
       "      <td>0.057892</td>\n",
       "      <td>0.050146</td>\n",
       "      <td>-0.016258</td>\n",
       "      <td>0.018485</td>\n",
       "      <td>0.059408</td>\n",
       "      <td>0.029048</td>\n",
       "      <td>1.000000</td>\n",
       "    </tr>\n",
       "  </tbody>\n",
       "</table>\n",
       "</div>"
      ],
      "text/plain": [
       "                      Price  Seat Number  Flight Name  Arrival Station  \\\n",
       "Price              1.000000     0.209040     0.102703         0.015988   \n",
       "Seat Number        0.209040     1.000000     0.263740        -0.029541   \n",
       "Flight Name        0.102703     0.263740     1.000000        -0.017593   \n",
       "Arrival Station    0.015988    -0.029541    -0.017593         1.000000   \n",
       "Departure Station  0.010957    -0.039126     0.005634        -0.059196   \n",
       "Number of Stops    0.550734     0.212780    -0.125413        -0.008239   \n",
       "Duration_Hours     0.469412     0.294809    -0.004864         0.009023   \n",
       "Duration_Minutes  -0.004099    -0.030936    -0.028689        -0.163951   \n",
       "Dep_Hour           0.140609    -0.051173     0.181853         0.007432   \n",
       "Dep_Minute         0.171740     0.254145    -0.097626         0.015118   \n",
       "Arrival_Hour      -0.124995     0.055154     0.046531         0.046238   \n",
       "Arrival_Minute     0.036216     0.094031     0.044116        -0.042913   \n",
       "\n",
       "                   Departure Station  Number of Stops  Duration_Hours  \\\n",
       "Price                       0.010957         0.550734        0.469412   \n",
       "Seat Number                -0.039126         0.212780        0.294809   \n",
       "Flight Name                 0.005634        -0.125413       -0.004864   \n",
       "Arrival Station            -0.059196        -0.008239        0.009023   \n",
       "Departure Station           1.000000        -0.013489        0.003170   \n",
       "Number of Stops            -0.013489         1.000000        0.658729   \n",
       "Duration_Hours              0.003170         0.658729        1.000000   \n",
       "Duration_Minutes            0.019421         0.068117        0.014828   \n",
       "Dep_Hour                    0.045780         0.088281        0.015891   \n",
       "Dep_Minute                 -0.040878         0.355816        0.654709   \n",
       "Arrival_Hour               -0.036628        -0.077921       -0.013314   \n",
       "Arrival_Minute              0.040349         0.057892        0.050146   \n",
       "\n",
       "                   Duration_Minutes  Dep_Hour  Dep_Minute  Arrival_Hour  \\\n",
       "Price                     -0.004099  0.140609    0.171740     -0.124995   \n",
       "Seat Number               -0.030936 -0.051173    0.254145      0.055154   \n",
       "Flight Name               -0.028689  0.181853   -0.097626      0.046531   \n",
       "Arrival Station           -0.163951  0.007432    0.015118      0.046238   \n",
       "Departure Station          0.019421  0.045780   -0.040878     -0.036628   \n",
       "Number of Stops            0.068117  0.088281    0.355816     -0.077921   \n",
       "Duration_Hours             0.014828  0.015891    0.654709     -0.013314   \n",
       "Duration_Minutes           1.000000 -0.001796    0.039120      0.007718   \n",
       "Dep_Hour                  -0.001796  1.000000   -0.594643      0.032584   \n",
       "Dep_Minute                 0.039120 -0.594643    1.000000      0.419373   \n",
       "Arrival_Hour               0.007718  0.032584    0.419373      1.000000   \n",
       "Arrival_Minute            -0.016258  0.018485    0.059408      0.029048   \n",
       "\n",
       "                   Arrival_Minute  \n",
       "Price                    0.036216  \n",
       "Seat Number              0.094031  \n",
       "Flight Name              0.044116  \n",
       "Arrival Station         -0.042913  \n",
       "Departure Station        0.040349  \n",
       "Number of Stops          0.057892  \n",
       "Duration_Hours           0.050146  \n",
       "Duration_Minutes        -0.016258  \n",
       "Dep_Hour                 0.018485  \n",
       "Dep_Minute               0.059408  \n",
       "Arrival_Hour             0.029048  \n",
       "Arrival_Minute           1.000000  "
      ]
     },
     "execution_count": 82,
     "metadata": {},
     "output_type": "execute_result"
    }
   ],
   "source": [
    "dfcorr=df.corr()\n",
    "dfcorr"
   ]
  },
  {
   "cell_type": "code",
   "execution_count": 83,
   "metadata": {},
   "outputs": [
    {
     "data": {
      "text/html": [
       "<div>\n",
       "<style scoped>\n",
       "    .dataframe tbody tr th:only-of-type {\n",
       "        vertical-align: middle;\n",
       "    }\n",
       "\n",
       "    .dataframe tbody tr th {\n",
       "        vertical-align: top;\n",
       "    }\n",
       "\n",
       "    .dataframe thead th {\n",
       "        text-align: right;\n",
       "    }\n",
       "</style>\n",
       "<table border=\"1\" class=\"dataframe\">\n",
       "  <thead>\n",
       "    <tr style=\"text-align: right;\">\n",
       "      <th></th>\n",
       "      <th>Price</th>\n",
       "      <th>Seat Number</th>\n",
       "      <th>Flight Name</th>\n",
       "      <th>Arrival Station</th>\n",
       "      <th>Departure Station</th>\n",
       "      <th>Number of Stops</th>\n",
       "      <th>Duration_Hours</th>\n",
       "      <th>Duration_Minutes</th>\n",
       "      <th>Dep_Hour</th>\n",
       "      <th>Dep_Minute</th>\n",
       "      <th>Arrival_Hour</th>\n",
       "      <th>Arrival_Minute</th>\n",
       "    </tr>\n",
       "  </thead>\n",
       "  <tbody>\n",
       "    <tr>\n",
       "      <th>count</th>\n",
       "      <td>1573.000000</td>\n",
       "      <td>1573.000000</td>\n",
       "      <td>1573.000000</td>\n",
       "      <td>1573.000000</td>\n",
       "      <td>1573.000000</td>\n",
       "      <td>1573.000000</td>\n",
       "      <td>1573.000000</td>\n",
       "      <td>1573.000000</td>\n",
       "      <td>1573.000000</td>\n",
       "      <td>1573.000000</td>\n",
       "      <td>1573.000000</td>\n",
       "      <td>1573.000000</td>\n",
       "    </tr>\n",
       "    <tr>\n",
       "      <th>mean</th>\n",
       "      <td>10754.796567</td>\n",
       "      <td>1.956771</td>\n",
       "      <td>2.315321</td>\n",
       "      <td>3.910998</td>\n",
       "      <td>3.639542</td>\n",
       "      <td>0.859504</td>\n",
       "      <td>8.530197</td>\n",
       "      <td>26.490782</td>\n",
       "      <td>15.015257</td>\n",
       "      <td>445.162111</td>\n",
       "      <td>13.029879</td>\n",
       "      <td>26.897648</td>\n",
       "    </tr>\n",
       "    <tr>\n",
       "      <th>std</th>\n",
       "      <td>4529.753777</td>\n",
       "      <td>1.810884</td>\n",
       "      <td>1.680149</td>\n",
       "      <td>2.450209</td>\n",
       "      <td>1.800237</td>\n",
       "      <td>0.619833</td>\n",
       "      <td>7.315057</td>\n",
       "      <td>17.017225</td>\n",
       "      <td>6.781938</td>\n",
       "      <td>652.628680</td>\n",
       "      <td>4.891676</td>\n",
       "      <td>16.209909</td>\n",
       "    </tr>\n",
       "    <tr>\n",
       "      <th>min</th>\n",
       "      <td>4450.000000</td>\n",
       "      <td>0.000000</td>\n",
       "      <td>0.000000</td>\n",
       "      <td>0.000000</td>\n",
       "      <td>0.000000</td>\n",
       "      <td>0.000000</td>\n",
       "      <td>0.000000</td>\n",
       "      <td>0.000000</td>\n",
       "      <td>0.000000</td>\n",
       "      <td>0.000000</td>\n",
       "      <td>0.000000</td>\n",
       "      <td>0.000000</td>\n",
       "    </tr>\n",
       "    <tr>\n",
       "      <th>25%</th>\n",
       "      <td>7391.000000</td>\n",
       "      <td>0.000000</td>\n",
       "      <td>1.000000</td>\n",
       "      <td>2.000000</td>\n",
       "      <td>3.000000</td>\n",
       "      <td>0.000000</td>\n",
       "      <td>2.000000</td>\n",
       "      <td>10.000000</td>\n",
       "      <td>10.000000</td>\n",
       "      <td>20.000000</td>\n",
       "      <td>9.000000</td>\n",
       "      <td>15.000000</td>\n",
       "    </tr>\n",
       "    <tr>\n",
       "      <th>50%</th>\n",
       "      <td>9902.000000</td>\n",
       "      <td>1.000000</td>\n",
       "      <td>3.000000</td>\n",
       "      <td>4.000000</td>\n",
       "      <td>3.000000</td>\n",
       "      <td>1.000000</td>\n",
       "      <td>6.000000</td>\n",
       "      <td>25.000000</td>\n",
       "      <td>17.000000</td>\n",
       "      <td>40.000000</td>\n",
       "      <td>13.000000</td>\n",
       "      <td>25.000000</td>\n",
       "    </tr>\n",
       "    <tr>\n",
       "      <th>75%</th>\n",
       "      <td>13297.000000</td>\n",
       "      <td>3.000000</td>\n",
       "      <td>3.000000</td>\n",
       "      <td>5.000000</td>\n",
       "      <td>5.000000</td>\n",
       "      <td>1.000000</td>\n",
       "      <td>11.000000</td>\n",
       "      <td>40.000000</td>\n",
       "      <td>21.000000</td>\n",
       "      <td>1445.000000</td>\n",
       "      <td>17.000000</td>\n",
       "      <td>40.000000</td>\n",
       "    </tr>\n",
       "    <tr>\n",
       "      <th>max</th>\n",
       "      <td>34408.000000</td>\n",
       "      <td>5.000000</td>\n",
       "      <td>5.000000</td>\n",
       "      <td>8.000000</td>\n",
       "      <td>6.000000</td>\n",
       "      <td>3.000000</td>\n",
       "      <td>38.000000</td>\n",
       "      <td>55.000000</td>\n",
       "      <td>23.000000</td>\n",
       "      <td>1495.000000</td>\n",
       "      <td>23.000000</td>\n",
       "      <td>55.000000</td>\n",
       "    </tr>\n",
       "  </tbody>\n",
       "</table>\n",
       "</div>"
      ],
      "text/plain": [
       "              Price  Seat Number  Flight Name  Arrival Station  \\\n",
       "count   1573.000000  1573.000000  1573.000000      1573.000000   \n",
       "mean   10754.796567     1.956771     2.315321         3.910998   \n",
       "std     4529.753777     1.810884     1.680149         2.450209   \n",
       "min     4450.000000     0.000000     0.000000         0.000000   \n",
       "25%     7391.000000     0.000000     1.000000         2.000000   \n",
       "50%     9902.000000     1.000000     3.000000         4.000000   \n",
       "75%    13297.000000     3.000000     3.000000         5.000000   \n",
       "max    34408.000000     5.000000     5.000000         8.000000   \n",
       "\n",
       "       Departure Station  Number of Stops  Duration_Hours  Duration_Minutes  \\\n",
       "count        1573.000000      1573.000000     1573.000000       1573.000000   \n",
       "mean            3.639542         0.859504        8.530197         26.490782   \n",
       "std             1.800237         0.619833        7.315057         17.017225   \n",
       "min             0.000000         0.000000        0.000000          0.000000   \n",
       "25%             3.000000         0.000000        2.000000         10.000000   \n",
       "50%             3.000000         1.000000        6.000000         25.000000   \n",
       "75%             5.000000         1.000000       11.000000         40.000000   \n",
       "max             6.000000         3.000000       38.000000         55.000000   \n",
       "\n",
       "          Dep_Hour   Dep_Minute  Arrival_Hour  Arrival_Minute  \n",
       "count  1573.000000  1573.000000   1573.000000     1573.000000  \n",
       "mean     15.015257   445.162111     13.029879       26.897648  \n",
       "std       6.781938   652.628680      4.891676       16.209909  \n",
       "min       0.000000     0.000000      0.000000        0.000000  \n",
       "25%      10.000000    20.000000      9.000000       15.000000  \n",
       "50%      17.000000    40.000000     13.000000       25.000000  \n",
       "75%      21.000000  1445.000000     17.000000       40.000000  \n",
       "max      23.000000  1495.000000     23.000000       55.000000  "
      ]
     },
     "execution_count": 83,
     "metadata": {},
     "output_type": "execute_result"
    }
   ],
   "source": [
    "df.describe()"
   ]
  },
  {
   "cell_type": "code",
   "execution_count": 84,
   "metadata": {},
   "outputs": [
    {
     "data": {
      "text/plain": [
       "<matplotlib.axes._subplots.AxesSubplot at 0x1a7c62b4dc8>"
      ]
     },
     "execution_count": 84,
     "metadata": {},
     "output_type": "execute_result"
    },
    {
     "data": {
      "image/png": "[encoded data removed]",
      "text/plain": [
       "<Figure size 720x576 with 2 Axes>"
      ]
     },
     "metadata": {},
     "output_type": "display_data"
    }
   ],
   "source": [
    "# Multivariate Analysis\n",
    "plt.figure(figsize=(10,8))\n",
    "sns.heatmap(dfcorr,cmap='YlGnBu',annot=True)"
   ]
  },
  {
   "cell_type": "raw",
   "metadata": {},
   "source": [
    "Observations :-\n",
    "    \n",
    "1. Price is highly positively correlated to Number of stops.\n",
    "2. Number of Stops is highly negatively correlated to Flight Name.\n",
    "3. Flight Name is highly positively correlated to Seat Number.\n",
    "4.  Price is highly negatively correlated to Arrival Hours."
   ]
  },
  {
   "cell_type": "markdown",
   "metadata": {},
   "source": [
    "# Plotting Outliers"
   ]
  },
  {
   "cell_type": "code",
   "execution_count": 85,
   "metadata": {},
   "outputs": [
    {
     "data": {
      "text/plain": [
       "(1573, 12)"
      ]
     },
     "execution_count": 85,
     "metadata": {},
     "output_type": "execute_result"
    }
   ],
   "source": [
    "df.shape"
   ]
  },
  {
   "cell_type": "code",
   "execution_count": 86,
   "metadata": {},
   "outputs": [
    {
     "data": {
      "text/plain": [
       "Price                   AxesSubplot(0.125,0.125;0.0545775x0.755)\n",
       "Seat Number          AxesSubplot(0.190493,0.125;0.0545775x0.755)\n",
       "Flight Name          AxesSubplot(0.255986,0.125;0.0545775x0.755)\n",
       "Arrival Station      AxesSubplot(0.321479,0.125;0.0545775x0.755)\n",
       "Departure Station    AxesSubplot(0.386972,0.125;0.0545775x0.755)\n",
       "Number of Stops      AxesSubplot(0.452465,0.125;0.0545775x0.755)\n",
       "Duration_Hours       AxesSubplot(0.517958,0.125;0.0545775x0.755)\n",
       "Duration_Minutes     AxesSubplot(0.583451,0.125;0.0545775x0.755)\n",
       "Dep_Hour             AxesSubplot(0.648944,0.125;0.0545775x0.755)\n",
       "Dep_Minute           AxesSubplot(0.714437,0.125;0.0545775x0.755)\n",
       "Arrival_Hour          AxesSubplot(0.77993,0.125;0.0545775x0.755)\n",
       "Arrival_Minute       AxesSubplot(0.845423,0.125;0.0545775x0.755)\n",
       "dtype: object"
      ]
     },
     "execution_count": 86,
     "metadata": {},
     "output_type": "execute_result"
    },
    {
     "data": {
      "image/png": "[encoded data removed]",
      "text/plain": [
       "<Figure size 1296x864 with 12 Axes>"
      ]
     },
     "metadata": {},
     "output_type": "display_data"
    }
   ],
   "source": [
    "df.plot(kind='box',subplots=True,layout=(1,12),sharex=False,fontsize=1,figsize=(18,12))"
   ]
  },
  {
   "cell_type": "raw",
   "metadata": {},
   "source": [
    "Observations :-\n",
    "    \n",
    "1. Price, Number of Stops and Departure Hours have outliers."
   ]
  },
  {
   "cell_type": "markdown",
   "metadata": {},
   "source": [
    "# Removing Outliers"
   ]
  },
  {
   "cell_type": "code",
   "execution_count": 87,
   "metadata": {},
   "outputs": [],
   "source": [
    "from scipy.stats import zscore\n",
    "z=np.abs(zscore(df))"
   ]
  },
  {
   "cell_type": "code",
   "execution_count": 88,
   "metadata": {},
   "outputs": [
    {
     "data": {
      "text/plain": [
       "array([[1.06039397, 1.12866389, 1.00301493, ..., 0.60568558, 0.61959186,\n",
       "        0.80854982],\n",
       "       [1.06039397, 1.12866389, 1.00301493, ..., 0.6210131 , 1.42534729,\n",
       "        0.42565578],\n",
       "       [1.06039397, 1.12866389, 1.00301493, ..., 0.6210131 , 1.01635946,\n",
       "        0.80854982],\n",
       "       ...,\n",
       "       [2.29273061, 0.5285125 , 0.78310864, ..., 0.68232318, 0.21060403,\n",
       "        1.65986138],\n",
       "       [2.97090801, 0.57627176, 1.37848316, ..., 0.59802182, 1.64206144,\n",
       "        1.11710122],\n",
       "       [3.18091996, 0.57627176, 1.37848316, ..., 0.59802182, 1.64206144,\n",
       "        1.11710122]])"
      ]
     },
     "execution_count": 88,
     "metadata": {},
     "output_type": "execute_result"
    }
   ],
   "source": [
    "z"
   ]
  },
  {
   "cell_type": "code",
   "execution_count": 89,
   "metadata": {},
   "outputs": [
    {
     "name": "stdout",
     "output_type": "stream",
     "text": [
      "(array([ 258,  384,  396,  496,  521,  522,  596,  599,  604,  765,  769,\n",
      "        774,  794,  965,  966,  967,  969, 1077, 1079, 1080, 1093, 1094,\n",
      "       1160, 1161, 1218, 1220, 1305, 1306, 1334, 1335, 1336, 1337, 1368,\n",
      "       1369, 1560, 1572], dtype=int64), array([0, 6, 0, 6, 0, 0, 6, 6, 6, 6, 6, 6, 0, 6, 6, 6, 6, 6, 6, 6, 0, 0,\n",
      "       0, 0, 6, 6, 0, 0, 0, 0, 0, 0, 5, 5, 6, 0], dtype=int64))\n"
     ]
    }
   ],
   "source": [
    "threshold=3\n",
    "print(np.where(z>3))"
   ]
  },
  {
   "cell_type": "code",
   "execution_count": 90,
   "metadata": {},
   "outputs": [],
   "source": [
    "df_new=df[(z<3).all(axis=1)]"
   ]
  },
  {
   "cell_type": "code",
   "execution_count": 91,
   "metadata": {},
   "outputs": [
    {
     "data": {
      "text/plain": [
       "(1537, 12)"
      ]
     },
     "execution_count": 91,
     "metadata": {},
     "output_type": "execute_result"
    }
   ],
   "source": [
    "df_new.shape"
   ]
  },
  {
   "cell_type": "code",
   "execution_count": 92,
   "metadata": {},
   "outputs": [
    {
     "data": {
      "text/plain": [
       "(1573, 12)"
      ]
     },
     "execution_count": 92,
     "metadata": {},
     "output_type": "execute_result"
    }
   ],
   "source": [
    "df.shape"
   ]
  },
  {
   "cell_type": "code",
   "execution_count": 93,
   "metadata": {},
   "outputs": [
    {
     "data": {
      "text/plain": [
       "2.2886204704386524"
      ]
     },
     "execution_count": 93,
     "metadata": {},
     "output_type": "execute_result"
    }
   ],
   "source": [
    "((1573-1537)/1573)*100"
   ]
  },
  {
   "cell_type": "code",
   "execution_count": 94,
   "metadata": {},
   "outputs": [],
   "source": [
    "df=df_new"
   ]
  },
  {
   "cell_type": "markdown",
   "metadata": {},
   "source": [
    "# To check Skewness"
   ]
  },
  {
   "cell_type": "code",
   "execution_count": 95,
   "metadata": {},
   "outputs": [
    {
     "data": {
      "text/plain": [
       "array([[<matplotlib.axes._subplots.AxesSubplot object at 0x000001A7C836AC08>,\n",
       "        <matplotlib.axes._subplots.AxesSubplot object at 0x000001A7C89E0248>,\n",
       "        <matplotlib.axes._subplots.AxesSubplot object at 0x000001A7C8532808>,\n",
       "        <matplotlib.axes._subplots.AxesSubplot object at 0x000001A7C856A208>,\n",
       "        <matplotlib.axes._subplots.AxesSubplot object at 0x000001A7C859FBC8>,\n",
       "        <matplotlib.axes._subplots.AxesSubplot object at 0x000001A7C85D8608>,\n",
       "        <matplotlib.axes._subplots.AxesSubplot object at 0x000001A7C860EF48>,\n",
       "        <matplotlib.axes._subplots.AxesSubplot object at 0x000001A7C8648948>,\n",
       "        <matplotlib.axes._subplots.AxesSubplot object at 0x000001A7C8653488>,\n",
       "        <matplotlib.axes._subplots.AxesSubplot object at 0x000001A7C868E2C8>,\n",
       "        <matplotlib.axes._subplots.AxesSubplot object at 0x000001A7C86F2848>,\n",
       "        <matplotlib.axes._subplots.AxesSubplot object at 0x000001A7C7A14D88>]],\n",
       "      dtype=object)"
      ]
     },
     "execution_count": 95,
     "metadata": {},
     "output_type": "execute_result"
    },
    {
     "data": {
      "image/png": "[encoded data removed]",
      "text/plain": [
       "<Figure size 1296x864 with 12 Axes>"
      ]
     },
     "metadata": {},
     "output_type": "display_data"
    }
   ],
   "source": [
    "df.plot(kind='density',subplots=True,layout=(1,12),sharex=False,fontsize=1,figsize=(18,12))"
   ]
  },
  {
   "cell_type": "raw",
   "metadata": {},
   "source": [
    "Observations :-\n",
    "    \n",
    "1. Price, Duration_Hours and Dep_Minute are right skewed.\n",
    "2. Dep_Hour is left skewed."
   ]
  },
  {
   "cell_type": "code",
   "execution_count": 96,
   "metadata": {},
   "outputs": [
    {
     "data": {
      "text/plain": [
       "Price                0.852128\n",
       "Seat Number          0.438383\n",
       "Flight Name          0.093622\n",
       "Arrival Station     -0.202898\n",
       "Departure Station   -0.257235\n",
       "Number of Stops      0.090073\n",
       "Duration_Hours       1.258747\n",
       "Duration_Minutes     0.128163\n",
       "Dep_Hour            -0.763417\n",
       "Dep_Minute           0.988446\n",
       "Arrival_Hour         0.040881\n",
       "Arrival_Minute       0.030462\n",
       "dtype: float64"
      ]
     },
     "execution_count": 96,
     "metadata": {},
     "output_type": "execute_result"
    }
   ],
   "source": [
    "df.skew()"
   ]
  },
  {
   "cell_type": "code",
   "execution_count": 97,
   "metadata": {},
   "outputs": [],
   "source": [
    "df_rs=['Duration_Hours','Dep_Minute']\n",
    "for val in df_rs:\n",
    "    if df.skew().loc[val]>0.55:\n",
    "        df[val]=np.sqrt(df[val])"
   ]
  },
  {
   "cell_type": "code",
   "execution_count": 98,
   "metadata": {},
   "outputs": [
    {
     "data": {
      "text/plain": [
       "Price                0.852128\n",
       "Seat Number          0.438383\n",
       "Flight Name          0.093622\n",
       "Arrival Station     -0.202898\n",
       "Departure Station   -0.257235\n",
       "Number of Stops      0.090073\n",
       "Duration_Hours       0.561970\n",
       "Duration_Minutes     0.128163\n",
       "Dep_Hour            -0.763417\n",
       "Dep_Minute           0.944907\n",
       "Arrival_Hour         0.040881\n",
       "Arrival_Minute       0.030462\n",
       "dtype: float64"
      ]
     },
     "execution_count": 98,
     "metadata": {},
     "output_type": "execute_result"
    }
   ],
   "source": [
    "df.skew()"
   ]
  },
  {
   "cell_type": "code",
   "execution_count": 99,
   "metadata": {},
   "outputs": [],
   "source": [
    "df_rs=['Duration_Hours']\n",
    "for val in df_rs:\n",
    "    if df.skew().loc[val]>0.55:\n",
    "        df[val]=np.sqrt(df[val])"
   ]
  },
  {
   "cell_type": "code",
   "execution_count": 100,
   "metadata": {},
   "outputs": [
    {
     "data": {
      "text/plain": [
       "Price                0.852128\n",
       "Seat Number          0.438383\n",
       "Flight Name          0.093622\n",
       "Arrival Station     -0.202898\n",
       "Departure Station   -0.257235\n",
       "Number of Stops      0.090073\n",
       "Duration_Hours       0.132725\n",
       "Duration_Minutes     0.128163\n",
       "Dep_Hour            -0.763417\n",
       "Dep_Minute           0.944907\n",
       "Arrival_Hour         0.040881\n",
       "Arrival_Minute       0.030462\n",
       "dtype: float64"
      ]
     },
     "execution_count": 100,
     "metadata": {},
     "output_type": "execute_result"
    }
   ],
   "source": [
    "df.skew()"
   ]
  },
  {
   "cell_type": "markdown",
   "metadata": {},
   "source": [
    "# Train Test Split"
   ]
  },
  {
   "cell_type": "code",
   "execution_count": 101,
   "metadata": {},
   "outputs": [
    {
     "data": {
      "text/plain": [
       "Index(['Price', 'Seat Number', 'Flight Name', 'Arrival Station',\n",
       "       'Departure Station', 'Number of Stops', 'Duration_Hours',\n",
       "       'Duration_Minutes', 'Dep_Hour', 'Dep_Minute', 'Arrival_Hour',\n",
       "       'Arrival_Minute'],\n",
       "      dtype='object')"
      ]
     },
     "execution_count": 101,
     "metadata": {},
     "output_type": "execute_result"
    }
   ],
   "source": [
    "df.columns"
   ]
  },
  {
   "cell_type": "code",
   "execution_count": 102,
   "metadata": {},
   "outputs": [],
   "source": [
    "x=df[['Seat Number', 'Flight Name', 'Arrival Station',\n",
    "       'Departure Station', 'Number of Stops', 'Duration_Hours',\n",
    "       'Duration_Minutes', 'Dep_Hour', 'Dep_Minute', 'Arrival_Hour',\n",
    "       'Arrival_Minute']]\n",
    "y=df['Price']"
   ]
  },
  {
   "cell_type": "markdown",
   "metadata": {},
   "source": [
    "# Scaling of Data"
   ]
  },
  {
   "cell_type": "code",
   "execution_count": 103,
   "metadata": {},
   "outputs": [],
   "source": [
    "#scaling the input data\n",
    "from sklearn.preprocessing import StandardScaler\n",
    "sc=StandardScaler()\n",
    "x=sc.fit_transform(x)"
   ]
  },
  {
   "cell_type": "code",
   "execution_count": 104,
   "metadata": {},
   "outputs": [],
   "source": [
    "x=pd.DataFrame(x)"
   ]
  },
  {
   "cell_type": "code",
   "execution_count": 105,
   "metadata": {},
   "outputs": [],
   "source": [
    "x.columns=['Seat Number', 'Flight Name', 'Arrival Station',\n",
    "       'Departure Station', 'Number of Stops', 'Duration_Hours',\n",
    "       'Duration_Minutes', 'Dep_Hour', 'Dep_Minute', 'Arrival_Hour',\n",
    "       'Arrival_Minute']"
   ]
  },
  {
   "cell_type": "code",
   "execution_count": 106,
   "metadata": {},
   "outputs": [
    {
     "data": {
      "text/html": [
       "<div>\n",
       "<style scoped>\n",
       "    .dataframe tbody tr th:only-of-type {\n",
       "        vertical-align: middle;\n",
       "    }\n",
       "\n",
       "    .dataframe tbody tr th {\n",
       "        vertical-align: top;\n",
       "    }\n",
       "\n",
       "    .dataframe thead th {\n",
       "        text-align: right;\n",
       "    }\n",
       "</style>\n",
       "<table border=\"1\" class=\"dataframe\">\n",
       "  <thead>\n",
       "    <tr style=\"text-align: right;\">\n",
       "      <th></th>\n",
       "      <th>Price</th>\n",
       "      <th>Seat Number</th>\n",
       "      <th>Flight Name</th>\n",
       "      <th>Arrival Station</th>\n",
       "      <th>Departure Station</th>\n",
       "      <th>Number of Stops</th>\n",
       "      <th>Duration_Hours</th>\n",
       "      <th>Duration_Minutes</th>\n",
       "      <th>Dep_Hour</th>\n",
       "      <th>Dep_Minute</th>\n",
       "      <th>Arrival_Hour</th>\n",
       "      <th>Arrival_Minute</th>\n",
       "    </tr>\n",
       "  </thead>\n",
       "  <tbody>\n",
       "    <tr>\n",
       "      <th>0</th>\n",
       "      <td>5953</td>\n",
       "      <td>4</td>\n",
       "      <td>4</td>\n",
       "      <td>3</td>\n",
       "      <td>6</td>\n",
       "      <td>0</td>\n",
       "      <td>1.189207</td>\n",
       "      <td>10</td>\n",
       "      <td>12</td>\n",
       "      <td>7.071068</td>\n",
       "      <td>10</td>\n",
       "      <td>40</td>\n",
       "    </tr>\n",
       "    <tr>\n",
       "      <th>1</th>\n",
       "      <td>5953</td>\n",
       "      <td>4</td>\n",
       "      <td>4</td>\n",
       "      <td>3</td>\n",
       "      <td>6</td>\n",
       "      <td>0</td>\n",
       "      <td>1.189207</td>\n",
       "      <td>20</td>\n",
       "      <td>22</td>\n",
       "      <td>6.324555</td>\n",
       "      <td>20</td>\n",
       "      <td>20</td>\n",
       "    </tr>\n",
       "    <tr>\n",
       "      <th>2</th>\n",
       "      <td>5953</td>\n",
       "      <td>4</td>\n",
       "      <td>4</td>\n",
       "      <td>3</td>\n",
       "      <td>6</td>\n",
       "      <td>0</td>\n",
       "      <td>1.189207</td>\n",
       "      <td>0</td>\n",
       "      <td>20</td>\n",
       "      <td>6.324555</td>\n",
       "      <td>18</td>\n",
       "      <td>40</td>\n",
       "    </tr>\n",
       "    <tr>\n",
       "      <th>3</th>\n",
       "      <td>5953</td>\n",
       "      <td>4</td>\n",
       "      <td>4</td>\n",
       "      <td>3</td>\n",
       "      <td>6</td>\n",
       "      <td>0</td>\n",
       "      <td>1.189207</td>\n",
       "      <td>10</td>\n",
       "      <td>18</td>\n",
       "      <td>5.477226</td>\n",
       "      <td>16</td>\n",
       "      <td>20</td>\n",
       "    </tr>\n",
       "    <tr>\n",
       "      <th>4</th>\n",
       "      <td>5953</td>\n",
       "      <td>0</td>\n",
       "      <td>3</td>\n",
       "      <td>3</td>\n",
       "      <td>6</td>\n",
       "      <td>0</td>\n",
       "      <td>1.189207</td>\n",
       "      <td>10</td>\n",
       "      <td>0</td>\n",
       "      <td>38.013156</td>\n",
       "      <td>21</td>\n",
       "      <td>55</td>\n",
       "    </tr>\n",
       "  </tbody>\n",
       "</table>\n",
       "</div>"
      ],
      "text/plain": [
       "   Price  Seat Number  Flight Name  Arrival Station  Departure Station  \\\n",
       "0   5953            4            4                3                  6   \n",
       "1   5953            4            4                3                  6   \n",
       "2   5953            4            4                3                  6   \n",
       "3   5953            4            4                3                  6   \n",
       "4   5953            0            3                3                  6   \n",
       "\n",
       "   Number of Stops  Duration_Hours  Duration_Minutes  Dep_Hour  Dep_Minute  \\\n",
       "0                0        1.189207                10        12    7.071068   \n",
       "1                0        1.189207                20        22    6.324555   \n",
       "2                0        1.189207                 0        20    6.324555   \n",
       "3                0        1.189207                10        18    5.477226   \n",
       "4                0        1.189207                10         0   38.013156   \n",
       "\n",
       "   Arrival_Hour  Arrival_Minute  \n",
       "0            10              40  \n",
       "1            20              20  \n",
       "2            18              40  \n",
       "3            16              20  \n",
       "4            21              55  "
      ]
     },
     "execution_count": 106,
     "metadata": {},
     "output_type": "execute_result"
    }
   ],
   "source": [
    "df.head()"
   ]
  },
  {
   "cell_type": "code",
   "execution_count": 107,
   "metadata": {},
   "outputs": [
    {
     "data": {
      "text/plain": [
       "(1537, 12)"
      ]
     },
     "execution_count": 107,
     "metadata": {},
     "output_type": "execute_result"
    }
   ],
   "source": [
    "df.shape"
   ]
  },
  {
   "cell_type": "markdown",
   "metadata": {},
   "source": [
    "# Algorithms"
   ]
  },
  {
   "cell_type": "code",
   "execution_count": 108,
   "metadata": {},
   "outputs": [
    {
     "name": "stdout",
     "output_type": "stream",
     "text": [
      "0.38966214994519355\n",
      "error:\n",
      "Mean absolute error: 2769.0347493699946\n",
      "Mean squared error: 12484807.599357698\n",
      "Root Mean squared error: 3533.3847228058394\n",
      "0.35219728929702987\n",
      "error:\n",
      "Mean absolute error: 2614.7939561875896\n",
      "Mean squared error: 11116379.517191395\n",
      "Root Mean squared error: 3334.123500590732\n",
      "0.2947905247232335\n",
      "error:\n",
      "Mean absolute error: 2799.358348782049\n",
      "Mean squared error: 12702122.266206235\n",
      "Root Mean squared error: 3564.00368493163\n",
      "0.3474996241919206\n",
      "error:\n",
      "Mean absolute error: 2665.7803837961137\n",
      "Mean squared error: 11271582.58100595\n",
      "Root Mean squared error: 3357.317765866965\n",
      "0.39294070984758134\n",
      "error:\n",
      "Mean absolute error: 2687.352453642981\n",
      "Mean squared error: 11398638.783682114\n",
      "Root Mean squared error: 3376.187018469521\n",
      "0.35911127249741626\n",
      "error:\n",
      "Mean absolute error: 2652.5698583776625\n",
      "Mean squared error: 11798861.869486157\n",
      "Root Mean squared error: 3434.947142167716\n",
      "0.35893127421034055\n",
      "error:\n",
      "Mean absolute error: 2618.3422249879195\n",
      "Mean squared error: 11648797.574715255\n",
      "Root Mean squared error: 3413.0334857301436\n",
      "0.38997171224564775\n",
      "error:\n",
      "Mean absolute error: 2717.6056906590456\n",
      "Mean squared error: 12076010.000660457\n",
      "Root Mean squared error: 3475.0553953369517\n",
      "0.29769716848575256\n",
      "error:\n",
      "Mean absolute error: 2701.17643112285\n",
      "Mean squared error: 11857065.33496774\n",
      "Root Mean squared error: 3443.408970042295\n",
      "0.40913319825176153\n",
      "error:\n",
      "Mean absolute error: 2548.098382428239\n",
      "Mean squared error: 10547621.496113114\n",
      "Root Mean squared error: 3247.7101927532135\n",
      "0.39052573423799486\n",
      "error:\n",
      "Mean absolute error: 2677.1610834957423\n",
      "Mean squared error: 11329864.192858424\n",
      "Root Mean squared error: 3365.986362547897\n",
      "0.36402883419054144\n",
      "error:\n",
      "Mean absolute error: 2675.968004865978\n",
      "Mean squared error: 11369135.933608385\n",
      "Root Mean squared error: 3371.814931696042\n",
      "0.4049436301237438\n",
      "error:\n",
      "Mean absolute error: 2581.980790316345\n",
      "Mean squared error: 10616434.05997763\n",
      "Root Mean squared error: 3258.286982446087\n",
      "0.41200706200385107\n",
      "error:\n",
      "Mean absolute error: 2583.9031031666887\n",
      "Mean squared error: 10971559.27287089\n",
      "Root Mean squared error: 3312.3344144078947\n",
      "0.33837370785905363\n",
      "error:\n",
      "Mean absolute error: 2746.756113529381\n",
      "Mean squared error: 12566337.871522823\n",
      "Root Mean squared error: 3544.9030835162225\n",
      "0.3243039890579211\n",
      "error:\n",
      "Mean absolute error: 2851.6459080031987\n",
      "Mean squared error: 13102382.237443285\n",
      "Root Mean squared error: 3619.7212927853\n",
      "0.33573536759640266\n",
      "error:\n",
      "Mean absolute error: 2586.184130078506\n",
      "Mean squared error: 10998980.732464205\n",
      "Root Mean squared error: 3316.4711264330654\n",
      "0.38108221690205113\n",
      "error:\n",
      "Mean absolute error: 2567.3195714674666\n",
      "Mean squared error: 10595822.956458457\n",
      "Root Mean squared error: 3255.1225716489475\n",
      "0.35698439397448256\n",
      "error:\n",
      "Mean absolute error: 2654.947627952691\n",
      "Mean squared error: 11203143.97879076\n",
      "Root Mean squared error: 3347.1097948514866\n",
      "0.3213103218049558\n",
      "error:\n",
      "Mean absolute error: 2825.6742865160863\n",
      "Mean squared error: 12918299.896853777\n",
      "Root Mean squared error: 3594.203652668248\n",
      "0.4352225306876266\n",
      "error:\n",
      "Mean absolute error: 2622.2269475684616\n",
      "Mean squared error: 11205768.119095558\n",
      "Root Mean squared error: 3347.501772829338\n",
      "0.33710981587124045\n",
      "error:\n",
      "Mean absolute error: 2591.9364436019287\n",
      "Mean squared error: 10607072.739949744\n",
      "Root Mean squared error: 3256.850125496988\n",
      "0.36857223708450815\n",
      "error:\n",
      "Mean absolute error: 2712.783398755157\n",
      "Mean squared error: 11208793.797366772\n",
      "Root Mean squared error: 3347.9536731213548\n",
      "0.412471843703922\n",
      "error:\n",
      "Mean absolute error: 2404.955210768109\n",
      "Mean squared error: 9628570.282398542\n",
      "Root Mean squared error: 3102.993761256787\n",
      "0.31982616826349397\n",
      "error:\n",
      "Mean absolute error: 2691.811422947299\n",
      "Mean squared error: 11351379.94424027\n",
      "Root Mean squared error: 3369.1809010856437\n",
      "0.30335998176863865\n",
      "error:\n",
      "Mean absolute error: 2714.1451113009794\n",
      "Mean squared error: 11687471.638203802\n",
      "Root Mean squared error: 3418.6944347519275\n",
      "0.368804287743565\n",
      "error:\n",
      "Mean absolute error: 2846.7848007806356\n",
      "Mean squared error: 13056250.112318045\n",
      "Root Mean squared error: 3613.343342711573\n",
      "0.3504359565683002\n",
      "error:\n",
      "Mean absolute error: 2756.1983777012692\n",
      "Mean squared error: 12598120.060006386\n",
      "Root Mean squared error: 3549.3830534342706\n",
      "0.3386867160456031\n",
      "error:\n",
      "Mean absolute error: 2686.662974302295\n",
      "Mean squared error: 12056617.01158352\n",
      "Root Mean squared error: 3472.2639605282775\n",
      "0.41276372272224104\n",
      "error:\n",
      "Mean absolute error: 2658.67695002042\n",
      "Mean squared error: 11355822.470374318\n",
      "Root Mean squared error: 3369.8401253433844\n",
      "0.4163867631010494\n",
      "error:\n",
      "Mean absolute error: 2463.1224143762493\n",
      "Mean squared error: 9033307.684236743\n",
      "Root Mean squared error: 3005.5461540686315\n",
      "0.32767410529192564\n",
      "error:\n",
      "Mean absolute error: 2752.355569492136\n",
      "Mean squared error: 12025932.911640828\n",
      "Root Mean squared error: 3467.842688421842\n",
      "0.2843507753762019\n",
      "error:\n",
      "Mean absolute error: 2696.0738189634376\n",
      "Mean squared error: 12026612.482375447\n",
      "Root Mean squared error: 3467.9406688084277\n",
      "0.35191381430912705\n",
      "error:\n",
      "Mean absolute error: 2719.2423388073094\n",
      "Mean squared error: 11683444.131512638\n",
      "Root Mean squared error: 3418.105342366241\n",
      "0.2906228855062065\n",
      "error:\n",
      "Mean absolute error: 2683.3468373632745\n",
      "Mean squared error: 11816861.438555393\n",
      "Root Mean squared error: 3437.566208606809\n",
      "0.3050020753014375\n",
      "error:\n",
      "Mean absolute error: 2772.468701249079\n",
      "Mean squared error: 11863225.86505494\n",
      "Root Mean squared error: 3444.3033932937647\n",
      "0.306079211110983\n",
      "error:\n",
      "Mean absolute error: 2936.520100047212\n",
      "Mean squared error: 13046072.920685152\n",
      "Root Mean squared error: 3611.934789096441\n",
      "0.37595719772025094\n",
      "error:\n",
      "Mean absolute error: 2690.0958544453943\n",
      "Mean squared error: 11465701.828521663\n",
      "Root Mean squared error: 3386.104225879892\n",
      "0.3781607090457708\n",
      "error:\n",
      "Mean absolute error: 2573.103966046129\n",
      "Mean squared error: 10782001.457349231\n",
      "Root Mean squared error: 3283.5958121165327\n",
      "0.3930835372677731\n",
      "error:\n",
      "Mean absolute error: 2581.0791869707014\n",
      "Mean squared error: 10461611.283245118\n",
      "Root Mean squared error: 3234.4414175008824\n",
      "0.3016921529968529\n",
      "error:\n",
      "Mean absolute error: 2647.3367828142736\n",
      "Mean squared error: 10787032.88232557\n",
      "Root Mean squared error: 3284.361868358231\n",
      "0.3275511904859745\n",
      "error:\n",
      "Mean absolute error: 2623.9566165201823\n",
      "Mean squared error: 10608974.604445562\n",
      "Root Mean squared error: 3257.142091534473\n",
      "0.37076129108778755\n",
      "error:\n",
      "Mean absolute error: 2642.554107052252\n",
      "Mean squared error: 11327332.205362424\n",
      "Root Mean squared error: 3365.6102277837263\n",
      "0.42545414444279095\n",
      "error:\n",
      "Mean absolute error: 2551.9811717367606\n",
      "Mean squared error: 10191422.417954\n",
      "Root Mean squared error: 3192.400729537882\n",
      "0.3925842195685667\n",
      "error:\n",
      "Mean absolute error: 2635.908994417979\n",
      "Mean squared error: 11315507.95248306\n",
      "Root Mean squared error: 3363.853140742482\n",
      "0.3988516390920297\n",
      "error:\n",
      "Mean absolute error: 2597.1916383664684\n",
      "Mean squared error: 10885117.682212614\n",
      "Root Mean squared error: 3299.260171949556\n",
      "0.29854489398930617\n",
      "error:\n",
      "Mean absolute error: 2745.7721501594297\n",
      "Mean squared error: 11989412.641977811\n",
      "Root Mean squared error: 3462.5731244231956\n",
      "0.3566941776536172\n",
      "error:\n",
      "Mean absolute error: 2795.609162845279\n",
      "Mean squared error: 13068149.624806711\n",
      "Root Mean squared error: 3614.9895746470297\n",
      "0.31994132913276163\n",
      "error:\n",
      "Mean absolute error: 2783.121648869247\n",
      "Mean squared error: 13029451.371746603\n",
      "Root Mean squared error: 3609.6331353402943\n",
      "0.38544353828090594\n",
      "error:\n",
      "Mean absolute error: 2610.1113225161353\n",
      "Mean squared error: 11259925.58761752\n",
      "Root Mean squared error: 3355.581259277969\n",
      "0.3800849191984571\n",
      "error:\n",
      "Mean absolute error: 2595.279287733803\n",
      "Mean squared error: 10810437.350287106\n",
      "Root Mean squared error: 3287.9229538246645\n",
      "0.41721201788377005\n",
      "error:\n",
      "Mean absolute error: 2495.587722605111\n",
      "Mean squared error: 10138210.232444901\n",
      "Root Mean squared error: 3184.055626468373\n",
      "0.3587508354152231\n",
      "error:\n",
      "Mean absolute error: 2708.6489972878812\n",
      "Mean squared error: 11838833.389739886\n",
      "Root Mean squared error: 3440.7605830310085\n",
      "0.3936621715479226\n",
      "error:\n",
      "Mean absolute error: 2658.3583124920406\n",
      "Mean squared error: 10545463.272467813\n",
      "Root Mean squared error: 3247.377907245754\n",
      "0.3746783153706337\n",
      "error:\n",
      "Mean absolute error: 2621.8635155611514\n",
      "Mean squared error: 11367840.307827812\n",
      "Root Mean squared error: 3371.622800348196\n",
      "0.3932201909792994\n",
      "error:\n",
      "Mean absolute error: 2653.6965008892203\n",
      "Mean squared error: 11865416.954398686\n",
      "Root Mean squared error: 3444.6214529899635\n",
      "0.31201084015443836\n",
      "error:\n",
      "Mean absolute error: 2617.7429710469432\n",
      "Mean squared error: 11939237.630162504\n",
      "Root Mean squared error: 3455.3201921330683\n",
      "0.3815044429686648\n",
      "error:\n",
      "Mean absolute error: 2647.473255231046\n",
      "Mean squared error: 10720829.174980773\n",
      "Root Mean squared error: 3274.2677311088614\n",
      "0.40847987303337074\n",
      "error:\n",
      "Mean absolute error: 2380.621246916509\n",
      "Mean squared error: 9523907.459068125\n",
      "Root Mean squared error: 3086.0828665264526\n",
      "0.30123437202740044\n",
      "error:\n",
      "Mean absolute error: 2675.0856188935927\n",
      "Mean squared error: 12381464.064886035\n",
      "Root Mean squared error: 3518.7304620965265\n",
      "0.34976175245577157\n",
      "error:\n",
      "Mean absolute error: 2651.2485989345364\n",
      "Mean squared error: 11358577.723855983\n",
      "Root Mean squared error: 3370.248911261004\n",
      "0.35741958685522834\n",
      "error:\n",
      "Mean absolute error: 2673.0165052406755\n",
      "Mean squared error: 11376594.572841126\n",
      "Root Mean squared error: 3372.9207777297597\n",
      "0.3511121854427579\n",
      "error:\n",
      "Mean absolute error: 2506.055313267803\n",
      "Mean squared error: 10388057.08728313\n",
      "Root Mean squared error: 3223.050897408096\n",
      "0.34826995003565997\n",
      "error:\n",
      "Mean absolute error: 2663.9158248067197\n",
      "Mean squared error: 11543997.870414885\n",
      "Root Mean squared error: 3397.6459307018567\n",
      "0.3886490777058367\n",
      "error:\n",
      "Mean absolute error: 2698.583793622114\n",
      "Mean squared error: 11758057.80584445\n",
      "Root Mean squared error: 3429.002450545122\n",
      "0.34232704390026114\n",
      "error:\n",
      "Mean absolute error: 2811.4125733548763\n",
      "Mean squared error: 11652171.395134797\n",
      "Root Mean squared error: 3413.5277053416157\n",
      "0.38403125617381373\n",
      "error:\n",
      "Mean absolute error: 2687.4954669278363\n",
      "Mean squared error: 11607268.601383287\n",
      "Root Mean squared error: 3406.944173505531\n",
      "0.35744003356989473\n",
      "error:\n",
      "Mean absolute error: 2656.5319082049077\n",
      "Mean squared error: 10979357.977462582\n",
      "Root Mean squared error: 3313.511427090992\n",
      "0.3146739854723175\n",
      "error:\n",
      "Mean absolute error: 2545.9035239869\n",
      "Mean squared error: 10080907.87164\n",
      "Root Mean squared error: 3175.0445464024597\n",
      "0.34362546732409316\n",
      "error:\n",
      "Mean absolute error: 2704.2568383311554\n",
      "Mean squared error: 11716261.073076757\n",
      "Root Mean squared error: 3422.9024340574997\n",
      "0.3729599521398741\n",
      "error:\n",
      "Mean absolute error: 2659.6006919723354\n",
      "Mean squared error: 11199507.50710936\n",
      "Root Mean squared error: 3346.5665251283085\n",
      "0.35881684262414826\n",
      "error:\n",
      "Mean absolute error: 2614.9008881186714\n",
      "Mean squared error: 10492980.192268908\n",
      "Root Mean squared error: 3239.286988253574\n",
      "0.3642694130732448\n",
      "error:\n",
      "Mean absolute error: 2600.2102863865543\n",
      "Mean squared error: 10864181.133913904\n",
      "Root Mean squared error: 3296.0857291511556\n",
      "0.2577698899517008\n",
      "error:\n",
      "Mean absolute error: 2663.947362492713\n",
      "Mean squared error: 10973178.467777887\n",
      "Root Mean squared error: 3312.5788243871098\n",
      "0.4020660746959478\n",
      "error:\n",
      "Mean absolute error: 2665.1242613329678\n",
      "Mean squared error: 11570695.488651704\n",
      "Root Mean squared error: 3401.572502336486\n",
      "0.33670114663693573\n",
      "error:\n",
      "Mean absolute error: 2583.614578661891\n",
      "Mean squared error: 10489772.039892536\n",
      "Root Mean squared error: 3238.7917561789204\n",
      "0.31500107796388643\n",
      "error:\n",
      "Mean absolute error: 2794.827223639751\n",
      "Mean squared error: 11881879.783353759\n",
      "Root Mean squared error: 3447.010267369936\n",
      "0.3022722832579844\n",
      "error:\n",
      "Mean absolute error: 2797.911073166885\n",
      "Mean squared error: 12288603.82822894\n",
      "Root Mean squared error: 3505.5104946682072\n",
      "0.32754837276105375\n",
      "error:\n",
      "Mean absolute error: 2635.542700434682\n",
      "Mean squared error: 10874324.289870298\n",
      "Root Mean squared error: 3297.6240370712817\n",
      "0.28851841329447925\n",
      "error:\n",
      "Mean absolute error: 2806.404918895321\n",
      "Mean squared error: 12440666.61868822\n",
      "Root Mean squared error: 3527.1329176383783\n",
      "0.35119888231177954\n",
      "error:\n",
      "Mean absolute error: 2622.140008632722\n",
      "Mean squared error: 11926017.700382099\n",
      "Root Mean squared error: 3453.4066804218264\n",
      "0.37150302282041614\n",
      "error:\n",
      "Mean absolute error: 2634.8408314376775\n",
      "Mean squared error: 10693718.087286921\n",
      "Root Mean squared error: 3270.1250874067373\n",
      "0.34189023452673717\n",
      "error:\n",
      "Mean absolute error: 2557.9365607838627\n",
      "Mean squared error: 10267215.37215496\n",
      "Root Mean squared error: 3204.2495801911186\n",
      "0.37688359739810917\n",
      "error:\n",
      "Mean absolute error: 2649.287905916652\n",
      "Mean squared error: 11189328.041085146\n",
      "Root Mean squared error: 3345.0452973143947\n",
      "0.3534322577083093\n",
      "error:\n",
      "Mean absolute error: 2586.192644411294\n",
      "Mean squared error: 10933910.425559524\n",
      "Root Mean squared error: 3306.6464016522123\n",
      "0.32094150653480025\n",
      "error:\n",
      "Mean absolute error: 2740.415976541561\n",
      "Mean squared error: 12733935.209851392\n",
      "Root Mean squared error: 3568.4639846650257\n",
      "0.3636743318962896\n",
      "error:\n",
      "Mean absolute error: 2737.516760687527\n",
      "Mean squared error: 11789302.17566709\n",
      "Root Mean squared error: 3433.555325849154\n",
      "0.37090551736465105\n",
      "error:\n",
      "Mean absolute error: 2654.4247670510995\n",
      "Mean squared error: 11380208.370275639\n",
      "Root Mean squared error: 3373.45644262315\n",
      "0.4005330177822932\n",
      "error:\n",
      "Mean absolute error: 2535.996093051085\n",
      "Mean squared error: 10133515.491913598\n",
      "Root Mean squared error: 3183.318314575782\n",
      "0.3604662328940662\n",
      "error:\n",
      "Mean absolute error: 2638.32503922675\n",
      "Mean squared error: 11169270.125023102\n",
      "Root Mean squared error: 3342.045799360491\n",
      "0.3906770485380765\n",
      "error:\n",
      "Mean absolute error: 2679.6497130731345\n",
      "Mean squared error: 12338852.840526046\n",
      "Root Mean squared error: 3512.670329041148\n",
      "0.4017316638230697\n",
      "error:\n",
      "Mean absolute error: 2622.8862364303764\n",
      "Mean squared error: 11014626.838276068\n",
      "Root Mean squared error: 3318.829136649862\n",
      "0.40416921208092027\n",
      "error:\n",
      "Mean absolute error: 2679.4629972691196\n",
      "Mean squared error: 11042212.609076273\n",
      "Root Mean squared error: 3322.9824870252132\n",
      "0.2982833174671168\n",
      "error:\n",
      "Mean absolute error: 2726.768722814597\n",
      "Mean squared error: 11921992.97485686\n",
      "Root Mean squared error: 3452.8239130973448\n",
      "0.332726581976569\n",
      "error:\n",
      "Mean absolute error: 2697.4456785345988\n",
      "Mean squared error: 12059311.449818704\n",
      "Root Mean squared error: 3472.6519332951734\n",
      "0.42812047643004414\n",
      "error:\n",
      "Mean absolute error: 2576.7046725689042\n",
      "Mean squared error: 10684337.934816483\n",
      "Root Mean squared error: 3268.690553542272\n",
      "0.34227681855706094\n",
      "error:\n",
      "Mean absolute error: 2715.0279923664834\n",
      "Mean squared error: 12112268.973165412\n",
      "Root Mean squared error: 3480.2685202675684\n",
      "0.3774132596755517\n",
      "error:\n",
      "Mean absolute error: 2519.663334226708\n",
      "Mean squared error: 10359764.59793244\n",
      "Root Mean squared error: 3218.658819746579\n",
      "0.3226835628471687\n",
      "error:\n",
      "Mean absolute error: 2706.138206320125\n",
      "Mean squared error: 12851901.97134459\n",
      "Root Mean squared error: 3584.954946905831\n",
      "0.3255646939445008\n",
      "error:\n",
      "Mean absolute error: 2633.5356264561783\n",
      "Mean squared error: 10558623.757563993\n",
      "Root Mean squared error: 3249.4036002879043\n",
      "0.3745017134656502\n",
      "error:\n",
      "Mean absolute error: 2722.7273749895808\n",
      "Mean squared error: 12007289.06802903\n",
      "Root Mean squared error: 3465.1535417682476\n",
      "0.36661471287986913\n",
      "error:\n",
      "Mean absolute error: 2634.9700705675373\n",
      "Mean squared error: 11005242.691714434\n",
      "Root Mean squared error: 3317.4150617181494\n",
      "0.3813247917515399\n",
      "error:\n",
      "Mean absolute error: 2708.3100781104704\n",
      "Mean squared error: 11336434.305771265\n",
      "Root Mean squared error: 3366.962177656777\n",
      "0.38973013611288476\n",
      "error:\n",
      "Mean absolute error: 2623.82046501214\n",
      "Mean squared error: 11426019.137043674\n",
      "Root Mean squared error: 3380.2395088282833\n",
      "0.33285554639937087\n",
      "error:\n",
      "Mean absolute error: 2643.4492460484307\n",
      "Mean squared error: 10493063.426784523\n",
      "Root Mean squared error: 3239.299835888077\n",
      "0.3931220254892327\n",
      "error:\n",
      "Mean absolute error: 2531.2591099756746\n",
      "Mean squared error: 9944858.85250375\n",
      "Root Mean squared error: 3153.5470271590607\n",
      "0.363223508403657\n",
      "error:\n",
      "Mean absolute error: 2722.643517825282\n",
      "Mean squared error: 11834761.0142927\n",
      "Root Mean squared error: 3440.168747938493\n",
      "0.3303801748810672\n",
      "error:\n",
      "Mean absolute error: 2629.5045772824915\n",
      "Mean squared error: 10979419.611078713\n",
      "Root Mean squared error: 3313.520727425545\n",
      "0.3286665224815375\n",
      "error:\n",
      "Mean absolute error: 2756.597793218477\n",
      "Mean squared error: 12309753.730281942\n",
      "Root Mean squared error: 3508.525862849231\n",
      "0.3765346409281024\n",
      "error:\n",
      "Mean absolute error: 2595.7906695696497\n",
      "Mean squared error: 11154266.779780503\n",
      "Root Mean squared error: 3339.8004101713177\n",
      "0.3845719543482191\n",
      "error:\n",
      "Mean absolute error: 2709.4025064666052\n",
      "Mean squared error: 11371306.337761495\n",
      "Root Mean squared error: 3372.136761426128\n",
      "0.3736421831063992\n",
      "error:\n",
      "Mean absolute error: 2616.4197373303614\n",
      "Mean squared error: 11149811.442744333\n",
      "Root Mean squared error: 3339.1333370718116\n",
      "0.33674094832623114\n",
      "error:\n",
      "Mean absolute error: 2739.656265505804\n",
      "Mean squared error: 11959670.84437599\n",
      "Root Mean squared error: 3458.2757039276075\n",
      "0.3623755952934602\n",
      "error:\n",
      "Mean absolute error: 2814.2236194651673\n",
      "Mean squared error: 12217056.386279635\n",
      "Root Mean squared error: 3495.290601120261\n",
      "0.28753292229346683\n",
      "error:\n",
      "Mean absolute error: 2785.4008348075254\n",
      "Mean squared error: 12438574.635610668\n",
      "Root Mean squared error: 3526.836349422903\n",
      "0.3789432825960618\n",
      "error:\n",
      "Mean absolute error: 2625.614227662863\n",
      "Mean squared error: 11026406.768974002\n",
      "Root Mean squared error: 3320.6033742339664\n",
      "0.33575275640568836\n",
      "error:\n",
      "Mean absolute error: 2779.273508959976\n",
      "Mean squared error: 12019592.864564383\n",
      "Root Mean squared error: 3466.928448146051\n",
      "0.36402326803698004\n",
      "error:\n",
      "Mean absolute error: 2478.163130445599\n",
      "Mean squared error: 9782994.565948058\n",
      "Root Mean squared error: 3127.777895878807\n",
      "0.355514988352986\n",
      "error:\n",
      "Mean absolute error: 2498.2443609881625\n",
      "Mean squared error: 10475562.549045049\n",
      "Root Mean squared error: 3236.597372093886\n",
      "0.3533019499942831\n",
      "error:\n",
      "Mean absolute error: 2727.700162620861\n",
      "Mean squared error: 12067956.568021348\n",
      "Root Mean squared error: 3473.896453267044\n",
      "0.29772822584518754\n",
      "error:\n",
      "Mean absolute error: 2617.9173411955985\n",
      "Mean squared error: 11216366.00519211\n",
      "Root Mean squared error: 3349.0843532512154\n",
      "0.39880409047425047\n",
      "error:\n",
      "Mean absolute error: 2637.0293040012957\n",
      "Mean squared error: 11060887.487727992\n",
      "Root Mean squared error: 3325.791257389434\n",
      "0.3912900584725032\n",
      "error:\n",
      "Mean absolute error: 2727.192530910992\n",
      "Mean squared error: 11974008.232188433\n",
      "Root Mean squared error: 3460.3479929319874\n",
      "0.3532117949429282\n",
      "error:\n",
      "Mean absolute error: 2642.9416060702097\n",
      "Mean squared error: 11000042.144245552\n",
      "Root Mean squared error: 3316.6311438333855\n",
      "0.35756079422472165\n",
      "error:\n",
      "Mean absolute error: 2651.579858301835\n",
      "Mean squared error: 11547403.57257386\n",
      "Root Mean squared error: 3398.147079302757\n",
      "0.3304480615091171\n",
      "error:\n",
      "Mean absolute error: 2767.5957735285024\n",
      "Mean squared error: 11825647.827888835\n",
      "Root Mean squared error: 3438.843966784308\n",
      "0.36159525041046003\n",
      "error:\n",
      "Mean absolute error: 2788.562079643534\n",
      "Mean squared error: 11966405.042606063\n",
      "Root Mean squared error: 3459.2492021544303\n",
      "0.31940883520257124\n",
      "error:\n",
      "Mean absolute error: 2631.12198077367\n",
      "Mean squared error: 10400407.34363535\n",
      "Root Mean squared error: 3224.966254650636\n",
      "0.3485476503891648\n",
      "error:\n",
      "Mean absolute error: 2667.0232450423523\n",
      "Mean squared error: 11823014.224802027\n",
      "Root Mean squared error: 3438.46102563371\n",
      "0.3627750469177715\n",
      "error:\n",
      "Mean absolute error: 2613.969889766816\n",
      "Mean squared error: 10453560.107352678\n",
      "Root Mean squared error: 3233.196577282717\n",
      "0.2379347235964392\n",
      "error:\n",
      "Mean absolute error: 2675.114655461099\n",
      "Mean squared error: 11201497.456067538\n",
      "Root Mean squared error: 3346.8638239503466\n",
      "0.38492791017577765\n",
      "error:\n",
      "Mean absolute error: 2687.6585279898104\n",
      "Mean squared error: 12233243.98343615\n",
      "Root Mean squared error: 3497.605464233516\n",
      "0.33344296403102736\n",
      "error:\n",
      "Mean absolute error: 2624.781861492351\n",
      "Mean squared error: 10967929.76549612\n",
      "Root Mean squared error: 3311.7864915323453\n",
      "0.3314074598800856\n",
      "error:\n",
      "Mean absolute error: 2651.7655037424283\n",
      "Mean squared error: 10768088.957636183\n",
      "Root Mean squared error: 3281.4766428600683\n",
      "0.3940664104001389\n",
      "error:\n",
      "Mean absolute error: 2661.91816143847\n",
      "Mean squared error: 12033633.678482013\n",
      "Root Mean squared error: 3468.9528215993387\n",
      "0.3701274955909263\n",
      "error:\n",
      "Mean absolute error: 2675.899050389742\n",
      "Mean squared error: 11655820.695666919\n",
      "Root Mean squared error: 3414.062198564478\n",
      "0.3832417812252943\n",
      "error:\n",
      "Mean absolute error: 2703.510365628647\n",
      "Mean squared error: 11593622.43135765\n",
      "Root Mean squared error: 3404.940885148764\n",
      "0.36340910065072074\n",
      "error:\n",
      "Mean absolute error: 2576.1305803285036\n",
      "Mean squared error: 10882205.076538445\n",
      "Root Mean squared error: 3298.8187395700365\n",
      "0.303149209291638\n",
      "error:\n",
      "Mean absolute error: 2833.34176239676\n",
      "Mean squared error: 13113630.895156365\n",
      "Root Mean squared error: 3621.2747610691413\n",
      "0.34236453508390585\n",
      "error:\n",
      "Mean absolute error: 2617.5692408077925\n",
      "Mean squared error: 11614694.378442695\n",
      "Root Mean squared error: 3408.033799486545\n",
      "0.32966917381083616\n",
      "error:\n",
      "Mean absolute error: 2750.748712506705\n",
      "Mean squared error: 12407159.243973335\n",
      "Root Mean squared error: 3522.3797699812744\n",
      "0.3520829628552786\n",
      "error:\n",
      "Mean absolute error: 2628.9444429279715\n",
      "Mean squared error: 10883301.721950565\n",
      "Root Mean squared error: 3298.984953277381\n",
      "0.35130703803479113\n",
      "error:\n",
      "Mean absolute error: 2533.721920000595\n",
      "Mean squared error: 10271776.751050884\n",
      "Root Mean squared error: 3204.961271380808\n",
      "0.31732993930270015\n",
      "error:\n",
      "Mean absolute error: 2586.9214967062853\n",
      "Mean squared error: 10604830.44910307\n",
      "Root Mean squared error: 3256.5058650496962\n",
      "0.3547642580386091\n",
      "error:\n",
      "Mean absolute error: 2676.1884017030793\n",
      "Mean squared error: 11627071.086542983\n",
      "Root Mean squared error: 3409.8491295866716\n",
      "0.348902351141157\n",
      "error:\n",
      "Mean absolute error: 2812.5465870933554\n",
      "Mean squared error: 12108943.508362575\n",
      "Root Mean squared error: 3479.790727667768\n",
      "0.2965204339888551\n",
      "error:\n",
      "Mean absolute error: 2725.9418746409924\n",
      "Mean squared error: 11484216.12261324\n",
      "Root Mean squared error: 3388.8369867276356\n",
      "0.349825547885402\n",
      "error:\n",
      "Mean absolute error: 2540.436358687764\n",
      "Mean squared error: 10602851.123346325\n",
      "Root Mean squared error: 3256.201947568106\n",
      "0.31203362901537335\n",
      "error:\n",
      "Mean absolute error: 2740.637792203056\n",
      "Mean squared error: 12278215.400750715\n",
      "Root Mean squared error: 3504.028453187947\n",
      "0.3670046860778109\n",
      "error:\n",
      "Mean absolute error: 2548.9569680882723\n",
      "Mean squared error: 10825400.605292594\n",
      "Root Mean squared error: 3290.1976544415375\n",
      "0.3332093862414963\n",
      "error:\n",
      "Mean absolute error: 2702.4619053621554\n",
      "Mean squared error: 11162628.688050445\n",
      "Root Mean squared error: 3341.052033125262\n",
      "0.4224634512665634\n",
      "error:\n",
      "Mean absolute error: 2392.7759897986757\n",
      "Mean squared error: 9477937.401986385\n",
      "Root Mean squared error: 3078.6258951009922\n",
      "0.3623055497543992\n",
      "error:\n",
      "Mean absolute error: 2780.5010051723207\n",
      "Mean squared error: 12290320.828909338\n",
      "Root Mean squared error: 3505.7553863481885\n",
      "0.389563731303743\n",
      "error:\n",
      "Mean absolute error: 2572.5882298107945\n",
      "Mean squared error: 10754221.156465286\n",
      "Root Mean squared error: 3279.362919297784\n",
      "0.3689613583488811\n",
      "error:\n",
      "Mean absolute error: 2472.0607603836397\n",
      "Mean squared error: 9823130.441736335\n",
      "Root Mean squared error: 3134.1873654483925\n",
      "0.39945832079669075\n",
      "error:\n",
      "Mean absolute error: 2545.46654681247\n",
      "Mean squared error: 10957439.622191373\n",
      "Root Mean squared error: 3310.2023536622914\n",
      "0.4270953198619377\n",
      "error:\n",
      "Mean absolute error: 2545.1268423482784\n",
      "Mean squared error: 9895940.564185929\n",
      "Root Mean squared error: 3145.781391671381\n",
      "0.4191050818451102\n",
      "error:\n",
      "Mean absolute error: 2487.6703363625656\n",
      "Mean squared error: 9942971.41122769\n",
      "Root Mean squared error: 3153.2477560806556\n",
      "0.2868366076576143\n",
      "error:\n",
      "Mean absolute error: 2875.4068705988216\n",
      "Mean squared error: 13115570.562818581\n",
      "Root Mean squared error: 3621.5425667550257\n",
      "0.31454401198235393\n",
      "error:\n",
      "Mean absolute error: 2712.5487840978044\n",
      "Mean squared error: 11865249.682278285\n",
      "Root Mean squared error: 3444.597172715307\n",
      "0.35748541245387966\n",
      "error:\n",
      "Mean absolute error: 2607.3926161710438\n",
      "Mean squared error: 10589045.457439125\n",
      "Root Mean squared error: 3254.081353844603\n",
      "0.3586933608481422\n",
      "error:\n",
      "Mean absolute error: 2750.933883625344\n",
      "Mean squared error: 12276494.360330544\n",
      "Root Mean squared error: 3503.7828643240073\n",
      "0.34375338514094367\n",
      "error:\n",
      "Mean absolute error: 2514.351835244304\n",
      "Mean squared error: 10048043.030083794\n",
      "Root Mean squared error: 3169.8648283615807\n",
      "0.3843427209132203\n",
      "error:\n",
      "Mean absolute error: 2585.442200781721\n",
      "Mean squared error: 10434794.82145896\n",
      "Root Mean squared error: 3230.2933026985274\n",
      "0.32149805468452664\n",
      "error:\n",
      "Mean absolute error: 2662.695565113495\n",
      "Mean squared error: 12126001.474321466\n",
      "Root Mean squared error: 3482.2408696587127\n",
      "0.37065106744305054\n",
      "error:\n",
      "Mean absolute error: 2803.0188054234245\n",
      "Mean squared error: 12385754.581450598\n",
      "Root Mean squared error: 3519.3400775501364\n",
      "0.415609019050753\n",
      "error:\n",
      "Mean absolute error: 2676.0754976489\n",
      "Mean squared error: 11213967.092032453\n",
      "Root Mean squared error: 3348.726189468535\n",
      "0.3825713666091476\n",
      "error:\n",
      "Mean absolute error: 2655.2500679016116\n",
      "Mean squared error: 10789060.009779744\n",
      "Root Mean squared error: 3284.6704568007644\n",
      "0.40354520797727944\n",
      "error:\n",
      "Mean absolute error: 2534.147507927162\n",
      "Mean squared error: 10379955.195181718\n",
      "Root Mean squared error: 3221.793785328558\n",
      "0.36941490012973865\n",
      "error:\n",
      "Mean absolute error: 2587.0348479757854\n",
      "Mean squared error: 10685283.164559137\n",
      "Root Mean squared error: 3268.8351387855487\n",
      "0.3766965628515194\n",
      "error:\n",
      "Mean absolute error: 2750.8215808264404\n",
      "Mean squared error: 11976877.674910275\n",
      "Root Mean squared error: 3460.76258574758\n",
      "0.3180719011440156\n",
      "error:\n",
      "Mean absolute error: 2707.5388326368557\n",
      "Mean squared error: 11343207.178442948\n",
      "Root Mean squared error: 3367.9678113727496\n",
      "0.35920462419337806\n",
      "error:\n",
      "Mean absolute error: 2618.4032770390163\n",
      "Mean squared error: 10394724.143251672\n",
      "Root Mean squared error: 3224.085008688771\n",
      "0.4089554737361666\n",
      "error:\n",
      "Mean absolute error: 2494.550019429272\n",
      "Mean squared error: 9613988.889872981\n",
      "Root Mean squared error: 3100.643302586252\n",
      "0.28251081165338776\n",
      "error:\n",
      "Mean absolute error: 2837.324897628115\n",
      "Mean squared error: 12888906.350222256\n",
      "Root Mean squared error: 3590.1123032883324\n",
      "0.30642605205600626\n",
      "error:\n",
      "Mean absolute error: 2714.8207290917335\n",
      "Mean squared error: 12073238.884805582\n",
      "Root Mean squared error: 3474.65665711097\n",
      "0.34399080519102965\n",
      "error:\n",
      "Mean absolute error: 2791.5981138629722\n",
      "Mean squared error: 11951201.14182584\n",
      "Root Mean squared error: 3457.050931332346\n",
      "0.3733646868793178\n",
      "error:\n",
      "Mean absolute error: 2523.406379891416\n",
      "Mean squared error: 10187104.755754331\n",
      "Root Mean squared error: 3191.724417263234\n",
      "0.38734487472199\n",
      "error:\n",
      "Mean absolute error: 2699.1559063292666\n",
      "Mean squared error: 11546244.385882404\n",
      "Root Mean squared error: 3397.976513438903\n",
      "0.3491191578390852\n",
      "error:\n",
      "Mean absolute error: 2605.525116258555\n",
      "Mean squared error: 11471067.886730699\n",
      "Root Mean squared error: 3386.896497788307\n",
      "0.3770259756015337\n",
      "error:\n",
      "Mean absolute error: 2740.339079398509\n",
      "Mean squared error: 12278683.513830096\n",
      "Root Mean squared error: 3504.095248966571\n",
      "0.30672226877095354\n",
      "error:\n",
      "Mean absolute error: 2846.136945561957\n",
      "Mean squared error: 12359874.88142067\n",
      "Root Mean squared error: 3515.661371836126\n",
      "0.3217370242930474\n",
      "error:\n",
      "Mean absolute error: 2818.9095509877516\n",
      "Mean squared error: 12838947.792978242\n",
      "Root Mean squared error: 3583.147749253196\n",
      "0.3573589153414227\n",
      "error:\n",
      "Mean absolute error: 2568.48546959409\n",
      "Mean squared error: 10873009.07185682\n",
      "Root Mean squared error: 3297.424612005075\n",
      "0.3679197168368946\n",
      "error:\n",
      "Mean absolute error: 2707.903742139997\n",
      "Mean squared error: 12184064.509937348\n",
      "Root Mean squared error: 3490.5679351557314\n",
      "0.3125450794679935\n",
      "error:\n",
      "Mean absolute error: 2711.3193718679718\n",
      "Mean squared error: 11874397.58385954\n",
      "Root Mean squared error: 3445.9247791934663\n",
      "0.3861978901759682\n",
      "error:\n",
      "Mean absolute error: 2760.916930795868\n",
      "Mean squared error: 11777024.058513949\n",
      "Root Mean squared error: 3431.7669003756578\n",
      "0.346347332523374\n",
      "error:\n",
      "Mean absolute error: 2713.178763985035\n",
      "Mean squared error: 11638709.236213438\n",
      "Root Mean squared error: 3411.555251818947\n",
      "0.3393131116066508\n",
      "error:\n",
      "Mean absolute error: 2757.1368358290547\n",
      "Mean squared error: 11837515.370798882\n",
      "Root Mean squared error: 3440.5690475267143\n",
      "0.31900523275876946\n",
      "error:\n",
      "Mean absolute error: 2782.7444012011288\n",
      "Mean squared error: 12123943.406881372\n",
      "Root Mean squared error: 3481.9453480606744\n",
      "0.36901481188880025\n",
      "error:\n",
      "Mean absolute error: 2643.7563540343804\n",
      "Mean squared error: 11362166.360254284\n",
      "Root Mean squared error: 3370.781268527266\n",
      "0.40415609346097026\n",
      "error:\n",
      "Mean absolute error: 2612.968927855626\n",
      "Mean squared error: 11465849.475991504\n",
      "Root Mean squared error: 3386.1260277773927\n",
      "0.3008119892757415\n",
      "error:\n",
      "Mean absolute error: 2893.0569632624806\n",
      "Mean squared error: 13222459.162292885\n",
      "Root Mean squared error: 3636.2699517902797\n",
      "0.3188023074289812\n",
      "error:\n",
      "Mean absolute error: 2831.3905543290243\n",
      "Mean squared error: 13156896.43684611\n",
      "Root Mean squared error: 3627.2436417817466\n",
      "0.3952346845672301\n",
      "error:\n",
      "Mean absolute error: 2539.710146820322\n",
      "Mean squared error: 10120870.710468348\n",
      "Root Mean squared error: 3181.33159391918\n",
      "0.35112872741263457\n",
      "error:\n",
      "Mean absolute error: 2851.527216542455\n",
      "Mean squared error: 12708145.147211492\n",
      "Root Mean squared error: 3564.848544778795\n",
      "0.2668672574733507\n",
      "error:\n",
      "Mean absolute error: 2777.4197551481693\n",
      "Mean squared error: 13006967.152056351\n",
      "Root Mean squared error: 3606.517316200818\n",
      "0.3743904875037578\n",
      "error:\n",
      "Mean absolute error: 2568.219768621979\n",
      "Mean squared error: 10835689.98107508\n",
      "Root Mean squared error: 3291.7609240458337\n",
      "0.36774657043264514\n",
      "error:\n",
      "Mean absolute error: 2701.7547968309214\n",
      "Mean squared error: 11227181.79560186\n",
      "Root Mean squared error: 3350.698702599483\n",
      "Best accuracy is 0.4352225306876266 on Random_state 21\n"
     ]
    }
   ],
   "source": [
    "from sklearn.model_selection import train_test_split\n",
    "maxAccu=0\n",
    "maxRS=0\n",
    "for i in range(1,200):\n",
    "    x_train,x_test,y_train,y_test=train_test_split(x,y,test_size=0.22,random_state=i)\n",
    "    lm=LinearRegression()\n",
    "    lm.fit(x_train,y_train)\n",
    "    pred=lm.predict(x_test)\n",
    "    r2score=r2_score(y_test,pred)\n",
    "    print(r2_score(y_test,pred))\n",
    "    print('error:')\n",
    "    print('Mean absolute error:',mean_absolute_error(y_test,pred))\n",
    "    print('Mean squared error:',mean_squared_error(y_test,pred))\n",
    "    print('Root Mean squared error:',np.sqrt(mean_squared_error(y_test,pred)))\n",
    "    if r2score>maxAccu:\n",
    "        maxAccu=r2score\n",
    "        maxRS=i\n",
    "        \n",
    "print(\"Best accuracy is\",maxAccu,\"on Random_state\",maxRS)"
   ]
  },
  {
   "cell_type": "code",
   "execution_count": 109,
   "metadata": {},
   "outputs": [],
   "source": [
    "#splitting the data into training and testing\n",
    "x_train,x_test,y_train,y_test=train_test_split(x,y,test_size=0.22,random_state=21)"
   ]
  },
  {
   "cell_type": "code",
   "execution_count": 110,
   "metadata": {},
   "outputs": [
    {
     "name": "stdout",
     "output_type": "stream",
     "text": [
      "(1198, 11) (339, 11)\n"
     ]
    }
   ],
   "source": [
    "#checking the shape of training and testing data\n",
    "print(x_train.shape,x_test.shape)"
   ]
  },
  {
   "cell_type": "code",
   "execution_count": 111,
   "metadata": {},
   "outputs": [
    {
     "name": "stdout",
     "output_type": "stream",
     "text": [
      "(1198,) (339,)\n"
     ]
    }
   ],
   "source": [
    "print(y_train.shape,y_test.shape)"
   ]
  },
  {
   "cell_type": "code",
   "execution_count": 112,
   "metadata": {},
   "outputs": [],
   "source": [
    "from sklearn.linear_model import Lasso,Ridge,ElasticNet\n",
    "from sklearn.ensemble import RandomForestRegressor\n",
    "from sklearn.ensemble import AdaBoostRegressor"
   ]
  },
  {
   "cell_type": "code",
   "execution_count": 113,
   "metadata": {},
   "outputs": [
    {
     "name": "stdout",
     "output_type": "stream",
     "text": [
      "score of LinearRegression() is: 0.3453619222465406\n",
      "Mean absolute error: 2622.2269475684616\n",
      "Mean squared error: 11205768.119095558\n",
      "Root Mean squared error: 3347.501772829338\n",
      "r2_score: 0.4352225306876266\n",
      "**********************************\n",
      "\n",
      "\n",
      "score of Lasso() is: 0.3453581453888024\n",
      "Mean absolute error: 2622.6038686358015\n",
      "Mean squared error: 11212099.319068462\n",
      "Root Mean squared error: 3348.4472997299004\n",
      "r2_score: 0.43490343439182577\n",
      "**********************************\n",
      "\n",
      "\n",
      "score of Ridge() is: 0.3453616811947976\n",
      "Mean absolute error: 2622.517469268043\n",
      "Mean squared error: 11207741.171827365\n",
      "Root Mean squared error: 3347.796465113637\n",
      "r2_score: 0.43512308764036334\n",
      "**********************************\n",
      "\n",
      "\n",
      "score of ElasticNet() is: 0.3231773434656332\n",
      "Mean absolute error: 2773.173739150393\n",
      "Mean squared error: 12088673.33400818\n",
      "Root Mean squared error: 3476.8769512319786\n",
      "r2_score: 0.3907235755404721\n",
      "**********************************\n",
      "\n",
      "\n",
      "score of SVR() is: -0.017147428843864\n",
      "Mean absolute error: 3506.635377881216\n",
      "Mean squared error: 19939436.240179155\n",
      "Root Mean squared error: 4465.3595868842585\n",
      "r2_score: -0.004959608262243398\n",
      "**********************************\n",
      "\n",
      "\n",
      "score of DecisionTreeRegressor() is: 0.9970431444269475\n",
      "Mean absolute error: 1134.7217305801378\n",
      "Mean squared error: 5085127.882169779\n",
      "Root Mean squared error: 2255.0228118956534\n",
      "r2_score: 0.7437064888459035\n",
      "**********************************\n",
      "\n",
      "\n",
      "score of KNeighborsRegressor() is: 0.6111370919069756\n",
      "Mean absolute error: 2175.713274336283\n",
      "Mean squared error: 9513143.608259587\n",
      "Root Mean squared error: 3084.338439318809\n",
      "r2_score: 0.5205318265400908\n",
      "**********************************\n",
      "\n",
      "\n",
      "score of RandomForestRegressor() is: 0.9613257276968188\n",
      "Mean absolute error: 1193.5584522841139\n",
      "Mean squared error: 3714532.8844901016\n",
      "Root Mean squared error: 1927.3123474128686\n",
      "r2_score: 0.8127853030793185\n",
      "**********************************\n",
      "\n",
      "\n",
      "score of AdaBoostRegressor() is: 0.4477113310477734\n",
      "Mean absolute error: 2822.382547729378\n",
      "Mean squared error: 10873992.661229778\n",
      "Root Mean squared error: 3297.573753721026\n",
      "r2_score: 0.4519442137959965\n",
      "**********************************\n",
      "\n",
      "\n"
     ]
    }
   ],
   "source": [
    "# All algorithms using loop\n",
    "model=[LinearRegression(), Lasso(),Ridge(), ElasticNet(), SVR(), DecisionTreeRegressor(), KNeighborsRegressor()\n",
    "       ,RandomForestRegressor(),AdaBoostRegressor()]\n",
    "for m in model:\n",
    "    m.fit(x_train,y_train)\n",
    "    score=m.score(x_train,y_train)\n",
    "    pred=m.predict(x_test)\n",
    "    print('score of',m,'is:',score)\n",
    "    print('Mean absolute error:',mean_absolute_error(y_test,pred))\n",
    "    mean_squared_error_lm=mean_squared_error(y_test,pred)\n",
    "    print('Mean squared error:',mean_squared_error_lm)\n",
    "    print('Root Mean squared error:',np.sqrt(mean_squared_error(y_test,pred)))\n",
    "    r2score=r2_score(y_test,pred)\n",
    "    print('r2_score:',r2_score(y_test,pred))\n",
    "    print('**********************************')\n",
    "    print('\\n')"
   ]
  },
  {
   "cell_type": "raw",
   "metadata": {},
   "source": [
    "Decision Tree Regressor is the best algoritm with 99.704 % accuracy."
   ]
  },
  {
   "cell_type": "markdown",
   "metadata": {},
   "source": [
    "# Cross Validation Score¶"
   ]
  },
  {
   "cell_type": "code",
   "execution_count": 114,
   "metadata": {},
   "outputs": [
    {
     "name": "stdout",
     "output_type": "stream",
     "text": [
      "[-1.79283364 -0.08110919 -1.09083132 -0.49882445  0.22605773]\n",
      "0.9421344115664093 1.2143965145901134\n"
     ]
    }
   ],
   "source": [
    "from sklearn.model_selection import cross_val_score\n",
    "lrscores=cross_val_score(DecisionTreeRegressor(),x,y,cv=5)\n",
    "print(lrscores)\n",
    "# Fix the sign\n",
    "scoresrf=(lrscores)**2\n",
    "print(scoresrf.mean(),scoresrf.std())"
   ]
  },
  {
   "cell_type": "raw",
   "metadata": {},
   "source": [
    "As the difference between accuracy scores and cross validation scores of Random Foresr Regressor is only 8%. So, It is verified\n",
    "that Decision Tree Regressor is the best algorithm for this model with accuracy of 96.129%."
   ]
  },
  {
   "cell_type": "markdown",
   "metadata": {},
   "source": [
    "# Hyper Parameter Tuning"
   ]
  },
  {
   "cell_type": "code",
   "execution_count": 115,
   "metadata": {},
   "outputs": [
    {
     "data": {
      "text/plain": [
       "GridSearchCV(cv=5, estimator=DecisionTreeRegressor(),\n",
       "             param_grid={'max_features': ['auto', 'log2', 'sqrt', None],\n",
       "                         'max_leaf_nodes': [None, 10, 20, 30, 40, 50, 60, 70,\n",
       "                                            80, 90],\n",
       "                         'min_samples_leaf': [1, 2, 3, 4, 5, 6, 7, 8, 9, 10],\n",
       "                         'splitter': ['best', 'random']},\n",
       "             scoring='accuracy')"
      ]
     },
     "execution_count": 115,
     "metadata": {},
     "output_type": "execute_result"
    }
   ],
   "source": [
    "# Using GridSearchCv for hyper parameter tuning of DecisionTreeRegressor\n",
    "dtr=DecisionTreeRegressor()\n",
    "grid_param={\"splitter\":[\"best\",\"random\"],\n",
    "           \"min_samples_leaf\":[1,2,3,4,5,6,7,8,9,10],\n",
    "           \"max_features\":[\"auto\",\"log2\",\"sqrt\",None],\n",
    "           \"max_leaf_nodes\":[None,10,20,30,40,50,60,70,80,90]}\n",
    "gd_sr=GridSearchCV(estimator=dtr,param_grid=grid_param,scoring='accuracy',cv=5)\n",
    "gd_sr.fit(x_train,y_train)"
   ]
  },
  {
   "cell_type": "code",
   "execution_count": 116,
   "metadata": {},
   "outputs": [
    {
     "data": {
      "text/plain": [
       "{'max_features': 'auto',\n",
       " 'max_leaf_nodes': None,\n",
       " 'min_samples_leaf': 1,\n",
       " 'splitter': 'best'}"
      ]
     },
     "execution_count": 116,
     "metadata": {},
     "output_type": "execute_result"
    }
   ],
   "source": [
    "gd_sr.best_params_"
   ]
  },
  {
   "cell_type": "code",
   "execution_count": 117,
   "metadata": {},
   "outputs": [
    {
     "name": "stdout",
     "output_type": "stream",
     "text": [
      "0.7718883178805158\n",
      "error:\n",
      "Mean absolute error: 1079.8692232055064\n",
      "Mean squared error: 4525971.296624057\n",
      "Root Mean squared error: 2127.43302987992\n"
     ]
    }
   ],
   "source": [
    "dtr=DecisionTreeRegressor()\n",
    "dtr.fit(x_train,y_train)\n",
    "preddtr=dtr.predict(x_test)\n",
    "r2score=r2_score(y_test,preddtr)\n",
    "print(r2_score(y_test,preddtr))\n",
    "print('error:')\n",
    "print('Mean absolute error:',mean_absolute_error(y_test,preddtr))\n",
    "mean_squared_error_rf=mean_squared_error(y_test,preddtr)\n",
    "print('Mean squared error:',mean_squared_error_rf)\n",
    "print('Root Mean squared error:',np.sqrt(mean_squared_error(y_test,preddtr)))"
   ]
  },
  {
   "cell_type": "code",
   "execution_count": 118,
   "metadata": {},
   "outputs": [
    {
     "name": "stdout",
     "output_type": "stream",
     "text": [
      "score of DecisionTreeRegressor(max_depth=100000, max_features='auto',\n",
      "                      min_samples_leaf=1e-06) is: 0.9970431444269475\n",
      "Mean absolute error: 1130.7630285152409\n",
      "Mean squared error: 4997363.014913143\n",
      "Root Mean squared error: 2235.4782519436735\n",
      "r2_score: 0.7481298910702697\n",
      "**********************************\n",
      "\n",
      "\n"
     ]
    }
   ],
   "source": [
    "dtr=DecisionTreeRegressor(max_depth=100000,\n",
    " max_features='auto',\n",
    "# max_leaf_nodes= None,\n",
    " min_samples_leaf=0.000001\n",
    " #splitter='best'\n",
    "                         )\n",
    "dtr.fit(x_train,y_train)\n",
    "score=dtr.score(x_train,y_train)\n",
    "pred=dtr.predict(x_test)\n",
    "print('score of',dtr,'is:',score)\n",
    "print('Mean absolute error:',mean_absolute_error(y_test,pred))\n",
    "mean_squared_error_lm=mean_squared_error(y_test,pred)\n",
    "print('Mean squared error:',mean_squared_error_lm)\n",
    "print('Root Mean squared error:',np.sqrt(mean_squared_error(y_test,pred)))\n",
    "r2score=r2_score(y_test,pred)\n",
    "print('r2_score:',r2_score(y_test,pred))\n",
    "print('**********************************')\n",
    "print('\\n')"
   ]
  },
  {
   "cell_type": "raw",
   "metadata": {},
   "source": [
    "We are getting score 0.9970431444269475 after performing hyperparameter tuning and earlier it was 0.9970431444269475 Its \n",
    "r2_score is also satisfactory and after hyperparameter tuning mean squared error, mean absolute error and root mean squared \n",
    "error has also reduced."
   ]
  },
  {
   "cell_type": "markdown",
   "metadata": {},
   "source": [
    "# Saving the best model"
   ]
  },
  {
   "cell_type": "code",
   "execution_count": 119,
   "metadata": {},
   "outputs": [
    {
     "data": {
      "text/plain": [
       "['dtr_flight_pricing.obj']"
      ]
     },
     "execution_count": 119,
     "metadata": {},
     "output_type": "execute_result"
    }
   ],
   "source": [
    "#saving the best model\n",
    "import joblib\n",
    "joblib.dump(dtr,\"dtr_flight_pricing.obj\")"
   ]
  },
  {
   "cell_type": "code",
   "execution_count": null,
   "metadata": {},
   "outputs": [],
   "source": []
  }
 ],
 "metadata": {
  "kernelspec": {
   "display_name": "Python 3",
   "language": "python",
   "name": "python3"
  },
  "language_info": {
   "codemirror_mode": {
    "name": "ipython",
    "version": 3
   },
   "file_extension": ".py",
   "mimetype": "text/x-python",
   "name": "python",
   "nbconvert_exporter": "python",
   "pygments_lexer": "ipython3",
   "version": "3.7.6"
  }
 },
 "nbformat": 4,
 "nbformat_minor": 4
}
